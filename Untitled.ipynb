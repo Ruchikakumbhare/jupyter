{
 "cells": [
  {
   "cell_type": "code",
   "execution_count": 1,
   "id": "98c0f3e6-2a69-4b79-96b9-6fad0f4a6db8",
   "metadata": {},
   "outputs": [],
   "source": [
    "import pandas as pd"
   ]
  },
  {
   "cell_type": "code",
   "execution_count": 5,
   "id": "ad4b32b5-aa27-403d-a8b9-529ed001b776",
   "metadata": {},
   "outputs": [],
   "source": [
    "Catalog=pd.read_excel(r\"C:\\Users\\Rohit\\Desktop\\jupyterpy\\Merge Input data.xlsx\" ,sheet_name = 'Catalog')"
   ]
  },
  {
   "cell_type": "code",
   "execution_count": null,
   "id": "67262dfe-5e48-48d4-8800-15fe9f091cfd",
   "metadata": {},
   "outputs": [],
   "source": []
  }
 ],
 "metadata": {
  "kernelspec": {
   "display_name": "Python 3 (ipykernel)",
   "language": "python",
   "name": "python3"
  },
  "language_info": {
   "codemirror_mode": {
    "name": "ipython",
    "version": 3
   },
   "file_extension": ".py",
   "mimetype": "text/x-python",
   "name": "python",
   "nbconvert_exporter": "python",
   "pygments_lexer": "ipython3",
   "version": "3.12.4"
  }
 },
 "nbformat": 4,
 "nbformat_minor": 5
}
