{
 "cells": [
  {
   "cell_type": "code",
   "execution_count": 1,
   "id": "ca360c57-cafd-471b-b4d8-a90264e84839",
   "metadata": {},
   "outputs": [],
   "source": [
    "import numpy as np"
   ]
  },
  {
   "cell_type": "code",
   "execution_count": null,
   "id": "3367af2a-98b4-4adf-a9ee-cbbb48383f61",
   "metadata": {},
   "outputs": [],
   "source": [
    "# we cannot apply mathematical operators directly on lists\n",
    "# we can apply mathematical operators directly on Array\n",
    "\n",
    "# List store elements of different data type\n",
    "# Array store elements of same data type (homogeneous)\n",
    "\n",
    "# NumPy operations are faster than standard Python lists.\n",
    "\n",
    "# np.array(L,dtype=int) # Create 1D array\n",
    "# Array is mutable and iterable\n",
    "\n",
    "\n",
    "# Array.shape #array shape :tuple representing the dimensions of the array\n",
    "# Array.ndim  # dimension\n",
    "# Array.size  # no. arry elements\n",
    "# Array.dtype #data type of array element (int,float,complex,bool,string,object)\n",
    "# Array.astype(datatype)  #Change datatype\n",
    "\n",
    "# arange\n",
    "# np.arange(start,stop,stepsize,dtype)\n",
    "#              0           +1            Default  # fractional step count is allowed \n",
    "\n",
    "\n",
    "#linspace() :- returns evenly spaced numbers over a specified interval.\n",
    "#linspace(start,  end,  num,    endpoint=True,    retstep=False)\n",
    "#                      (part)   include/exclud    Gives stepsize"
   ]
  },
  {
   "cell_type": "code",
   "execution_count": 5,
   "id": "fe0c0452-e8aa-4b35-bd30-ebbad76ad998",
   "metadata": {},
   "outputs": [
    {
     "name": "stdout",
     "output_type": "stream",
     "text": [
      "[ 2  3  4  5  6  7  8  9 10 11 12 13 14 15 16 17 18 19]\n"
     ]
    }
   ],
   "source": [
    "a = np.arange(2,20)\n",
    "print(a)"
   ]
  },
  {
   "cell_type": "code",
   "execution_count": 7,
   "id": "eae4cfc4-a2fc-45c1-95e3-90e8532db81a",
   "metadata": {},
   "outputs": [
    {
     "data": {
      "text/plain": [
       "1"
      ]
     },
     "execution_count": 7,
     "metadata": {},
     "output_type": "execute_result"
    }
   ],
   "source": [
    "a.ndim"
   ]
  },
  {
   "cell_type": "code",
   "execution_count": 11,
   "id": "012d022f-9d67-46f0-aeaa-a888a5db69ce",
   "metadata": {},
   "outputs": [
    {
     "data": {
      "text/plain": [
       "18"
      ]
     },
     "execution_count": 11,
     "metadata": {},
     "output_type": "execute_result"
    }
   ],
   "source": [
    "a.size"
   ]
  },
  {
   "cell_type": "code",
   "execution_count": 13,
   "id": "a9cd938a-aaaa-43fa-8890-b9a066b6bc61",
   "metadata": {},
   "outputs": [
    {
     "name": "stdout",
     "output_type": "stream",
     "text": [
      "[ 2  3  4  5  6  7  8  9 10 11 12 13 14 15 16 17 18 19]\n"
     ]
    }
   ],
   "source": [
    "a = np.arange(2,20)\n",
    "print(a)"
   ]
  },
  {
   "cell_type": "code",
   "execution_count": 24,
   "id": "8c021041-d942-490d-9700-9aee31bb0671",
   "metadata": {},
   "outputs": [
    {
     "data": {
      "text/plain": [
       "array([[ 2,  3,  4,  5,  6,  7,  8,  9, 10],\n",
       "       [11, 12, 13, 14, 15, 16, 17, 18, 19]])"
      ]
     },
     "execution_count": 24,
     "metadata": {},
     "output_type": "execute_result"
    }
   ],
   "source": [
    "np.reshape(a,(2,9),\"C\")"
   ]
  },
  {
   "cell_type": "code",
   "execution_count": 26,
   "id": "b1d0fd36-fb6b-45e1-85c9-abec7e954a20",
   "metadata": {},
   "outputs": [
    {
     "data": {
      "text/plain": [
       "array([[ 2,  3,  4,  5,  6,  7],\n",
       "       [ 8,  9, 10, 11, 12, 13],\n",
       "       [14, 15, 16, 17, 18, 19]])"
      ]
     },
     "execution_count": 26,
     "metadata": {},
     "output_type": "execute_result"
    }
   ],
   "source": [
    "np.reshape(a,(3,6),\"C\") #ROW WISE"
   ]
  },
  {
   "cell_type": "code",
   "execution_count": 28,
   "id": "382d7013-d3ff-43ad-92ef-1b913219dd9a",
   "metadata": {},
   "outputs": [
    {
     "data": {
      "text/plain": [
       "array([[ 2,  5,  8, 11, 14, 17],\n",
       "       [ 3,  6,  9, 12, 15, 18],\n",
       "       [ 4,  7, 10, 13, 16, 19]])"
      ]
     },
     "execution_count": 28,
     "metadata": {},
     "output_type": "execute_result"
    }
   ],
   "source": [
    "np.reshape(a,(3,6),\"f\") # COLUMN WISE"
   ]
  },
  {
   "cell_type": "code",
   "execution_count": 32,
   "id": "b55781c1-8e60-42ae-910d-c9155ad05b57",
   "metadata": {},
   "outputs": [
    {
     "data": {
      "text/plain": [
       "array([[ 2,  5,  8, 11, 14, 17],\n",
       "       [ 3,  6,  9, 12, 15, 18],\n",
       "       [ 4,  7, 10, 13, 16, 19]])"
      ]
     },
     "execution_count": 32,
     "metadata": {},
     "output_type": "execute_result"
    }
   ],
   "source": [
    "a.reshape((3,6),order = 'f')"
   ]
  },
  {
   "cell_type": "code",
   "execution_count": 34,
   "id": "f28e675c-13c4-443f-9909-f2737b15aa07",
   "metadata": {},
   "outputs": [
    {
     "name": "stdout",
     "output_type": "stream",
     "text": [
      "[[ 0  3  6  9 12]\n",
      " [ 1  4  7 10 13]\n",
      " [ 2  5  8 11 14]]\n"
     ]
    }
   ],
   "source": [
    "a = np.arange(15).reshape((3,5),order=\"F\") #columnwise\n",
    "print(a)"
   ]
  },
  {
   "cell_type": "code",
   "execution_count": 43,
   "id": "6a022c0f-e4ea-489d-8a2b-a4172c44f29a",
   "metadata": {},
   "outputs": [],
   "source": [
    "x = np.arange(20)"
   ]
  },
  {
   "cell_type": "code",
   "execution_count": 45,
   "id": "48554328-1a1a-47cb-9457-50428de50620",
   "metadata": {},
   "outputs": [
    {
     "name": "stdout",
     "output_type": "stream",
     "text": [
      "[ 0  1  2  3  4  5  6  7  8  9 10 11 12 13 14 15 16 17 18 19]\n"
     ]
    }
   ],
   "source": [
    "x\n",
    "print(x)"
   ]
  },
  {
   "cell_type": "code",
   "execution_count": 47,
   "id": "14d9d533-7746-4db1-9c8e-c212fe5ed41d",
   "metadata": {},
   "outputs": [
    {
     "data": {
      "text/plain": [
       "20"
      ]
     },
     "execution_count": 47,
     "metadata": {},
     "output_type": "execute_result"
    }
   ],
   "source": [
    "x.size"
   ]
  },
  {
   "cell_type": "code",
   "execution_count": 51,
   "id": "15a3317c-c0f6-4279-9ec6-e25207f339ee",
   "metadata": {},
   "outputs": [
    {
     "data": {
      "text/plain": [
       "array([[ 0,  1,  2,  3],\n",
       "       [ 4,  5,  6,  7],\n",
       "       [ 8,  9, 10, 11],\n",
       "       [12, 13, 14, 15],\n",
       "       [16, 17, 18, 19]])"
      ]
     },
     "execution_count": 51,
     "metadata": {},
     "output_type": "execute_result"
    }
   ],
   "source": [
    "np.reshape(x,(5,4))"
   ]
  },
  {
   "cell_type": "code",
   "execution_count": 53,
   "id": "4518572a-d292-4ae9-a9ff-e069cc34a5f0",
   "metadata": {},
   "outputs": [
    {
     "data": {
      "text/plain": [
       "array([[ 0,  5, 10, 15],\n",
       "       [ 1,  6, 11, 16],\n",
       "       [ 2,  7, 12, 17],\n",
       "       [ 3,  8, 13, 18],\n",
       "       [ 4,  9, 14, 19]])"
      ]
     },
     "execution_count": 53,
     "metadata": {},
     "output_type": "execute_result"
    }
   ],
   "source": [
    "np.reshape(x,(5,4),order = 'f')"
   ]
  },
  {
   "cell_type": "code",
   "execution_count": 61,
   "id": "b10887fc-96f0-4378-be1d-bdd177faee6e",
   "metadata": {},
   "outputs": [
    {
     "data": {
      "text/plain": [
       "array([[ 0,  3,  6,  9, 12],\n",
       "       [ 1,  4,  7, 10, 13],\n",
       "       [ 2,  5,  8, 11, 14]])"
      ]
     },
     "execution_count": 61,
     "metadata": {},
     "output_type": "execute_result"
    }
   ],
   "source": [
    "a"
   ]
  },
  {
   "cell_type": "code",
   "execution_count": 59,
   "id": "0f66d736-8edf-414f-8cca-7eecf15a4d30",
   "metadata": {},
   "outputs": [
    {
     "data": {
      "text/plain": [
       "array([[ 0,  1,  2],\n",
       "       [ 3,  4,  5],\n",
       "       [ 6,  7,  8],\n",
       "       [ 9, 10, 11],\n",
       "       [12, 13, 14]])"
      ]
     },
     "execution_count": 59,
     "metadata": {},
     "output_type": "execute_result"
    }
   ],
   "source": [
    "arr_transpose  = a.T\n",
    "arr_transpose"
   ]
  },
  {
   "cell_type": "code",
   "execution_count": 63,
   "id": "02ef4d3f-b147-43c1-b5f9-bdce0ee23c28",
   "metadata": {},
   "outputs": [
    {
     "data": {
      "text/plain": [
       "array([[ 0,  1,  2],\n",
       "       [ 3,  4,  5],\n",
       "       [ 6,  7,  8],\n",
       "       [ 9, 10, 11],\n",
       "       [12, 13, 14]])"
      ]
     },
     "execution_count": 63,
     "metadata": {},
     "output_type": "execute_result"
    }
   ],
   "source": [
    "arr_transpose  = a.T.T.T\n",
    "arr_transpose"
   ]
  },
  {
   "cell_type": "code",
   "execution_count": 65,
   "id": "26f278ac-1bdc-43b0-bc1c-4255f4d02352",
   "metadata": {},
   "outputs": [
    {
     "name": "stdout",
     "output_type": "stream",
     "text": [
      "[[ 0  1  2]\n",
      " [ 3  4  5]\n",
      " [ 6  7  8]\n",
      " [ 9 10 11]\n",
      " [12 13 14]]\n"
     ]
    }
   ],
   "source": [
    "transpose  = a.transpose()\n",
    "print(transpose)"
   ]
  },
  {
   "cell_type": "code",
   "execution_count": 69,
   "id": "45e8de08-58aa-4ada-8b3e-8c51bf70a4a7",
   "metadata": {},
   "outputs": [
    {
     "name": "stdout",
     "output_type": "stream",
     "text": [
      "[0 1 2 3 4 5 6 7 8 9]\n"
     ]
    }
   ],
   "source": [
    "b = np.arange(10)\n",
    "print(b)"
   ]
  },
  {
   "cell_type": "code",
   "execution_count": 71,
   "id": "9e1cd79b-25f1-49e8-b788-613d9148c992",
   "metadata": {},
   "outputs": [
    {
     "data": {
      "text/plain": [
       "10"
      ]
     },
     "execution_count": 71,
     "metadata": {},
     "output_type": "execute_result"
    }
   ],
   "source": [
    "b.size"
   ]
  },
  {
   "cell_type": "code",
   "execution_count": 73,
   "id": "c6c9577a-2c7e-4765-be32-aea501cd0aee",
   "metadata": {},
   "outputs": [
    {
     "data": {
      "text/plain": [
       "array([[0, 2, 4, 6, 8],\n",
       "       [1, 3, 5, 7, 9]])"
      ]
     },
     "execution_count": 73,
     "metadata": {},
     "output_type": "execute_result"
    }
   ],
   "source": [
    "np.reshape(b,(2,5),order = 'f')\n"
   ]
  },
  {
   "cell_type": "code",
   "execution_count": 77,
   "id": "8791f663-b8db-4497-9f9a-36afb4fb91c2",
   "metadata": {},
   "outputs": [
    {
     "data": {
      "text/plain": [
       "array([[0, 1, 2, 3, 4],\n",
       "       [5, 6, 7, 8, 9]])"
      ]
     },
     "execution_count": 77,
     "metadata": {},
     "output_type": "execute_result"
    }
   ],
   "source": [
    "np.reshape(b,(2,5),order = 'c')"
   ]
  },
  {
   "cell_type": "code",
   "execution_count": 81,
   "id": "cf851af3-ccb0-4764-923e-4ed135d6c373",
   "metadata": {},
   "outputs": [
    {
     "data": {
      "text/plain": [
       "array([0, 1, 2, 3, 4, 5, 6, 7, 8, 9])"
      ]
     },
     "execution_count": 81,
     "metadata": {},
     "output_type": "execute_result"
    }
   ],
   "source": [
    "b.T"
   ]
  },
  {
   "cell_type": "code",
   "execution_count": 87,
   "id": "b75aa835-a7dd-44bc-93ce-fc1780bf998f",
   "metadata": {},
   "outputs": [
    {
     "data": {
      "text/plain": [
       "array([0, 1, 2, 3, 4, 5, 6, 7, 8, 9])"
      ]
     },
     "execution_count": 87,
     "metadata": {},
     "output_type": "execute_result"
    }
   ],
   "source": [
    "b.transpose()"
   ]
  },
  {
   "cell_type": "code",
   "execution_count": null,
   "id": "49544b37-fcaf-4e12-ae53-47cdbb2024e8",
   "metadata": {},
   "outputs": [],
   "source": [
    "### Indexing and slicing NumPy arrays:"
   ]
  },
  {
   "cell_type": "code",
   "execution_count": 5,
   "id": "09977e0f-a0a0-4a52-8297-33570eb0311a",
   "metadata": {},
   "outputs": [
    {
     "data": {
      "text/plain": [
       "array([1, 2, 3, 4, 5, 6, 7, 8, 9])"
      ]
     },
     "execution_count": 5,
     "metadata": {},
     "output_type": "execute_result"
    }
   ],
   "source": [
    "m = np.arange(1,10)\n",
    "m"
   ]
  },
  {
   "cell_type": "code",
   "execution_count": null,
   "id": "a40f5a96-51e3-4f97-8041-1445634a6c35",
   "metadata": {},
   "outputs": [],
   "source": []
  },
  {
   "cell_type": "code",
   "execution_count": null,
   "id": "ea5c9f1a-d35d-4a69-b789-693045201dd1",
   "metadata": {},
   "outputs": [],
   "source": []
  },
  {
   "cell_type": "code",
   "execution_count": null,
   "id": "e3b5e433-0c74-48b1-b988-05ce2607c3b0",
   "metadata": {},
   "outputs": [],
   "source": []
  },
  {
   "cell_type": "code",
   "execution_count": null,
   "id": "d59fc8b9-47e9-4da8-bbb3-3e3e71a51bd8",
   "metadata": {},
   "outputs": [],
   "source": []
  },
  {
   "cell_type": "code",
   "execution_count": null,
   "id": "0c4f4fac-1d01-40a8-a61c-a3d33acaa3d9",
   "metadata": {},
   "outputs": [],
   "source": []
  },
  {
   "cell_type": "code",
   "execution_count": null,
   "id": "fbe9e7e4-5a9f-4a03-820f-cbda3ba82f49",
   "metadata": {},
   "outputs": [],
   "source": []
  },
  {
   "cell_type": "code",
   "execution_count": null,
   "id": "dcee34a3-2923-4eff-bb17-55ca35e2751f",
   "metadata": {},
   "outputs": [],
   "source": []
  },
  {
   "cell_type": "code",
   "execution_count": null,
   "id": "b7bfe3fd-59e0-46c9-bde5-7810572f32dc",
   "metadata": {},
   "outputs": [],
   "source": []
  },
  {
   "cell_type": "code",
   "execution_count": null,
   "id": "8c9d0dd3-b429-48d4-b908-61bf62a100fc",
   "metadata": {},
   "outputs": [],
   "source": []
  },
  {
   "cell_type": "code",
   "execution_count": null,
   "id": "bf4b2158-d57a-494f-8e51-8dff447b58a6",
   "metadata": {},
   "outputs": [],
   "source": []
  }
 ],
 "metadata": {
  "kernelspec": {
   "display_name": "Python 3 (ipykernel)",
   "language": "python",
   "name": "python3"
  },
  "language_info": {
   "codemirror_mode": {
    "name": "ipython",
    "version": 3
   },
   "file_extension": ".py",
   "mimetype": "text/x-python",
   "name": "python",
   "nbconvert_exporter": "python",
   "pygments_lexer": "ipython3",
   "version": "3.12.4"
  }
 },
 "nbformat": 4,
 "nbformat_minor": 5
}
