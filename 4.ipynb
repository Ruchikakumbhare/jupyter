{
 "cells": [
  {
   "cell_type": "code",
   "execution_count": null,
   "id": "40e7294f-56a8-41f4-b430-441d50f4af50",
   "metadata": {},
   "outputs": [],
   "source": [
    " # 4) Special operators\n",
    "\n",
    " #    1) Identity operators\n",
    " \n",
    " #    2) Membership operators"
   ]
  },
  {
   "cell_type": "code",
   "execution_count": null,
   "id": "7a0ff385-c49d-4582-b67b-65ed514f3c27",
   "metadata": {},
   "outputs": [],
   "source": [
    "### 1) Identity operators\n",
    "\n",
    "    # Operator\tDescription\t\n",
    "    #   is \t    Returns true if both variables are the same object\t\n",
    "    #  is not  \tReturns true if both variables are not the same object"
   ]
  },
  {
   "cell_type": "code",
   "execution_count": 6,
   "id": "7d9eb2b8-eef7-4efd-b87d-a67d53e3c8e4",
   "metadata": {},
   "outputs": [
    {
     "name": "stdout",
     "output_type": "stream",
     "text": [
      "hello\n"
     ]
    }
   ],
   "source": [
    "print(\"hello\")"
   ]
  },
  {
   "cell_type": "code",
   "execution_count": 9,
   "id": "84ca55e3-2191-46cb-86e2-79063687881c",
   "metadata": {},
   "outputs": [],
   "source": [
    " a = 10\n",
    " b = 100\n",
    " z = \"12\""
   ]
  },
  {
   "cell_type": "code",
   "execution_count": 11,
   "id": "12717b1e-252e-48ab-bafb-3a87cd16613a",
   "metadata": {},
   "outputs": [
    {
     "name": "stdout",
     "output_type": "stream",
     "text": [
      "10 <class 'int'>\n",
      "100 <class 'int'>\n",
      "12 <class 'str'>\n"
     ]
    }
   ],
   "source": [
    "print(a , type(a))\n",
    "print(b , type(b))\n",
    "print(z , type(z))"
   ]
  },
  {
   "cell_type": "code",
   "execution_count": 12,
   "id": "ff05de0b-4757-4a21-bf03-100bc762d2df",
   "metadata": {},
   "outputs": [
    {
     "data": {
      "text/plain": [
       "10"
      ]
     },
     "execution_count": 12,
     "metadata": {},
     "output_type": "execute_result"
    }
   ],
   "source": [
    "a\n"
   ]
  },
  {
   "cell_type": "code",
   "execution_count": 13,
   "id": "193ae42c-86b9-49b7-a155-f558f5b8a54f",
   "metadata": {},
   "outputs": [
    {
     "data": {
      "text/plain": [
       "100"
      ]
     },
     "execution_count": 13,
     "metadata": {},
     "output_type": "execute_result"
    }
   ],
   "source": [
    "b"
   ]
  },
  {
   "cell_type": "code",
   "execution_count": 14,
   "id": "e14edee0-e62b-404c-ba82-3ee6dc9b4d92",
   "metadata": {},
   "outputs": [
    {
     "data": {
      "text/plain": [
       "'12'"
      ]
     },
     "execution_count": 14,
     "metadata": {},
     "output_type": "execute_result"
    }
   ],
   "source": [
    "z"
   ]
  },
  {
   "cell_type": "code",
   "execution_count": 15,
   "id": "4d6c3504-8318-4b91-b506-97048393ab47",
   "metadata": {},
   "outputs": [
    {
     "name": "stdout",
     "output_type": "stream",
     "text": [
      "False\n"
     ]
    }
   ],
   "source": [
    "print(a is b)"
   ]
  },
  {
   "cell_type": "code",
   "execution_count": 16,
   "id": "df9a4879-b3d4-4b35-8228-328547c91c88",
   "metadata": {},
   "outputs": [
    {
     "name": "stdout",
     "output_type": "stream",
     "text": [
      "True\n"
     ]
    }
   ],
   "source": [
    "print(b is not z)"
   ]
  },
  {
   "cell_type": "code",
   "execution_count": 18,
   "id": "17d7daf2-4c99-48a2-9757-f11ae42b7f35",
   "metadata": {},
   "outputs": [
    {
     "name": "stdout",
     "output_type": "stream",
     "text": [
      "140714897949768\n",
      "140714897952648\n",
      "1663524216624\n"
     ]
    }
   ],
   "source": [
    "print(id(a))\n",
    "print(id(b))\n",
    "print(id(z))"
   ]
  },
  {
   "cell_type": "code",
   "execution_count": 19,
   "id": "b00fa04a-3cc9-45bc-8738-804a1724b165",
   "metadata": {},
   "outputs": [
    {
     "data": {
      "text/plain": [
       "140714897949768"
      ]
     },
     "execution_count": 19,
     "metadata": {},
     "output_type": "execute_result"
    }
   ],
   "source": [
    "id(a)"
   ]
  },
  {
   "cell_type": "code",
   "execution_count": 20,
   "id": "09b8502e-b552-4a03-9cc0-e1a9d0298d12",
   "metadata": {},
   "outputs": [
    {
     "data": {
      "text/plain": [
       "False"
      ]
     },
     "execution_count": 20,
     "metadata": {},
     "output_type": "execute_result"
    }
   ],
   "source": [
    "id(a) == id(b)"
   ]
  },
  {
   "cell_type": "code",
   "execution_count": 21,
   "id": "79eced77-489b-4292-8bfd-c0cb3ecfe47e",
   "metadata": {},
   "outputs": [
    {
     "data": {
      "text/plain": [
       "1663524216624"
      ]
     },
     "execution_count": 21,
     "metadata": {},
     "output_type": "execute_result"
    }
   ],
   "source": [
    "id(z)"
   ]
  },
  {
   "cell_type": "code",
   "execution_count": 22,
   "id": "991cf05b-9a62-44a2-a8ed-680d3ee245aa",
   "metadata": {},
   "outputs": [
    {
     "data": {
      "text/plain": [
       "True"
      ]
     },
     "execution_count": 22,
     "metadata": {},
     "output_type": "execute_result"
    }
   ],
   "source": [
    "id(a)!=id(z)"
   ]
  },
  {
   "cell_type": "code",
   "execution_count": null,
   "id": "4f7a67aa-f8f4-417a-b6d4-4d2c364f17e0",
   "metadata": {},
   "outputs": [],
   "source": [
    "### 2) Membership Operator\n",
    "\n",
    "    Operator\t   Description\t\n",
    "      in\t        Evaluates to true if it finds a variable in the specified sequence and false otherwise.\n",
    "      not in\t    Evaluates to true if it does not finds a variable in the specified sequence and false otherwise."
   ]
  },
  {
   "cell_type": "code",
   "execution_count": 23,
   "id": "5bd50d95-31d2-479c-96e5-c7b543d7757c",
   "metadata": {},
   "outputs": [
    {
     "data": {
      "text/plain": [
       "'ruchika'"
      ]
     },
     "execution_count": 23,
     "metadata": {},
     "output_type": "execute_result"
    }
   ],
   "source": [
    "\"ruchika\""
   ]
  },
  {
   "cell_type": "code",
   "execution_count": 24,
   "id": "9e45030a-1413-450a-bc46-a7b40d6a3e3b",
   "metadata": {},
   "outputs": [
    {
     "data": {
      "text/plain": [
       "True"
      ]
     },
     "execution_count": 24,
     "metadata": {},
     "output_type": "execute_result"
    }
   ],
   "source": [
    " \"c\" in \"ruchika\""
   ]
  },
  {
   "cell_type": "code",
   "execution_count": 25,
   "id": "25c41c33-3a0d-4cd9-b20e-6b04f40215ab",
   "metadata": {},
   "outputs": [
    {
     "data": {
      "text/plain": [
       "False"
      ]
     },
     "execution_count": 25,
     "metadata": {},
     "output_type": "execute_result"
    }
   ],
   "source": [
    "\"C\" in \"ruchika\""
   ]
  },
  {
   "cell_type": "code",
   "execution_count": 26,
   "id": "39352d7b-5124-40b7-b513-54324e540a7f",
   "metadata": {},
   "outputs": [
    {
     "data": {
      "text/plain": [
       "False"
      ]
     },
     "execution_count": 26,
     "metadata": {},
     "output_type": "execute_result"
    }
   ],
   "source": [
    "\"i\" not in \"ruchika\""
   ]
  },
  {
   "cell_type": "code",
   "execution_count": 31,
   "id": "f09d1882-1f39-4997-84fa-790f8091d297",
   "metadata": {},
   "outputs": [],
   "source": [
    " x = \"b\"\n",
    " y = \"bye\"\n",
    " z = \"night\"\n"
   ]
  },
  {
   "cell_type": "code",
   "execution_count": 33,
   "id": "5675baf8-4c58-4f9a-b0ed-17bbc45f037d",
   "metadata": {},
   "outputs": [
    {
     "name": "stdout",
     "output_type": "stream",
     "text": [
      "True\n"
     ]
    }
   ],
   "source": [
    "print(x in y)"
   ]
  },
  {
   "cell_type": "code",
   "execution_count": 34,
   "id": "0a126a7e-4822-48ef-a0b6-98a442b407e2",
   "metadata": {},
   "outputs": [
    {
     "name": "stdout",
     "output_type": "stream",
     "text": [
      "False\n"
     ]
    }
   ],
   "source": [
    "print(y in z)"
   ]
  },
  {
   "cell_type": "code",
   "execution_count": 35,
   "id": "7ef468e1-a85f-4ffa-b8c9-c566201fac90",
   "metadata": {},
   "outputs": [
    {
     "name": "stdout",
     "output_type": "stream",
     "text": [
      "False\n"
     ]
    }
   ],
   "source": [
    "print(x in z )"
   ]
  },
  {
   "cell_type": "code",
   "execution_count": 36,
   "id": "2159a1fd-281e-4046-98c7-4cbbf5eecbef",
   "metadata": {},
   "outputs": [
    {
     "name": "stdout",
     "output_type": "stream",
     "text": [
      "True\n"
     ]
    }
   ],
   "source": [
    "print(y not in z)"
   ]
  },
  {
   "cell_type": "code",
   "execution_count": null,
   "id": "11c76acf-408a-4f28-945e-b039e43bd944",
   "metadata": {},
   "outputs": [],
   "source": [
    "# indentity operator ( is , isnot)\n",
    "# membership operators ( in ,in not)"
   ]
  },
  {
   "cell_type": "code",
   "execution_count": null,
   "id": "fed263a7-445e-4a3d-a45d-55e59e329cf8",
   "metadata": {},
   "outputs": [],
   "source": [
    "   a = 10\n",
    " b = 10\n",
    " z = \"12\""
   ]
  },
  {
   "cell_type": "code",
   "execution_count": 42,
   "id": "9d0b6c3c-2387-4353-8071-bd225d49b64f",
   "metadata": {},
   "outputs": [
    {
     "name": "stdout",
     "output_type": "stream",
     "text": [
      "False\n",
      "True\n",
      "False\n"
     ]
    }
   ],
   "source": [
    "print(a is b )\n",
    "print( a is not z)\n",
    "print( a is z )"
   ]
  },
  {
   "cell_type": "code",
   "execution_count": 43,
   "id": "026c78cc-5569-4f28-98a6-08641cffdc6d",
   "metadata": {},
   "outputs": [
    {
     "data": {
      "text/plain": [
       "10"
      ]
     },
     "execution_count": 43,
     "metadata": {},
     "output_type": "execute_result"
    }
   ],
   "source": [
    "a\n"
   ]
  },
  {
   "cell_type": "code",
   "execution_count": 44,
   "id": "9edafac3-3d86-41f6-afdd-963378421c58",
   "metadata": {},
   "outputs": [
    {
     "data": {
      "text/plain": [
       "100"
      ]
     },
     "execution_count": 44,
     "metadata": {},
     "output_type": "execute_result"
    }
   ],
   "source": [
    "b"
   ]
  },
  {
   "cell_type": "code",
   "execution_count": 46,
   "id": "2dc515f9-aa4f-4b21-8e92-87c366ad6eea",
   "metadata": {},
   "outputs": [
    {
     "data": {
      "text/plain": [
       "'night'"
      ]
     },
     "execution_count": 46,
     "metadata": {},
     "output_type": "execute_result"
    }
   ],
   "source": [
    "z"
   ]
  },
  {
   "cell_type": "code",
   "execution_count": 47,
   "id": "35db6e9b-2bad-49d0-9459-3e46230f7a27",
   "metadata": {},
   "outputs": [
    {
     "ename": "NameError",
     "evalue": "name 'kite' is not defined",
     "output_type": "error",
     "traceback": [
      "\u001b[1;31m---------------------------------------------------------------------------\u001b[0m",
      "\u001b[1;31mNameError\u001b[0m                                 Traceback (most recent call last)",
      "Cell \u001b[1;32mIn[47], line 1\u001b[0m\n\u001b[1;32m----> 1\u001b[0m \u001b[38;5;124m'\u001b[39m\u001b[38;5;124mk\u001b[39m\u001b[38;5;124m'\u001b[39m \u001b[38;5;129;01min\u001b[39;00m kite\n",
      "\u001b[1;31mNameError\u001b[0m: name 'kite' is not defined"
     ]
    }
   ],
   "source": [
    " 'k' in kite"
   ]
  }
 ],
 "metadata": {
  "kernelspec": {
   "display_name": "Python 3 (ipykernel)",
   "language": "python",
   "name": "python3"
  },
  "language_info": {
   "codemirror_mode": {
    "name": "ipython",
    "version": 3
   },
   "file_extension": ".py",
   "mimetype": "text/x-python",
   "name": "python",
   "nbconvert_exporter": "python",
   "pygments_lexer": "ipython3",
   "version": "3.11.9"
  }
 },
 "nbformat": 4,
 "nbformat_minor": 5
}
