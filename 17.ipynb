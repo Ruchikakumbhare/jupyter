{
 "cells": [
  {
   "cell_type": "code",
   "execution_count": null,
   "id": "64891390-83b7-458d-8cee-c3382c808823",
   "metadata": {},
   "outputs": [],
   "source": [
    "# DICTNORY METHODS\n",
    "{}"
   ]
  },
  {
   "cell_type": "code",
   "execution_count": 2,
   "id": "d2c2df42-7be3-442e-a33b-5f691da91383",
   "metadata": {},
   "outputs": [],
   "source": [
    "# keys-values\n",
    "student = {\n",
    "    'stu_name' : 'Ruchika',\n",
    "    'stu_age' : 22,\n",
    "    'stu_city':'nagpur'\n",
    "}\n"
   ]
  },
  {
   "cell_type": "code",
   "execution_count": 3,
   "id": "cbf88d96-fc19-4126-a4a8-a5dd36841305",
   "metadata": {},
   "outputs": [
    {
     "name": "stdout",
     "output_type": "stream",
     "text": [
      "{'stu_name': 'Ruchika', 'stu_age': 22, 'stu_city': 'nagpur'}\n"
     ]
    }
   ],
   "source": [
    "print(student)"
   ]
  },
  {
   "cell_type": "code",
   "execution_count": 4,
   "id": "c8c0084f-c972-4af5-9b59-4447883176b8",
   "metadata": {},
   "outputs": [
    {
     "data": {
      "text/plain": [
       "dict"
      ]
     },
     "execution_count": 4,
     "metadata": {},
     "output_type": "execute_result"
    }
   ],
   "source": [
    "type(student)"
   ]
  },
  {
   "cell_type": "code",
   "execution_count": 5,
   "id": "672774c6-fc5b-41a9-bbdb-9ffd99c99a5f",
   "metadata": {},
   "outputs": [
    {
     "ename": "KeyError",
     "evalue": "1",
     "output_type": "error",
     "traceback": [
      "\u001b[1;31m---------------------------------------------------------------------------\u001b[0m",
      "\u001b[1;31mKeyError\u001b[0m                                  Traceback (most recent call last)",
      "Cell \u001b[1;32mIn[5], line 1\u001b[0m\n\u001b[1;32m----> 1\u001b[0m student[\u001b[38;5;241m1\u001b[39m]\n",
      "\u001b[1;31mKeyError\u001b[0m: 1"
     ]
    }
   ],
   "source": [
    "student[1]     "
   ]
  },
  {
   "cell_type": "code",
   "execution_count": 6,
   "id": "3d0b476d-c204-4a4d-abba-7b0d5be95cfa",
   "metadata": {},
   "outputs": [
    {
     "data": {
      "text/plain": [
       "'nagpur'"
      ]
     },
     "execution_count": 6,
     "metadata": {},
     "output_type": "execute_result"
    }
   ],
   "source": [
    "student['stu_city']"
   ]
  },
  {
   "cell_type": "code",
   "execution_count": null,
   "id": "cd88dba9-1ed1-4881-850b-546b5f5c7e87",
   "metadata": {},
   "outputs": [],
   "source": [
    "# retrieve"
   ]
  },
  {
   "cell_type": "code",
   "execution_count": null,
   "id": "bc540c9f-b174-4f38-936d-e6b5765729d3",
   "metadata": {},
   "outputs": [],
   "source": [
    "student['country'] #errror contry not present in dict"
   ]
  },
  {
   "cell_type": "code",
   "execution_count": null,
   "id": "76c96227-14d8-4634-9e11-edc1826ad10c",
   "metadata": {},
   "outputs": [],
   "source": [
    "student.get['country', 'Not defined']  #not defined"
   ]
  },
  {
   "cell_type": "code",
   "execution_count": 7,
   "id": "7c314492-ba03-48d0-a88b-a43d0a4b2197",
   "metadata": {},
   "outputs": [],
   "source": [
    "# .get\n",
    "student.get('country')"
   ]
  },
  {
   "cell_type": "code",
   "execution_count": 9,
   "id": "ad5db0a4-4454-409f-b467-3deb09a7a0a5",
   "metadata": {},
   "outputs": [
    {
     "data": {
      "text/plain": [
       "'Ruchika'"
      ]
     },
     "execution_count": 9,
     "metadata": {},
     "output_type": "execute_result"
    }
   ],
   "source": [
    "student.get('stu_name')"
   ]
  },
  {
   "cell_type": "code",
   "execution_count": null,
   "id": "41050f72-f803-4786-acef-0d783df847fc",
   "metadata": {},
   "outputs": [],
   "source": []
  },
  {
   "cell_type": "code",
   "execution_count": null,
   "id": "129f61ac-0566-494e-a648-5d1f2ae70412",
   "metadata": {},
   "outputs": [],
   "source": [
    "# add"
   ]
  },
  {
   "cell_type": "code",
   "execution_count": 10,
   "id": "a42a7b84-0d06-4afe-b512-0acbdd1db25f",
   "metadata": {},
   "outputs": [
    {
     "data": {
      "text/plain": [
       "{'stu_name': 'Ruchika',\n",
       " 'stu_age': 22,\n",
       " 'stu_city': 'nagpur',\n",
       " 'country': 'India'}"
      ]
     },
     "execution_count": 10,
     "metadata": {},
     "output_type": "execute_result"
    }
   ],
   "source": [
    "student['country'] = 'India'\n",
    "student"
   ]
  },
  {
   "cell_type": "code",
   "execution_count": 11,
   "id": "47267358-f972-4d4d-8942-a272d305ea70",
   "metadata": {},
   "outputs": [
    {
     "data": {
      "text/plain": [
       "{'stu_name': 'Ruchika',\n",
       " 'stu_age': 22,\n",
       " 'stu_city': 'nagpur',\n",
       " 'country': 'India',\n",
       " 'mobile No': 789}"
      ]
     },
     "execution_count": 11,
     "metadata": {},
     "output_type": "execute_result"
    }
   ],
   "source": [
    "student['mobile No']  = 789\n",
    "student"
   ]
  },
  {
   "cell_type": "code",
   "execution_count": null,
   "id": "b0650632-2ad9-41d3-9cc4-f7a52c2231e5",
   "metadata": {},
   "outputs": [],
   "source": [
    "# update"
   ]
  },
  {
   "cell_type": "code",
   "execution_count": 12,
   "id": "42a74629-9831-4fe0-ad73-8efaa65f1b26",
   "metadata": {},
   "outputs": [
    {
     "data": {
      "text/plain": [
       "{'stu_name': 'Ruchika',\n",
       " 'stu_age': 22,\n",
       " 'stu_city': 'nagpur',\n",
       " 'country': 'India',\n",
       " 'mobile No': 123456789}"
      ]
     },
     "execution_count": 12,
     "metadata": {},
     "output_type": "execute_result"
    }
   ],
   "source": [
    "student['mobile No'] = 123456789\n",
    "student"
   ]
  },
  {
   "cell_type": "code",
   "execution_count": 18,
   "id": "5954ef5e-3e5a-490b-a977-3e4152d81ae9",
   "metadata": {},
   "outputs": [],
   "source": [
    "emp = {\n",
    "    'name' : 'Palak',\n",
    "    'age'  : 35,\n",
    "    'city' : 'pune',\n",
    "    'country':'India'\n",
    "}"
   ]
  },
  {
   "cell_type": "code",
   "execution_count": 19,
   "id": "3c1f5f42-99d0-41e4-a922-512570c99229",
   "metadata": {},
   "outputs": [
    {
     "data": {
      "text/plain": [
       "{'name': 'Palak', 'age': 35, 'city': 'pune', 'country': 'India'}"
      ]
     },
     "execution_count": 19,
     "metadata": {},
     "output_type": "execute_result"
    }
   ],
   "source": [
    "emp"
   ]
  },
  {
   "cell_type": "code",
   "execution_count": 20,
   "id": "a7a276d8-2d30-4775-aad3-d30f8e962de9",
   "metadata": {},
   "outputs": [
    {
     "data": {
      "text/plain": [
       "'pune'"
      ]
     },
     "execution_count": 20,
     "metadata": {},
     "output_type": "execute_result"
    }
   ],
   "source": [
    "emp['city']"
   ]
  },
  {
   "cell_type": "code",
   "execution_count": 23,
   "id": "687db867-ead4-422b-b59c-99e3bac12f61",
   "metadata": {},
   "outputs": [
    {
     "ename": "KeyError",
     "evalue": "'contact'",
     "output_type": "error",
     "traceback": [
      "\u001b[1;31m---------------------------------------------------------------------------\u001b[0m",
      "\u001b[1;31mKeyError\u001b[0m                                  Traceback (most recent call last)",
      "Cell \u001b[1;32mIn[23], line 1\u001b[0m\n\u001b[1;32m----> 1\u001b[0m emp[\u001b[38;5;124m'\u001b[39m\u001b[38;5;124mcontact\u001b[39m\u001b[38;5;124m'\u001b[39m]\n",
      "\u001b[1;31mKeyError\u001b[0m: 'contact'"
     ]
    }
   ],
   "source": [
    "emp['contact']"
   ]
  },
  {
   "cell_type": "code",
   "execution_count": 24,
   "id": "63d3687f-db14-4685-888a-3c51ea585244",
   "metadata": {},
   "outputs": [
    {
     "data": {
      "text/plain": [
       "'not defined'"
      ]
     },
     "execution_count": 24,
     "metadata": {},
     "output_type": "execute_result"
    }
   ],
   "source": [
    "emp.get('contact' , 'not defined')"
   ]
  },
  {
   "cell_type": "code",
   "execution_count": 25,
   "id": "7c34a4aa-c556-4821-bf50-8c0e193ebc70",
   "metadata": {},
   "outputs": [],
   "source": [
    "emp['contact'] = 1432"
   ]
  },
  {
   "cell_type": "code",
   "execution_count": 26,
   "id": "9ca4fe10-d39f-47f8-a9da-1b2a4e3fad11",
   "metadata": {},
   "outputs": [
    {
     "data": {
      "text/plain": [
       "{'name': 'Palak',\n",
       " 'age': 35,\n",
       " 'city': 'pune',\n",
       " 'country': 'India',\n",
       " 'contact': 1432}"
      ]
     },
     "execution_count": 26,
     "metadata": {},
     "output_type": "execute_result"
    }
   ],
   "source": [
    "emp"
   ]
  },
  {
   "cell_type": "code",
   "execution_count": 27,
   "id": "a8b53665-a0aa-469c-b083-aab7b599edb3",
   "metadata": {},
   "outputs": [
    {
     "data": {
      "text/plain": [
       "{'name': 'Palak',\n",
       " 'age': 35,\n",
       " 'city': 'pune',\n",
       " 'country': 'India',\n",
       " 'contact': 101010}"
      ]
     },
     "execution_count": 27,
     "metadata": {},
     "output_type": "execute_result"
    }
   ],
   "source": [
    "emp['contact'] = 101010\n",
    "emp"
   ]
  },
  {
   "cell_type": "code",
   "execution_count": 28,
   "id": "f10189b5-6bd4-454d-a624-a225a7a072a8",
   "metadata": {},
   "outputs": [
    {
     "data": {
      "text/plain": [
       "dict_keys(['name', 'age', 'city', 'country', 'contact'])"
      ]
     },
     "execution_count": 28,
     "metadata": {},
     "output_type": "execute_result"
    }
   ],
   "source": [
    "emp.keys()"
   ]
  },
  {
   "cell_type": "code",
   "execution_count": 29,
   "id": "0ac9e6c2-039f-4263-9d47-fca265ba49f6",
   "metadata": {},
   "outputs": [
    {
     "data": {
      "text/plain": [
       "dict_values(['Palak', 35, 'pune', 'India', 101010])"
      ]
     },
     "execution_count": 29,
     "metadata": {},
     "output_type": "execute_result"
    }
   ],
   "source": [
    "emp.values()"
   ]
  },
  {
   "cell_type": "code",
   "execution_count": 30,
   "id": "2885b93e-300b-477f-a5dd-963a13f7b568",
   "metadata": {},
   "outputs": [
    {
     "data": {
      "text/plain": [
       "dict_items([('name', 'Palak'), ('age', 35), ('city', 'pune'), ('country', 'India'), ('contact', 101010)])"
      ]
     },
     "execution_count": 30,
     "metadata": {},
     "output_type": "execute_result"
    }
   ],
   "source": [
    "emp.items()"
   ]
  },
  {
   "cell_type": "code",
   "execution_count": 32,
   "id": "b6e2a1e2-ee80-4e8a-9cb1-13ff04505fbd",
   "metadata": {},
   "outputs": [
    {
     "data": {
      "text/plain": [
       "35"
      ]
     },
     "execution_count": 32,
     "metadata": {},
     "output_type": "execute_result"
    }
   ],
   "source": [
    "emp.pop('age') #remove specific key-value ex age"
   ]
  },
  {
   "cell_type": "code",
   "execution_count": 33,
   "id": "a9f648c4-f453-428c-823b-2383f2c692a4",
   "metadata": {},
   "outputs": [
    {
     "data": {
      "text/plain": [
       "{'name': 'Palak', 'city': 'pune', 'country': 'India', 'contact': 101010}"
      ]
     },
     "execution_count": 33,
     "metadata": {},
     "output_type": "execute_result"
    }
   ],
   "source": [
    "emp"
   ]
  },
  {
   "cell_type": "code",
   "execution_count": 34,
   "id": "aad65a56-bda1-4749-9552-f22acb30873b",
   "metadata": {},
   "outputs": [
    {
     "data": {
      "text/plain": [
       "('contact', 101010)"
      ]
     },
     "execution_count": 34,
     "metadata": {},
     "output_type": "execute_result"
    }
   ],
   "source": [
    "emp.popitem()  #remove last element "
   ]
  },
  {
   "cell_type": "code",
   "execution_count": 35,
   "id": "5c474fa5-f89e-4a28-9583-ddd862bf604a",
   "metadata": {},
   "outputs": [
    {
     "data": {
      "text/plain": [
       "{'name': 'Palak', 'city': 'pune', 'country': 'India'}"
      ]
     },
     "execution_count": 35,
     "metadata": {},
     "output_type": "execute_result"
    }
   ],
   "source": [
    "emp"
   ]
  },
  {
   "cell_type": "code",
   "execution_count": 1,
   "id": "fd3cf650-4be2-4fb0-a1d9-d1a464e218a8",
   "metadata": {},
   "outputs": [],
   "source": [
    "stud = {\n",
    "    'fname ' : 'ruchi',\n",
    "    'lname ' : 'kumbhare',\n",
    "    'age' : 22,\n",
    "    'city' : 'Nagpur'\n",
    "}"
   ]
  },
  {
   "cell_type": "code",
   "execution_count": 2,
   "id": "017c574e-73db-41b0-baea-97264ebe365c",
   "metadata": {},
   "outputs": [
    {
     "data": {
      "text/plain": [
       "{'fname ': 'ruchi', 'lname ': 'kumbhare', 'age': 22, 'city': 'Nagpur'}"
      ]
     },
     "execution_count": 2,
     "metadata": {},
     "output_type": "execute_result"
    }
   ],
   "source": [
    "stud"
   ]
  },
  {
   "cell_type": "code",
   "execution_count": 5,
   "id": "22578c0b-7de9-4a05-a434-7c658b96521e",
   "metadata": {},
   "outputs": [
    {
     "data": {
      "text/plain": [
       "22"
      ]
     },
     "execution_count": 5,
     "metadata": {},
     "output_type": "execute_result"
    }
   ],
   "source": [
    "stud['age'] #retrive"
   ]
  },
  {
   "cell_type": "code",
   "execution_count": 8,
   "id": "27ec6c17-1722-4f51-bc09-98359d4bbf4a",
   "metadata": {},
   "outputs": [],
   "source": [
    "stud['contact'] =12345 # add"
   ]
  },
  {
   "cell_type": "code",
   "execution_count": 9,
   "id": "7039bd0b-b15f-459d-93bc-2a5a2cc04fbb",
   "metadata": {},
   "outputs": [
    {
     "data": {
      "text/plain": [
       "{'fname ': 'ruchi',\n",
       " 'lname ': 'kumbhare',\n",
       " 'age': 22,\n",
       " 'city': 'Nagpur',\n",
       " 'contact': 12345}"
      ]
     },
     "execution_count": 9,
     "metadata": {},
     "output_type": "execute_result"
    }
   ],
   "source": [
    "stud"
   ]
  },
  {
   "cell_type": "code",
   "execution_count": 10,
   "id": "51ea4736-a532-4d27-b001-d9752f7db433",
   "metadata": {},
   "outputs": [],
   "source": [
    "stud ['contact'] = 98765"
   ]
  },
  {
   "cell_type": "code",
   "execution_count": 11,
   "id": "55bf22fc-d8a3-4dc0-ac89-31079a044bf1",
   "metadata": {},
   "outputs": [
    {
     "data": {
      "text/plain": [
       "{'fname ': 'ruchi',\n",
       " 'lname ': 'kumbhare',\n",
       " 'age': 22,\n",
       " 'city': 'Nagpur',\n",
       " 'contact': 98765}"
      ]
     },
     "execution_count": 11,
     "metadata": {},
     "output_type": "execute_result"
    }
   ],
   "source": [
    "stud\n"
   ]
  },
  {
   "cell_type": "code",
   "execution_count": 12,
   "id": "45a1f455-2fe8-4e7c-a80a-2fb3c37626fd",
   "metadata": {},
   "outputs": [],
   "source": [
    "del stud['age']"
   ]
  },
  {
   "cell_type": "code",
   "execution_count": 13,
   "id": "18def5e0-525d-459b-97d8-63e97193b330",
   "metadata": {},
   "outputs": [
    {
     "data": {
      "text/plain": [
       "{'fname ': 'ruchi', 'lname ': 'kumbhare', 'city': 'Nagpur', 'contact': 98765}"
      ]
     },
     "execution_count": 13,
     "metadata": {},
     "output_type": "execute_result"
    }
   ],
   "source": [
    "stud"
   ]
  },
  {
   "cell_type": "code",
   "execution_count": 14,
   "id": "e6c98716-695f-4a07-928a-8457df0ce026",
   "metadata": {},
   "outputs": [],
   "source": [
    "stud.clear()"
   ]
  },
  {
   "cell_type": "code",
   "execution_count": 15,
   "id": "7073e3a2-7112-45e4-9240-ad0a6f6c3b86",
   "metadata": {},
   "outputs": [
    {
     "data": {
      "text/plain": [
       "{}"
      ]
     },
     "execution_count": 15,
     "metadata": {},
     "output_type": "execute_result"
    }
   ],
   "source": [
    "stud"
   ]
  },
  {
   "cell_type": "code",
   "execution_count": 16,
   "id": "40bda220-d54f-4d3b-a698-5ca5fc1f48cd",
   "metadata": {},
   "outputs": [],
   "source": [
    "stud = {\n",
    "    'fname ' : 'ruchi',\n",
    "    'lname ' : 'kumbhare',\n",
    "    'age' : 22,\n",
    "    'city' : 'Nagpur'\n",
    "}"
   ]
  },
  {
   "cell_type": "code",
   "execution_count": 17,
   "id": "d7e94b72-5e58-4f0e-bf1e-381e865f0a66",
   "metadata": {},
   "outputs": [
    {
     "data": {
      "text/plain": [
       "{'fname ': 'ruchi', 'lname ': 'kumbhare', 'age': 22, 'city': 'Nagpur'}"
      ]
     },
     "execution_count": 17,
     "metadata": {},
     "output_type": "execute_result"
    }
   ],
   "source": [
    "stud"
   ]
  },
  {
   "cell_type": "code",
   "execution_count": 18,
   "id": "a7cd6a3d-125e-476b-8a91-1e547ba68015",
   "metadata": {},
   "outputs": [],
   "source": [
    "stud.clear()"
   ]
  },
  {
   "cell_type": "code",
   "execution_count": 19,
   "id": "7ee40402-8207-4a8b-b880-39cd877769c1",
   "metadata": {},
   "outputs": [
    {
     "data": {
      "text/plain": [
       "{}"
      ]
     },
     "execution_count": 19,
     "metadata": {},
     "output_type": "execute_result"
    }
   ],
   "source": [
    "stud"
   ]
  },
  {
   "cell_type": "code",
   "execution_count": 20,
   "id": "75d5dda1-7cbc-43dd-8fa9-cc4d559e99b6",
   "metadata": {},
   "outputs": [],
   "source": [
    "stud1 = {'name': 'Palak',\n",
    " 'age': 35,\n",
    " 'city': 'pune',\n",
    " 'country': 'India',\n",
    " 'contact': 1432\n",
    "        }"
   ]
  },
  {
   "cell_type": "code",
   "execution_count": 21,
   "id": "27ba4b94-f97b-4e99-b655-148c01559f4d",
   "metadata": {},
   "outputs": [
    {
     "data": {
      "text/plain": [
       "{'name': 'Palak',\n",
       " 'age': 35,\n",
       " 'city': 'pune',\n",
       " 'country': 'India',\n",
       " 'contact': 1432}"
      ]
     },
     "execution_count": 21,
     "metadata": {},
     "output_type": "execute_result"
    }
   ],
   "source": [
    "stud1"
   ]
  },
  {
   "cell_type": "code",
   "execution_count": null,
   "id": "9a95019e-fec6-4e95-bff1-54b837975616",
   "metadata": {},
   "outputs": [],
   "source": [
    "# dict with in operator ==> check only keys"
   ]
  },
  {
   "cell_type": "code",
   "execution_count": 22,
   "id": "5d180b0d-69e2-4f85-ab78-8928d7b4a560",
   "metadata": {},
   "outputs": [
    {
     "name": "stdout",
     "output_type": "stream",
     "text": [
      "True\n"
     ]
    }
   ],
   "source": [
    "print('age' in stud1)"
   ]
  },
  {
   "cell_type": "code",
   "execution_count": 23,
   "id": "067d067e-4074-4562-a9c1-46586ca790d3",
   "metadata": {},
   "outputs": [
    {
     "name": "stdout",
     "output_type": "stream",
     "text": [
      "True\n"
     ]
    }
   ],
   "source": [
    "print('country' in stud1)"
   ]
  },
  {
   "cell_type": "code",
   "execution_count": 24,
   "id": "7c3173a2-7503-455b-b512-59f4e1d7ccc6",
   "metadata": {},
   "outputs": [
    {
     "name": "stdout",
     "output_type": "stream",
     "text": [
      "False\n"
     ]
    }
   ],
   "source": [
    "print('lname' in stud1)"
   ]
  },
  {
   "cell_type": "code",
   "execution_count": 26,
   "id": "16c64cc9-6e74-47b4-ba03-69ef7ca7327d",
   "metadata": {},
   "outputs": [],
   "source": [
    "stud2 = {'name': 'Palak',\n",
    " 'age': 35,\n",
    " 'city': 'pune',\n",
    " 'country': 'India',\n",
    " 'contact': 1432,\n",
    "  'age' : 25\n",
    "        }"
   ]
  },
  {
   "cell_type": "code",
   "execution_count": 27,
   "id": "97cdd807-d040-4634-b127-81757c4f43ce",
   "metadata": {},
   "outputs": [
    {
     "data": {
      "text/plain": [
       "{'name': 'Palak',\n",
       " 'age': 25,\n",
       " 'city': 'pune',\n",
       " 'country': 'India',\n",
       " 'contact': 1432}"
      ]
     },
     "execution_count": 27,
     "metadata": {},
     "output_type": "execute_result"
    }
   ],
   "source": [
    "stud2"
   ]
  },
  {
   "cell_type": "code",
   "execution_count": 30,
   "id": "d52bcb77-673b-405f-bfff-47916013758b",
   "metadata": {},
   "outputs": [
    {
     "name": "stdout",
     "output_type": "stream",
     "text": [
      "the key is name and its values is Palak\n",
      "the key is age and its values is 25\n",
      "the key is city and its values is pune\n",
      "the key is country and its values is India\n",
      "the key is contact and its values is 1432\n"
     ]
    }
   ],
   "source": [
    "for key in stud2 :\n",
    "    print(\"the key is\" , key,\"and its values is\",stud1[key])"
   ]
  },
  {
   "cell_type": "code",
   "execution_count": 31,
   "id": "8c2dde5d-301b-445e-82ce-cc8cf18876c4",
   "metadata": {},
   "outputs": [
    {
     "name": "stdout",
     "output_type": "stream",
     "text": [
      "name\n",
      "age\n",
      "city\n",
      "country\n",
      "contact\n"
     ]
    }
   ],
   "source": [
    "for key in stud1:\n",
    "    print(key)"
   ]
  },
  {
   "cell_type": "code",
   "execution_count": 35,
   "id": "9d49f4f2-67de-4a43-ae85-b9ffd27312d7",
   "metadata": {},
   "outputs": [
    {
     "name": "stdout",
     "output_type": "stream",
     "text": [
      "1\n",
      "2\n",
      "3\n",
      "4\n",
      "5\n"
     ]
    }
   ],
   "source": [
    "a = [1,2,3,4,5]\n",
    "for  x in a:\n",
    "    print(x)"
   ]
  },
  {
   "cell_type": "code",
   "execution_count": 36,
   "id": "a2187926-e756-4331-a9a2-36581a34a8c1",
   "metadata": {},
   "outputs": [
    {
     "name": "stdout",
     "output_type": "stream",
     "text": [
      "0\n",
      "1\n",
      "2\n",
      "3\n",
      "4\n"
     ]
    }
   ],
   "source": [
    "for x in range(len(a)):\n",
    "    print(x)"
   ]
  },
  {
   "cell_type": "code",
   "execution_count": 40,
   "id": "6b5fcf71-854a-41d8-8a27-f6e522f3cfcd",
   "metadata": {},
   "outputs": [
    {
     "name": "stdout",
     "output_type": "stream",
     "text": [
      "index =>  0 value => 1\n",
      "index =>  1 value => 2\n",
      "index =>  2 value => 3\n",
      "index =>  3 value => 4\n",
      "index =>  4 value => 5\n"
     ]
    }
   ],
   "source": [
    "for x in range(len(a)):\n",
    "    print('index => ' , x , 'value =>',a[x])"
   ]
  },
  {
   "cell_type": "code",
   "execution_count": 41,
   "id": "9f8c5bcc-d34e-4507-b620-037cea373a19",
   "metadata": {},
   "outputs": [],
   "source": [
    "stud1.clear()"
   ]
  },
  {
   "cell_type": "code",
   "execution_count": 42,
   "id": "f05cd25a-ccd3-49ce-a495-97006530f9ee",
   "metadata": {},
   "outputs": [
    {
     "data": {
      "text/plain": [
       "{}"
      ]
     },
     "execution_count": 42,
     "metadata": {},
     "output_type": "execute_result"
    }
   ],
   "source": [
    "stud1"
   ]
  },
  {
   "cell_type": "code",
   "execution_count": null,
   "id": "ef474161-51aa-45b2-9aac-fd069361e338",
   "metadata": {},
   "outputs": [],
   "source": [
    "# By using variable\n",
    "a_var = dict(name = \"rahul\", age = 32 ,job = 'teacher')\n",
    "a_var"
   ]
  },
  {
   "cell_type": "code",
   "execution_count": null,
   "id": "82b8042c-aba0-4808-992d-303343b9e6a2",
   "metadata": {},
   "outputs": [],
   "source": [
    "# By using tuple\n",
    "d_tup = dict([('name',\"Akash\"),('age',35),('job',\"Instructor\")])\n",
    "d_tup"
   ]
  },
  {
   "cell_type": "code",
   "execution_count": null,
   "id": "ba5600a0-f344-498a-b36b-956b47686659",
   "metadata": {},
   "outputs": [],
   "source": [
    "# homework"
   ]
  },
  {
   "cell_type": "code",
   "execution_count": null,
   "id": "5af69a52-2e82-4969-bf08-ce1c00311461",
   "metadata": {},
   "outputs": [],
   "source": [
    "# score_vk = {\n",
    "#         one_day : 700,\n",
    "#         test : 740,\n",
    "#         t_20 : 470,\n",
    "#         international : 250\n",
    "# }"
   ]
  },
  {
   "cell_type": "code",
   "execution_count": null,
   "id": "dae7f0f7-c9bd-4504-a43d-009c11454d1f",
   "metadata": {},
   "outputs": [],
   "source": [
    "# 1. CREATE ABOVE DICTIONARY USING BASIC METHOD \n",
    "# {} AND NAME IT AS score_vk_basic"
   ]
  },
  {
   "cell_type": "code",
   "execution_count": 45,
   "id": "6bef418c-a86a-4d76-ad4c-9fb6210cd5e5",
   "metadata": {},
   "outputs": [
    {
     "data": {
      "text/plain": [
       "{' one_day': 700, 'test': 740, ' t_20': 470, ' international': 250}"
      ]
     },
     "execution_count": 45,
     "metadata": {},
     "output_type": "execute_result"
    }
   ],
   "source": [
    "score_vk_basic = {\n",
    "       ' one_day' : 700,\n",
    "        'test' : 740,\n",
    "       ' t_20' : 470,\n",
    "       ' international' : 250\n",
    "}\n",
    "score_vk_basic"
   ]
  },
  {
   "cell_type": "code",
   "execution_count": null,
   "id": "8bfc447b-935f-4266-a54a-6a010feaf4eb",
   "metadata": {},
   "outputs": [],
   "source": [
    "# 2. CREATE ABOVE DICTIONARY USING \n",
    "# variable assignments way AND NAME IT AS score_vk_var"
   ]
  },
  {
   "cell_type": "code",
   "execution_count": 46,
   "id": "421dec23-ea5c-4932-9dbd-836918cbcabb",
   "metadata": {},
   "outputs": [],
   "source": [
    "score_vk_var = dict(  one_day = 700, test = 740, t_20 = 470 ,international = 250 )\n",
    "       "
   ]
  },
  {
   "cell_type": "code",
   "execution_count": 47,
   "id": "a3c354bf-f905-49ae-ba7c-9ef3e99f9033",
   "metadata": {},
   "outputs": [
    {
     "data": {
      "text/plain": [
       "{'one_day': 700, 'test': 740, 't_20': 470, 'international': 250}"
      ]
     },
     "execution_count": 47,
     "metadata": {},
     "output_type": "execute_result"
    }
   ],
   "source": [
    "score_vk_var"
   ]
  },
  {
   "cell_type": "code",
   "execution_count": null,
   "id": "2c0b8f83-da2e-452e-b457-c73f619bab70",
   "metadata": {},
   "outputs": [],
   "source": [
    "# 3. CREATE ABOVE DICTIONARY USING \n",
    "# tuple pair way  AND NAME IT AS score_vk_basic_tup\n"
   ]
  },
  {
   "cell_type": "code",
   "execution_count": 48,
   "id": "fff6e960-44ba-4219-b62f-b6cc494fef2a",
   "metadata": {},
   "outputs": [],
   "source": [
    "score_vk_basic_tup = dict([('one_day',700),('test',740),(' t_20' , 470),(' international',250)])\n"
   ]
  },
  {
   "cell_type": "code",
   "execution_count": 49,
   "id": "c45cb8f8-8f73-4238-9b6e-c5f37b8b9237",
   "metadata": {},
   "outputs": [
    {
     "data": {
      "text/plain": [
       "{'one_day': 700, 'test': 740, ' t_20': 470, ' international': 250}"
      ]
     },
     "execution_count": 49,
     "metadata": {},
     "output_type": "execute_result"
    }
   ],
   "source": [
    "score_vk_basic_tup"
   ]
  }
 ],
 "metadata": {
  "kernelspec": {
   "display_name": "Python 3 (ipykernel)",
   "language": "python",
   "name": "python3"
  },
  "language_info": {
   "codemirror_mode": {
    "name": "ipython",
    "version": 3
   },
   "file_extension": ".py",
   "mimetype": "text/x-python",
   "name": "python",
   "nbconvert_exporter": "python",
   "pygments_lexer": "ipython3",
   "version": "3.11.9"
  }
 },
 "nbformat": 4,
 "nbformat_minor": 5
}
