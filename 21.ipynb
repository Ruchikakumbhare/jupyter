{
 "cells": [
  {
   "cell_type": "code",
   "execution_count": null,
   "id": "14c8322d-3b53-41f8-aee6-331626a2b2a5",
   "metadata": {},
   "outputs": [],
   "source": [
    "# Docstrings in Python\n",
    "#     The full meaning of docstring is documentation string.\n",
    "#     It's specified in source code that is used, like a comment, to document a specific segment of code.\n",
    "    \n",
    "# Declaring Docstrings: The docstrings are declared using '''triple single quotes''' or \"\"\"triple double quotes\"\"\" just below the class/function.\n"
   ]
  },
  {
   "cell_type": "code",
   "execution_count": 1,
   "id": "cbc94c5a-d7b9-4c12-aac0-cff855f60238",
   "metadata": {},
   "outputs": [],
   "source": [
    "def la(a,b):\n",
    "    \"\"\" Function to add two number\"\"\"\n",
    "    '''functions'''\n",
    "    add = a + b \n",
    "    return add"
   ]
  },
  {
   "cell_type": "code",
   "execution_count": 3,
   "id": "83738d7b-c3a3-48be-b772-4b82207015e5",
   "metadata": {},
   "outputs": [
    {
     "data": {
      "text/plain": [
       "3"
      ]
     },
     "execution_count": 3,
     "metadata": {},
     "output_type": "execute_result"
    }
   ],
   "source": [
    "la(1,2)"
   ]
  },
  {
   "cell_type": "code",
   "execution_count": 13,
   "id": "fe25c8ee-cc56-4d93-9c73-9576c2591427",
   "metadata": {},
   "outputs": [],
   "source": [
    "def x(a,b):\n",
    "    '''functionsss'''\n",
    "    add = a + b\n",
    "    return add"
   ]
  },
  {
   "cell_type": "code",
   "execution_count": 14,
   "id": "7f072409-f2aa-4849-8903-a72f302f719a",
   "metadata": {},
   "outputs": [
    {
     "data": {
      "text/plain": [
       "30"
      ]
     },
     "execution_count": 14,
     "metadata": {},
     "output_type": "execute_result"
    }
   ],
   "source": [
    "x(10,20)"
   ]
  },
  {
   "cell_type": "code",
   "execution_count": 8,
   "id": "b7601062-e036-492d-b709-7a5e209e1bd2",
   "metadata": {},
   "outputs": [
    {
     "name": "stdout",
     "output_type": "stream",
     "text": [
      " Function to add two number\n",
      "None\n"
     ]
    }
   ],
   "source": [
    "v = [la,x]\n",
    "for i in v:\n",
    "    print(i.__doc__)"
   ]
  },
  {
   "cell_type": "code",
   "execution_count": null,
   "id": "809c9500-aa75-4d79-8e5a-b44442f8936b",
   "metadata": {},
   "outputs": [],
   "source": [
    "# Accessing Docstrings: The docstrings can be accessed using the __doc__ method of the object or using the help functio\n",
    "\n",
    "#we can access the doctsrting as follows\n",
    "\n",
    "# Udit.__doc__"
   ]
  },
  {
   "cell_type": "code",
   "execution_count": 11,
   "id": "c4c24ea9-3063-4f34-935d-68e7473d9d75",
   "metadata": {},
   "outputs": [
    {
     "data": {
      "text/plain": [
       "' Function to add two number'"
      ]
     },
     "execution_count": 11,
     "metadata": {},
     "output_type": "execute_result"
    }
   ],
   "source": [
    "la.__doc__"
   ]
  },
  {
   "cell_type": "code",
   "execution_count": 15,
   "id": "9ee39529-5b4d-4dfa-a02f-969d7342fae2",
   "metadata": {},
   "outputs": [
    {
     "data": {
      "text/plain": [
       "'functionsss'"
      ]
     },
     "execution_count": 15,
     "metadata": {},
     "output_type": "execute_result"
    }
   ],
   "source": [
    "x.__doc__"
   ]
  },
  {
   "cell_type": "code",
   "execution_count": 16,
   "id": "3875af49-7018-45e5-8bd9-f6d516223d41",
   "metadata": {},
   "outputs": [],
   "source": [
    "def even(x):\n",
    "    \"\"\"This is even no code\"\"\"\n",
    "    m = []\n",
    "    for i in x:\n",
    "        if i%2==0:\n",
    "            m.append(i)\n",
    "    return m "
   ]
  },
  {
   "cell_type": "code",
   "execution_count": 17,
   "id": "c47fbc1a-4f6d-44a1-9629-46d25f008439",
   "metadata": {},
   "outputs": [
    {
     "data": {
      "text/plain": [
       "'This is even no code'"
      ]
     },
     "execution_count": 17,
     "metadata": {},
     "output_type": "execute_result"
    }
   ],
   "source": [
    "even.__doc__"
   ]
  },
  {
   "cell_type": "code",
   "execution_count": 20,
   "id": "a1f15953-db5e-427c-a82f-b77fe2490283",
   "metadata": {},
   "outputs": [
    {
     "data": {
      "text/plain": [
       "[4]"
      ]
     },
     "execution_count": 20,
     "metadata": {},
     "output_type": "execute_result"
    }
   ],
   "source": [
    "even([1,3,4,5,775,3,])"
   ]
  },
  {
   "cell_type": "code",
   "execution_count": 23,
   "id": "582be3f1-599c-4175-8f92-3b8a2c59f4b3",
   "metadata": {},
   "outputs": [
    {
     "data": {
      "text/plain": [
       "[20, 40]"
      ]
     },
     "execution_count": 23,
     "metadata": {},
     "output_type": "execute_result"
    }
   ],
   "source": [
    "even([20,40,33])"
   ]
  },
  {
   "cell_type": "code",
   "execution_count": 28,
   "id": "530d86c7-691a-47a2-8bbf-a550b612c5ab",
   "metadata": {},
   "outputs": [],
   "source": [
    "def average(a,b,c):\n",
    "    avg = (a+b+c)/3\n",
    "    return avg"
   ]
  },
  {
   "cell_type": "code",
   "execution_count": 29,
   "id": "9926ee6d-7a1b-4934-83cf-6d708b24f20f",
   "metadata": {},
   "outputs": [
    {
     "name": "stdout",
     "output_type": "stream",
     "text": [
      "2.0\n"
     ]
    }
   ],
   "source": [
    "print(average(1,2,3))"
   ]
  },
  {
   "cell_type": "code",
   "execution_count": 30,
   "id": "39cf28f4-39ff-41be-a0a0-f75c6c4c336c",
   "metadata": {},
   "outputs": [
    {
     "name": "stdout",
     "output_type": "stream",
     "text": [
      "3.3333333333333335\n"
     ]
    }
   ],
   "source": [
    "print(average(2,3,5))"
   ]
  },
  {
   "cell_type": "code",
   "execution_count": null,
   "id": "b2706c39-4742-42fd-801b-236e993bc1d6",
   "metadata": {},
   "outputs": [],
   "source": [
    "# Lambda function"
   ]
  },
  {
   "cell_type": "code",
   "execution_count": null,
   "id": "7b304ca0-d16d-4703-bb8f-c5015b530aa9",
   "metadata": {},
   "outputs": [],
   "source": [
    "A lambda function is an anonymous function in Python that can be created quickly and easily without having to define a named function using the def keyword."
   ]
  },
  {
   "cell_type": "code",
   "execution_count": 33,
   "id": "be1caad8-4ead-44b9-b135-23100abae2c4",
   "metadata": {},
   "outputs": [],
   "source": [
    "def square(x):\n",
    "    sq = x*x\n",
    "    return sq"
   ]
  },
  {
   "cell_type": "code",
   "execution_count": 34,
   "id": "385dbe30-be44-431b-9e5b-836908ac3ab5",
   "metadata": {},
   "outputs": [
    {
     "name": "stdout",
     "output_type": "stream",
     "text": [
      "100\n"
     ]
    }
   ],
   "source": [
    "print(square(10))"
   ]
  },
  {
   "cell_type": "code",
   "execution_count": 35,
   "id": "0fc9a658-6987-40c4-890b-d8f6586193e3",
   "metadata": {},
   "outputs": [
    {
     "name": "stdout",
     "output_type": "stream",
     "text": [
      "9\n"
     ]
    }
   ],
   "source": [
    "print(square(3))"
   ]
  },
  {
   "cell_type": "code",
   "execution_count": 36,
   "id": "148e6a6d-8e14-4624-992e-414da99d8bc7",
   "metadata": {},
   "outputs": [],
   "source": [
    "def add(x):\n",
    "    ad = x + x\n",
    "    return ad"
   ]
  },
  {
   "cell_type": "code",
   "execution_count": 38,
   "id": "3d104833-9dd8-4002-a2ab-a557e4daddf9",
   "metadata": {},
   "outputs": [
    {
     "name": "stdout",
     "output_type": "stream",
     "text": [
      "20\n"
     ]
    }
   ],
   "source": [
    "print(add(10))"
   ]
  },
  {
   "cell_type": "code",
   "execution_count": null,
   "id": "32ee48c2-f9cd-4aea-b22a-270f92735be9",
   "metadata": {},
   "outputs": [],
   "source": [
    "\n",
    "# lambda function\n",
    "lambda      x                                 : x*x\n",
    "#     parameters before colon (comma separated) : parameter operation"
   ]
  },
  {
   "cell_type": "code",
   "execution_count": 41,
   "id": "7c06cdc7-651b-44c1-bfa8-980fcd061261",
   "metadata": {},
   "outputs": [
    {
     "name": "stdout",
     "output_type": "stream",
     "text": [
      "100\n"
     ]
    }
   ],
   "source": [
    "z =lambda x : x*x\n",
    "print(z(10))"
   ]
  },
  {
   "cell_type": "code",
   "execution_count": 42,
   "id": "21589a01-8829-446c-bb34-b04a46940478",
   "metadata": {},
   "outputs": [
    {
     "name": "stdout",
     "output_type": "stream",
     "text": [
      "3\n"
     ]
    }
   ],
   "source": [
    "a = lambda x,y : x + y\n",
    "print(a(1,2))"
   ]
  },
  {
   "cell_type": "code",
   "execution_count": 44,
   "id": "d6137bbf-2196-4433-9089-6081320861b5",
   "metadata": {},
   "outputs": [],
   "source": [
    "z= lambda x: 'even' if x% 2 == 0 else 'odd'"
   ]
  },
  {
   "cell_type": "code",
   "execution_count": 45,
   "id": "b69feac0-ade0-4f93-9077-bdb68488c0f6",
   "metadata": {},
   "outputs": [
    {
     "data": {
      "text/plain": [
       "'odd'"
      ]
     },
     "execution_count": 45,
     "metadata": {},
     "output_type": "execute_result"
    }
   ],
   "source": [
    "z(1)"
   ]
  },
  {
   "cell_type": "code",
   "execution_count": 46,
   "id": "0d35cc69-7612-483c-b781-cedf3ca7d540",
   "metadata": {},
   "outputs": [
    {
     "data": {
      "text/plain": [
       "'even'"
      ]
     },
     "execution_count": 46,
     "metadata": {},
     "output_type": "execute_result"
    }
   ],
   "source": [
    "z(4)"
   ]
  },
  {
   "cell_type": "code",
   "execution_count": 47,
   "id": "920e193d-f2aa-4fae-b096-0ec6978b2b16",
   "metadata": {},
   "outputs": [
    {
     "name": "stdout",
     "output_type": "stream",
     "text": [
      "100\n"
     ]
    }
   ],
   "source": [
    "k = lambda x : x * x\n",
    "print(k(10))"
   ]
  },
  {
   "cell_type": "code",
   "execution_count": 48,
   "id": "5a268b8d-007a-4dda-930a-bfcacf547951",
   "metadata": {},
   "outputs": [
    {
     "name": "stdout",
     "output_type": "stream",
     "text": [
      "52\n"
     ]
    }
   ],
   "source": [
    "a=lambda x , y : x + y \n",
    "print(a(20,32))"
   ]
  },
  {
   "cell_type": "code",
   "execution_count": 3,
   "id": "6efd77a4-ec5e-47d9-960b-e10d3ec0ae11",
   "metadata": {},
   "outputs": [
    {
     "name": "stdout",
     "output_type": "stream",
     "text": [
      "20\n"
     ]
    }
   ],
   "source": [
    "a = lambda x : x + x\n",
    "print(a(10))"
   ]
  },
  {
   "cell_type": "code",
   "execution_count": 4,
   "id": "1d0fde0b-0f8d-4095-9771-f3fda2b826d9",
   "metadata": {},
   "outputs": [
    {
     "name": "stdout",
     "output_type": "stream",
     "text": [
      "30\n"
     ]
    }
   ],
   "source": [
    "a = lambda x,y : x + y\n",
    "print(a(10,20))"
   ]
  },
  {
   "cell_type": "code",
   "execution_count": 12,
   "id": "98166dde-cbef-4ae8-aa5e-be049f8b9de3",
   "metadata": {},
   "outputs": [],
   "source": [
    "def add(x):\n",
    "    ad = x + x\n",
    "    return ad"
   ]
  },
  {
   "cell_type": "code",
   "execution_count": 13,
   "id": "62f7f8a5-ec60-47ea-bfd5-40ea4da995b0",
   "metadata": {},
   "outputs": [
    {
     "name": "stdout",
     "output_type": "stream",
     "text": [
      "20\n"
     ]
    }
   ],
   "source": [
    "print(add(10))"
   ]
  },
  {
   "cell_type": "code",
   "execution_count": 1,
   "id": "fa2c0b56-a084-4189-8ca4-268bf90671f1",
   "metadata": {},
   "outputs": [
    {
     "name": "stdout",
     "output_type": "stream",
     "text": [
      "6\n"
     ]
    }
   ],
   "source": [
    "a=lambda x, y : x * y \n",
    "print(a(2,3))"
   ]
  },
  {
   "cell_type": "code",
   "execution_count": null,
   "id": "411c39af-7438-4d18-997d-f8d3fd808afc",
   "metadata": {},
   "outputs": [],
   "source": []
  }
 ],
 "metadata": {
  "kernelspec": {
   "display_name": "Python 3 (ipykernel)",
   "language": "python",
   "name": "python3"
  },
  "language_info": {
   "codemirror_mode": {
    "name": "ipython",
    "version": 3
   },
   "file_extension": ".py",
   "mimetype": "text/x-python",
   "name": "python",
   "nbconvert_exporter": "python",
   "pygments_lexer": "ipython3",
   "version": "3.11.9"
  }
 },
 "nbformat": 4,
 "nbformat_minor": 5
}
