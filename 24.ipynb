{
 "cells": [
  {
   "cell_type": "code",
   "execution_count": null,
   "id": "7b62c509-28ce-4292-950e-8740dfd7f61a",
   "metadata": {},
   "outputs": [],
   "source": [
    "#try ... except\n",
    "try-except blocks are used for error handling. The try block contains the code that may raise an exception, and the except block contains the code that handles the exception.\n",
    "\n",
    "try:\n",
    "    # code that may raise an exception\n",
    "except ExceptionType:\n",
    "    # code to handle the exception"
   ]
  },
  {
   "cell_type": "code",
   "execution_count": 3,
   "id": "83cca252-0e52-478c-9d07-378a4717522a",
   "metadata": {},
   "outputs": [
    {
     "name": "stdout",
     "output_type": "stream",
     "text": [
      "30\n"
     ]
    }
   ],
   "source": [
    "a= 10\n",
    "b = 20\n",
    "print(a+b)"
   ]
  },
  {
   "cell_type": "code",
   "execution_count": 5,
   "id": "727ad60b-a4a0-419b-86e5-e9a0dbbd1378",
   "metadata": {},
   "outputs": [
    {
     "ename": "ZeroDivisionError",
     "evalue": "division by zero",
     "output_type": "error",
     "traceback": [
      "\u001b[1;31m---------------------------------------------------------------------------\u001b[0m",
      "\u001b[1;31mZeroDivisionError\u001b[0m                         Traceback (most recent call last)",
      "Cell \u001b[1;32mIn[5], line 3\u001b[0m\n\u001b[0;32m      1\u001b[0m a\u001b[38;5;241m=\u001b[39m \u001b[38;5;241m10\u001b[39m\n\u001b[0;32m      2\u001b[0m b \u001b[38;5;241m=\u001b[39m \u001b[38;5;241m0\u001b[39m\n\u001b[1;32m----> 3\u001b[0m \u001b[38;5;28mprint\u001b[39m(a\u001b[38;5;241m/\u001b[39mb)\n",
      "\u001b[1;31mZeroDivisionError\u001b[0m: division by zero"
     ]
    }
   ],
   "source": [
    "a= 10\n",
    "b = 0\n",
    "print(a/b)"
   ]
  },
  {
   "cell_type": "code",
   "execution_count": 7,
   "id": "f0f34753-c3de-4ccc-99cb-dfe94b4e0f4f",
   "metadata": {},
   "outputs": [
    {
     "name": "stdout",
     "output_type": "stream",
     "text": [
      "This is not divisible zero\n"
     ]
    }
   ],
   "source": [
    "try:\n",
    "    a= 10\n",
    "    b = 0\n",
    "    print(a/b)\n",
    "except:\n",
    "    print('This is not divisible zero')"
   ]
  },
  {
   "cell_type": "code",
   "execution_count": 43,
   "id": "cef6263b-653e-4afc-93f4-793f5c52ded3",
   "metadata": {},
   "outputs": [
    {
     "name": "stdin",
     "output_type": "stream",
     "text": [
      "enter number1 12\n",
      "enter number2 4\n"
     ]
    },
    {
     "name": "stdout",
     "output_type": "stream",
     "text": [
      "3.0\n"
     ]
    }
   ],
   "source": [
    "try:\n",
    "    a = int(input('enter number1'))\n",
    "    b = int(input('enter number2'))\n",
    "    print(a/b)\n",
    "except ZeroDivisionError as e:   \n",
    "    print(\"not divided by zero\")\n",
    "\n",
    "except:\n",
    "    print('error')\n",
    "    "
   ]
  },
  {
   "cell_type": "code",
   "execution_count": 27,
   "id": "976c3343-c524-455b-a8a3-584b4699095d",
   "metadata": {},
   "outputs": [
    {
     "name": "stdin",
     "output_type": "stream",
     "text": [
      "enter number1 1\n",
      "enter number2 q\n"
     ]
    },
    {
     "name": "stdout",
     "output_type": "stream",
     "text": [
      "error\n"
     ]
    }
   ],
   "source": [
    "try:\n",
    "    a = int(input('enter number1'))\n",
    "    b = int(input('enter number2'))\n",
    "    print(a/b)\n",
    "except ZeroDivisionError as e:   \n",
    "    print(\"not divided by zero\")\n",
    "except NameError as e:\n",
    "    print('check variable')\n",
    "except:\n",
    "    print('error')"
   ]
  },
  {
   "cell_type": "code",
   "execution_count": 41,
   "id": "b58107d7-12a9-4b51-9e34-77551adb5879",
   "metadata": {},
   "outputs": [
    {
     "name": "stdout",
     "output_type": "stream",
     "text": [
      "check variable\n",
      "ok\n"
     ]
    }
   ],
   "source": [
    "try:\n",
    "    a = 10\n",
    "    c= 5\n",
    "    print(aa)\n",
    "except ZeroDivisionError as e:   \n",
    "    print(\"not divided by zero\")\n",
    "except NameError as e:\n",
    "    print('check variable')\n",
    "except:\n",
    "    print('error')\n",
    "    \n",
    "print(\"ok\")"
   ]
  },
  {
   "cell_type": "code",
   "execution_count": 53,
   "id": "0110ecc2-36b0-42f7-8fb6-35a449abc656",
   "metadata": {},
   "outputs": [
    {
     "name": "stdout",
     "output_type": "stream",
     "text": [
      "element not found list index out of range\n"
     ]
    }
   ],
   "source": [
    "try:\n",
    "    # a = 1\n",
    "    # b = 0\n",
    "    d=[1,2,3]\n",
    "    print(d[4])\n",
    "    # c = a/b\n",
    "    print(c)\n",
    "except FileNotFoundError as e:\n",
    "    print('some error occured',e)\n",
    "except IndexError as e:\n",
    "    print('element not found',e)\n",
    "except:\n",
    "    print('something wrong')"
   ]
  },
  {
   "cell_type": "code",
   "execution_count": 55,
   "id": "6d558c1d-4cd6-4791-ae36-cd7860725d3a",
   "metadata": {},
   "outputs": [
    {
     "name": "stdout",
     "output_type": "stream",
     "text": [
      "This is int\n",
      "This is int\n",
      "This is int\n",
      "Code Execution was successful\n",
      "Code End\n",
      "Hi\n"
     ]
    }
   ],
   "source": [
    "# 1. catch exception in below code using try... except \n",
    "# else print \" Code Execution was successful\"\n",
    "try:\n",
    "    list_z = [1,2,3,\"a\"]\n",
    "    for i in range(3):\n",
    "        if type(list_z[i]) == int:\n",
    "            print(\"This is int\")\n",
    "        \n",
    "        else:\n",
    "            print(\"This is not int\") \n",
    "except IndexError as e1:\n",
    "    print(\"Error occured is:\",e1)\n",
    "except ZeroDivisionError:\n",
    "    print(\"input should not be zero\")\n",
    "else:\n",
    "    print (\"Code Execution was successful\")\n",
    "finally:\n",
    "    print(\"Code End\")\n",
    "\n",
    "print(\"Hi\")"
   ]
  },
  {
   "cell_type": "code",
   "execution_count": 57,
   "id": "a509814a-9a1c-40a8-950f-88f9ab416342",
   "metadata": {},
   "outputs": [
    {
     "ename": "SyntaxError",
     "evalue": "unterminated string literal (detected at line 4) (2623499098.py, line 4)",
     "output_type": "error",
     "traceback": [
      "\u001b[1;36m  Cell \u001b[1;32mIn[57], line 4\u001b[1;36m\u001b[0m\n\u001b[1;33m    print(\"Hello World)\u001b[0m\n\u001b[1;37m          ^\u001b[0m\n\u001b[1;31mSyntaxError\u001b[0m\u001b[1;31m:\u001b[0m unterminated string literal (detected at line 4)\n"
     ]
    }
   ],
   "source": [
    "# # 2. catch exception in below code using try... except\n",
    "\n",
    "try:\n",
    "    print(\"Hello World)\n",
    "except :\n",
    "    print(\"Error occured is:\")\n",
    "else:\n",
    "    print(\"Error occured\")   # syntax erroe not handled"
   ]
  },
  {
   "cell_type": "code",
   "execution_count": null,
   "id": "87ec7083-855c-4bc4-a9cc-f011f6a5ca53",
   "metadata": {},
   "outputs": [],
   "source": [
    "### raise Exception "
   ]
  },
  {
   "cell_type": "code",
   "execution_count": 61,
   "id": "df9d2f96-4b49-4e10-8a9c-81f6465a2780",
   "metadata": {},
   "outputs": [],
   "source": [
    "def div1(a):\n",
    "    # a = int(input(\"Enter an non zero number !!!\"))\n",
    "    if a == 2:\n",
    "        raise ZeroDivisionError(\"Enter a non zero num\")\n",
    "    else:\n",
    "        print(100/a)"
   ]
  },
  {
   "cell_type": "code",
   "execution_count": 70,
   "id": "f582611c-f8b3-461c-9aed-82af6e98f421",
   "metadata": {},
   "outputs": [
    {
     "name": "stdout",
     "output_type": "stream",
     "text": [
      "0.47393364928909953\n"
     ]
    }
   ],
   "source": [
    "div1(211)"
   ]
  },
  {
   "cell_type": "code",
   "execution_count": 72,
   "id": "9dbae816-b4e8-427c-8a2e-ce82aac5b27f",
   "metadata": {},
   "outputs": [
    {
     "name": "stdout",
     "output_type": "stream",
     "text": [
      "100.0\n"
     ]
    }
   ],
   "source": [
    "div1(1)"
   ]
  },
  {
   "cell_type": "code",
   "execution_count": 74,
   "id": "b4d9d1a8-9eea-42fb-a77c-c5658e28adcc",
   "metadata": {},
   "outputs": [
    {
     "name": "stdout",
     "output_type": "stream",
     "text": [
      "33.333333333333336\n"
     ]
    }
   ],
   "source": [
    "div1(3)"
   ]
  },
  {
   "cell_type": "code",
   "execution_count": 76,
   "id": "6586ff11-c8b0-4127-bc9f-768a22d62c54",
   "metadata": {},
   "outputs": [
    {
     "name": "stdout",
     "output_type": "stream",
     "text": [
      "25.0\n"
     ]
    }
   ],
   "source": [
    "div1(4)"
   ]
  },
  {
   "cell_type": "code",
   "execution_count": 78,
   "id": "b152e95d-116e-4f2a-a75e-c4bd7180106c",
   "metadata": {},
   "outputs": [
    {
     "ename": "ZeroDivisionError",
     "evalue": "Enter a non zero num",
     "output_type": "error",
     "traceback": [
      "\u001b[1;31m---------------------------------------------------------------------------\u001b[0m",
      "\u001b[1;31mZeroDivisionError\u001b[0m                         Traceback (most recent call last)",
      "Cell \u001b[1;32mIn[78], line 1\u001b[0m\n\u001b[1;32m----> 1\u001b[0m div1(\u001b[38;5;241m2\u001b[39m)\n",
      "Cell \u001b[1;32mIn[61], line 4\u001b[0m, in \u001b[0;36mdiv1\u001b[1;34m(a)\u001b[0m\n\u001b[0;32m      1\u001b[0m \u001b[38;5;28;01mdef\u001b[39;00m \u001b[38;5;21mdiv1\u001b[39m(a):\n\u001b[0;32m      2\u001b[0m     \u001b[38;5;66;03m# a = int(input(\"Enter an non zero number !!!\"))\u001b[39;00m\n\u001b[0;32m      3\u001b[0m     \u001b[38;5;28;01mif\u001b[39;00m a \u001b[38;5;241m==\u001b[39m \u001b[38;5;241m2\u001b[39m:\n\u001b[1;32m----> 4\u001b[0m         \u001b[38;5;28;01mraise\u001b[39;00m \u001b[38;5;167;01mZeroDivisionError\u001b[39;00m(\u001b[38;5;124m\"\u001b[39m\u001b[38;5;124mEnter a non zero num\u001b[39m\u001b[38;5;124m\"\u001b[39m)\n\u001b[0;32m      5\u001b[0m     \u001b[38;5;28;01melse\u001b[39;00m:\n\u001b[0;32m      6\u001b[0m         \u001b[38;5;28mprint\u001b[39m(\u001b[38;5;241m100\u001b[39m\u001b[38;5;241m/\u001b[39ma)\n",
      "\u001b[1;31mZeroDivisionError\u001b[0m: Enter a non zero num"
     ]
    }
   ],
   "source": [
    "div1(2)"
   ]
  },
  {
   "cell_type": "code",
   "execution_count": 80,
   "id": "ca47644c-a9c1-4561-ab22-7aa619b7bd09",
   "metadata": {},
   "outputs": [
    {
     "name": "stdout",
     "output_type": "stream",
     "text": [
      "20.0\n"
     ]
    }
   ],
   "source": [
    "div1(5)"
   ]
  },
  {
   "cell_type": "code",
   "execution_count": 84,
   "id": "19bf224a-0c0c-4c75-be4d-dc9e62de5196",
   "metadata": {},
   "outputs": [
    {
     "name": "stdin",
     "output_type": "stream",
     "text": [
      "Enter an even number !!! 3\n"
     ]
    },
    {
     "ename": "Exception",
     "evalue": "Enter only even number",
     "output_type": "error",
     "traceback": [
      "\u001b[1;31m---------------------------------------------------------------------------\u001b[0m",
      "\u001b[1;31mException\u001b[0m                                 Traceback (most recent call last)",
      "Cell \u001b[1;32mIn[84], line 5\u001b[0m\n\u001b[0;32m      3\u001b[0m x \u001b[38;5;241m=\u001b[39m \u001b[38;5;28mint\u001b[39m(\u001b[38;5;28minput\u001b[39m(\u001b[38;5;124m\"\u001b[39m\u001b[38;5;124mEnter an even number !!!\u001b[39m\u001b[38;5;124m\"\u001b[39m))\n\u001b[0;32m      4\u001b[0m \u001b[38;5;28;01mif\u001b[39;00m x \u001b[38;5;241m%\u001b[39m\u001b[38;5;241m2\u001b[39m \u001b[38;5;241m!=\u001b[39m \u001b[38;5;241m0\u001b[39m:\n\u001b[1;32m----> 5\u001b[0m     \u001b[38;5;28;01mraise\u001b[39;00m \u001b[38;5;167;01mException\u001b[39;00m(\u001b[38;5;124m\"\u001b[39m\u001b[38;5;124mEnter only even number\u001b[39m\u001b[38;5;124m\"\u001b[39m)\n\u001b[0;32m      6\u001b[0m \u001b[38;5;28;01melse\u001b[39;00m:\n\u001b[0;32m      7\u001b[0m     \u001b[38;5;28mprint\u001b[39m(\u001b[38;5;124m\"\u001b[39m\u001b[38;5;124mThe number is even \u001b[39m\u001b[38;5;124m\"\u001b[39m)\n",
      "\u001b[1;31mException\u001b[0m: Enter only even number"
     ]
    }
   ],
   "source": [
    "# user defined exception\n",
    "\n",
    "x = int(input(\"Enter an even number !!!\"))\n",
    "if x %2 != 0:\n",
    "    raise Exception(\"Enter only even number\")\n",
    "else:\n",
    "    print(\"The number is even \")"
   ]
  },
  {
   "cell_type": "code",
   "execution_count": 92,
   "id": "15e4b03b-cefa-4922-bd66-a67e8f15c7f1",
   "metadata": {},
   "outputs": [
    {
     "name": "stdin",
     "output_type": "stream",
     "text": [
      "enter a number 3\n",
      "enter a number 0\n"
     ]
    },
    {
     "name": "stdout",
     "output_type": "stream",
     "text": [
      "error\n"
     ]
    }
   ],
   "source": [
    "try:\n",
    "    x = int(input('enter a number'))\n",
    "    y = int(input('enter a number'))\n",
    "    print(x/y)\n",
    "except:\n",
    "    print('error')\n"
   ]
  },
  {
   "cell_type": "code",
   "execution_count": null,
   "id": "cd2eeb41-e458-4228-9dfa-0806f5ce5bc2",
   "metadata": {},
   "outputs": [],
   "source": []
  }
 ],
 "metadata": {
  "kernelspec": {
   "display_name": "Python 3 (ipykernel)",
   "language": "python",
   "name": "python3"
  },
  "language_info": {
   "codemirror_mode": {
    "name": "ipython",
    "version": 3
   },
   "file_extension": ".py",
   "mimetype": "text/x-python",
   "name": "python",
   "nbconvert_exporter": "python",
   "pygments_lexer": "ipython3",
   "version": "3.12.4"
  }
 },
 "nbformat": 4,
 "nbformat_minor": 5
}
