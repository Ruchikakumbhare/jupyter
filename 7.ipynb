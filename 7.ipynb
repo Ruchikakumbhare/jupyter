{
 "cells": [
  {
   "cell_type": "code",
   "execution_count": null,
   "id": "cbf8c2d8-d26a-4e21-8d56-d3118fcaf3a7",
   "metadata": {},
   "outputs": [],
   "source": [
    "# Data-Types\n",
    "\n",
    "Data-Types:- 1) Numbers (integers, float, complex)\n",
    "             2) String \n",
    "             3) List\n",
    "             4) Tuple\n",
    "             5) set\n",
    "             6) Dictionary\n",
    "\n",
    "Datatypes are classified into two type\n",
    "    1) Immutable (Hashable) and\n",
    "    2) Mutable (Unhashable)\n",
    "    \n",
    "Immutable data Type: A data value which cannot be modified.\n",
    "mutable data Type : A data value which can be modified.\n",
    "\n",
    "Immutable (Hashable) data Type:\n",
    "             1) Numbers (integers, float, complex) \n",
    "             2) String  \n",
    "             3) Tuple\n",
    "             \n",
    "Mutable (Unhashable) data Type:\n",
    "             1) List\n",
    "             2) set \n",
    "             3) Dictionary \n",
    "\n",
    "\n",
    "\n",
    "To verify the type of any object in Python, use the type() function:"
   ]
  },
  {
   "cell_type": "code",
   "execution_count": null,
   "id": "6ff9d780-1feb-4f08-a21c-e6afa3d06cbd",
   "metadata": {},
   "outputs": [],
   "source": [
    "# 1) Numbers (integers, float, complex)"
   ]
  },
  {
   "cell_type": "code",
   "execution_count": 2,
   "id": "571755d4-83c7-44c6-8cc5-8a02afd6bbdf",
   "metadata": {},
   "outputs": [],
   "source": [
    " a = 10"
   ]
  },
  {
   "cell_type": "code",
   "execution_count": 3,
   "id": "b9cf0eb4-89b0-42b8-bc78-08d32d3255c6",
   "metadata": {},
   "outputs": [
    {
     "data": {
      "text/plain": [
       "10"
      ]
     },
     "execution_count": 3,
     "metadata": {},
     "output_type": "execute_result"
    }
   ],
   "source": [
    " a"
   ]
  },
  {
   "cell_type": "code",
   "execution_count": 4,
   "id": "4469c876-bfde-4aa0-9a35-a7d6a54b385f",
   "metadata": {},
   "outputs": [
    {
     "data": {
      "text/plain": [
       "int"
      ]
     },
     "execution_count": 4,
     "metadata": {},
     "output_type": "execute_result"
    }
   ],
   "source": [
    " type(a)"
   ]
  },
  {
   "cell_type": "code",
   "execution_count": 6,
   "id": "86e0c17e-b01c-4abc-8d64-73c98e8e4916",
   "metadata": {},
   "outputs": [
    {
     "name": "stdout",
     "output_type": "stream",
     "text": [
      "<class 'int'>\n"
     ]
    }
   ],
   "source": [
    " print(type(a))"
   ]
  },
  {
   "cell_type": "code",
   "execution_count": 8,
   "id": "8516d2a3-189b-44c1-af05-d60208e3897b",
   "metadata": {},
   "outputs": [
    {
     "name": "stdout",
     "output_type": "stream",
     "text": [
      "-235\n",
      "<class 'int'>\n"
     ]
    }
   ],
   "source": [
    " b = -235\n",
    " print(b)\n",
    " print(type(b))"
   ]
  },
  {
   "cell_type": "code",
   "execution_count": 9,
   "id": "06e18db7-7608-4003-bded-ebc789a4b69f",
   "metadata": {},
   "outputs": [
    {
     "data": {
      "text/plain": [
       "3.3"
      ]
     },
     "execution_count": 9,
     "metadata": {},
     "output_type": "execute_result"
    }
   ],
   "source": [
    " b = 3.3\n",
    " b"
   ]
  },
  {
   "cell_type": "code",
   "execution_count": 10,
   "id": "92dc5b68-3d96-401e-881b-46ddc9eee0ca",
   "metadata": {},
   "outputs": [
    {
     "name": "stdout",
     "output_type": "stream",
     "text": [
      "<class 'float'>\n"
     ]
    }
   ],
   "source": [
    "print(type(b))"
   ]
  },
  {
   "cell_type": "code",
   "execution_count": 11,
   "id": "fbdc9a56-6760-4a1b-a00a-7e0b01aca392",
   "metadata": {},
   "outputs": [
    {
     "name": "stdout",
     "output_type": "stream",
     "text": [
      "<class 'int'>\n"
     ]
    }
   ],
   "source": [
    " b = 0 \n",
    " print(type(b))"
   ]
  },
  {
   "cell_type": "code",
   "execution_count": 12,
   "id": "7ec90072-5299-45aa-b8bd-41d5d89b3d73",
   "metadata": {},
   "outputs": [
    {
     "data": {
      "text/plain": [
       "float"
      ]
     },
     "execution_count": 12,
     "metadata": {},
     "output_type": "execute_result"
    }
   ],
   "source": [
    " b = 0.0\n",
    " type(b)"
   ]
  },
  {
   "cell_type": "code",
   "execution_count": 13,
   "id": "c0a30dd8-5d31-49c4-8268-4f3ff8d1abb8",
   "metadata": {},
   "outputs": [
    {
     "data": {
      "text/plain": [
       "1760790059408"
      ]
     },
     "execution_count": 13,
     "metadata": {},
     "output_type": "execute_result"
    }
   ],
   "source": [
    " id(b)"
   ]
  },
  {
   "cell_type": "code",
   "execution_count": 14,
   "id": "9f6d476d-49c3-42af-93a2-e4c39697ec37",
   "metadata": {},
   "outputs": [
    {
     "data": {
      "text/plain": [
       "140715085186120"
      ]
     },
     "execution_count": 14,
     "metadata": {},
     "output_type": "execute_result"
    }
   ],
   "source": [
    " id(a)"
   ]
  },
  {
   "cell_type": "code",
   "execution_count": 15,
   "id": "914e2a35-0d88-4767-bf71-2bd044959dd8",
   "metadata": {},
   "outputs": [
    {
     "data": {
      "text/plain": [
       "False"
      ]
     },
     "execution_count": 15,
     "metadata": {},
     "output_type": "execute_result"
    }
   ],
   "source": [
    " id(a) == id(b)"
   ]
  },
  {
   "cell_type": "code",
   "execution_count": 16,
   "id": "8719105e-d795-4456-a9a9-d0eba7e5ce92",
   "metadata": {},
   "outputs": [
    {
     "data": {
      "text/plain": [
       "(2+3j)"
      ]
     },
     "execution_count": 16,
     "metadata": {},
     "output_type": "execute_result"
    }
   ],
   "source": [
    " c = 2 + 3j\n",
    " c "
   ]
  },
  {
   "cell_type": "code",
   "execution_count": 17,
   "id": "9b3d3429-9f65-41b3-a31b-4debe1a477c4",
   "metadata": {},
   "outputs": [
    {
     "data": {
      "text/plain": [
       "complex"
      ]
     },
     "execution_count": 17,
     "metadata": {},
     "output_type": "execute_result"
    }
   ],
   "source": [
    " type(c)"
   ]
  },
  {
   "cell_type": "code",
   "execution_count": 18,
   "id": "6b14e91d-133e-4b77-867b-79676849d3bc",
   "metadata": {},
   "outputs": [
    {
     "name": "stdout",
     "output_type": "stream",
     "text": [
      "7j\n",
      "<class 'complex'>\n"
     ]
    }
   ],
   "source": [
    " a = 7j\n",
    "print(a)\n",
    "print(type(a))"
   ]
  },
  {
   "cell_type": "code",
   "execution_count": null,
   "id": "bc9f44c6-9d6a-460d-b32b-4c7e2e5a7006",
   "metadata": {},
   "outputs": [],
   "source": [
    " a = 7j"
   ]
  },
  {
   "cell_type": "code",
   "execution_count": 19,
   "id": "bc3836fa-ced9-4050-b1da-4a7ad099726f",
   "metadata": {},
   "outputs": [
    {
     "data": {
      "text/plain": [
       "7j"
      ]
     },
     "execution_count": 19,
     "metadata": {},
     "output_type": "execute_result"
    }
   ],
   "source": [
    " a"
   ]
  },
  {
   "cell_type": "code",
   "execution_count": 20,
   "id": "835f3995-056c-41ca-9073-54de45bcde72",
   "metadata": {},
   "outputs": [],
   "source": [
    " del a  #-------------> this will be delete the assign a value"
   ]
  },
  {
   "cell_type": "code",
   "execution_count": 21,
   "id": "da0a1b0e-f117-4202-98c0-cee118c00936",
   "metadata": {},
   "outputs": [
    {
     "ename": "NameError",
     "evalue": "name 'a' is not defined",
     "output_type": "error",
     "traceback": [
      "\u001b[1;31m---------------------------------------------------------------------------\u001b[0m",
      "\u001b[1;31mNameError\u001b[0m                                 Traceback (most recent call last)",
      "Cell \u001b[1;32mIn[21], line 1\u001b[0m\n\u001b[1;32m----> 1\u001b[0m a\n",
      "\u001b[1;31mNameError\u001b[0m: name 'a' is not defined"
     ]
    }
   ],
   "source": [
    " a"
   ]
  },
  {
   "cell_type": "code",
   "execution_count": null,
   "id": "d0d9f54c-6bba-415b-92d3-64da53da6814",
   "metadata": {},
   "outputs": [],
   "source": [
    "\n",
    "\n",
    "python Casting\n",
    "#We can change int into float, float into int\n"
   ]
  },
  {
   "cell_type": "code",
   "execution_count": 22,
   "id": "ef8b6941-86db-4ed0-812f-63db1875652b",
   "metadata": {},
   "outputs": [
    {
     "data": {
      "text/plain": [
       "8"
      ]
     },
     "execution_count": 22,
     "metadata": {},
     "output_type": "execute_result"
    }
   ],
   "source": [
    " a = 8 \n",
    " a"
   ]
  },
  {
   "cell_type": "code",
   "execution_count": 23,
   "id": "17bdb7b0-6e01-465c-8299-edae18af9ecd",
   "metadata": {},
   "outputs": [
    {
     "data": {
      "text/plain": [
       "int"
      ]
     },
     "execution_count": 23,
     "metadata": {},
     "output_type": "execute_result"
    }
   ],
   "source": [
    "type(a)"
   ]
  },
  {
   "cell_type": "code",
   "execution_count": 24,
   "id": "202f059b-849d-464b-8599-df6dfa2999f1",
   "metadata": {},
   "outputs": [
    {
     "data": {
      "text/plain": [
       "float"
      ]
     },
     "execution_count": 24,
     "metadata": {},
     "output_type": "execute_result"
    }
   ],
   "source": [
    "  type(float(a))"
   ]
  },
  {
   "cell_type": "code",
   "execution_count": 25,
   "id": "042bce15-8884-494d-ba87-89029a26dbba",
   "metadata": {},
   "outputs": [
    {
     "data": {
      "text/plain": [
       "float"
      ]
     },
     "execution_count": 25,
     "metadata": {},
     "output_type": "execute_result"
    }
   ],
   "source": [
    " b = 3.3\n",
    " b\n",
    " type(b)"
   ]
  },
  {
   "cell_type": "code",
   "execution_count": 26,
   "id": "c7f18d03-3513-43d3-bc84-6946f72a3427",
   "metadata": {},
   "outputs": [
    {
     "data": {
      "text/plain": [
       "int"
      ]
     },
     "execution_count": 26,
     "metadata": {},
     "output_type": "execute_result"
    }
   ],
   "source": [
    " type(int(b))"
   ]
  },
  {
   "cell_type": "code",
   "execution_count": 28,
   "id": "dd1e3649-545b-40f5-b7c1-41549db8376c",
   "metadata": {},
   "outputs": [
    {
     "name": "stdout",
     "output_type": "stream",
     "text": [
      "3.3 <class 'int'>\n"
     ]
    }
   ],
   "source": [
    " print(b,type(int(b)))"
   ]
  },
  {
   "cell_type": "code",
   "execution_count": 35,
   "id": "fb1527c7-4336-4a91-8b97-98b6029e66d9",
   "metadata": {},
   "outputs": [
    {
     "data": {
      "text/plain": [
       "(2+0j)"
      ]
     },
     "execution_count": 35,
     "metadata": {},
     "output_type": "execute_result"
    }
   ],
   "source": [
    "  x= 2\n",
    "  complex(x) #We can convert int and float into complex but we can not convert complex into int or float"
   ]
  },
  {
   "cell_type": "code",
   "execution_count": 36,
   "id": "172529c4-bbac-4217-8aec-462eb4171454",
   "metadata": {},
   "outputs": [
    {
     "data": {
      "text/plain": [
       "(3+3j)"
      ]
     },
     "execution_count": 36,
     "metadata": {},
     "output_type": "execute_result"
    }
   ],
   "source": [
    " v = 3j+3\n",
    " v"
   ]
  },
  {
   "cell_type": "code",
   "execution_count": 37,
   "id": "556b9d29-d328-4742-8434-3254e6aeb64f",
   "metadata": {},
   "outputs": [
    {
     "ename": "TypeError",
     "evalue": "int() argument must be a string, a bytes-like object or a real number, not 'complex'",
     "output_type": "error",
     "traceback": [
      "\u001b[1;31m---------------------------------------------------------------------------\u001b[0m",
      "\u001b[1;31mTypeError\u001b[0m                                 Traceback (most recent call last)",
      "Cell \u001b[1;32mIn[37], line 1\u001b[0m\n\u001b[1;32m----> 1\u001b[0m \u001b[38;5;28mint\u001b[39m(v)\n",
      "\u001b[1;31mTypeError\u001b[0m: int() argument must be a string, a bytes-like object or a real number, not 'complex'"
     ]
    }
   ],
   "source": [
    " int(v) #we can not convert complex into int or float"
   ]
  },
  {
   "cell_type": "code",
   "execution_count": 44,
   "id": "8f265563-b2ff-44a8-8fb0-ba643869088f",
   "metadata": {},
   "outputs": [
    {
     "name": "stdout",
     "output_type": "stream",
     "text": [
      "<class 'list'>\n",
      "<class 'tuple'>\n",
      "<class 'tuple'>\n",
      "<class 'set'>\n",
      "<class 'dict'>\n",
      "<class 'str'>\n"
     ]
    }
   ],
   "source": [
    "\n",
    "\n",
    "a = ['mango' , 'orange' , 'banana','apple']\n",
    "a1 = (22,33,44,555)\n",
    "a2 = 44,55,66,77,88\n",
    "a3 ={33,44,55,67,88}\n",
    "a4  = { 'name' : 'ruchika' , 'surname' : 'kumbhare'}\n",
    "a5 = 'RUCHIKA'\n",
    "print(type(a))\n",
    "print(type(a1))\n",
    "print(type(a2))\n",
    "print(type(a3))\n",
    "print(type(a4))\n",
    "print(type(a5))"
   ]
  },
  {
   "cell_type": "code",
   "execution_count": 47,
   "id": "9f1e133d-a94d-43a6-bf0a-47b221eda6f2",
   "metadata": {},
   "outputs": [
    {
     "name": "stdout",
     "output_type": "stream",
     "text": [
      "False\n",
      "True\n"
     ]
    }
   ],
   "source": [
    " a = 'ruchika'\n",
    " print(a.isupper())\n",
    " print(a.islower())"
   ]
  },
  {
   "cell_type": "code",
   "execution_count": null,
   "id": "926f02ac-4d40-451b-9fa2-dd9701bd57c2",
   "metadata": {},
   "outputs": [],
   "source": []
  }
 ],
 "metadata": {
  "kernelspec": {
   "display_name": "Python 3 (ipykernel)",
   "language": "python",
   "name": "python3"
  },
  "language_info": {
   "codemirror_mode": {
    "name": "ipython",
    "version": 3
   },
   "file_extension": ".py",
   "mimetype": "text/x-python",
   "name": "python",
   "nbconvert_exporter": "python",
   "pygments_lexer": "ipython3",
   "version": "3.11.9"
  }
 },
 "nbformat": 4,
 "nbformat_minor": 5
}
