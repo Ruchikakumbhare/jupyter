{
 "cells": [
  {
   "cell_type": "code",
   "execution_count": 1,
   "id": "fa3493eb-4884-4211-8be2-e8b2dd845ce0",
   "metadata": {},
   "outputs": [
    {
     "name": "stdout",
     "output_type": "stream",
     "text": [
      "hello Ruchi\n"
     ]
    }
   ],
   "source": [
    "print(\"hello Ruchi\")"
   ]
  },
  {
   "cell_type": "code",
   "execution_count": 3,
   "id": "da86f4c8-2271-4adc-8a7b-f7129ffb607e",
   "metadata": {},
   "outputs": [],
   "source": [
    "# THIS IS COMMENT\n",
    "# abcdd\n",
    "# dhfjfk\n",
    "# kandkwm\n",
    "# jdjdk\n",
    "# jsjdk"
   ]
  },
  {
   "cell_type": "code",
   "execution_count": 5,
   "id": "4cfd3405-11ee-4cd7-a555-59583c655b86",
   "metadata": {},
   "outputs": [
    {
     "data": {
      "text/plain": [
       "5"
      ]
     },
     "execution_count": 5,
     "metadata": {},
     "output_type": "execute_result"
    }
   ],
   "source": [
    "# Variable assignment : \n",
    "# Variable is used to store value and we use '=' i.e. assignment operator to assign value to it. \n",
    "a = 5 \n",
    "a"
   ]
  },
  {
   "cell_type": "code",
   "execution_count": 7,
   "id": "d757a2e7-063a-40cc-988b-fe92a6946443",
   "metadata": {},
   "outputs": [
    {
     "data": {
      "text/plain": [
       "'ruchi'"
      ]
     },
     "execution_count": 7,
     "metadata": {},
     "output_type": "execute_result"
    }
   ],
   "source": [
    "name = \"ruchi\"\n",
    "name"
   ]
  },
  {
   "cell_type": "code",
   "execution_count": 9,
   "id": "eda284a2-47ed-48bd-b5d6-16afc7b1a5de",
   "metadata": {},
   "outputs": [
    {
     "name": "stdout",
     "output_type": "stream",
     "text": [
      "Ruchika\n"
     ]
    }
   ],
   "source": [
    "name1  = \"Ruchika\"\n",
    "print(name1)\n"
   ]
  },
  {
   "cell_type": "code",
   "execution_count": 11,
   "id": "826c9583-3e24-4e2a-be1c-403a2f1208a3",
   "metadata": {},
   "outputs": [
    {
     "data": {
      "text/plain": [
       "int"
      ]
     },
     "execution_count": 11,
     "metadata": {},
     "output_type": "execute_result"
    }
   ],
   "source": [
    "type(a)"
   ]
  },
  {
   "cell_type": "code",
   "execution_count": 13,
   "id": "f71bf066-9e1b-4b77-bbf6-928a0747d827",
   "metadata": {},
   "outputs": [
    {
     "data": {
      "text/plain": [
       "str"
      ]
     },
     "execution_count": 13,
     "metadata": {},
     "output_type": "execute_result"
    }
   ],
   "source": [
    "type(name1)"
   ]
  },
  {
   "cell_type": "code",
   "execution_count": 15,
   "id": "c70f1492-93d1-46b0-bbb5-ab4aaae138c2",
   "metadata": {},
   "outputs": [
    {
     "name": "stdout",
     "output_type": "stream",
     "text": [
      "10\n",
      "Fisrt\n",
      "1.1\n",
      "True\n"
     ]
    }
   ],
   "source": [
    "x = 10\n",
    "y = 'Fisrt'\n",
    "z = 1.1\n",
    "q = True\n",
    "print(x)\n",
    "print(y)\n",
    "print(z)\n",
    "print(q)"
   ]
  },
  {
   "cell_type": "code",
   "execution_count": 19,
   "id": "e60b6edc-a9cc-4fe9-8092-6f01472cfdd3",
   "metadata": {},
   "outputs": [
    {
     "data": {
      "text/plain": [
       "int"
      ]
     },
     "execution_count": 19,
     "metadata": {},
     "output_type": "execute_result"
    }
   ],
   "source": [
    "type(x)\n"
   ]
  },
  {
   "cell_type": "code",
   "execution_count": 21,
   "id": "796c371e-66df-40c1-9605-26639264e309",
   "metadata": {},
   "outputs": [
    {
     "data": {
      "text/plain": [
       "str"
      ]
     },
     "execution_count": 21,
     "metadata": {},
     "output_type": "execute_result"
    }
   ],
   "source": [
    "type(y)"
   ]
  },
  {
   "cell_type": "code",
   "execution_count": 23,
   "id": "947b8adb-fd5b-492d-be5c-c24ca3eb79f7",
   "metadata": {},
   "outputs": [
    {
     "data": {
      "text/plain": [
       "float"
      ]
     },
     "execution_count": 23,
     "metadata": {},
     "output_type": "execute_result"
    }
   ],
   "source": [
    "type(z)"
   ]
  },
  {
   "cell_type": "code",
   "execution_count": 25,
   "id": "82f2668a-f9c9-42bc-a723-309cefaf9ced",
   "metadata": {},
   "outputs": [
    {
     "data": {
      "text/plain": [
       "bool"
      ]
     },
     "execution_count": 25,
     "metadata": {},
     "output_type": "execute_result"
    }
   ],
   "source": [
    "type(q)"
   ]
  },
  {
   "cell_type": "code",
   "execution_count": null,
   "id": "905a2aaa-ce35-4b1d-975c-39e9ad9c7fec",
   "metadata": {},
   "outputs": [],
   "source": [
    "# 1. It can be of any length. \n",
    "#     2. It can be combination of lower cases (a-z) , upper cases (A-Z) and digits (0-9).\n",
    "#     3. It can't be start with digit.\n",
    "#     4. It can't be include special symbols like { !, @, #, $ , % }, etc.\n",
    "#     5. We can use '_' i.e underscore in identifire for attaching two strings or one string and one number.\n",
    "#     6. We can't give space between letters, words or between letter and digit.\n",
    "#     7. We can't use python keywords as a python identifier"
   ]
  },
  {
   "cell_type": "code",
   "execution_count": 33,
   "id": "774eba82-2bd9-482f-b71c-477f4f1ce3e8",
   "metadata": {},
   "outputs": [
    {
     "name": "stdout",
     "output_type": "stream",
     "text": [
      "ruchik\n"
     ]
    }
   ],
   "source": [
    "# Assigning multiple values to multiple variables :-\n",
    "\n",
    "a , b,c = \"ruchik\" , \"Sanjay\" , \"kumbhare\"\n",
    "print(a)"
   ]
  },
  {
   "cell_type": "code",
   "execution_count": 35,
   "id": "f71ff3ee-d4c4-49ba-9a67-a87e8544e2d7",
   "metadata": {},
   "outputs": [
    {
     "name": "stdout",
     "output_type": "stream",
     "text": [
      "Sanjay\n"
     ]
    }
   ],
   "source": [
    "print(b)"
   ]
  },
  {
   "cell_type": "code",
   "execution_count": 37,
   "id": "f31179b9-871a-48b6-8fe4-4c873d73a322",
   "metadata": {},
   "outputs": [
    {
     "name": "stdout",
     "output_type": "stream",
     "text": [
      "kumbhare\n"
     ]
    }
   ],
   "source": [
    "print(c)"
   ]
  },
  {
   "cell_type": "code",
   "execution_count": 39,
   "id": "1c65197a-ac83-4d86-a6ae-4335f42bcb64",
   "metadata": {},
   "outputs": [
    {
     "data": {
      "text/plain": [
       "1.1"
      ]
     },
     "execution_count": 39,
     "metadata": {},
     "output_type": "execute_result"
    }
   ],
   "source": [
    "a1, a2, a3 = 1.1,30,'abc'\n",
    "a1"
   ]
  },
  {
   "cell_type": "code",
   "execution_count": 41,
   "id": "016c7053-88df-48a9-a8bf-bcf66aa253fd",
   "metadata": {},
   "outputs": [
    {
     "data": {
      "text/plain": [
       "30"
      ]
     },
     "execution_count": 41,
     "metadata": {},
     "output_type": "execute_result"
    }
   ],
   "source": [
    "a2"
   ]
  },
  {
   "cell_type": "code",
   "execution_count": 43,
   "id": "a3093440-2ade-4a58-91f4-22861a050c00",
   "metadata": {},
   "outputs": [
    {
     "data": {
      "text/plain": [
       "'abc'"
      ]
     },
     "execution_count": 43,
     "metadata": {},
     "output_type": "execute_result"
    }
   ],
   "source": [
    "a3"
   ]
  },
  {
   "cell_type": "code",
   "execution_count": 50,
   "id": "e3221524-00f5-45c2-b60e-bf1280fbf352",
   "metadata": {},
   "outputs": [
    {
     "data": {
      "text/plain": [
       "1000"
      ]
     },
     "execution_count": 50,
     "metadata": {},
     "output_type": "execute_result"
    }
   ],
   "source": [
    "#Assign the same value to multiple variables at once :- \n",
    "x = y = z =1000\n",
    "x"
   ]
  },
  {
   "cell_type": "code",
   "execution_count": 52,
   "id": "6da5d11a-ea98-496b-bc69-4c145846ed9f",
   "metadata": {},
   "outputs": [
    {
     "data": {
      "text/plain": [
       "1000"
      ]
     },
     "execution_count": 52,
     "metadata": {},
     "output_type": "execute_result"
    }
   ],
   "source": [
    "y"
   ]
  },
  {
   "cell_type": "code",
   "execution_count": 54,
   "id": "4548dd24-24b1-46ad-960c-5428a23b93a8",
   "metadata": {},
   "outputs": [
    {
     "data": {
      "text/plain": [
       "1000"
      ]
     },
     "execution_count": 54,
     "metadata": {},
     "output_type": "execute_result"
    }
   ],
   "source": [
    "z"
   ]
  },
  {
   "cell_type": "code",
   "execution_count": 58,
   "id": "669d920e-66f4-48b7-ae13-206c84fa8fb2",
   "metadata": {},
   "outputs": [
    {
     "name": "stdout",
     "output_type": "stream",
     "text": [
      "1.1 and 30 and abc\n"
     ]
    }
   ],
   "source": [
    " print(a1,a2,a3, sep =\" and \")      #sepration "
   ]
  },
  {
   "cell_type": "code",
   "execution_count": null,
   "id": "17ad2046-4be7-4843-9efb-75c46bc7f75f",
   "metadata": {},
   "outputs": [],
   "source": [
    "#  data types\n",
    "# 1)number :- int, float, complex\n",
    "# 2) string\n",
    "# 3) List\n",
    "# 4) Tuple\n",
    "# 5)Set\n",
    "# 6) Dictionary"
   ]
  },
  {
   "cell_type": "code",
   "execution_count": null,
   "id": "8d0bcf47-ab4e-4786-acc1-bcefaf61bc94",
   "metadata": {},
   "outputs": [],
   "source": [
    "# 1] number ------>int, float, complex"
   ]
  },
  {
   "cell_type": "code",
   "execution_count": 60,
   "id": "64542fe8-8d01-4f17-80c2-62a05e28061e",
   "metadata": {},
   "outputs": [
    {
     "data": {
      "text/plain": [
       "int"
      ]
     },
     "execution_count": 60,
     "metadata": {},
     "output_type": "execute_result"
    }
   ],
   "source": [
    "a = 100\n",
    "type(a)"
   ]
  },
  {
   "cell_type": "code",
   "execution_count": 64,
   "id": "e0d1665a-a9b1-4f10-b896-68a87555e690",
   "metadata": {},
   "outputs": [
    {
     "data": {
      "text/plain": [
       "int"
      ]
     },
     "execution_count": 64,
     "metadata": {},
     "output_type": "execute_result"
    }
   ],
   "source": [
    "a1 = -2\n",
    "type(a1)"
   ]
  },
  {
   "cell_type": "code",
   "execution_count": 62,
   "id": "1650c8a5-11e0-4311-849f-41ffdfa3a4fc",
   "metadata": {},
   "outputs": [
    {
     "data": {
      "text/plain": [
       "float"
      ]
     },
     "execution_count": 62,
     "metadata": {},
     "output_type": "execute_result"
    }
   ],
   "source": [
    "b = 1.38478\n",
    "type(b)"
   ]
  },
  {
   "cell_type": "code",
   "execution_count": 66,
   "id": "86a7bae5-2b82-4cf7-bbc2-5542485b99a4",
   "metadata": {},
   "outputs": [
    {
     "data": {
      "text/plain": [
       "float"
      ]
     },
     "execution_count": 66,
     "metadata": {},
     "output_type": "execute_result"
    }
   ],
   "source": [
    "b1 = -3453.34\n",
    "type(b1)"
   ]
  },
  {
   "cell_type": "code",
   "execution_count": 68,
   "id": "4c464fb2-2263-4bb2-bb89-509c5550957b",
   "metadata": {},
   "outputs": [
    {
     "data": {
      "text/plain": [
       "complex"
      ]
     },
     "execution_count": 68,
     "metadata": {},
     "output_type": "execute_result"
    }
   ],
   "source": [
    "c = 3+2j \n",
    "type(c)"
   ]
  },
  {
   "cell_type": "code",
   "execution_count": 72,
   "id": "e3822db7-83e4-4387-8c4b-2fbcbb28cc3a",
   "metadata": {},
   "outputs": [
    {
     "data": {
      "text/plain": [
       "20"
      ]
     },
     "execution_count": 72,
     "metadata": {},
     "output_type": "execute_result"
    }
   ],
   "source": [
    "# python casting\n",
    "a = 20\n",
    "a"
   ]
  },
  {
   "cell_type": "code",
   "execution_count": 74,
   "id": "ac5cc14e-fe18-4f7c-920c-5280234d5f38",
   "metadata": {},
   "outputs": [
    {
     "data": {
      "text/plain": [
       "int"
      ]
     },
     "execution_count": 74,
     "metadata": {},
     "output_type": "execute_result"
    }
   ],
   "source": [
    "type(a)"
   ]
  },
  {
   "cell_type": "code",
   "execution_count": 76,
   "id": "85da4595-9ddb-4f1e-9efc-ec3e360ba8a9",
   "metadata": {},
   "outputs": [
    {
     "data": {
      "text/plain": [
       "str"
      ]
     },
     "execution_count": 76,
     "metadata": {},
     "output_type": "execute_result"
    }
   ],
   "source": [
    "b = '2'\n",
    "type(b)"
   ]
  },
  {
   "cell_type": "code",
   "execution_count": 78,
   "id": "dcf52e15-9444-41cb-830f-b320219f4b6c",
   "metadata": {},
   "outputs": [
    {
     "data": {
      "text/plain": [
       "int"
      ]
     },
     "execution_count": 78,
     "metadata": {},
     "output_type": "execute_result"
    }
   ],
   "source": [
    "type(int(b))"
   ]
  },
  {
   "cell_type": "code",
   "execution_count": 90,
   "id": "3de5ac89-6304-46f2-b7e0-5514475e6ea4",
   "metadata": {},
   "outputs": [
    {
     "name": "stdout",
     "output_type": "stream",
     "text": [
      "23\n"
     ]
    }
   ],
   "source": [
    "c = \"3\"\n",
    "d = b + c        // 2 3\n",
    "print(d)"
   ]
  },
  {
   "cell_type": "code",
   "execution_count": 97,
   "id": "388c6e43-13ff-4157-8553-1d16e7308817",
   "metadata": {},
   "outputs": [
    {
     "data": {
      "text/plain": [
       "5"
      ]
     },
     "execution_count": 97,
     "metadata": {},
     "output_type": "execute_result"
    }
   ],
   "source": [
    " int(b) + int(c)    //2+3"
   ]
  },
  {
   "cell_type": "code",
   "execution_count": 105,
   "id": "d8112742-379c-4ff6-b1ae-7972a62683b1",
   "metadata": {},
   "outputs": [
    {
     "name": "stdout",
     "output_type": "stream",
     "text": [
      "riya\n",
      "patel\n",
      "pinki\n",
      "riyapatel\n"
     ]
    }
   ],
   "source": [
    "# single inheritance\n",
    "class person:\n",
    "    def __init__(self,fn,ln):\n",
    "        self.fname = fn\n",
    "        self.lname = ln\n",
    "    def display(self):\n",
    "        print(self.fname + self.lname)\n",
    "\n",
    "class person2(person):\n",
    "    def __init__(self,fn,ln,pf):\n",
    "        super().__init__(fn,ln)\n",
    "        self.pfname = pf\n",
    "a1 = person2('riya','patel','pinki')\n",
    "print(a1.fname)\n",
    "print(a1.lname)\n",
    "print(a1.pfname)\n",
    "a1.display()"
   ]
  },
  {
   "cell_type": "code",
   "execution_count": null,
   "id": "0073591a-ad9d-40e8-af99-0799f4b263b8",
   "metadata": {},
   "outputs": [],
   "source": []
  }
 ],
 "metadata": {
  "kernelspec": {
   "display_name": "Python 3 (ipykernel)",
   "language": "python",
   "name": "python3"
  },
  "language_info": {
   "codemirror_mode": {
    "name": "ipython",
    "version": 3
   },
   "file_extension": ".py",
   "mimetype": "text/x-python",
   "name": "python",
   "nbconvert_exporter": "python",
   "pygments_lexer": "ipython3",
   "version": "3.12.4"
  }
 },
 "nbformat": 4,
 "nbformat_minor": 5
}
