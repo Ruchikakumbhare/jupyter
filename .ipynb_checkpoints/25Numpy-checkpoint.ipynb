{
 "cells": [
  {
   "cell_type": "code",
   "execution_count": null,
   "id": "15c7503c-b565-4c8e-ac1b-17991a3f880e",
   "metadata": {},
   "outputs": [],
   "source": [
    "NumPy is a Python package for scientific computing, particularly for numerical operations on large arrays and matrices."
   ]
  },
  {
   "cell_type": "code",
   "execution_count": null,
   "id": "f1d3d9d7-53a2-4348-aed1-55fa2a371b66",
   "metadata": {},
   "outputs": [],
   "source": [
    "# pip install numpy # For installation\n",
    "# Syntax : pip install <package_name>  ==>used to install a package from the Python Package Index (PyPI) or other package repositories.\n",
    "# pip: package manager for Python that allows users to install and manage software packages written in Python."
   ]
  },
  {
   "cell_type": "code",
   "execution_count": 5,
   "id": "4e85a4d4-4577-41c9-acd6-95364c8a1da7",
   "metadata": {},
   "outputs": [],
   "source": [
    "import numpy as np"
   ]
  },
  {
   "cell_type": "code",
   "execution_count": 5,
   "id": "3c351fd9-9d4d-44b5-8341-5bd16ecd40bb",
   "metadata": {},
   "outputs": [
    {
     "data": {
      "text/plain": [
       "array([1, 2, 3, 4])"
      ]
     },
     "execution_count": 5,
     "metadata": {},
     "output_type": "execute_result"
    }
   ],
   "source": [
    "np.array([1,2,3,4])"
   ]
  },
  {
   "cell_type": "code",
   "execution_count": 11,
   "id": "303ff894-11ad-4642-a73d-39b2ab93d008",
   "metadata": {},
   "outputs": [
    {
     "name": "stdout",
     "output_type": "stream",
     "text": [
      "[12 23  4 56  5]\n",
      "<class 'numpy.ndarray'>\n",
      "5\n"
     ]
    }
   ],
   "source": [
    "# Create a 1D array\n",
    "a=np.array([12,23,4,56,5])\n",
    "print(a)\n",
    "print(type(a))\n",
    "print(len(a))"
   ]
  },
  {
   "cell_type": "code",
   "execution_count": 17,
   "id": "ea37c75b-e6ac-4ddf-b337-97f5d86326e5",
   "metadata": {},
   "outputs": [
    {
     "name": "stdout",
     "output_type": "stream",
     "text": [
      "[13 24  5 57  6]\n"
     ]
    }
   ],
   "source": [
    "print(a + 1)"
   ]
  },
  {
   "cell_type": "code",
   "execution_count": 19,
   "id": "79cd4cac-adf7-4478-8334-4adee2fc377a",
   "metadata": {},
   "outputs": [
    {
     "data": {
      "text/plain": [
       "array([ 24,  46,   8, 112,  10])"
      ]
     },
     "execution_count": 19,
     "metadata": {},
     "output_type": "execute_result"
    }
   ],
   "source": [
    "a * 2"
   ]
  },
  {
   "cell_type": "code",
   "execution_count": 21,
   "id": "d553a559-b634-45dc-bee3-ed15a3cbe45a",
   "metadata": {},
   "outputs": [
    {
     "data": {
      "text/plain": [
       "array([ 6. , 11.5,  2. , 28. ,  2.5])"
      ]
     },
     "execution_count": 21,
     "metadata": {},
     "output_type": "execute_result"
    }
   ],
   "source": [
    "a / 2"
   ]
  },
  {
   "cell_type": "code",
   "execution_count": null,
   "id": "dd21d68e-bbbb-40ef-a481-299300b7d039",
   "metadata": {},
   "outputs": [],
   "source": [
    "# numpy allowed any operation but list not allowed"
   ]
  },
  {
   "cell_type": "code",
   "execution_count": 23,
   "id": "7968e89d-a20d-4eea-abf7-e6e1c099b16f",
   "metadata": {},
   "outputs": [],
   "source": [
    "l = [1,2,3]"
   ]
  },
  {
   "cell_type": "code",
   "execution_count": 27,
   "id": "337b091c-7d94-4d05-9083-230f9970a624",
   "metadata": {},
   "outputs": [
    {
     "name": "stdout",
     "output_type": "stream",
     "text": [
      "[1, 2, 3]\n"
     ]
    },
    {
     "ename": "TypeError",
     "evalue": "can only concatenate list (not \"int\") to list",
     "output_type": "error",
     "traceback": [
      "\u001b[1;31m---------------------------------------------------------------------------\u001b[0m",
      "\u001b[1;31mTypeError\u001b[0m                                 Traceback (most recent call last)",
      "Cell \u001b[1;32mIn[27], line 2\u001b[0m\n\u001b[0;32m      1\u001b[0m \u001b[38;5;28mprint\u001b[39m(l)\n\u001b[1;32m----> 2\u001b[0m l \u001b[38;5;241m+\u001b[39m\u001b[38;5;241m1\u001b[39m\n",
      "\u001b[1;31mTypeError\u001b[0m: can only concatenate list (not \"int\") to list"
     ]
    }
   ],
   "source": [
    "print(l)\n",
    "l +1\n"
   ]
  },
  {
   "cell_type": "code",
   "execution_count": 29,
   "id": "6b01a8ab-25e4-42f4-ad3e-ec77db4b2e2f",
   "metadata": {},
   "outputs": [
    {
     "data": {
      "text/plain": [
       "[1, 2, 3, 1, 2, 3]"
      ]
     },
     "execution_count": 29,
     "metadata": {},
     "output_type": "execute_result"
    }
   ],
   "source": [
    "l* 2"
   ]
  },
  {
   "cell_type": "code",
   "execution_count": null,
   "id": "27d7ccdb-811d-4182-82b5-fccc7f9586ea",
   "metadata": {},
   "outputs": [],
   "source": [
    "#element-wise operations with lists require a bunch of code"
   ]
  },
  {
   "cell_type": "code",
   "execution_count": 37,
   "id": "29ab6bb9-4abf-4068-af82-4b40c89417e0",
   "metadata": {},
   "outputs": [
    {
     "name": "stdout",
     "output_type": "stream",
     "text": [
      "[14 25  6 58  7]\n",
      "[14 25  6 58  7]\n",
      "[14 25  6 58  7]\n",
      "[14 25  6 58  7]\n",
      "[14 25  6 58  7]\n"
     ]
    }
   ],
   "source": [
    "for x in a:\n",
    "    print(a+2)"
   ]
  },
  {
   "cell_type": "code",
   "execution_count": 39,
   "id": "35bd63c4-6deb-4772-a40c-8305f91a4805",
   "metadata": {},
   "outputs": [
    {
     "data": {
      "text/plain": [
       "array([ 7, 18, -1, 51,  0])"
      ]
     },
     "execution_count": 39,
     "metadata": {},
     "output_type": "execute_result"
    }
   ],
   "source": [
    "a=np.array([12,23,4,56,5])\n",
    "a-5"
   ]
  },
  {
   "cell_type": "code",
   "execution_count": 41,
   "id": "492a82ba-ddd1-4faa-939f-c66938c93de1",
   "metadata": {},
   "outputs": [
    {
     "data": {
      "text/plain": [
       "array([12, 23,  4, 56,  5])"
      ]
     },
     "execution_count": 41,
     "metadata": {},
     "output_type": "execute_result"
    }
   ],
   "source": [
    "a"
   ]
  },
  {
   "cell_type": "code",
   "execution_count": 43,
   "id": "768915f9-626c-4c33-b3be-c2b37758c659",
   "metadata": {},
   "outputs": [
    {
     "data": {
      "text/plain": [
       "array([1.2, 2.3, 0.4, 5.6, 0.5])"
      ]
     },
     "execution_count": 43,
     "metadata": {},
     "output_type": "execute_result"
    }
   ],
   "source": [
    "a*0.1"
   ]
  },
  {
   "cell_type": "code",
   "execution_count": null,
   "id": "40fd9582-4e85-4208-99b2-741ac4125bbd",
   "metadata": {},
   "outputs": [],
   "source": [
    "# we cannot apply mathematical operators directly on lists\n",
    "# we can apply mathematical operators directly on Array\n",
    "\n",
    "# List store elements of different data type\n",
    "# Array store elements of same data type (homogeneous)\n",
    "\n",
    "# NumPy operations are faster than standard Python lists."
   ]
  },
  {
   "cell_type": "code",
   "execution_count": 45,
   "id": "b0a4aa48-6af0-4558-873e-ff4f3808c847",
   "metadata": {},
   "outputs": [
    {
     "data": {
      "text/plain": [
       "[1, 2, 3, 'a']"
      ]
     },
     "execution_count": 45,
     "metadata": {},
     "output_type": "execute_result"
    }
   ],
   "source": [
    "x = [1,2,3,'a']\n",
    "x"
   ]
  },
  {
   "cell_type": "code",
   "execution_count": 53,
   "id": "97357da3-ac4f-4929-812a-fd23ef6d8576",
   "metadata": {},
   "outputs": [
    {
     "name": "stdout",
     "output_type": "stream",
     "text": [
      "['1' '2' '3' 'a']\n"
     ]
    }
   ],
   "source": [
    "y=np.array([1,2,3,'a'])\n",
    "print(y)"
   ]
  },
  {
   "cell_type": "code",
   "execution_count": 59,
   "id": "fb3b8b55-a40b-41b7-a483-dd587b029185",
   "metadata": {},
   "outputs": [
    {
     "data": {
      "text/plain": [
       "array(['1', '2', '3', 'a'], dtype='<U11')"
      ]
     },
     "execution_count": 59,
     "metadata": {},
     "output_type": "execute_result"
    }
   ],
   "source": [
    "np.array(y,dtype = str)"
   ]
  },
  {
   "cell_type": "code",
   "execution_count": 61,
   "id": "bc384efb-72bd-4071-8f14-1cc50d13ecad",
   "metadata": {},
   "outputs": [],
   "source": [
    "a = [2,3,4,5,6,7,8,9]"
   ]
  },
  {
   "cell_type": "code",
   "execution_count": 63,
   "id": "38c6e519-6598-4a78-9d68-50b85ae50891",
   "metadata": {},
   "outputs": [
    {
     "data": {
      "text/plain": [
       "5"
      ]
     },
     "execution_count": 63,
     "metadata": {},
     "output_type": "execute_result"
    }
   ],
   "source": [
    "a[3]"
   ]
  },
  {
   "cell_type": "code",
   "execution_count": 65,
   "id": "56b957c0-d793-408b-a84f-0d1d85e71398",
   "metadata": {},
   "outputs": [
    {
     "data": {
      "text/plain": [
       "[9, 8, 7, 6, 5, 4, 3, 2]"
      ]
     },
     "execution_count": 65,
     "metadata": {},
     "output_type": "execute_result"
    }
   ],
   "source": [
    "a[::-1]"
   ]
  },
  {
   "cell_type": "code",
   "execution_count": 67,
   "id": "e2cef1b9-3dcd-4446-bcc2-be2b8b08f3b5",
   "metadata": {},
   "outputs": [
    {
     "data": {
      "text/plain": [
       "[6, 7]"
      ]
     },
     "execution_count": 67,
     "metadata": {},
     "output_type": "execute_result"
    }
   ],
   "source": [
    "a[4:6]"
   ]
  },
  {
   "cell_type": "code",
   "execution_count": null,
   "id": "79043aa7-3e4e-4285-b33a-1f4b5346b32d",
   "metadata": {},
   "outputs": [],
   "source": [
    "# dttype"
   ]
  },
  {
   "cell_type": "code",
   "execution_count": 9,
   "id": "0decacca-449a-4eb8-8526-5a17d6a4eecb",
   "metadata": {},
   "outputs": [
    {
     "name": "stdout",
     "output_type": "stream",
     "text": [
      "['2' '3' '4' '5' '6' '12']\n"
     ]
    }
   ],
   "source": [
    "a=np.array([2,3,4,5,6,'12'])\n",
    "print(a)"
   ]
  },
  {
   "cell_type": "code",
   "execution_count": 15,
   "id": "a2fd1378-be43-462b-9178-083ecaddac8e",
   "metadata": {},
   "outputs": [
    {
     "data": {
      "text/plain": [
       "array([ 2,  3,  4,  5,  6, 12])"
      ]
     },
     "execution_count": 15,
     "metadata": {},
     "output_type": "execute_result"
    }
   ],
   "source": [
    "np.array(a,dtype=int)"
   ]
  },
  {
   "cell_type": "code",
   "execution_count": 17,
   "id": "8cb64662-7b49-45fb-80a2-8bc30865c66e",
   "metadata": {},
   "outputs": [
    {
     "data": {
      "text/plain": [
       "array([ 2.,  3.,  4.,  5.,  6., 12.])"
      ]
     },
     "execution_count": 17,
     "metadata": {},
     "output_type": "execute_result"
    }
   ],
   "source": [
    "np.array(a,dtype = float)"
   ]
  },
  {
   "cell_type": "code",
   "execution_count": 19,
   "id": "40bcebde-50f2-48ef-8251-73de38d0b49d",
   "metadata": {},
   "outputs": [
    {
     "data": {
      "text/plain": [
       "array(['2', '3', '4', '5', '6', '12'], dtype='<U11')"
      ]
     },
     "execution_count": 19,
     "metadata": {},
     "output_type": "execute_result"
    }
   ],
   "source": [
    "np.array(a,dtype = str)"
   ]
  },
  {
   "cell_type": "code",
   "execution_count": null,
   "id": "6117a3cf-3408-409c-b8f3-780693f2c362",
   "metadata": {},
   "outputs": [],
   "source": []
  },
  {
   "cell_type": "code",
   "execution_count": 25,
   "id": "e13359cb-d989-4bb8-b37e-bc2d7b0a65ab",
   "metadata": {},
   "outputs": [
    {
     "name": "stdout",
     "output_type": "stream",
     "text": [
      "[10 22 34  5  6 85  2  3  5  6]\n",
      "10\n",
      "<class 'numpy.ndarray'>\n"
     ]
    }
   ],
   "source": [
    "b=np.array([10,22,34,5,6,85,2,3,5,6])\n",
    "print(b)\n",
    "print(len(b))\n",
    "print(type(b))"
   ]
  },
  {
   "cell_type": "code",
   "execution_count": 27,
   "id": "53fcb623-0357-473a-9309-09dff0dca005",
   "metadata": {},
   "outputs": [
    {
     "data": {
      "text/plain": [
       "10"
      ]
     },
     "execution_count": 27,
     "metadata": {},
     "output_type": "execute_result"
    }
   ],
   "source": [
    "b[0]"
   ]
  },
  {
   "cell_type": "code",
   "execution_count": 31,
   "id": "14764704-0227-465b-b264-ae158bc91554",
   "metadata": {},
   "outputs": [
    {
     "data": {
      "text/plain": [
       "array([10, 22, 34,  5,  6, 85])"
      ]
     },
     "execution_count": 31,
     "metadata": {},
     "output_type": "execute_result"
    }
   ],
   "source": [
    "b[0:6]"
   ]
  },
  {
   "cell_type": "code",
   "execution_count": 33,
   "id": "02c9d2e8-597f-421f-9d68-08d626f959f6",
   "metadata": {},
   "outputs": [
    {
     "data": {
      "text/plain": [
       "6"
      ]
     },
     "execution_count": 33,
     "metadata": {},
     "output_type": "execute_result"
    }
   ],
   "source": [
    "b[-1]"
   ]
  },
  {
   "cell_type": "code",
   "execution_count": 35,
   "id": "e7b522f4-6626-48bb-a238-f0209460e8cb",
   "metadata": {},
   "outputs": [
    {
     "data": {
      "text/plain": [
       "array([10, 22, 34,  5,  6, 85,  2,  3,  5,  6])"
      ]
     },
     "execution_count": 35,
     "metadata": {},
     "output_type": "execute_result"
    }
   ],
   "source": [
    "b[::]"
   ]
  },
  {
   "cell_type": "code",
   "execution_count": 37,
   "id": "2773faa8-d8bd-484c-afec-3a1a6ba88851",
   "metadata": {},
   "outputs": [
    {
     "data": {
      "text/plain": [
       "array([ 6,  5,  3,  2, 85,  6,  5, 34, 22, 10])"
      ]
     },
     "execution_count": 37,
     "metadata": {},
     "output_type": "execute_result"
    }
   ],
   "source": [
    "b[::-1]"
   ]
  },
  {
   "cell_type": "code",
   "execution_count": 39,
   "id": "32865ae8-a276-42c8-b6a6-7a69aa840f9f",
   "metadata": {},
   "outputs": [
    {
     "data": {
      "text/plain": [
       "array([10, 34,  6,  2,  5])"
      ]
     },
     "execution_count": 39,
     "metadata": {},
     "output_type": "execute_result"
    }
   ],
   "source": [
    "b[::2]        ##every second element, starting from first element (1 element chodkar)"
   ]
  },
  {
   "cell_type": "code",
   "execution_count": 41,
   "id": "a0a5594a-6055-4ece-81f4-e0fc6d2bcf59",
   "metadata": {},
   "outputs": [
    {
     "data": {
      "text/plain": [
       "array([5, 3])"
      ]
     },
     "execution_count": 41,
     "metadata": {},
     "output_type": "execute_result"
    }
   ],
   "source": [
    "b[3::4]"
   ]
  },
  {
   "cell_type": "code",
   "execution_count": 43,
   "id": "7356a911-0e93-4c29-8b4a-b9ce506024ce",
   "metadata": {},
   "outputs": [],
   "source": [
    "b[1] = 200"
   ]
  },
  {
   "cell_type": "code",
   "execution_count": 45,
   "id": "ead3f738-b7da-43ae-8917-ab4c26e7eb56",
   "metadata": {},
   "outputs": [
    {
     "name": "stdout",
     "output_type": "stream",
     "text": [
      "[ 10 200  34   5   6  85   2   3   5   6]\n"
     ]
    }
   ],
   "source": [
    "print(b)   #updated values 200"
   ]
  },
  {
   "cell_type": "code",
   "execution_count": 47,
   "id": "10017ca5-575a-49c7-bdea-8d07731b0855",
   "metadata": {},
   "outputs": [
    {
     "name": "stdout",
     "output_type": "stream",
     "text": [
      "[  10  200   34    5    6   85    2    3    5 1000]\n"
     ]
    }
   ],
   "source": [
    "b[-1] = 1000\n",
    "print(b)"
   ]
  },
  {
   "cell_type": "code",
   "execution_count": null,
   "id": "c2433632-77ff-448a-b4f5-0a720e6a1bf9",
   "metadata": {},
   "outputs": [],
   "source": [
    "b=np.array([10,22,34,5,6,85,2,3,5,6])"
   ]
  },
  {
   "cell_type": "code",
   "execution_count": 51,
   "id": "a4333d65-60c9-4840-a99a-fa952dd379f3",
   "metadata": {},
   "outputs": [
    {
     "data": {
      "text/plain": [
       "array([5, 3, 2])"
      ]
     },
     "execution_count": 51,
     "metadata": {},
     "output_type": "execute_result"
    }
   ],
   "source": [
    "b[-2:-5:-1]"
   ]
  },
  {
   "cell_type": "code",
   "execution_count": null,
   "id": "58bd2ebd-8084-49af-9fbc-db3a034a1504",
   "metadata": {},
   "outputs": [],
   "source": [
    "# same as lists, ndarrays store multiple elements (is iterable) "
   ]
  },
  {
   "cell_type": "code",
   "execution_count": 55,
   "id": "9d562808-68f4-492c-8366-4b4e14d78a09",
   "metadata": {},
   "outputs": [
    {
     "name": "stdout",
     "output_type": "stream",
     "text": [
      "10\n",
      "200\n",
      "34\n",
      "5\n",
      "6\n",
      "85\n",
      "2\n",
      "3\n",
      "5\n",
      "1000\n"
     ]
    }
   ],
   "source": [
    "#arrays is iterable\n",
    "for i in b: \n",
    "    print(i)"
   ]
  },
  {
   "cell_type": "code",
   "execution_count": null,
   "id": "830e7fef-fb7c-48ed-bec6-d70e03017eec",
   "metadata": {},
   "outputs": [],
   "source": []
  },
  {
   "cell_type": "code",
   "execution_count": 65,
   "id": "88fe6797-593b-47a2-b13c-74159667bf11",
   "metadata": {},
   "outputs": [
    {
     "name": "stdout",
     "output_type": "stream",
     "text": [
      "[  10  200   34    5    6   85    2    3    5 1000]\n"
     ]
    },
    {
     "data": {
      "text/plain": [
       "10"
      ]
     },
     "execution_count": 65,
     "metadata": {},
     "output_type": "execute_result"
    }
   ],
   "source": [
    "print(b)\n",
    "len(b)"
   ]
  },
  {
   "cell_type": "code",
   "execution_count": 67,
   "id": "47663c65-7747-4134-ac63-7cec9d4ebc0a",
   "metadata": {},
   "outputs": [
    {
     "data": {
      "text/plain": [
       "dtype('int32')"
      ]
     },
     "execution_count": 67,
     "metadata": {},
     "output_type": "execute_result"
    }
   ],
   "source": [
    "b.dtype #data type of array element (int,float,complex,bool,string,object)"
   ]
  },
  {
   "cell_type": "code",
   "execution_count": 69,
   "id": "0d96584e-beb2-4990-ba8d-edf06a1774bb",
   "metadata": {},
   "outputs": [
    {
     "data": {
      "text/plain": [
       "array(['10', '200', '34', '5', '6', '85', '2', '3', '5', '1000'],\n",
       "      dtype='<U11')"
      ]
     },
     "execution_count": 69,
     "metadata": {},
     "output_type": "execute_result"
    }
   ],
   "source": [
    "np.array(b,dtype = str)"
   ]
  },
  {
   "cell_type": "code",
   "execution_count": null,
   "id": "a58b8b5c-47ac-4d5a-8b70-dd2cf4a7082a",
   "metadata": {},
   "outputs": [],
   "source": [
    "# astype\n",
    "# Array.astype(datatype)"
   ]
  },
  {
   "cell_type": "code",
   "execution_count": 71,
   "id": "236e6bbf-d0f3-4d20-898a-a28104bfd8d0",
   "metadata": {},
   "outputs": [
    {
     "data": {
      "text/plain": [
       "array([  10,  200,   34,    5,    6,   85,    2,    3,    5, 1000])"
      ]
     },
     "execution_count": 71,
     "metadata": {},
     "output_type": "execute_result"
    }
   ],
   "source": [
    "b.astype(int)"
   ]
  },
  {
   "cell_type": "code",
   "execution_count": 73,
   "id": "4673f9c9-301e-481f-a6d8-b5653fe6b80f",
   "metadata": {},
   "outputs": [
    {
     "data": {
      "text/plain": [
       "array([  10.,  200.,   34.,    5.,    6.,   85.,    2.,    3.,    5.,\n",
       "       1000.])"
      ]
     },
     "execution_count": 73,
     "metadata": {},
     "output_type": "execute_result"
    }
   ],
   "source": [
    "b.astype(float)"
   ]
  },
  {
   "cell_type": "code",
   "execution_count": 75,
   "id": "eee3c851-ecc3-44a2-9d00-04496b2d1180",
   "metadata": {},
   "outputs": [
    {
     "data": {
      "text/plain": [
       "array(['10', '200', '34', '5', '6', '85', '2', '3', '5', '1000'],\n",
       "      dtype='<U11')"
      ]
     },
     "execution_count": 75,
     "metadata": {},
     "output_type": "execute_result"
    }
   ],
   "source": [
    "b.astype(str)"
   ]
  },
  {
   "cell_type": "code",
   "execution_count": 77,
   "id": "0ff47847-8697-4f40-afdc-b411108631d3",
   "metadata": {},
   "outputs": [
    {
     "data": {
      "text/plain": [
       "array([  10.+0.j,  200.+0.j,   34.+0.j,    5.+0.j,    6.+0.j,   85.+0.j,\n",
       "          2.+0.j,    3.+0.j,    5.+0.j, 1000.+0.j])"
      ]
     },
     "execution_count": 77,
     "metadata": {},
     "output_type": "execute_result"
    }
   ],
   "source": [
    "b.astype(complex)"
   ]
  },
  {
   "cell_type": "code",
   "execution_count": 79,
   "id": "c2f6075b-b3d7-4e6f-b504-a81221207b9c",
   "metadata": {},
   "outputs": [
    {
     "data": {
      "text/plain": [
       "array([ True,  True,  True,  True,  True,  True,  True,  True,  True,\n",
       "        True])"
      ]
     },
     "execution_count": 79,
     "metadata": {},
     "output_type": "execute_result"
    }
   ],
   "source": [
    "b.astype(bool)"
   ]
  },
  {
   "cell_type": "code",
   "execution_count": null,
   "id": "14d61419-6738-4677-afed-6305e10653b5",
   "metadata": {},
   "outputs": [],
   "source": []
  }
 ],
 "metadata": {
  "kernelspec": {
   "display_name": "Python 3 (ipykernel)",
   "language": "python",
   "name": "python3"
  },
  "language_info": {
   "codemirror_mode": {
    "name": "ipython",
    "version": 3
   },
   "file_extension": ".py",
   "mimetype": "text/x-python",
   "name": "python",
   "nbconvert_exporter": "python",
   "pygments_lexer": "ipython3",
   "version": "3.12.4"
  }
 },
 "nbformat": 4,
 "nbformat_minor": 5
}
