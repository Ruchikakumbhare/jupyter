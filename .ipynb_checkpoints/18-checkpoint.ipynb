{
 "cells": [
  {
   "cell_type": "code",
   "execution_count": null,
   "id": "b667305f-ed00-45d6-b05e-319a97985174",
   "metadata": {},
   "outputs": [],
   "source": [
    "# HOW TO CREATE A DICTIONARY"
   ]
  },
  {
   "cell_type": "code",
   "execution_count": 1,
   "id": "b2665c33-eff7-4f33-ae0b-915cc6a815d4",
   "metadata": {},
   "outputs": [],
   "source": [
    "basic_dic = {'name' : 'ruchika' , 'age' : 22}"
   ]
  },
  {
   "cell_type": "code",
   "execution_count": 4,
   "id": "801e96e2-2dc2-4729-b053-18f5b9cb679e",
   "metadata": {},
   "outputs": [
    {
     "data": {
      "text/plain": [
       "{'name': 'ruchika', 'age': 22}"
      ]
     },
     "execution_count": 4,
     "metadata": {},
     "output_type": "execute_result"
    }
   ],
   "source": [
    "basic_dic\n"
   ]
  },
  {
   "cell_type": "code",
   "execution_count": 5,
   "id": "67127064-6f99-4f36-aa4e-25339331cb0c",
   "metadata": {},
   "outputs": [
    {
     "data": {
      "text/plain": [
       "dict"
      ]
     },
     "execution_count": 5,
     "metadata": {},
     "output_type": "execute_result"
    }
   ],
   "source": [
    "type(basic_dic)"
   ]
  },
  {
   "cell_type": "code",
   "execution_count": null,
   "id": "50013c79-c40c-4a5b-96e5-ff670feeef5f",
   "metadata": {},
   "outputs": [],
   "source": [
    "# By using variable"
   ]
  },
  {
   "cell_type": "code",
   "execution_count": 6,
   "id": "911a1622-d41d-4c08-93e9-831856460401",
   "metadata": {},
   "outputs": [],
   "source": [
    "dic_var = dict(name  = 'ruchika' , age = 22)"
   ]
  },
  {
   "cell_type": "code",
   "execution_count": 7,
   "id": "23fc78fa-603a-47d0-9b61-72ead034826d",
   "metadata": {},
   "outputs": [
    {
     "data": {
      "text/plain": [
       "{'name': 'ruchika', 'age': 22}"
      ]
     },
     "execution_count": 7,
     "metadata": {},
     "output_type": "execute_result"
    }
   ],
   "source": [
    "dic_var"
   ]
  },
  {
   "cell_type": "code",
   "execution_count": 8,
   "id": "181c8f33-5796-4717-b579-55f8a2c83591",
   "metadata": {},
   "outputs": [
    {
     "data": {
      "text/plain": [
       "dict"
      ]
     },
     "execution_count": 8,
     "metadata": {},
     "output_type": "execute_result"
    }
   ],
   "source": [
    "type(dic_var)"
   ]
  },
  {
   "cell_type": "code",
   "execution_count": 9,
   "id": "d6488275-2f57-48b7-a25a-037333b066a2",
   "metadata": {},
   "outputs": [
    {
     "data": {
      "text/plain": [
       "dict_items([('name', 'ruchika'), ('age', 22)])"
      ]
     },
     "execution_count": 9,
     "metadata": {},
     "output_type": "execute_result"
    }
   ],
   "source": [
    "dic_var.items()"
   ]
  },
  {
   "cell_type": "code",
   "execution_count": null,
   "id": "393f380e-5ae4-4ba6-86e3-292596bbe5e9",
   "metadata": {},
   "outputs": [],
   "source": [
    "# By using tuple"
   ]
  },
  {
   "cell_type": "code",
   "execution_count": 10,
   "id": "44ec8872-3bf4-4561-aa5d-39490815f3e5",
   "metadata": {},
   "outputs": [],
   "source": [
    "dic_tup = dict([('name' ,'ruchi' ),('age' , 22)])"
   ]
  },
  {
   "cell_type": "code",
   "execution_count": 11,
   "id": "b9902677-8f5e-4b02-b5be-32f7cd6311ae",
   "metadata": {},
   "outputs": [
    {
     "data": {
      "text/plain": [
       "{'name': 'ruchi', 'age': 22}"
      ]
     },
     "execution_count": 11,
     "metadata": {},
     "output_type": "execute_result"
    }
   ],
   "source": [
    "dic_tup"
   ]
  },
  {
   "cell_type": "code",
   "execution_count": 12,
   "id": "36ee1d05-c894-45b3-9ccd-0e2859a8d8b5",
   "metadata": {},
   "outputs": [
    {
     "data": {
      "text/plain": [
       "dict"
      ]
     },
     "execution_count": 12,
     "metadata": {},
     "output_type": "execute_result"
    }
   ],
   "source": [
    "type(dic_tup)"
   ]
  },
  {
   "cell_type": "code",
   "execution_count": null,
   "id": "fec8f333-f5a3-4cf2-9c6a-b89c6654085c",
   "metadata": {},
   "outputs": [],
   "source": [
    "# By using two list"
   ]
  },
  {
   "cell_type": "code",
   "execution_count": 13,
   "id": "0fc5b3c3-99a4-4848-bb78-b536f459715f",
   "metadata": {},
   "outputs": [],
   "source": [
    "list_k = [1,2,3,4]\n",
    "list_v = ['one','two','three']"
   ]
  },
  {
   "cell_type": "code",
   "execution_count": 16,
   "id": "d6ac0f11-6bf6-43e7-a74d-a8cdd379ce24",
   "metadata": {},
   "outputs": [
    {
     "data": {
      "text/plain": [
       "[1, 2, 3, 4]"
      ]
     },
     "execution_count": 16,
     "metadata": {},
     "output_type": "execute_result"
    }
   ],
   "source": [
    "list_k\n"
   ]
  },
  {
   "cell_type": "code",
   "execution_count": 15,
   "id": "6dac3c7a-b40e-4d2a-a1ca-b44713763bcf",
   "metadata": {},
   "outputs": [
    {
     "data": {
      "text/plain": [
       "['one', 'two', 'three']"
      ]
     },
     "execution_count": 15,
     "metadata": {},
     "output_type": "execute_result"
    }
   ],
   "source": [
    "list_v "
   ]
  },
  {
   "cell_type": "code",
   "execution_count": 17,
   "id": "073966c5-acdc-4fd0-af7a-d102a5fc642d",
   "metadata": {},
   "outputs": [
    {
     "data": {
      "text/plain": [
       "<zip at 0x15727e7e7c0>"
      ]
     },
     "execution_count": 17,
     "metadata": {},
     "output_type": "execute_result"
    }
   ],
   "source": [
    "zip(list_k,list_v)"
   ]
  },
  {
   "cell_type": "code",
   "execution_count": 18,
   "id": "e1d1b706-f223-4afa-ae31-ac50d8d9c49e",
   "metadata": {},
   "outputs": [
    {
     "data": {
      "text/plain": [
       "zip"
      ]
     },
     "execution_count": 18,
     "metadata": {},
     "output_type": "execute_result"
    }
   ],
   "source": [
    "type(zip(list_k,list_v))"
   ]
  },
  {
   "cell_type": "code",
   "execution_count": 19,
   "id": "7292f20d-2afa-499a-8cc5-fc8bc4223b5c",
   "metadata": {},
   "outputs": [
    {
     "data": {
      "text/plain": [
       "{1: 'one', 2: 'two', 3: 'three'}"
      ]
     },
     "execution_count": 19,
     "metadata": {},
     "output_type": "execute_result"
    }
   ],
   "source": [
    "dict(zip(list_k,list_v))"
   ]
  },
  {
   "cell_type": "code",
   "execution_count": 20,
   "id": "3fa4de67-319d-4661-940b-c72ed7efa2c3",
   "metadata": {},
   "outputs": [
    {
     "data": {
      "text/plain": [
       "((1, 'one'), (2, 'two'), (3, 'three'))"
      ]
     },
     "execution_count": 20,
     "metadata": {},
     "output_type": "execute_result"
    }
   ],
   "source": [
    "tuple(zip(list_k,list_v))"
   ]
  },
  {
   "cell_type": "code",
   "execution_count": 21,
   "id": "1aa9e823-75fc-45be-b5f9-45011ac918ce",
   "metadata": {},
   "outputs": [
    {
     "data": {
      "text/plain": [
       "{(1, 'one'), (2, 'two'), (3, 'three')}"
      ]
     },
     "execution_count": 21,
     "metadata": {},
     "output_type": "execute_result"
    }
   ],
   "source": [
    "set(zip(list_k,list_v))"
   ]
  },
  {
   "cell_type": "code",
   "execution_count": 27,
   "id": "019e7528-4d37-4c58-baaf-6a8698bc43d2",
   "metadata": {},
   "outputs": [
    {
     "data": {
      "text/plain": [
       "[(1, 'one'), (2, 'two'), (3, 'three')]"
      ]
     },
     "execution_count": 27,
     "metadata": {},
     "output_type": "execute_result"
    }
   ],
   "source": [
    "list(zip(list_k,list_v))"
   ]
  },
  {
   "cell_type": "code",
   "execution_count": 25,
   "id": "c194e033-837f-4528-b30c-45dfa6a2031c",
   "metadata": {},
   "outputs": [],
   "source": [
    "x = zip(list_k,list_v)"
   ]
  },
  {
   "cell_type": "code",
   "execution_count": 26,
   "id": "e6e5a745-d048-40c0-a9c2-d665b7aefbfa",
   "metadata": {},
   "outputs": [
    {
     "name": "stdout",
     "output_type": "stream",
     "text": [
      "(1, 'one')\n",
      "(2, 'two')\n",
      "(3, 'three')\n"
     ]
    }
   ],
   "source": [
    "for i in x:\n",
    "    print(i)"
   ]
  },
  {
   "cell_type": "code",
   "execution_count": null,
   "id": "0920e55b-3fbb-4b05-81b1-2e52190a5d79",
   "metadata": {},
   "outputs": [],
   "source": [
    "# Method"
   ]
  },
  {
   "cell_type": "code",
   "execution_count": 29,
   "id": "a3182701-297b-400e-9507-35ce5875e4b1",
   "metadata": {},
   "outputs": [],
   "source": [
    "emp = {\n",
    "    'emp_name' : 'Ruchika',\n",
    "    'emp_surname' : 'kumbhare',\n",
    "    'emp_id':123,\n",
    "    'emp_contact':9876544,\n",
    "    'emp_city':'Mumbai' \n",
    "}"
   ]
  },
  {
   "cell_type": "code",
   "execution_count": 30,
   "id": "96c27d18-f390-494d-a257-3cd357fa96c4",
   "metadata": {},
   "outputs": [
    {
     "data": {
      "text/plain": [
       "{'emp_name': 'Ruchika',\n",
       " 'emp_surname': 'kumbhare',\n",
       " 'emp_id': 123,\n",
       " 'emp_contact': 9876544,\n",
       " 'emp_city': 'Mumbai'}"
      ]
     },
     "execution_count": 30,
     "metadata": {},
     "output_type": "execute_result"
    }
   ],
   "source": [
    "emp"
   ]
  },
  {
   "cell_type": "code",
   "execution_count": 31,
   "id": "09d2a233-565a-47e7-8133-baf7933627dc",
   "metadata": {},
   "outputs": [
    {
     "data": {
      "text/plain": [
       "123"
      ]
     },
     "execution_count": 31,
     "metadata": {},
     "output_type": "execute_result"
    }
   ],
   "source": [
    "emp['emp_id']"
   ]
  },
  {
   "cell_type": "code",
   "execution_count": 33,
   "id": "5dc057f1-bc53-410e-b684-d87be1320b9a",
   "metadata": {},
   "outputs": [
    {
     "data": {
      "text/plain": [
       "123"
      ]
     },
     "execution_count": 33,
     "metadata": {},
     "output_type": "execute_result"
    }
   ],
   "source": [
    "emp.get('emp_id')"
   ]
  },
  {
   "cell_type": "code",
   "execution_count": 34,
   "id": "2c855ff5-0c5f-4ec5-810c-c10ff541bd36",
   "metadata": {},
   "outputs": [
    {
     "ename": "KeyError",
     "evalue": "'country'",
     "output_type": "error",
     "traceback": [
      "\u001b[1;31m---------------------------------------------------------------------------\u001b[0m",
      "\u001b[1;31mKeyError\u001b[0m                                  Traceback (most recent call last)",
      "Cell \u001b[1;32mIn[34], line 1\u001b[0m\n\u001b[1;32m----> 1\u001b[0m emp[\u001b[38;5;124m'\u001b[39m\u001b[38;5;124mcountry\u001b[39m\u001b[38;5;124m'\u001b[39m]\n",
      "\u001b[1;31mKeyError\u001b[0m: 'country'"
     ]
    }
   ],
   "source": [
    "emp['country']"
   ]
  },
  {
   "cell_type": "code",
   "execution_count": 35,
   "id": "46992e0b-0dc8-4ab3-868e-a21507a15522",
   "metadata": {},
   "outputs": [
    {
     "data": {
      "text/plain": [
       "'India'"
      ]
     },
     "execution_count": 35,
     "metadata": {},
     "output_type": "execute_result"
    }
   ],
   "source": [
    "emp.get('country','India')"
   ]
  },
  {
   "cell_type": "code",
   "execution_count": 36,
   "id": "e7815795-86b2-461f-bfbf-9ba75a4d5a1f",
   "metadata": {},
   "outputs": [
    {
     "data": {
      "text/plain": [
       "{'emp_name': 'Ruchika',\n",
       " 'emp_surname': 'kumbhare',\n",
       " 'emp_id': 123,\n",
       " 'emp_contact': 9876544,\n",
       " 'emp_city': 'Mumbai'}"
      ]
     },
     "execution_count": 36,
     "metadata": {},
     "output_type": "execute_result"
    }
   ],
   "source": [
    "emp"
   ]
  },
  {
   "cell_type": "code",
   "execution_count": 37,
   "id": "996a6c86-ba8d-4e61-9607-621ac4edf391",
   "metadata": {},
   "outputs": [],
   "source": [
    "emp1 = emp.copy()"
   ]
  },
  {
   "cell_type": "code",
   "execution_count": 38,
   "id": "f03481d3-e53f-401a-acbc-d60f1f8ab0bc",
   "metadata": {},
   "outputs": [
    {
     "data": {
      "text/plain": [
       "{'emp_name': 'Ruchika',\n",
       " 'emp_surname': 'kumbhare',\n",
       " 'emp_id': 123,\n",
       " 'emp_contact': 9876544,\n",
       " 'emp_city': 'Mumbai'}"
      ]
     },
     "execution_count": 38,
     "metadata": {},
     "output_type": "execute_result"
    }
   ],
   "source": [
    "emp1"
   ]
  },
  {
   "cell_type": "code",
   "execution_count": 39,
   "id": "2e2569e1-a483-473c-b77c-edfa01dc5d9c",
   "metadata": {},
   "outputs": [
    {
     "data": {
      "text/plain": [
       "{'emp_name': 'Ruchika',\n",
       " 'emp_surname': 'kumbhare',\n",
       " 'emp_id': 123,\n",
       " 'emp_contact': 9876544,\n",
       " 'emp_city': 'Mumbai'}"
      ]
     },
     "execution_count": 39,
     "metadata": {},
     "output_type": "execute_result"
    }
   ],
   "source": [
    "emp"
   ]
  },
  {
   "cell_type": "code",
   "execution_count": 40,
   "id": "7f06d3b5-97eb-4b51-99d7-ffbf48476fb0",
   "metadata": {},
   "outputs": [],
   "source": [
    "emp1['country'] = 'india'"
   ]
  },
  {
   "cell_type": "code",
   "execution_count": 41,
   "id": "cf3f3926-7b34-415a-ae45-bee04b90819e",
   "metadata": {},
   "outputs": [
    {
     "data": {
      "text/plain": [
       "{'emp_name': 'Ruchika',\n",
       " 'emp_surname': 'kumbhare',\n",
       " 'emp_id': 123,\n",
       " 'emp_contact': 9876544,\n",
       " 'emp_city': 'Mumbai',\n",
       " 'country': 'india'}"
      ]
     },
     "execution_count": 41,
     "metadata": {},
     "output_type": "execute_result"
    }
   ],
   "source": [
    "emp1"
   ]
  },
  {
   "cell_type": "code",
   "execution_count": 42,
   "id": "8218bd97-2ad1-4b0d-b8ca-6c470e29f4db",
   "metadata": {},
   "outputs": [
    {
     "data": {
      "text/plain": [
       "{'emp_name': 'Ruchika',\n",
       " 'emp_surname': 'kumbhare',\n",
       " 'emp_id': 123,\n",
       " 'emp_contact': 9876544,\n",
       " 'emp_city': 'Mumbai'}"
      ]
     },
     "execution_count": 42,
     "metadata": {},
     "output_type": "execute_result"
    }
   ],
   "source": [
    "emp"
   ]
  },
  {
   "cell_type": "code",
   "execution_count": 43,
   "id": "62d1392f-2d3d-4abd-8b01-af7ba462a3d2",
   "metadata": {},
   "outputs": [],
   "source": [
    "#update()\n",
    "emp1.update({'emp_id' : 456})"
   ]
  },
  {
   "cell_type": "code",
   "execution_count": 44,
   "id": "db2e3582-ec11-4623-9ea0-bdcb2118ced1",
   "metadata": {},
   "outputs": [
    {
     "data": {
      "text/plain": [
       "{'emp_name': 'Ruchika',\n",
       " 'emp_surname': 'kumbhare',\n",
       " 'emp_id': 456,\n",
       " 'emp_contact': 9876544,\n",
       " 'emp_city': 'Mumbai',\n",
       " 'country': 'india'}"
      ]
     },
     "execution_count": 44,
     "metadata": {},
     "output_type": "execute_result"
    }
   ],
   "source": [
    "emp1"
   ]
  },
  {
   "cell_type": "code",
   "execution_count": null,
   "id": "c6e7cf9c-90c5-4192-a43f-4e44e2346490",
   "metadata": {},
   "outputs": [],
   "source": [
    "# Deleting a key-value pair"
   ]
  },
  {
   "cell_type": "code",
   "execution_count": 45,
   "id": "a1f42869-f50f-41c2-8ecd-da1d96e4f8f8",
   "metadata": {},
   "outputs": [],
   "source": [
    "del emp1['country']"
   ]
  },
  {
   "cell_type": "code",
   "execution_count": 46,
   "id": "0aad0796-ede1-4850-810b-eea5f58e7945",
   "metadata": {},
   "outputs": [
    {
     "data": {
      "text/plain": [
       "{'emp_name': 'Ruchika',\n",
       " 'emp_surname': 'kumbhare',\n",
       " 'emp_id': 456,\n",
       " 'emp_contact': 9876544,\n",
       " 'emp_city': 'Mumbai'}"
      ]
     },
     "execution_count": 46,
     "metadata": {},
     "output_type": "execute_result"
    }
   ],
   "source": [
    "emp1"
   ]
  },
  {
   "cell_type": "code",
   "execution_count": 47,
   "id": "bcfb6b52-4498-4e52-befd-da7583dce702",
   "metadata": {},
   "outputs": [
    {
     "data": {
      "text/plain": [
       "'Mumbai'"
      ]
     },
     "execution_count": 47,
     "metadata": {},
     "output_type": "execute_result"
    }
   ],
   "source": [
    "emp1.pop('emp_city')"
   ]
  },
  {
   "cell_type": "code",
   "execution_count": 48,
   "id": "cfcc9abb-4390-4f09-baab-307f3ff08aeb",
   "metadata": {},
   "outputs": [
    {
     "data": {
      "text/plain": [
       "{'emp_name': 'Ruchika',\n",
       " 'emp_surname': 'kumbhare',\n",
       " 'emp_id': 456,\n",
       " 'emp_contact': 9876544}"
      ]
     },
     "execution_count": 48,
     "metadata": {},
     "output_type": "execute_result"
    }
   ],
   "source": [
    "emp1"
   ]
  },
  {
   "cell_type": "code",
   "execution_count": 49,
   "id": "ea7d5960-a354-4b47-a8b3-ba25a664cf6b",
   "metadata": {},
   "outputs": [],
   "source": [
    "# Clearing all items from the dictionary"
   ]
  },
  {
   "cell_type": "code",
   "execution_count": 50,
   "id": "8e28f768-7a9f-402a-9114-c121bb35967b",
   "metadata": {},
   "outputs": [],
   "source": [
    "emp1.clear()"
   ]
  },
  {
   "cell_type": "code",
   "execution_count": 51,
   "id": "1519391c-effa-4ce8-b6f5-3d36f90d8b82",
   "metadata": {},
   "outputs": [
    {
     "data": {
      "text/plain": [
       "{}"
      ]
     },
     "execution_count": 51,
     "metadata": {},
     "output_type": "execute_result"
    }
   ],
   "source": [
    "emp1"
   ]
  },
  {
   "cell_type": "code",
   "execution_count": null,
   "id": "581bad67-85a6-4bc4-b54e-b8531ecfaca8",
   "metadata": {},
   "outputs": [],
   "source": [
    " # setdefault() = get + update\n",
    "# If the key does not exist, insert the key, with the specified value\n",
    "# # Syntax\n",
    "# dictionary.setdefault(keyname, value)"
   ]
  },
  {
   "cell_type": "code",
   "execution_count": null,
   "id": "3bff1b50-bf27-467a-accf-6b935b5bbf6b",
   "metadata": {},
   "outputs": [],
   "source": [
    "emp = {\n",
    "    'emp_name' : 'Ruchika',\n",
    "    'emp_surname' : 'kumbhare',\n",
    "    'emp_id':123,\n",
    "    'emp_contact':9876544,\n",
    "    'emp_city':'Mumbai' \n",
    "}"
   ]
  },
  {
   "cell_type": "code",
   "execution_count": 52,
   "id": "de37948e-63aa-45c7-a383-c0a840988e90",
   "metadata": {},
   "outputs": [
    {
     "data": {
      "text/plain": [
       "{'emp_name': 'Ruchika',\n",
       " 'emp_surname': 'kumbhare',\n",
       " 'emp_id': 123,\n",
       " 'emp_contact': 9876544,\n",
       " 'emp_city': 'Mumbai'}"
      ]
     },
     "execution_count": 52,
     "metadata": {},
     "output_type": "execute_result"
    }
   ],
   "source": [
    "emp"
   ]
  },
  {
   "cell_type": "code",
   "execution_count": 53,
   "id": "22efb302-aa07-40a9-bb33-6520bce214c4",
   "metadata": {},
   "outputs": [
    {
     "ename": "KeyError",
     "evalue": "'country'",
     "output_type": "error",
     "traceback": [
      "\u001b[1;31m---------------------------------------------------------------------------\u001b[0m",
      "\u001b[1;31mKeyError\u001b[0m                                  Traceback (most recent call last)",
      "Cell \u001b[1;32mIn[53], line 1\u001b[0m\n\u001b[1;32m----> 1\u001b[0m emp[\u001b[38;5;124m'\u001b[39m\u001b[38;5;124mcountry\u001b[39m\u001b[38;5;124m'\u001b[39m]\n",
      "\u001b[1;31mKeyError\u001b[0m: 'country'"
     ]
    }
   ],
   "source": [
    "emp['country']"
   ]
  },
  {
   "cell_type": "code",
   "execution_count": 54,
   "id": "25578f82-423f-4d95-bc75-b919f0d34788",
   "metadata": {},
   "outputs": [
    {
     "data": {
      "text/plain": [
       "'Not defined'"
      ]
     },
     "execution_count": 54,
     "metadata": {},
     "output_type": "execute_result"
    }
   ],
   "source": [
    "emp.get('country' , 'Not defined')"
   ]
  },
  {
   "cell_type": "code",
   "execution_count": 55,
   "id": "24fb5406-91a8-4352-9178-ee178f49629c",
   "metadata": {},
   "outputs": [],
   "source": [
    "emp.update({'emp_id':345})"
   ]
  },
  {
   "cell_type": "code",
   "execution_count": 56,
   "id": "d925cf3f-229f-4ce9-859b-7dcecb01a968",
   "metadata": {},
   "outputs": [
    {
     "data": {
      "text/plain": [
       "{'emp_name': 'Ruchika',\n",
       " 'emp_surname': 'kumbhare',\n",
       " 'emp_id': 345,\n",
       " 'emp_contact': 9876544,\n",
       " 'emp_city': 'Mumbai'}"
      ]
     },
     "execution_count": 56,
     "metadata": {},
     "output_type": "execute_result"
    }
   ],
   "source": [
    "emp"
   ]
  },
  {
   "cell_type": "code",
   "execution_count": 57,
   "id": "69919235-d65a-46ac-b454-3d1f9ce08460",
   "metadata": {},
   "outputs": [
    {
     "data": {
      "text/plain": [
       "'Ruchika'"
      ]
     },
     "execution_count": 57,
     "metadata": {},
     "output_type": "execute_result"
    }
   ],
   "source": [
    "emp.setdefault('emp_name' , 'india')"
   ]
  },
  {
   "cell_type": "code",
   "execution_count": 58,
   "id": "ccf2d57a-ba09-4937-b680-be6b5697bec6",
   "metadata": {},
   "outputs": [
    {
     "data": {
      "text/plain": [
       "{'emp_name': 'Ruchika',\n",
       " 'emp_surname': 'kumbhare',\n",
       " 'emp_id': 345,\n",
       " 'emp_contact': 9876544,\n",
       " 'emp_city': 'Mumbai'}"
      ]
     },
     "execution_count": 58,
     "metadata": {},
     "output_type": "execute_result"
    }
   ],
   "source": [
    "emp"
   ]
  },
  {
   "cell_type": "code",
   "execution_count": 59,
   "id": "804bea7a-f23b-477b-b942-7d7406864f7c",
   "metadata": {},
   "outputs": [
    {
     "data": {
      "text/plain": [
       "'India'"
      ]
     },
     "execution_count": 59,
     "metadata": {},
     "output_type": "execute_result"
    }
   ],
   "source": [
    "emp.setdefault('country' ,'India') #get+update"
   ]
  },
  {
   "cell_type": "code",
   "execution_count": 60,
   "id": "57ffc4a9-cada-422f-a62e-85a2b2acf6d2",
   "metadata": {},
   "outputs": [
    {
     "data": {
      "text/plain": [
       "{'emp_name': 'Ruchika',\n",
       " 'emp_surname': 'kumbhare',\n",
       " 'emp_id': 345,\n",
       " 'emp_contact': 9876544,\n",
       " 'emp_city': 'Mumbai',\n",
       " 'country': 'India'}"
      ]
     },
     "execution_count": 60,
     "metadata": {},
     "output_type": "execute_result"
    }
   ],
   "source": [
    "emp"
   ]
  },
  {
   "cell_type": "code",
   "execution_count": 61,
   "id": "307c6f0f-f977-426a-9a7d-006e70cd7c2f",
   "metadata": {},
   "outputs": [],
   "source": [
    "del emp['country']"
   ]
  },
  {
   "cell_type": "code",
   "execution_count": 62,
   "id": "23afc1dc-5344-43a7-8f8f-f46c665c352b",
   "metadata": {},
   "outputs": [
    {
     "data": {
      "text/plain": [
       "{'emp_name': 'Ruchika',\n",
       " 'emp_surname': 'kumbhare',\n",
       " 'emp_id': 345,\n",
       " 'emp_contact': 9876544,\n",
       " 'emp_city': 'Mumbai'}"
      ]
     },
     "execution_count": 62,
     "metadata": {},
     "output_type": "execute_result"
    }
   ],
   "source": [
    "emp\n"
   ]
  },
  {
   "cell_type": "code",
   "execution_count": 63,
   "id": "619bd85d-9ca8-4ba7-ac5a-7e1b00b7a170",
   "metadata": {},
   "outputs": [
    {
     "data": {
      "text/plain": [
       "'India'"
      ]
     },
     "execution_count": 63,
     "metadata": {},
     "output_type": "execute_result"
    }
   ],
   "source": [
    "emp.setdefault('emp_contry' , 'India')"
   ]
  },
  {
   "cell_type": "code",
   "execution_count": 64,
   "id": "eed176d2-4cbc-425d-b34d-6943c1e7b24e",
   "metadata": {},
   "outputs": [
    {
     "data": {
      "text/plain": [
       "{'emp_name': 'Ruchika',\n",
       " 'emp_surname': 'kumbhare',\n",
       " 'emp_id': 345,\n",
       " 'emp_contact': 9876544,\n",
       " 'emp_city': 'Mumbai',\n",
       " 'emp_contry': 'India'}"
      ]
     },
     "execution_count": 64,
     "metadata": {},
     "output_type": "execute_result"
    }
   ],
   "source": [
    "emp"
   ]
  },
  {
   "cell_type": "code",
   "execution_count": null,
   "id": "faa9a644-0fb3-4583-be6b-6c65148ca16e",
   "metadata": {},
   "outputs": [],
   "source": [
    "# # fromkeys()\n",
    "# The fromkeys() method returns a dictionary with the specified keys and the specified value.\n",
    "# #Syntax\n",
    "# dict.fromkeys(keys, value)"
   ]
  },
  {
   "cell_type": "code",
   "execution_count": 1,
   "id": "1166cd96-a094-45f0-b7ec-46b71a9fdb7a",
   "metadata": {},
   "outputs": [
    {
     "data": {
      "text/plain": [
       "{'aa': 1, 'bb': 1, 'ss': 1}"
      ]
     },
     "execution_count": 1,
     "metadata": {},
     "output_type": "execute_result"
    }
   ],
   "source": [
    "dict.fromkeys(['aa','bb','ss'], 1)"
   ]
  },
  {
   "cell_type": "code",
   "execution_count": 3,
   "id": "23caf64c-6e27-4b73-8375-936ab9bc21d5",
   "metadata": {},
   "outputs": [
    {
     "name": "stdout",
     "output_type": "stream",
     "text": [
      "{'aa': 0, 'bb': 0, 'cc': 0}\n"
     ]
    }
   ],
   "source": [
    "keys = ['aa','bb','cc']\n",
    "x = 0 \n",
    "d = dict.fromkeys(keys,x)\n",
    "print(d)"
   ]
  },
  {
   "cell_type": "code",
   "execution_count": 4,
   "id": "1861cf98-cfb2-4647-a1f2-a60861416aca",
   "metadata": {},
   "outputs": [
    {
     "name": "stdout",
     "output_type": "stream",
     "text": [
      "{'student1': [1, 2, 3], 'student2': [1, 2, 3], 'student3': [1, 2, 3]}\n"
     ]
    }
   ],
   "source": [
    "keys = [\"student1\",\"student2\",\"student3\"]\n",
    "y = [1,2,3]\n",
    "\n",
    "d = dict.fromkeys(keys,y)\n",
    "print(d)"
   ]
  },
  {
   "cell_type": "code",
   "execution_count": 5,
   "id": "e962e580-2828-4914-aa76-fc6069eb1f3d",
   "metadata": {},
   "outputs": [
    {
     "data": {
      "text/plain": [
       "dict_keys(['student1', 'student2', 'student3'])"
      ]
     },
     "execution_count": 5,
     "metadata": {},
     "output_type": "execute_result"
    }
   ],
   "source": [
    "d.keys()"
   ]
  },
  {
   "cell_type": "code",
   "execution_count": 6,
   "id": "9df47418-5d83-4bf0-a277-8aa893b0e7a9",
   "metadata": {},
   "outputs": [
    {
     "data": {
      "text/plain": [
       "dict_values([[1, 2, 3], [1, 2, 3], [1, 2, 3]])"
      ]
     },
     "execution_count": 6,
     "metadata": {},
     "output_type": "execute_result"
    }
   ],
   "source": [
    "d.values()"
   ]
  },
  {
   "cell_type": "code",
   "execution_count": 7,
   "id": "f10917a9-bc14-4432-bf50-aabba25482be",
   "metadata": {},
   "outputs": [
    {
     "data": {
      "text/plain": [
       "dict_items([('student1', [1, 2, 3]), ('student2', [1, 2, 3]), ('student3', [1, 2, 3])])"
      ]
     },
     "execution_count": 7,
     "metadata": {},
     "output_type": "execute_result"
    }
   ],
   "source": [
    "d.items()"
   ]
  },
  {
   "cell_type": "code",
   "execution_count": 8,
   "id": "4d247b88-28fd-4e59-86a7-644ef2c2e11a",
   "metadata": {},
   "outputs": [
    {
     "data": {
      "text/plain": [
       "{'student1': [1, 2, 3], 'student2': [1, 2, 3], 'student3': [1, 2, 3]}"
      ]
     },
     "execution_count": 8,
     "metadata": {},
     "output_type": "execute_result"
    }
   ],
   "source": [
    "dict.fromkeys([\"student1\",\"student2\",\"student3\"],[1, 2, 3])"
   ]
  },
  {
   "cell_type": "code",
   "execution_count": 9,
   "id": "1a6912ce-77a6-48ef-a552-b7e7dd3b15cd",
   "metadata": {},
   "outputs": [
    {
     "data": {
      "text/plain": [
       "{'student1': 'bye', 'student2': 'bye', 'student3': 'bye'}"
      ]
     },
     "execution_count": 9,
     "metadata": {},
     "output_type": "execute_result"
    }
   ],
   "source": [
    "dict.fromkeys([\"student1\",\"student2\",\"student3\"],\"bye\")"
   ]
  },
  {
   "cell_type": "code",
   "execution_count": 10,
   "id": "9f594524-eb79-4f51-afec-cb07ebbd0232",
   "metadata": {},
   "outputs": [
    {
     "data": {
      "text/plain": [
       "{'student1': None, 'student2': None, 'student3': None}"
      ]
     },
     "execution_count": 10,
     "metadata": {},
     "output_type": "execute_result"
    }
   ],
   "source": [
    "dict.fromkeys([\"student1\",\"student2\",\"student3\"])"
   ]
  },
  {
   "cell_type": "code",
   "execution_count": 14,
   "id": "634670f0-2cc7-448d-b12b-d9c899a9acc9",
   "metadata": {},
   "outputs": [],
   "source": [
    "emp = {'emp_name': 'Ruchika',\n",
    " 'emp_surname': 'kumbhare',\n",
    " 'emp_id': 345,\n",
    " 'emp_contact': 9876544,\n",
    " 'emp_city': 'Mumbai'}"
   ]
  },
  {
   "cell_type": "code",
   "execution_count": 15,
   "id": "bdd26ef1-9ed6-48a0-932f-e127fd324a52",
   "metadata": {},
   "outputs": [
    {
     "data": {
      "text/plain": [
       "{'emp_name': 'Ruchika',\n",
       " 'emp_surname': 'kumbhare',\n",
       " 'emp_id': 345,\n",
       " 'emp_contact': 9876544,\n",
       " 'emp_city': 'Mumbai'}"
      ]
     },
     "execution_count": 15,
     "metadata": {},
     "output_type": "execute_result"
    }
   ],
   "source": [
    "emp"
   ]
  },
  {
   "cell_type": "code",
   "execution_count": 18,
   "id": "6391e2f5-01b5-45c0-a355-5bce5d072b4d",
   "metadata": {},
   "outputs": [
    {
     "data": {
      "text/plain": [
       "'Mumbai'"
      ]
     },
     "execution_count": 18,
     "metadata": {},
     "output_type": "execute_result"
    }
   ],
   "source": [
    "emp.pop('emp_city')"
   ]
  },
  {
   "cell_type": "code",
   "execution_count": 19,
   "id": "cab425a1-011f-4153-8132-a881b39628c4",
   "metadata": {},
   "outputs": [
    {
     "data": {
      "text/plain": [
       "{'emp_name': 'Ruchika',\n",
       " 'emp_surname': 'kumbhare',\n",
       " 'emp_id': 345,\n",
       " 'emp_contact': 9876544}"
      ]
     },
     "execution_count": 19,
     "metadata": {},
     "output_type": "execute_result"
    }
   ],
   "source": [
    "emp"
   ]
  },
  {
   "cell_type": "code",
   "execution_count": 20,
   "id": "81660d3d-1a30-4915-bdf5-32059159b71d",
   "metadata": {},
   "outputs": [
    {
     "data": {
      "text/plain": [
       "('emp_contact', 9876544)"
      ]
     },
     "execution_count": 20,
     "metadata": {},
     "output_type": "execute_result"
    }
   ],
   "source": [
    "emp.popitem()\n"
   ]
  },
  {
   "cell_type": "code",
   "execution_count": 21,
   "id": "9fb0e120-cbca-4816-9e53-37406ac294e0",
   "metadata": {},
   "outputs": [
    {
     "data": {
      "text/plain": [
       "{'emp_name': 'Ruchika', 'emp_surname': 'kumbhare', 'emp_id': 345}"
      ]
     },
     "execution_count": 21,
     "metadata": {},
     "output_type": "execute_result"
    }
   ],
   "source": [
    "emp"
   ]
  },
  {
   "cell_type": "code",
   "execution_count": null,
   "id": "63d62ffd-99a6-4685-a8b2-5cd0f6ae55d7",
   "metadata": {},
   "outputs": [],
   "source": [
    "## Control flow statements"
   ]
  },
  {
   "cell_type": "code",
   "execution_count": 22,
   "id": "acea9b18-cd45-48ab-b2c0-f6b151384359",
   "metadata": {},
   "outputs": [
    {
     "name": "stdout",
     "output_type": "stream",
     "text": [
      "1\n",
      "2\n",
      "3\n",
      "4\n",
      "5\n",
      "6\n",
      "7\n",
      "8\n",
      "9\n",
      "executed\n"
     ]
    }
   ],
   "source": [
    "for i in range (1,10):\n",
    "    print(i)\n",
    "print('executed')"
   ]
  },
  {
   "cell_type": "code",
   "execution_count": 27,
   "id": "773e70ce-4643-4556-aa51-4ef2dd2a2e9a",
   "metadata": {},
   "outputs": [
    {
     "name": "stdout",
     "output_type": "stream",
     "text": [
      "b is greater than a\n"
     ]
    }
   ],
   "source": [
    "a = 19\n",
    "b = 112\n",
    "if b > a:\n",
    "      print(\"b is greater than a\")\n",
    "if a == b:\n",
    "      print(\"a and b are equal\")"
   ]
  },
  {
   "cell_type": "code",
   "execution_count": 29,
   "id": "03419adc-6bae-4407-8346-a2412c1b7553",
   "metadata": {},
   "outputs": [
    {
     "name": "stdout",
     "output_type": "stream",
     "text": [
      "a and b are equal\n",
      "Finish\n"
     ]
    }
   ],
   "source": [
    "a = 100\n",
    "b = 100\n",
    "if b > a:\n",
    "      print(\"b is greater than a\")\n",
    "elif a == b:\n",
    "      print(\"a and b are equal\")\n",
    "else:\n",
    "      print(\"a is greater than b\")\n",
    "        \n",
    "print(\"Finish\")"
   ]
  },
  {
   "cell_type": "code",
   "execution_count": null,
   "id": "5c53c997-6768-4d14-8787-2fb642ddf9ad",
   "metadata": {},
   "outputs": [],
   "source": []
  }
 ],
 "metadata": {
  "kernelspec": {
   "display_name": "Python 3 (ipykernel)",
   "language": "python",
   "name": "python3"
  },
  "language_info": {
   "codemirror_mode": {
    "name": "ipython",
    "version": 3
   },
   "file_extension": ".py",
   "mimetype": "text/x-python",
   "name": "python",
   "nbconvert_exporter": "python",
   "pygments_lexer": "ipython3",
   "version": "3.11.9"
  }
 },
 "nbformat": 4,
 "nbformat_minor": 5
}
