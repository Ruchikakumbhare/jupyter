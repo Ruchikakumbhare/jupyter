{
 "cells": [
  {
   "cell_type": "code",
   "execution_count": null,
   "id": "690ac853-bcf2-4ae6-b3ec-e702302b76d1",
   "metadata": {},
   "outputs": [],
   "source": [
    "# Control flow statements"
   ]
  },
  {
   "cell_type": "code",
   "execution_count": 1,
   "id": "d5998476-d1ee-475c-a119-b92c538cfcd5",
   "metadata": {},
   "outputs": [
    {
     "name": "stdout",
     "output_type": "stream",
     "text": [
      "a is greater than b\n"
     ]
    }
   ],
   "source": [
    "a = 100 \n",
    "b = 20 \n",
    "if a > b:\n",
    "    print('a is greater than b')\n",
    "else:\n",
    "    print('b is greater than a')"
   ]
  },
  {
   "cell_type": "code",
   "execution_count": 2,
   "id": "64aa80f3-8db6-410a-87aa-8e046acbec4d",
   "metadata": {},
   "outputs": [
    {
     "name": "stdout",
     "output_type": "stream",
     "text": [
      "b is greater than a\n"
     ]
    }
   ],
   "source": [
    "a = 100 \n",
    "b = 200 \n",
    "if a > b:\n",
    "    print('a is greater than b')\n",
    "else:\n",
    "    print('b is greater than a')"
   ]
  },
  {
   "cell_type": "code",
   "execution_count": 3,
   "id": "99b8b966-6428-488b-854f-27ecbf5294a6",
   "metadata": {},
   "outputs": [
    {
     "name": "stdout",
     "output_type": "stream",
     "text": [
      "a is equal to b\n"
     ]
    }
   ],
   "source": [
    "a = 100 \n",
    "b = 100 \n",
    "if a > b:\n",
    "    print('a is greater than b')\n",
    "elif a ==b:\n",
    "    print('a is equal to b')\n",
    "else:\n",
    "    print('b is greater than a')"
   ]
  },
  {
   "cell_type": "code",
   "execution_count": null,
   "id": "b9021874-0769-4f5b-b20d-ec340e9bdb3e",
   "metadata": {},
   "outputs": [],
   "source": [
    "# while To repeat a specific block of code an unknown number of times, until a given condition is True."
   ]
  },
  {
   "cell_type": "code",
   "execution_count": null,
   "id": "0ff76ab2-127c-4fa8-a686-7b0794fcbe82",
   "metadata": {},
   "outputs": [],
   "source": [
    "#Syntax\n",
    "while condition  :\n",
    "      True\n",
    "    code"
   ]
  },
  {
   "cell_type": "code",
   "execution_count": null,
   "id": "c7d5566b-111e-49b9-83cd-ee67077287b6",
   "metadata": {},
   "outputs": [],
   "source": [
    "a = 2 \n",
    "while a<3:\n",
    "    print('a is less')   #infinite loop"
   ]
  },
  {
   "cell_type": "code",
   "execution_count": 4,
   "id": "29401d50-66fa-4618-b7a7-5bd49cd8681e",
   "metadata": {},
   "outputs": [
    {
     "name": "stdout",
     "output_type": "stream",
     "text": [
      "a is less\n"
     ]
    }
   ],
   "source": [
    "a = 2 \n",
    "while a<3:\n",
    "    print('a is less')\n",
    "    a = a + 1"
   ]
  },
  {
   "cell_type": "code",
   "execution_count": null,
   "id": "edc83b5d-42a7-4d45-a1e7-5e90a388e71b",
   "metadata": {},
   "outputs": [],
   "source": [
    "# Task=100\n",
    "# leave apply if pending task less than 10\n",
    "# daily you can complete 10 task.  # you are completing you daily task\n",
    "# How many daiys after you can apply for leave\n",
    "# Note= daily we recive 2 new task."
   ]
  },
  {
   "cell_type": "code",
   "execution_count": null,
   "id": "baf84437-35fa-4918-b53d-9d3f493f5db6",
   "metadata": {},
   "outputs": [],
   "source": [
    "Task = 100\n",
    "while task < 10:\n",
    " \n",
    "    "
   ]
  },
  {
   "cell_type": "code",
   "execution_count": 5,
   "id": "ccb32cfa-1c30-44f8-bb98-30993faae82f",
   "metadata": {},
   "outputs": [
    {
     "name": "stdout",
     "output_type": "stream",
     "text": [
      "You can apply for leave after 12 days.\n"
     ]
    }
   ],
   "source": [
    "# tasks = 100\n",
    "# days = 0\n",
    "\n",
    "# while tasks >= 10:\n",
    "#     tasks -= 10  # complete 10 tasks daily\n",
    "#     tasks += 2  # receive 2 new tasks daily\n",
    "#     days += 1\n",
    "\n",
    "# print(\"You can apply for leave after\", days, \"days.\")"
   ]
  },
  {
   "cell_type": "code",
   "execution_count": 6,
   "id": "95011607-7c49-4f07-9f3c-33158340c287",
   "metadata": {},
   "outputs": [
    {
     "name": "stdout",
     "output_type": "stream",
     "text": [
      "2\n",
      "3\n",
      "4\n",
      "5\n"
     ]
    }
   ],
   "source": [
    "#initialize count variable to 1\n",
    "count = 1 \n",
    "while count < 5 :     #1 2 3 4\n",
    "    count+=1           \n",
    "    print(count)      #2 3 4 5 "
   ]
  },
  {
   "cell_type": "code",
   "execution_count": 7,
   "id": "8442dbc1-d079-438a-b8f5-f9d23476114a",
   "metadata": {},
   "outputs": [
    {
     "name": "stdout",
     "output_type": "stream",
     "text": [
      "3\n",
      "4\n",
      "5\n",
      "6\n",
      "7\n",
      "8\n"
     ]
    }
   ],
   "source": [
    "count = 2 \n",
    "while count < 8: #2\n",
    "    count+=1\n",
    "    print(count)  #3 4 5 6 7 8"
   ]
  },
  {
   "cell_type": "code",
   "execution_count": 8,
   "id": "a57f9820-b63a-46ef-9194-bed22ba0ee66",
   "metadata": {},
   "outputs": [
    {
     "name": "stdout",
     "output_type": "stream",
     "text": [
      "1\n",
      "2\n",
      "3\n",
      "4\n",
      "5\n"
     ]
    }
   ],
   "source": [
    "count = 0 \n",
    "while count<5: \n",
    "    count+=1\n",
    "    print(count) #1,2,3,4,5"
   ]
  },
  {
   "cell_type": "code",
   "execution_count": 11,
   "id": "84ecbf0e-c317-4c3c-b9d0-088b2da5960b",
   "metadata": {},
   "outputs": [
    {
     "name": "stdout",
     "output_type": "stream",
     "text": [
      "3\n",
      "5\n"
     ]
    }
   ],
   "source": [
    "count = 1 \n",
    "while count < 5:  #1 ,3\n",
    "    count+=2    #1+2 , 3+2\n",
    "    print(count) #3  5 "
   ]
  },
  {
   "cell_type": "code",
   "execution_count": 10,
   "id": "1d252f61-6c75-4d73-97b0-31dbff1bea54",
   "metadata": {},
   "outputs": [
    {
     "name": "stdout",
     "output_type": "stream",
     "text": [
      "2\n",
      "3\n",
      "4\n",
      "5\n",
      "6\n"
     ]
    }
   ],
   "source": [
    "count = 1 \n",
    "while count<6:    #1 2 3 4 5\n",
    "    count+=1      #1+1,2+1,3+!,4+1,5+1 \n",
    "    print(count)  #2 3 4 5 6"
   ]
  },
  {
   "cell_type": "code",
   "execution_count": 12,
   "id": "bfc09d7c-c38c-4da1-9a42-193afdf3052f",
   "metadata": {},
   "outputs": [
    {
     "name": "stdout",
     "output_type": "stream",
     "text": [
      "2\n",
      "3\n",
      "4\n",
      "5\n",
      "6\n",
      "7\n",
      "8\n",
      "9\n"
     ]
    }
   ],
   "source": [
    "count = 2\n",
    "while count < 10: \n",
    "    print(count) #2 3 4 5 6 7 8 9\n",
    "    count+=1     #3 4 5 6 7 8 9 10"
   ]
  },
  {
   "cell_type": "code",
   "execution_count": null,
   "id": "9a73f21f-73d8-409d-b20e-5883d96ebffe",
   "metadata": {},
   "outputs": [],
   "source": [
    "# 1) break statement\n",
    "# It terminates the loop immediately and transfers execution to the new statement after the loop.\n",
    "\n",
    "# 2) continue statement:\n",
    "# The continue statement causes the loop to skip its current execution at some point and move on to the next iteration. Instead of terminating the loop like a break statement, it moves on to the subsequent execution.\n",
    "\n",
    "# 3) pass statement:\n",
    "# Pass statement is used as a placeholder for future code"
   ]
  },
  {
   "cell_type": "code",
   "execution_count": 13,
   "id": "9fd6db1b-d423-4f9e-b2de-f35cd6840289",
   "metadata": {},
   "outputs": [
    {
     "data": {
      "text/plain": [
       "range(1, 9)"
      ]
     },
     "execution_count": 13,
     "metadata": {},
     "output_type": "execute_result"
    }
   ],
   "source": [
    "range(1,9)"
   ]
  },
  {
   "cell_type": "code",
   "execution_count": 14,
   "id": "9b10deb3-6d5c-457e-a57f-7d8af1a46830",
   "metadata": {},
   "outputs": [
    {
     "name": "stdout",
     "output_type": "stream",
     "text": [
      "0\n",
      "1\n",
      "2\n",
      "3\n",
      "4\n",
      "5\n",
      "6\n",
      "7\n",
      "8\n"
     ]
    }
   ],
   "source": [
    "for x in range(0,9):\n",
    "    print(x)"
   ]
  },
  {
   "cell_type": "code",
   "execution_count": 15,
   "id": "c24a0e28-a641-4c11-bcf3-5f40088f66bd",
   "metadata": {},
   "outputs": [
    {
     "data": {
      "text/plain": [
       "[0, 1, 2, 3]"
      ]
     },
     "execution_count": 15,
     "metadata": {},
     "output_type": "execute_result"
    }
   ],
   "source": [
    "list(range(0,4))"
   ]
  },
  {
   "cell_type": "code",
   "execution_count": 16,
   "id": "07cd9710-c644-452c-99fa-750614d6fc94",
   "metadata": {},
   "outputs": [
    {
     "name": "stdout",
     "output_type": "stream",
     "text": [
      "0\n",
      "1\n",
      "2\n",
      "value is 2\n",
      "3\n",
      "4\n",
      "5\n"
     ]
    }
   ],
   "source": [
    "for x in range(0,6):\n",
    "    print(x)\n",
    "    if x ==2:\n",
    "        print('value is 2')"
   ]
  },
  {
   "cell_type": "code",
   "execution_count": 19,
   "id": "8c5350f3-7ede-431a-a482-6c6776238445",
   "metadata": {},
   "outputs": [
    {
     "name": "stdout",
     "output_type": "stream",
     "text": [
      "0\n",
      "1\n",
      "2\n",
      "3\n",
      "4\n",
      "5\n",
      "6\n",
      "7\n",
      "8\n",
      "9\n",
      "value is 9\n"
     ]
    }
   ],
   "source": [
    "for x in range(0,10):\n",
    "    print(x)\n",
    "    if x ==9:\n",
    "        print('value is 9')"
   ]
  },
  {
   "cell_type": "code",
   "execution_count": null,
   "id": "beb21e55-f6ab-40fa-925e-58164c3ec577",
   "metadata": {},
   "outputs": [],
   "source": [
    "# Statement\n",
    "# 1) break statement  -  Loop break\n",
    "# It terminates the loop immediately and transfers execution to the new statement after the loop.\n",
    "\n",
    "# 2) continue statement  - Iteration skip\n",
    "# The continue statement causes the loop to skip its current execution at some point and move on to \n",
    "# the next iteration. Instead of terminating the loop like a break statement, it moves on to the subsequent execution.\n",
    "\n",
    "# 3) pass statement  -  placeholder for future code\n",
    "# Pass statement is used as a placeholder for future code"
   ]
  },
  {
   "cell_type": "code",
   "execution_count": 1,
   "id": "4f42611a-056f-4146-aeb6-242aa93050fd",
   "metadata": {},
   "outputs": [
    {
     "data": {
      "text/plain": [
       "range(1, 10)"
      ]
     },
     "execution_count": 1,
     "metadata": {},
     "output_type": "execute_result"
    }
   ],
   "source": [
    "range(1,10)"
   ]
  },
  {
   "cell_type": "code",
   "execution_count": 2,
   "id": "a1f8b2c0-8f2e-4e85-96ec-acd91aa1f27e",
   "metadata": {},
   "outputs": [
    {
     "data": {
      "text/plain": [
       "[1, 2, 3, 4, 5, 6, 7, 8, 9]"
      ]
     },
     "execution_count": 2,
     "metadata": {},
     "output_type": "execute_result"
    }
   ],
   "source": [
    "list(range(1,10))"
   ]
  },
  {
   "cell_type": "code",
   "execution_count": 3,
   "id": "7121fc80-5400-46cf-a177-052119230ad7",
   "metadata": {},
   "outputs": [
    {
     "name": "stdout",
     "output_type": "stream",
     "text": [
      "1\n",
      "2\n",
      "3\n",
      "4\n",
      "5\n",
      "6\n",
      "7\n",
      "8\n",
      "9\n"
     ]
    }
   ],
   "source": [
    "for i in range(1,10):\n",
    "    print(i)"
   ]
  },
  {
   "cell_type": "code",
   "execution_count": 4,
   "id": "f6d29aff-b824-482c-ae16-3cac37ace159",
   "metadata": {},
   "outputs": [
    {
     "name": "stdout",
     "output_type": "stream",
     "text": [
      "0\n",
      "1\n",
      "2\n",
      "The no is 2\n",
      "3\n",
      "4\n",
      "executed\n"
     ]
    }
   ],
   "source": [
    "for i in range(0,5):\n",
    "    print(i)\n",
    "    if i == 2:\n",
    "        print('The no is 2')\n",
    "print('executed')"
   ]
  },
  {
   "cell_type": "code",
   "execution_count": 6,
   "id": "f38b6719-c3c3-4480-a2de-f7e53e03fdd5",
   "metadata": {},
   "outputs": [
    {
     "name": "stdout",
     "output_type": "stream",
     "text": [
      "0\n",
      "1\n",
      "2\n"
     ]
    }
   ],
   "source": [
    "for i in range(0,6):\n",
    "    print(i)\n",
    "    if i==2:\n",
    "        break "
   ]
  },
  {
   "cell_type": "code",
   "execution_count": 8,
   "id": "156f96ce-8468-4ac2-aeb8-064bcd8c118c",
   "metadata": {},
   "outputs": [
    {
     "name": "stdout",
     "output_type": "stream",
     "text": [
      "0\n",
      "1\n",
      "2\n",
      "3\n",
      "4\n",
      "5\n"
     ]
    }
   ],
   "source": [
    "for x in range(0,10):\n",
    "    print(x)\n",
    "    if x ==5:\n",
    "        break\n",
    "        "
   ]
  },
  {
   "cell_type": "code",
   "execution_count": 11,
   "id": "e0e29c54-249c-451d-b30c-056cd21d11e3",
   "metadata": {},
   "outputs": [
    {
     "name": "stdout",
     "output_type": "stream",
     "text": [
      "0\n",
      "1\n",
      "2\n",
      "3\n",
      "4\n"
     ]
    }
   ],
   "source": [
    "for x in range(0,10):\n",
    "\n",
    "    if x ==5:\n",
    "        break\n",
    "    print(x)"
   ]
  },
  {
   "cell_type": "code",
   "execution_count": null,
   "id": "c99ba49c-d2db-44d8-986e-7fcb45ac6fee",
   "metadata": {},
   "outputs": [],
   "source": [
    "# 2) continue statement  - Iteration skip\n",
    "# # The continue statement causes the loop to skip its current execution at some point and move on to \n",
    "# # the next iteration. Instead of terminating the loop like a break statement, it moves on to the subsequent execution.\n"
   ]
  },
  {
   "cell_type": "code",
   "execution_count": 12,
   "id": "89490f01-d5f2-436a-a72e-a5acfd6d0b6a",
   "metadata": {},
   "outputs": [
    {
     "name": "stdout",
     "output_type": "stream",
     "text": [
      "0\n",
      "1\n",
      "2\n",
      "3\n",
      "4\n",
      "6\n",
      "7\n",
      "8\n"
     ]
    }
   ],
   "source": [
    "for x in range(0,9):\n",
    "\n",
    "    if x ==5:\n",
    "        continue\n",
    "    print(x)   #5 ko skip krdenga"
   ]
  },
  {
   "cell_type": "code",
   "execution_count": 13,
   "id": "11e259f4-2090-4008-832a-d80edd58f452",
   "metadata": {},
   "outputs": [
    {
     "name": "stdout",
     "output_type": "stream",
     "text": [
      "0\n",
      "2\n",
      "3\n",
      "4\n"
     ]
    }
   ],
   "source": [
    "for i in range(5):\n",
    "    if i ==1 :\n",
    "        continue\n",
    "    print(i)"
   ]
  },
  {
   "cell_type": "code",
   "execution_count": 14,
   "id": "3dfa6fed-ad7c-47a1-a0c2-906e1a4d2bc7",
   "metadata": {},
   "outputs": [
    {
     "name": "stdout",
     "output_type": "stream",
     "text": [
      "0\n",
      "1\n",
      "2\n",
      "3\n",
      "4\n",
      "5\n",
      "6\n",
      "7\n",
      "8\n",
      "9\n"
     ]
    }
   ],
   "source": [
    "for i in range(0, 10):\n",
    "    if i == 3:\n",
    "        pass\n",
    "    print(i)"
   ]
  },
  {
   "cell_type": "code",
   "execution_count": 16,
   "id": "114bc44a-4c11-458e-a8f2-89a3a6f2569f",
   "metadata": {},
   "outputs": [],
   "source": [
    "a = [23,4,5,7,4,3,5,7,8,8]"
   ]
  },
  {
   "cell_type": "code",
   "execution_count": 17,
   "id": "e5937353-a859-414d-b3c3-8ae4e3e22a7a",
   "metadata": {},
   "outputs": [
    {
     "name": "stdout",
     "output_type": "stream",
     "text": [
      "[23, 4, 5, 7, 4, 3, 5, 7, 8, 8]\n",
      "[23, 4, 5, 7, 4, 3, 5, 7, 8, 8]\n",
      "[23, 4, 5, 7, 4, 3, 5, 7, 8, 8]\n",
      "[23, 4, 5, 7, 4, 3, 5, 7, 8, 8]\n",
      "[23, 4, 5, 7, 4, 3, 5, 7, 8, 8]\n",
      "[23, 4, 5, 7, 4, 3, 5, 7, 8, 8]\n",
      "[23, 4, 5, 7, 4, 3, 5, 7, 8, 8]\n",
      "[23, 4, 5, 7, 4, 3, 5, 7, 8, 8]\n",
      "[23, 4, 5, 7, 4, 3, 5, 7, 8, 8]\n",
      "[23, 4, 5, 7, 4, 3, 5, 7, 8, 8]\n"
     ]
    }
   ],
   "source": [
    "for x in a:\n",
    "    print(a)"
   ]
  },
  {
   "cell_type": "code",
   "execution_count": 18,
   "id": "3888b2e5-fc7c-423a-8f85-b1060f5d5094",
   "metadata": {},
   "outputs": [
    {
     "name": "stdout",
     "output_type": "stream",
     "text": [
      "23\n",
      "4\n",
      "5\n",
      "7\n",
      "4\n",
      "3\n",
      "5\n",
      "7\n",
      "8\n",
      "8\n"
     ]
    }
   ],
   "source": [
    "for x in a:\n",
    "    print(x)"
   ]
  },
  {
   "cell_type": "code",
   "execution_count": null,
   "id": "8b8e0363-32ea-460a-be0e-73b231f6df32",
   "metadata": {},
   "outputs": [],
   "source": [
    "# break"
   ]
  },
  {
   "cell_type": "code",
   "execution_count": 21,
   "id": "05d2c8a0-77ec-4265-b8c1-acb748243251",
   "metadata": {},
   "outputs": [
    {
     "name": "stdout",
     "output_type": "stream",
     "text": [
      "7\n",
      "7\n"
     ]
    }
   ],
   "source": [
    "for i in a:\n",
    "    if i ==7:\n",
    "        print(i)"
   ]
  },
  {
   "cell_type": "code",
   "execution_count": 22,
   "id": "2e7f1588-d67e-40d6-80f5-f20d6246033f",
   "metadata": {},
   "outputs": [
    {
     "name": "stdout",
     "output_type": "stream",
     "text": [
      "7\n"
     ]
    }
   ],
   "source": [
    "for i in a:\n",
    "    if i ==7:\n",
    "        print(i)\n",
    "        break"
   ]
  },
  {
   "cell_type": "code",
   "execution_count": 24,
   "id": "390f4c67-e955-4a81-9b04-84d5dd99145a",
   "metadata": {},
   "outputs": [
    {
     "name": "stdout",
     "output_type": "stream",
     "text": [
      "23\n",
      "4\n",
      "5\n",
      "4\n",
      "3\n",
      "5\n",
      "8\n",
      "8\n"
     ]
    }
   ],
   "source": [
    "for i in a:\n",
    "    if i ==7:\n",
    "        continue\n",
    "    print(i)\n",
    "        "
   ]
  },
  {
   "cell_type": "code",
   "execution_count": 25,
   "id": "88870637-9825-4fd0-9451-a33fe51c82e7",
   "metadata": {},
   "outputs": [
    {
     "name": "stdout",
     "output_type": "stream",
     "text": [
      "1\n",
      "3\n",
      "5\n",
      "7\n",
      "9\n",
      "11\n",
      "13\n",
      "15\n",
      "17\n",
      "19\n"
     ]
    }
   ],
   "source": [
    "for x in range(20):\n",
    "    if x % 2 == 0:\n",
    "        continue\n",
    "    print (x)  #2 se skip"
   ]
  },
  {
   "cell_type": "code",
   "execution_count": null,
   "id": "bfc11de5-ccb7-4262-8735-6b5a699449d4",
   "metadata": {},
   "outputs": [],
   "source": []
  }
 ],
 "metadata": {
  "kernelspec": {
   "display_name": "Python 3 (ipykernel)",
   "language": "python",
   "name": "python3"
  },
  "language_info": {
   "codemirror_mode": {
    "name": "ipython",
    "version": 3
   },
   "file_extension": ".py",
   "mimetype": "text/x-python",
   "name": "python",
   "nbconvert_exporter": "python",
   "pygments_lexer": "ipython3",
   "version": "3.11.9"
  }
 },
 "nbformat": 4,
 "nbformat_minor": 5
}
