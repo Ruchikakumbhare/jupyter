{
 "cells": [
  {
   "cell_type": "code",
   "execution_count": null,
   "id": "f9dc0a9b-0ad6-4b4e-a36f-fd03a379549f",
   "metadata": {},
   "outputs": [],
   "source": [
    "# CONDITIONAL STATEMENT IN PYTHON\n",
    "# if condition :\n",
    "#     code"
   ]
  },
  {
   "cell_type": "code",
   "execution_count": 7,
   "id": "b1fd6842-d620-46c7-8b09-e63d508c9d38",
   "metadata": {},
   "outputs": [
    {
     "name": "stdout",
     "output_type": "stream",
     "text": [
      "this is right\n"
     ]
    }
   ],
   "source": [
    "a = 10\n",
    "if a ==10:\n",
    "    print(\"this is right\")"
   ]
  },
  {
   "cell_type": "code",
   "execution_count": 8,
   "id": "86ba91be-392c-439e-8640-22d7365da381",
   "metadata": {},
   "outputs": [],
   "source": [
    "a = 5\n",
    "if a ==10:\n",
    "    print(\"this is right\")"
   ]
  },
  {
   "cell_type": "code",
   "execution_count": null,
   "id": "5eb2675f-e9dc-458c-8195-2466770f16f3",
   "metadata": {},
   "outputs": [],
   "source": [
    "# if condition:\n",
    "#     code1\n",
    "#     code2\n",
    "# else:\n",
    "#     code1"
   ]
  },
  {
   "cell_type": "code",
   "execution_count": 9,
   "id": "cccce11d-e3f3-45e2-8be2-3299b13585b8",
   "metadata": {},
   "outputs": [
    {
     "name": "stdout",
     "output_type": "stream",
     "text": [
      "a is not equal to b\n"
     ]
    }
   ],
   "source": [
    "a = 20\n",
    "if a ==10:\n",
    "    print(\"a is equal to b\")\n",
    "else:\n",
    "    print(\"a is not equal to b\")"
   ]
  },
  {
   "cell_type": "code",
   "execution_count": 12,
   "id": "5ecd1c26-ceb4-4e2c-8b89-9acb3a71ccd1",
   "metadata": {},
   "outputs": [
    {
     "name": "stdout",
     "output_type": "stream",
     "text": [
      "a is not number\n"
     ]
    }
   ],
   "source": [
    "a=\"Hi\"\n",
    "if a==5:\n",
    "    print(\"a has value 5\")\n",
    "    print(\"--------\")\n",
    "if a==6:\n",
    "    print(\"a has value 6\")\n",
    "else:\n",
    "    print(\"a is not number\")"
   ]
  },
  {
   "cell_type": "code",
   "execution_count": null,
   "id": "ee3f69b1-ac57-4f17-accf-d3c65e9b4164",
   "metadata": {},
   "outputs": [],
   "source": [
    "# if condition:\n",
    "#     code1\n",
    "#     code2\n",
    "# if condition:\n",
    "#     code1\n",
    "#     code2\n",
    "# if condition:\n",
    "#     code"
   ]
  },
  {
   "cell_type": "code",
   "execution_count": 13,
   "id": "77a43797-874f-4f39-9328-5a2eebc43aca",
   "metadata": {},
   "outputs": [
    {
     "name": "stdout",
     "output_type": "stream",
     "text": [
      "x is equal\n"
     ]
    }
   ],
   "source": [
    "x = 40\n",
    "if x==10:\n",
    "    print(\"x is ! eqal\")\n",
    "if x ==30:\n",
    "    print(\"x is ! equal\")\n",
    "if x ==40:\n",
    "    print(\"x is equal\")"
   ]
  },
  {
   "cell_type": "code",
   "execution_count": null,
   "id": "9268f296-85d4-4b4c-802b-df7bede3ec9c",
   "metadata": {},
   "outputs": [],
   "source": [
    "# if condition:\n",
    "#     code1\n",
    "#     code2\n",
    "# elif condition:\n",
    "#     code1\n",
    "#     code2\n",
    "# elif condition:\n",
    "#     code1\n",
    "#     code2\n",
    "# else:\n",
    "#     code"
   ]
  },
  {
   "cell_type": "code",
   "execution_count": 1,
   "id": "58799515-a435-4e74-923c-be59bdcf0990",
   "metadata": {},
   "outputs": [
    {
     "name": "stdout",
     "output_type": "stream",
     "text": [
      "A grade\n",
      "b Grade\n",
      "c grade\n"
     ]
    }
   ],
   "source": [
    "a =95\n",
    "if a>90:\n",
    "    print(\"A grade\")\n",
    "if a>80:\n",
    "    print(\"b Grade\")\n",
    "if a > 70:\n",
    "    print(\"c grade\")"
   ]
  },
  {
   "cell_type": "code",
   "execution_count": 4,
   "id": "667b2358-be31-4038-aaa6-5ba59be60713",
   "metadata": {},
   "outputs": [
    {
     "name": "stdin",
     "output_type": "stream",
     "text": [
      "enter age : 19\n"
     ]
    },
    {
     "name": "stdout",
     "output_type": "stream",
     "text": [
      "your age is : 19\n",
      "Eligible\n"
     ]
    }
   ],
   "source": [
    "# Example 1 \n",
    "a1 = int(input(\"enter age :\"))\n",
    "print(\"your age is : {}\".format(a1))\n",
    "if a1 >=18:\n",
    "    print(\"Eligible\")\n",
    "else:\n",
    "    print(\"Not Eligible\")\n",
    "        "
   ]
  },
  {
   "cell_type": "code",
   "execution_count": 5,
   "id": "7da16874-2245-4c01-a112-40a16de82582",
   "metadata": {},
   "outputs": [
    {
     "data": {
      "text/plain": [
       "19"
      ]
     },
     "execution_count": 5,
     "metadata": {},
     "output_type": "execute_result"
    }
   ],
   "source": [
    "a1\n"
   ]
  },
  {
   "cell_type": "code",
   "execution_count": 12,
   "id": "60b3bedd-eb70-40a7-a014-043f6cd32619",
   "metadata": {},
   "outputs": [
    {
     "name": "stdout",
     "output_type": "stream",
     "text": [
      "2\n",
      "4\n",
      "6\n",
      "8\n",
      "10\n",
      "12\n",
      "14\n",
      "16\n",
      "18\n",
      "20\n",
      "22\n",
      "24\n",
      "26\n",
      "28\n",
      "30\n",
      "32\n",
      "34\n",
      "36\n",
      "38\n",
      "40\n",
      "42\n",
      "44\n",
      "46\n",
      "48\n",
      "50\n"
     ]
    }
   ],
   "source": [
    "# example 2\n",
    "# print even number using for loop\n",
    "\n",
    "for x in list(range(1,51)):\n",
    "    if x%2 ==0:\n",
    "        print(x)"
   ]
  },
  {
   "cell_type": "code",
   "execution_count": 21,
   "id": "12bb3a8b-ac8d-4dc3-b61b-ffb28c08faf2",
   "metadata": {},
   "outputs": [
    {
     "name": "stdout",
     "output_type": "stream",
     "text": [
      "1\n",
      "3\n",
      "5\n",
      "7\n",
      "9\n",
      "11\n",
      "13\n",
      "15\n",
      "17\n",
      "19\n",
      "21\n",
      "23\n",
      "25\n",
      "27\n",
      "29\n",
      "31\n",
      "33\n",
      "35\n",
      "37\n",
      "39\n"
     ]
    }
   ],
   "source": [
    "# print odd number using for loop\n",
    "for i in list(range(1,41)):\n",
    "    if i%2!=0:\n",
    "        print(i)"
   ]
  },
  {
   "cell_type": "code",
   "execution_count": 25,
   "id": "26fc3f4a-c77a-4759-99b9-09d92f702212",
   "metadata": {},
   "outputs": [],
   "source": [
    "# print odd number using for loop and store in list\n",
    "odd_N = []\n",
    "for m in list(range(1,40)):\n",
    "    if m%2!=0:\n",
    "        odd_N.append(m)"
   ]
  },
  {
   "cell_type": "code",
   "execution_count": 26,
   "id": "d2fcdc72-f829-4752-a24f-ed7a97143344",
   "metadata": {},
   "outputs": [
    {
     "data": {
      "text/plain": [
       "[1, 3, 5, 7, 9, 11, 13, 15, 17, 19, 21, 23, 25, 27, 29, 31, 33, 35, 37, 39]"
      ]
     },
     "execution_count": 26,
     "metadata": {},
     "output_type": "execute_result"
    }
   ],
   "source": [
    "odd_N"
   ]
  },
  {
   "cell_type": "code",
   "execution_count": 27,
   "id": "9f78be05-b4e3-4ecc-b990-01b66471aed7",
   "metadata": {},
   "outputs": [
    {
     "name": "stdout",
     "output_type": "stream",
     "text": [
      "0\n",
      "2\n",
      "4\n",
      "6\n",
      "8\n",
      "10\n",
      "12\n",
      "14\n",
      "16\n",
      "18\n",
      "20\n"
     ]
    }
   ],
   "source": [
    "for b in list(range(21)):\n",
    "    if b%2==0:\n",
    "        print(b)"
   ]
  },
  {
   "cell_type": "code",
   "execution_count": 28,
   "id": "09f6d1a1-fdf7-4e59-aaf7-6d95c75aea15",
   "metadata": {},
   "outputs": [],
   "source": [
    "even = []\n",
    "for b in list(range(21)):\n",
    "    if b%2==0:\n",
    "        even.append(b)"
   ]
  },
  {
   "cell_type": "code",
   "execution_count": 29,
   "id": "56f5f636-2b90-4ad1-b49b-68fa1557cb4c",
   "metadata": {},
   "outputs": [
    {
     "data": {
      "text/plain": [
       "[0, 2, 4, 6, 8, 10, 12, 14, 16, 18, 20]"
      ]
     },
     "execution_count": 29,
     "metadata": {},
     "output_type": "execute_result"
    }
   ],
   "source": [
    "even"
   ]
  },
  {
   "cell_type": "code",
   "execution_count": 30,
   "id": "9116bb8c-6d52-436f-9ce3-0691437059de",
   "metadata": {},
   "outputs": [
    {
     "name": "stdout",
     "output_type": "stream",
     "text": [
      "2\n",
      "4\n",
      "6\n",
      "8\n",
      "10\n",
      "12\n",
      "14\n",
      "16\n",
      "18\n",
      "20\n"
     ]
    }
   ],
   "source": [
    "for x in range(2,21,2):\n",
    "    print(x)\n"
   ]
  },
  {
   "cell_type": "code",
   "execution_count": 39,
   "id": "4d09cbff-f1b0-4748-813d-f07bfc315b2d",
   "metadata": {},
   "outputs": [
    {
     "name": "stdin",
     "output_type": "stream",
     "text": [
      "Enter phy marks:  45\n",
      "Enter che marks:  45\n",
      "Enter maths marks:  50\n"
     ]
    },
    {
     "name": "stdout",
     "output_type": "stream",
     "text": [
      "your marks in phy 45\n",
      "your marks in che 45\n",
      "your marks in maths 50\n",
      "46.666666666666664\n",
      "Pass\n"
     ]
    }
   ],
   "source": [
    "# examole 5\n",
    "phy = int(input(\"Enter phy marks: \"))\n",
    "che = int(input(\"Enter che marks: \"))\n",
    "maths = int(input(\"Enter maths marks: \"))\n",
    "\n",
    "print(\"your marks in phy {}\".format(phy))\n",
    "print(\"your marks in che {}\".format(che))\n",
    "print(\"your marks in maths {}\".format(maths))\n",
    "\n",
    "average = (phy+che+maths)/3\n",
    "print(average)\n",
    "\n",
    "if average > 35 :\n",
    "    print(\"Pass\")\n",
    "else:\n",
    "    print(\"try next time\")\n"
   ]
  },
  {
   "cell_type": "code",
   "execution_count": 40,
   "id": "1a77b683-69ef-48a4-835a-4d47b6d36b38",
   "metadata": {},
   "outputs": [
    {
     "name": "stdin",
     "output_type": "stream",
     "text": [
      "Enter phy marks:  25\n",
      "Enter che marks:  35\n",
      "Enter maths marks:  34\n"
     ]
    },
    {
     "name": "stdout",
     "output_type": "stream",
     "text": [
      "your marks in phy 25\n",
      "your marks in che 35\n",
      "your marks in maths 34\n",
      "31.333333333333332\n",
      "try next time\n"
     ]
    }
   ],
   "source": [
    "phy = int(input(\"Enter phy marks: \"))\n",
    "che = int(input(\"Enter che marks: \"))\n",
    "maths = int(input(\"Enter maths marks: \"))\n",
    "\n",
    "print(\"your marks in phy {}\".format(phy))\n",
    "print(\"your marks in che {}\".format(che))\n",
    "print(\"your marks in maths {}\".format(maths))\n",
    "\n",
    "average = (phy+che+maths)/3\n",
    "print(average)\n",
    "\n",
    "if average > 35 :\n",
    "    print(\"Pass\")\n",
    "else:\n",
    "    print(\"try next time\")"
   ]
  },
  {
   "cell_type": "code",
   "execution_count": 42,
   "id": "b6f66911-8111-4db2-aef7-958d0033cdd9",
   "metadata": {},
   "outputs": [
    {
     "name": "stdin",
     "output_type": "stream",
     "text": [
      "Enter you age:  60\n"
     ]
    },
    {
     "name": "stdout",
     "output_type": "stream",
     "text": [
      "You are  eligible to vote\n",
      "You  can ask office for assistance to vote \n"
     ]
    }
   ],
   "source": [
    "age_candidate  = int(input(\"Enter you age: \"))\n",
    "\n",
    "\n",
    "if 0 < age_candidate < 18:\n",
    "    print(\"You are not eligible to vote\")\n",
    "elif 18 <= age_candidate < 45:\n",
    "    print(\"You are  eligible to vote\")\n",
    "elif 45 <= age_candidate < 60:\n",
    "    print(\"You are  eligible to vote\")\n",
    "    print(\"You  must exercise your rights properly\")\n",
    "elif 60 <= age_candidate < 99:\n",
    "    print(\"You are  eligible to vote\")\n",
    "    print(\"You  can ask office for assistance to vote \")\n",
    "else:\n",
    "    print(\"Enter yor age properly\")"
   ]
  },
  {
   "cell_type": "code",
   "execution_count": 44,
   "id": "f7397a6e-5789-4a24-9fb6-eb9012ace2f9",
   "metadata": {},
   "outputs": [
    {
     "name": "stdin",
     "output_type": "stream",
     "text": [
      "Enter you age:  100\n"
     ]
    },
    {
     "name": "stdout",
     "output_type": "stream",
     "text": [
      "Enter yor age properly\n"
     ]
    }
   ],
   "source": [
    "age_candidate  = int(input(\"Enter you age: \"))\n",
    "\n",
    "\n",
    "if 0 < age_candidate < 18:\n",
    "    print(\"You are not eligible to vote\")\n",
    "elif 18 <= age_candidate < 45:\n",
    "    print(\"You are  eligible to vote\")\n",
    "elif 45 <= age_candidate < 60:\n",
    "    print(\"You are  eligible to vote\")\n",
    "    print(\"You  must exercise your rights properly\")\n",
    "elif 60 <= age_candidate < 99:\n",
    "    print(\"You are  eligible to vote\")\n",
    "    print(\"You  can ask office for assistance to vote \")\n",
    "else:\n",
    "    print(\"Enter yor age properly\")"
   ]
  },
  {
   "cell_type": "code",
   "execution_count": 49,
   "id": "ae34499b-3743-42ea-b2a5-1d3984436898",
   "metadata": {},
   "outputs": [
    {
     "name": "stdin",
     "output_type": "stream",
     "text": [
      "Enter you age:  45\n"
     ]
    },
    {
     "name": "stdout",
     "output_type": "stream",
     "text": [
      "You are  eligible to vote\n",
      "You  must exercise your rights properly\n"
     ]
    }
   ],
   "source": [
    "age_candidate  = int(input(\"Enter you age: \"))\n",
    "\n",
    "\n",
    "if 0 < age_candidate <= 18:\n",
    "    print(\"You are not eligible to vote\")\n",
    "elif 45 <= age_candidate <= 60:\n",
    "    print(\"You are  eligible to vote\")\n",
    "    print(\"You  must exercise your rights properly\")\n",
    "elif 18 <= age_candidate <= 45:\n",
    "    print(\"You are  eligible to vote\")\n",
    "elif 60 <= age_candidate <= 99:\n",
    "    print(\"You are  eligible to vote\")\n",
    "    print(\"You  can ask office for assistance to vote \")\n",
    "else:\n",
    "    print(\"Enter yor age properly\")"
   ]
  },
  {
   "cell_type": "code",
   "execution_count": null,
   "id": "1ad7a016-78af-47f5-9642-3b76c7b41546",
   "metadata": {},
   "outputs": [],
   "source": [
    "# iterate over the list items \n",
    "a = [1,2,3,4,\"5\",\"6\",\"7\",\"Hello\",\"World\",True,False,\"Houndred\"] \n",
    "\n",
    "# Q.1 Print only True and false\n",
    "# Q.2 Print only int\n",
    "# Q.3 Print only those string that contains \"l\"\n",
    "# Q.4 Print only those string that contains \"l\" at 3rd position #\"Hello\"\n",
    "\n",
    "# Hint:- Use if condition"
   ]
  },
  {
   "cell_type": "code",
   "execution_count": null,
   "id": "dd504387-e3b2-4c0a-9111-82890d478473",
   "metadata": {},
   "outputs": [],
   "source": [
    "a = [1,2,3,4,\"5\",\"6\",\"7\",\"Hello\",\"World\",True,False,\"Houndred\"] "
   ]
  },
  {
   "cell_type": "code",
   "execution_count": null,
   "id": "55d6f092-81f1-4b20-a4be-43ad3ab0e4e4",
   "metadata": {},
   "outputs": [],
   "source": [
    "if a ==true:\n",
    "    print(true\")"
   ]
  },
  {
   "cell_type": "code",
   "execution_count": 2,
   "id": "fe5a38c1-1de3-4819-89ce-60ea317fef57",
   "metadata": {},
   "outputs": [
    {
     "name": "stdout",
     "output_type": "stream",
     "text": [
      "True\n",
      "False\n"
     ]
    }
   ],
   "source": [
    "# Q.1 Print only True and false\n",
    "a = [1,2,3,4,\"5\",\"6\",\"7\",\"Hello\",\"World\",True,False,\"Houndred\"]\n",
    "for element in a:\n",
    "    if isinstance(element, bool):\n",
    "        print(element)"
   ]
  },
  {
   "cell_type": "code",
   "execution_count": 6,
   "id": "3a9d3e30-9a35-4c6c-a5ee-d4b4f0cbc848",
   "metadata": {},
   "outputs": [
    {
     "name": "stdout",
     "output_type": "stream",
     "text": [
      "True\n",
      "False\n"
     ]
    }
   ],
   "source": [
    "# Q.1 Print only True and false\n",
    "a = [1,2,3,4,\"5\",\"6\",\"7\",\"Hello\",\"World\",True,False,\"Houndred\"]\n",
    "for i in a:\n",
    "    if type(i) ==bool:\n",
    "        print(i)"
   ]
  },
  {
   "cell_type": "code",
   "execution_count": 3,
   "id": "833a58c7-7540-47f9-b3a3-1c1b324cb0ff",
   "metadata": {},
   "outputs": [
    {
     "name": "stdout",
     "output_type": "stream",
     "text": [
      "1\n",
      "2\n",
      "3\n",
      "4\n"
     ]
    }
   ],
   "source": [
    "# Q.2 Print only int\n",
    "for x in a:\n",
    "    if type(x) ==int:\n",
    "        print(x)"
   ]
  },
  {
   "cell_type": "code",
   "execution_count": 5,
   "id": "9f50a87e-c0f5-4a11-950d-9b008ef56772",
   "metadata": {},
   "outputs": [
    {
     "name": "stdout",
     "output_type": "stream",
     "text": [
      "Hello\n",
      "World\n"
     ]
    }
   ],
   "source": [
    "# Q.3 Print only those string that contains \"l\"\n",
    "for x in a:\n",
    "    if type(x)==str:\n",
    "        if \"l\" in x:\n",
    "            print(x)"
   ]
  },
  {
   "cell_type": "code",
   "execution_count": 4,
   "id": "24282e4e-e558-4c9d-94fe-74a817e40db5",
   "metadata": {},
   "outputs": [
    {
     "name": "stdout",
     "output_type": "stream",
     "text": [
      "Hello\n"
     ]
    }
   ],
   "source": [
    "# Q.4 Print only those string that contains \"l\" at 3rd position #\"Hello\"\n",
    "for i in a: \n",
    "    if type(i)==str:\n",
    "        if len(i)>3:\n",
    "            if i[2] == \"l\":\n",
    "                print(i)"
   ]
  },
  {
   "cell_type": "code",
   "execution_count": 3,
   "id": "351c835f-f3f9-4a20-9995-4fa23e02e02c",
   "metadata": {},
   "outputs": [],
   "source": [
    "a = [1,2,3,4,\"5\",\"6\",\"7\",\"Hello\",\"World\",True,False,\"Houndred\"]"
   ]
  },
  {
   "cell_type": "code",
   "execution_count": null,
   "id": "75d0df14-c06d-4f6c-9391-2d4a4181adcb",
   "metadata": {},
   "outputs": [],
   "source": []
  }
 ],
 "metadata": {
  "kernelspec": {
   "display_name": "Python 3 (ipykernel)",
   "language": "python",
   "name": "python3"
  },
  "language_info": {
   "codemirror_mode": {
    "name": "ipython",
    "version": 3
   },
   "file_extension": ".py",
   "mimetype": "text/x-python",
   "name": "python",
   "nbconvert_exporter": "python",
   "pygments_lexer": "ipython3",
   "version": "3.11.9"
  }
 },
 "nbformat": 4,
 "nbformat_minor": 5
}
