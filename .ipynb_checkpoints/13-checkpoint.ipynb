{
 "cells": [
  {
   "cell_type": "code",
   "execution_count": null,
   "id": "9dc4bd61-c06c-4a51-b70a-edf35d23f53e",
   "metadata": {},
   "outputs": [],
   "source": [
    "# Tuple\n",
    "# A tuple is a collection which is ordered and unchangeable (Immutable) and allow duplicates.\n",
    "# Tuples are written with round brackets."
   ]
  },
  {
   "cell_type": "code",
   "execution_count": 1,
   "id": "a1543cb7-3cbf-4b73-8452-b781834defbb",
   "metadata": {},
   "outputs": [],
   "source": [
    "a1 = (20,20,340,50)"
   ]
  },
  {
   "cell_type": "code",
   "execution_count": 2,
   "id": "917ebb74-59c5-435e-b0ce-325b2c79c79a",
   "metadata": {},
   "outputs": [
    {
     "data": {
      "text/plain": [
       "tuple"
      ]
     },
     "execution_count": 2,
     "metadata": {},
     "output_type": "execute_result"
    }
   ],
   "source": [
    "type(a1)"
   ]
  },
  {
   "cell_type": "code",
   "execution_count": 3,
   "id": "118774da-21a4-4a31-a5a2-b5162ec5667f",
   "metadata": {},
   "outputs": [],
   "source": [
    "a1 = 40,43,45"
   ]
  },
  {
   "cell_type": "code",
   "execution_count": 4,
   "id": "0ec3b547-3745-40e0-9e27-e63d6226f6fc",
   "metadata": {},
   "outputs": [
    {
     "data": {
      "text/plain": [
       "tuple"
      ]
     },
     "execution_count": 4,
     "metadata": {},
     "output_type": "execute_result"
    }
   ],
   "source": [
    "type(a1)"
   ]
  },
  {
   "cell_type": "code",
   "execution_count": 5,
   "id": "8af720d2-b051-4d07-b3b7-b2a42dadfdc3",
   "metadata": {},
   "outputs": [
    {
     "data": {
      "text/plain": [
       "3"
      ]
     },
     "execution_count": 5,
     "metadata": {},
     "output_type": "execute_result"
    }
   ],
   "source": [
    "len(a1)"
   ]
  },
  {
   "cell_type": "code",
   "execution_count": 7,
   "id": "c0e36d5c-827d-45a3-ad78-864c9e2ea5a6",
   "metadata": {},
   "outputs": [
    {
     "data": {
      "text/plain": [
       "43"
      ]
     },
     "execution_count": 7,
     "metadata": {},
     "output_type": "execute_result"
    }
   ],
   "source": [
    "a1[1]"
   ]
  },
  {
   "cell_type": "code",
   "execution_count": 8,
   "id": "0c30c300-ec13-496e-a0b5-c94ebdbdcc1b",
   "metadata": {},
   "outputs": [
    {
     "data": {
      "text/plain": [
       "(43, 45)"
      ]
     },
     "execution_count": 8,
     "metadata": {},
     "output_type": "execute_result"
    }
   ],
   "source": [
    "a1[1:]"
   ]
  },
  {
   "cell_type": "code",
   "execution_count": 9,
   "id": "f7ec06ca-4db1-4c6a-8735-d66f0e9eb47d",
   "metadata": {},
   "outputs": [
    {
     "data": {
      "text/plain": [
       "(40, 43, 45)"
      ]
     },
     "execution_count": 9,
     "metadata": {},
     "output_type": "execute_result"
    }
   ],
   "source": [
    "a1[::]"
   ]
  },
  {
   "cell_type": "code",
   "execution_count": 10,
   "id": "b922a436-dc9f-4634-8f1c-12388c212593",
   "metadata": {},
   "outputs": [
    {
     "data": {
      "text/plain": [
       "(45, 43, 40)"
      ]
     },
     "execution_count": 10,
     "metadata": {},
     "output_type": "execute_result"
    }
   ],
   "source": [
    "a1[::-1]"
   ]
  },
  {
   "cell_type": "code",
   "execution_count": null,
   "id": "054b8276-b675-491d-b400-f32f41b5a5c8",
   "metadata": {},
   "outputs": [],
   "source": [
    "# tuples methods\n",
    "1] index \n",
    "2] count"
   ]
  },
  {
   "cell_type": "code",
   "execution_count": 11,
   "id": "c91b8b37-dcef-4e09-a8e8-6d3606995d9d",
   "metadata": {},
   "outputs": [],
   "source": [
    "numbers = (1,5,6,7,8,5,3,35)"
   ]
  },
  {
   "cell_type": "code",
   "execution_count": 13,
   "id": "c2c8fc36-f72f-40ef-8f70-885a1ed00cd7",
   "metadata": {},
   "outputs": [
    {
     "data": {
      "text/plain": [
       "3"
      ]
     },
     "execution_count": 13,
     "metadata": {},
     "output_type": "execute_result"
    }
   ],
   "source": [
    "numbers.index(7)"
   ]
  },
  {
   "cell_type": "code",
   "execution_count": 14,
   "id": "936dba10-8eca-4b68-a710-c74b84433430",
   "metadata": {},
   "outputs": [
    {
     "data": {
      "text/plain": [
       "1"
      ]
     },
     "execution_count": 14,
     "metadata": {},
     "output_type": "execute_result"
    }
   ],
   "source": [
    "numbers.index(5)"
   ]
  },
  {
   "cell_type": "code",
   "execution_count": 15,
   "id": "1aa94b9a-2f8b-4961-b273-cb192704adc0",
   "metadata": {},
   "outputs": [
    {
     "data": {
      "text/plain": [
       "2"
      ]
     },
     "execution_count": 15,
     "metadata": {},
     "output_type": "execute_result"
    }
   ],
   "source": [
    "numbers.count(5)"
   ]
  },
  {
   "cell_type": "code",
   "execution_count": 16,
   "id": "10ebf18a-0fcd-4314-9eb1-dc173163aed5",
   "metadata": {},
   "outputs": [
    {
     "data": {
      "text/plain": [
       "1"
      ]
     },
     "execution_count": 16,
     "metadata": {},
     "output_type": "execute_result"
    }
   ],
   "source": [
    "numbers.count(8)"
   ]
  },
  {
   "cell_type": "code",
   "execution_count": null,
   "id": "34ac5e46-7cba-4b54-82be-71055873d921",
   "metadata": {},
   "outputs": [],
   "source": [
    "# fumctions\n",
    "min \n",
    "max\n",
    "sorted"
   ]
  },
  {
   "cell_type": "code",
   "execution_count": 17,
   "id": "3ed371f3-890f-46b5-933d-01dda1b5bc62",
   "metadata": {},
   "outputs": [
    {
     "data": {
      "text/plain": [
       "1"
      ]
     },
     "execution_count": 17,
     "metadata": {},
     "output_type": "execute_result"
    }
   ],
   "source": [
    "min(numbers)"
   ]
  },
  {
   "cell_type": "code",
   "execution_count": 18,
   "id": "6c049af8-4cb2-49df-ad55-fa6ae6d58949",
   "metadata": {},
   "outputs": [
    {
     "data": {
      "text/plain": [
       "35"
      ]
     },
     "execution_count": 18,
     "metadata": {},
     "output_type": "execute_result"
    }
   ],
   "source": [
    "max(numbers)"
   ]
  },
  {
   "cell_type": "code",
   "execution_count": 20,
   "id": "c7385073-0344-41d2-9f74-843aec18660c",
   "metadata": {},
   "outputs": [],
   "source": [
    "numbers = (1,5,6,7,8,5,3,35)"
   ]
  },
  {
   "cell_type": "code",
   "execution_count": 19,
   "id": "b1b92ed4-ed94-47b0-9dec-f66998a26b91",
   "metadata": {},
   "outputs": [
    {
     "data": {
      "text/plain": [
       "[1, 3, 5, 5, 6, 7, 8, 35]"
      ]
     },
     "execution_count": 19,
     "metadata": {},
     "output_type": "execute_result"
    }
   ],
   "source": [
    "sorted(numbers)"
   ]
  },
  {
   "cell_type": "code",
   "execution_count": 21,
   "id": "e661d11e-14aa-4586-b3cc-64021050f10f",
   "metadata": {},
   "outputs": [
    {
     "data": {
      "text/plain": [
       "[35, 8, 7, 6, 5, 5, 3, 1]"
      ]
     },
     "execution_count": 21,
     "metadata": {},
     "output_type": "execute_result"
    }
   ],
   "source": [
    "sorted(numbers,reverse=True)"
   ]
  },
  {
   "cell_type": "code",
   "execution_count": 22,
   "id": "e41396e5-1777-42d2-9e4b-703df6974159",
   "metadata": {},
   "outputs": [
    {
     "data": {
      "text/plain": [
       "[1, 3, 5, 5, 6, 7, 8, 35]"
      ]
     },
     "execution_count": 22,
     "metadata": {},
     "output_type": "execute_result"
    }
   ],
   "source": [
    "sorted(numbers,reverse=False)"
   ]
  },
  {
   "cell_type": "code",
   "execution_count": null,
   "id": "67a5351b-ebe0-4889-b3dd-79f22d6e9a5f",
   "metadata": {},
   "outputs": [],
   "source": [
    "# Editing a tuple\n",
    "# converting to list (type casting)\n"
   ]
  },
  {
   "cell_type": "code",
   "execution_count": 38,
   "id": "b67df2db-4b89-4db4-be37-2589114f46ea",
   "metadata": {},
   "outputs": [
    {
     "name": "stdout",
     "output_type": "stream",
     "text": [
      "(29, 30, 31, 32, 33)\n"
     ]
    }
   ],
   "source": [
    "x = (29,30,31,32,33)\n",
    "print(x)\n"
   ]
  },
  {
   "cell_type": "code",
   "execution_count": 39,
   "id": "f17f5f76-f0e9-4b81-86ad-e0a18f38e39f",
   "metadata": {},
   "outputs": [],
   "source": [
    "y =list(x)     # Tuple converted into list"
   ]
  },
  {
   "cell_type": "code",
   "execution_count": 40,
   "id": "12125564-f182-4578-bd2b-977f9c971738",
   "metadata": {},
   "outputs": [
    {
     "data": {
      "text/plain": [
       "[29, 30, 31, 32, 33]"
      ]
     },
     "execution_count": 40,
     "metadata": {},
     "output_type": "execute_result"
    }
   ],
   "source": [
    "y"
   ]
  },
  {
   "cell_type": "code",
   "execution_count": 41,
   "id": "dab4d8ca-4b09-4a70-9d6a-ea32330be8ff",
   "metadata": {},
   "outputs": [
    {
     "data": {
      "text/plain": [
       "[29, 30, 31, 32, 33, 34]"
      ]
     },
     "execution_count": 41,
     "metadata": {},
     "output_type": "execute_result"
    }
   ],
   "source": [
    "y.append(34)\n",
    "y"
   ]
  },
  {
   "cell_type": "code",
   "execution_count": 42,
   "id": "5fbdb848-3fcb-4da3-a51f-1b9b4b04b6ef",
   "metadata": {},
   "outputs": [],
   "source": [
    "z=tuple(y)"
   ]
  },
  {
   "cell_type": "code",
   "execution_count": 43,
   "id": "4da004af-05ac-4da2-9a0f-6626962e8271",
   "metadata": {},
   "outputs": [
    {
     "data": {
      "text/plain": [
       "(29, 30, 31, 32, 33, 34)"
      ]
     },
     "execution_count": 43,
     "metadata": {},
     "output_type": "execute_result"
    }
   ],
   "source": [
    "z"
   ]
  },
  {
   "cell_type": "code",
   "execution_count": null,
   "id": "94051852-ae6b-41f0-b86b-41aeed499e5a",
   "metadata": {},
   "outputs": [],
   "source": [
    "# all list methods you can apply in tuple after converting tuple into list"
   ]
  },
  {
   "cell_type": "code",
   "execution_count": null,
   "id": "629f2b46-d384-4d30-a598-37a777c1dddb",
   "metadata": {},
   "outputs": [],
   "source": [
    "# unpacking"
   ]
  },
  {
   "cell_type": "code",
   "execution_count": 45,
   "id": "dac6c920-23f4-4536-bdef-8993bb31c0f2",
   "metadata": {},
   "outputs": [],
   "source": [
    "a, b , c = 10,20,30"
   ]
  },
  {
   "cell_type": "code",
   "execution_count": 46,
   "id": "b5bae4b0-4ac0-4151-a0e7-9a21dc5c14ec",
   "metadata": {},
   "outputs": [
    {
     "data": {
      "text/plain": [
       "10"
      ]
     },
     "execution_count": 46,
     "metadata": {},
     "output_type": "execute_result"
    }
   ],
   "source": [
    "a"
   ]
  },
  {
   "cell_type": "code",
   "execution_count": 47,
   "id": "7c7c8587-524a-4e45-b7a5-c78388c7a1b5",
   "metadata": {},
   "outputs": [
    {
     "data": {
      "text/plain": [
       "20"
      ]
     },
     "execution_count": 47,
     "metadata": {},
     "output_type": "execute_result"
    }
   ],
   "source": [
    "b"
   ]
  },
  {
   "cell_type": "code",
   "execution_count": 48,
   "id": "a5f9dc45-6dcc-461c-89ca-c1b4abe2df79",
   "metadata": {},
   "outputs": [
    {
     "data": {
      "text/plain": [
       "30"
      ]
     },
     "execution_count": 48,
     "metadata": {},
     "output_type": "execute_result"
    }
   ],
   "source": [
    "c"
   ]
  },
  {
   "cell_type": "code",
   "execution_count": 54,
   "id": "2fbfa417-bb48-4e60-8f4a-950602cfe638",
   "metadata": {},
   "outputs": [],
   "source": [
    "m = 4,44,444,4444"
   ]
  },
  {
   "cell_type": "code",
   "execution_count": 55,
   "id": "d4abc7af-5d69-433d-a714-a43734d9f01f",
   "metadata": {},
   "outputs": [
    {
     "data": {
      "text/plain": [
       "(4, 44, 444, 4444)"
      ]
     },
     "execution_count": 55,
     "metadata": {},
     "output_type": "execute_result"
    }
   ],
   "source": [
    "m"
   ]
  },
  {
   "cell_type": "code",
   "execution_count": 56,
   "id": "a2024997-e698-471c-860c-389a13bf19a8",
   "metadata": {},
   "outputs": [
    {
     "name": "stdout",
     "output_type": "stream",
     "text": [
      "4\n",
      "44\n",
      "444\n",
      "4444\n"
     ]
    }
   ],
   "source": [
    "a,b,c,d = m\n",
    "print(a)\n",
    "print(b)\n",
    "print(c)\n",
    "print(d)"
   ]
  },
  {
   "cell_type": "code",
   "execution_count": 57,
   "id": "1ddbbfa8-8357-46be-99b2-081836973267",
   "metadata": {},
   "outputs": [
    {
     "data": {
      "text/plain": [
       "(4, 44, 444, 4444)"
      ]
     },
     "execution_count": 57,
     "metadata": {},
     "output_type": "execute_result"
    }
   ],
   "source": [
    "m"
   ]
  },
  {
   "cell_type": "code",
   "execution_count": 58,
   "id": "84b677d1-91ce-4516-a098-1fb6979e37ad",
   "metadata": {},
   "outputs": [
    {
     "data": {
      "text/plain": [
       "44"
      ]
     },
     "execution_count": 58,
     "metadata": {},
     "output_type": "execute_result"
    }
   ],
   "source": [
    "_ ,f, _ ,_= m   # palce holder\n",
    "f"
   ]
  },
  {
   "cell_type": "code",
   "execution_count": 59,
   "id": "9233b667-6aec-4365-8828-7ec42bc76bf9",
   "metadata": {},
   "outputs": [
    {
     "data": {
      "text/plain": [
       "4444"
      ]
     },
     "execution_count": 59,
     "metadata": {},
     "output_type": "execute_result"
    }
   ],
   "source": [
    "_"
   ]
  },
  {
   "cell_type": "code",
   "execution_count": 60,
   "id": "21dddf33-6959-41a1-a4d3-75eee35ad799",
   "metadata": {},
   "outputs": [
    {
     "data": {
      "text/plain": [
       "4444"
      ]
     },
     "execution_count": 60,
     "metadata": {},
     "output_type": "execute_result"
    }
   ],
   "source": [
    "_"
   ]
  },
  {
   "cell_type": "code",
   "execution_count": 61,
   "id": "0b30b520-4bba-4b63-80c0-7a7ca5d159c6",
   "metadata": {},
   "outputs": [],
   "source": [
    "f,_,_,_ =m"
   ]
  },
  {
   "cell_type": "code",
   "execution_count": 62,
   "id": "4af86512-cd26-4a30-a2a8-930a9da61cc3",
   "metadata": {},
   "outputs": [
    {
     "data": {
      "text/plain": [
       "4"
      ]
     },
     "execution_count": 62,
     "metadata": {},
     "output_type": "execute_result"
    }
   ],
   "source": [
    "f"
   ]
  },
  {
   "cell_type": "code",
   "execution_count": 63,
   "id": "cca0d0b3-968b-439c-83e7-829f484deb68",
   "metadata": {},
   "outputs": [
    {
     "data": {
      "text/plain": [
       "4444"
      ]
     },
     "execution_count": 63,
     "metadata": {},
     "output_type": "execute_result"
    }
   ],
   "source": [
    "_"
   ]
  },
  {
   "cell_type": "code",
   "execution_count": 64,
   "id": "5b5099ad-6a82-4454-bf6a-22f0102dcf4c",
   "metadata": {},
   "outputs": [],
   "source": [
    "#       0     1    2    3\n",
    "city = ('P', 'U', 'N', 'E') #packing "
   ]
  },
  {
   "cell_type": "code",
   "execution_count": 66,
   "id": "c5d99a13-7b35-4f51-9593-0dd06ca1868d",
   "metadata": {},
   "outputs": [
    {
     "name": "stdout",
     "output_type": "stream",
     "text": [
      "P\n",
      "N\n",
      "U\n"
     ]
    }
   ],
   "source": [
    "print(city[0])\n",
    "print(city[2])\n",
    "print(city[1])"
   ]
  },
  {
   "cell_type": "code",
   "execution_count": 67,
   "id": "af9f91dc-fe2a-4cfc-b0cc-4b86cdbcc6c6",
   "metadata": {},
   "outputs": [
    {
     "name": "stdout",
     "output_type": "stream",
     "text": [
      "P\n",
      "U\n",
      "N\n",
      "E\n"
     ]
    }
   ],
   "source": [
    "a ,b ,c ,d = city #unpacking\n",
    "\n",
    "print(a)\n",
    "print(b)\n",
    "print(c)\n",
    "print(d)"
   ]
  },
  {
   "cell_type": "code",
   "execution_count": 69,
   "id": "bd055e1f-76b4-4b51-8c0e-ac01291b8235",
   "metadata": {},
   "outputs": [
    {
     "name": "stdout",
     "output_type": "stream",
     "text": [
      "2 4 6 8\n",
      "1 3 5 7 9\n",
      "3\n",
      "6\n",
      "8\n"
     ]
    }
   ],
   "source": [
    "# palce holder\n",
    "\n",
    "t_num = (1,2,3,4,5,6,7,8,9)\n",
    "\n",
    "a,b,c,d,e,f,g,h,i = t_num\n",
    "_,b,_,d,_,f,_,h,_ = t_num \n",
    "\n",
    "print(b,d,f,h)   # we need even numbers\n",
    "print(a,c,e,g,i)\n",
    "print(c)\n",
    "print(f)\n",
    "print(h)"
   ]
  },
  {
   "cell_type": "code",
   "execution_count": null,
   "id": "732ec3b8-1404-4300-8c9e-9f2da5093709",
   "metadata": {},
   "outputs": [],
   "source": []
  }
 ],
 "metadata": {
  "kernelspec": {
   "display_name": "Python 3 (ipykernel)",
   "language": "python",
   "name": "python3"
  },
  "language_info": {
   "codemirror_mode": {
    "name": "ipython",
    "version": 3
   },
   "file_extension": ".py",
   "mimetype": "text/x-python",
   "name": "python",
   "nbconvert_exporter": "python",
   "pygments_lexer": "ipython3",
   "version": "3.11.9"
  }
 },
 "nbformat": 4,
 "nbformat_minor": 5
}
