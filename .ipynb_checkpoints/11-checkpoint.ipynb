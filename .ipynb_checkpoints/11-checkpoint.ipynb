{
 "cells": [
  {
   "cell_type": "code",
   "execution_count": null,
   "id": "c479b2ac-18e6-41cc-a03f-0bd57a7635bb",
   "metadata": {},
   "outputs": [],
   "source": [
    "#LIST\n",
    "List\n",
    "    The list is an ordered sequence of mixed data type.\n",
    "    List is mutable."
   ]
  },
  {
   "cell_type": "code",
   "execution_count": 4,
   "id": "5caf12e5-7ed8-4296-b799-e2a035ec365b",
   "metadata": {},
   "outputs": [
    {
     "data": {
      "text/plain": [
       "5"
      ]
     },
     "execution_count": 4,
     "metadata": {},
     "output_type": "execute_result"
    }
   ],
   "source": [
    "a1 = [1,2,3,4,5]\n",
    "len(a1)\n"
   ]
  },
  {
   "cell_type": "code",
   "execution_count": 5,
   "id": "30cdb888-4b53-448c-bb3a-f2cd4f2b8bfb",
   "metadata": {},
   "outputs": [
    {
     "data": {
      "text/plain": [
       "list"
      ]
     },
     "execution_count": 5,
     "metadata": {},
     "output_type": "execute_result"
    }
   ],
   "source": [
    "type(a1)"
   ]
  },
  {
   "cell_type": "code",
   "execution_count": 6,
   "id": "5e97faea-5a2a-4d9a-b7bf-647e670b3823",
   "metadata": {},
   "outputs": [
    {
     "name": "stdout",
     "output_type": "stream",
     "text": [
      "4\n"
     ]
    }
   ],
   "source": [
    "print(a1[3])"
   ]
  },
  {
   "cell_type": "code",
   "execution_count": 7,
   "id": "bc372261-9f18-4e36-b614-bb7c29392707",
   "metadata": {},
   "outputs": [
    {
     "name": "stdout",
     "output_type": "stream",
     "text": [
      "1\n"
     ]
    }
   ],
   "source": [
    "print(a1[0])"
   ]
  },
  {
   "cell_type": "code",
   "execution_count": null,
   "id": "48f16ca0-6b60-4ced-a78f-d9ffbb572ac9",
   "metadata": {},
   "outputs": [],
   "source": [
    "# iterate over the list items \n",
    "a = [1,2,3,4,\"5\",\"6\",\"7\",\"Hello\",\"World\",True,False,\"Houndred\"] "
   ]
  },
  {
   "cell_type": "code",
   "execution_count": 14,
   "id": "5d8058d0-af0a-4ac1-9cc1-d879d4323d8e",
   "metadata": {},
   "outputs": [
    {
     "name": "stdout",
     "output_type": "stream",
     "text": [
      "1\n",
      "2\n",
      "3\n",
      "4\n",
      "5\n",
      "6\n",
      "7\n",
      "Hello\n",
      "World\n",
      "True\n",
      "False\n",
      "Houndred\n"
     ]
    }
   ],
   "source": [
    "for  x in a:\n",
    "    print(x)"
   ]
  },
  {
   "cell_type": "code",
   "execution_count": 1,
   "id": "ddaf4d09-5e45-4985-8138-0f2df7b43518",
   "metadata": {},
   "outputs": [
    {
     "data": {
      "text/plain": [
       "['mango', 'apple', 'banana']"
      ]
     },
     "execution_count": 1,
     "metadata": {},
     "output_type": "execute_result"
    }
   ],
   "source": [
    "fruits = [\"mango\",\"apple\",\"banana\"]\n",
    "fruits"
   ]
  },
  {
   "cell_type": "code",
   "execution_count": 3,
   "id": "182dfcb4-71e6-4e18-84db-4d359996fc8e",
   "metadata": {},
   "outputs": [
    {
     "name": "stdout",
     "output_type": "stream",
     "text": [
      "mango\n",
      "apple\n",
      "banana\n"
     ]
    }
   ],
   "source": [
    "for x in fruits:\n",
    "    print (x)"
   ]
  },
  {
   "cell_type": "code",
   "execution_count": 6,
   "id": "732036e2-0e7f-43b0-a9ef-e5eb09afb0e8",
   "metadata": {},
   "outputs": [
    {
     "name": "stdout",
     "output_type": "stream",
     "text": [
      "['mango', 'apple', 'banana']\n"
     ]
    }
   ],
   "source": [
    "print(fruits)"
   ]
  },
  {
   "cell_type": "code",
   "execution_count": null,
   "id": "7518f85e-fadb-45ea-88cb-5c1b2f706510",
   "metadata": {},
   "outputs": [],
   "source": [
    "# example of list"
   ]
  },
  {
   "cell_type": "code",
   "execution_count": 7,
   "id": "9d398e88-0500-42a1-8f44-16541dad416c",
   "metadata": {},
   "outputs": [],
   "source": [
    "a1 = [2,5.5,\"Python\",True]"
   ]
  },
  {
   "cell_type": "code",
   "execution_count": 8,
   "id": "dc30a0d5-8cf9-4b5e-9342-c6eda85e374f",
   "metadata": {},
   "outputs": [
    {
     "name": "stdout",
     "output_type": "stream",
     "text": [
      "[2, 5.5, 'Python', True]\n"
     ]
    },
    {
     "data": {
      "text/plain": [
       "4"
      ]
     },
     "execution_count": 8,
     "metadata": {},
     "output_type": "execute_result"
    }
   ],
   "source": [
    "print(a1)\n",
    "len(a1)"
   ]
  },
  {
   "cell_type": "code",
   "execution_count": 9,
   "id": "dbdd5f83-f720-4bac-af17-0064c181a991",
   "metadata": {},
   "outputs": [
    {
     "data": {
      "text/plain": [
       "[True, 'Python', 5.5]"
      ]
     },
     "execution_count": 9,
     "metadata": {},
     "output_type": "execute_result"
    }
   ],
   "source": [
    "a1[-1:-4:-1]"
   ]
  },
  {
   "cell_type": "code",
   "execution_count": 10,
   "id": "83859c53-b851-493f-aebd-f7e4f97b7719",
   "metadata": {},
   "outputs": [
    {
     "data": {
      "text/plain": [
       "[True, 'Python', 5.5, 2]"
      ]
     },
     "execution_count": 10,
     "metadata": {},
     "output_type": "execute_result"
    }
   ],
   "source": [
    "a1[::-1]"
   ]
  },
  {
   "cell_type": "code",
   "execution_count": 11,
   "id": "bb4c007b-4484-4e63-add4-1a321bffc4af",
   "metadata": {},
   "outputs": [
    {
     "data": {
      "text/plain": [
       "[]"
      ]
     },
     "execution_count": 11,
     "metadata": {},
     "output_type": "execute_result"
    }
   ],
   "source": [
    "a1[0:4:-1]"
   ]
  },
  {
   "cell_type": "code",
   "execution_count": 12,
   "id": "19cfaba2-4b92-4734-b086-0e1f5b061b02",
   "metadata": {},
   "outputs": [
    {
     "data": {
      "text/plain": [
       "'t'"
      ]
     },
     "execution_count": 12,
     "metadata": {},
     "output_type": "execute_result"
    }
   ],
   "source": [
    "'pyhton'[3]"
   ]
  },
  {
   "cell_type": "code",
   "execution_count": 15,
   "id": "b4735818-6621-40b2-b175-e74d9c3f6593",
   "metadata": {},
   "outputs": [
    {
     "data": {
      "text/plain": [
       "'Python'"
      ]
     },
     "execution_count": 15,
     "metadata": {},
     "output_type": "execute_result"
    }
   ],
   "source": [
    "a1[-2]"
   ]
  },
  {
   "cell_type": "code",
   "execution_count": 17,
   "id": "b98d5e36-8122-47c3-9dbe-bc7139e1f88b",
   "metadata": {},
   "outputs": [
    {
     "data": {
      "text/plain": [
       "5.5"
      ]
     },
     "execution_count": 17,
     "metadata": {},
     "output_type": "execute_result"
    }
   ],
   "source": [
    "a1[-3]"
   ]
  },
  {
   "cell_type": "code",
   "execution_count": 18,
   "id": "e0ff4594-c737-4368-8a8f-9885c2061364",
   "metadata": {},
   "outputs": [
    {
     "data": {
      "text/plain": [
       "bool"
      ]
     },
     "execution_count": 18,
     "metadata": {},
     "output_type": "execute_result"
    }
   ],
   "source": [
    "type(a1[3])"
   ]
  },
  {
   "cell_type": "code",
   "execution_count": 19,
   "id": "2fd84478-76bb-4e1f-b948-761d16cf8e12",
   "metadata": {},
   "outputs": [
    {
     "data": {
      "text/plain": [
       "str"
      ]
     },
     "execution_count": 19,
     "metadata": {},
     "output_type": "execute_result"
    }
   ],
   "source": [
    "type(a1[2])"
   ]
  },
  {
   "cell_type": "code",
   "execution_count": 20,
   "id": "4d9c0a8b-2708-4530-8d42-9d3625baf133",
   "metadata": {},
   "outputs": [
    {
     "data": {
      "text/plain": [
       "float"
      ]
     },
     "execution_count": 20,
     "metadata": {},
     "output_type": "execute_result"
    }
   ],
   "source": [
    "type(a1[1])"
   ]
  },
  {
   "cell_type": "code",
   "execution_count": 21,
   "id": "af6ff161-ec8f-4409-9169-8e1cacbad6b1",
   "metadata": {},
   "outputs": [
    {
     "data": {
      "text/plain": [
       "list"
      ]
     },
     "execution_count": 21,
     "metadata": {},
     "output_type": "execute_result"
    }
   ],
   "source": [
    "type(a1)"
   ]
  },
  {
   "cell_type": "code",
   "execution_count": 23,
   "id": "c023e2ad-e660-484b-8c19-86c068aa5cf0",
   "metadata": {},
   "outputs": [
    {
     "name": "stdout",
     "output_type": "stream",
     "text": [
      "2\n",
      "3\n",
      "4\n",
      "5\n",
      "6\n",
      "7\n",
      "8\n",
      "9\n",
      "10\n",
      "11\n",
      "12\n",
      "13\n",
      "14\n",
      "15\n",
      "16\n",
      "17\n",
      "18\n",
      "19\n"
     ]
    }
   ],
   "source": [
    "for x in range(2,20):\n",
    "    print( x)"
   ]
  },
  {
   "cell_type": "code",
   "execution_count": 24,
   "id": "eb2c8aa5-e8f4-4c50-962e-60d5d8b90222",
   "metadata": {},
   "outputs": [
    {
     "name": "stdout",
     "output_type": "stream",
     "text": [
      "2\n",
      "4\n",
      "6\n",
      "8\n",
      "10\n",
      "12\n",
      "14\n",
      "16\n",
      "18\n",
      "20\n"
     ]
    }
   ],
   "source": [
    "x = 2\n",
    "while(x<=20):\n",
    "    print(x)\n",
    "    x = x + 2"
   ]
  },
  {
   "cell_type": "code",
   "execution_count": 1,
   "id": "a25429e9-36fb-4326-ac32-690166e9a18b",
   "metadata": {},
   "outputs": [
    {
     "name": "stdout",
     "output_type": "stream",
     "text": [
      "2\n",
      "4\n",
      "6\n",
      "8\n",
      "10\n",
      "12\n",
      "14\n",
      "16\n",
      "18\n",
      "20\n"
     ]
    }
   ],
   "source": [
    "for x in range(2,21,2):\n",
    "    print(x)"
   ]
  },
  {
   "cell_type": "code",
   "execution_count": 2,
   "id": "d395434e-24d6-49a9-b742-3cb34de2d0f4",
   "metadata": {},
   "outputs": [
    {
     "data": {
      "text/plain": [
       "range(0, 10)"
      ]
     },
     "execution_count": 2,
     "metadata": {},
     "output_type": "execute_result"
    }
   ],
   "source": [
    "range(10)"
   ]
  },
  {
   "cell_type": "code",
   "execution_count": 3,
   "id": "691922d7-d0bb-43de-b44a-96451bbe6841",
   "metadata": {},
   "outputs": [
    {
     "data": {
      "text/plain": [
       "[0, 1, 2, 3, 4, 5, 6, 7, 8, 9]"
      ]
     },
     "execution_count": 3,
     "metadata": {},
     "output_type": "execute_result"
    }
   ],
   "source": [
    "list(range(10))"
   ]
  },
  {
   "cell_type": "code",
   "execution_count": 4,
   "id": "99242123-32ef-46cc-81b1-0225c4afeb10",
   "metadata": {},
   "outputs": [
    {
     "data": {
      "text/plain": [
       "[0, 1, 2, 3, 4, 5, 6, 7, 8, 9]"
      ]
     },
     "execution_count": 4,
     "metadata": {},
     "output_type": "execute_result"
    }
   ],
   "source": [
    "list(range(0,10))"
   ]
  },
  {
   "cell_type": "code",
   "execution_count": 6,
   "id": "7cfdf40e-42c2-4edb-b1ba-ac1ba2211f66",
   "metadata": {},
   "outputs": [
    {
     "data": {
      "text/plain": [
       "[0, 2, 4, 6, 8]"
      ]
     },
     "execution_count": 6,
     "metadata": {},
     "output_type": "execute_result"
    }
   ],
   "source": [
    "list(range(0,10,2))"
   ]
  },
  {
   "cell_type": "code",
   "execution_count": 7,
   "id": "dccedc07-27bf-494a-8617-1d80f5d334bd",
   "metadata": {},
   "outputs": [
    {
     "data": {
      "text/plain": [
       "[1, 4, 7]"
      ]
     },
     "execution_count": 7,
     "metadata": {},
     "output_type": "execute_result"
    }
   ],
   "source": [
    "list(range(1,10,3))      "
   ]
  },
  {
   "cell_type": "code",
   "execution_count": null,
   "id": "fe959916-26e9-4ff9-9e58-4af1fb37f4d4",
   "metadata": {},
   "outputs": [],
   "source": [
    "#eg. Create table of 5\n",
    "# 1) using list\n",
    "# 2) using for loop"
   ]
  },
  {
   "cell_type": "code",
   "execution_count": 8,
   "id": "2b0cafae-76d8-4f21-81fa-8e84cc17e37b",
   "metadata": {},
   "outputs": [
    {
     "name": "stdout",
     "output_type": "stream",
     "text": [
      "5\n",
      "10\n",
      "15\n",
      "20\n",
      "25\n",
      "30\n",
      "35\n",
      "40\n",
      "45\n",
      "50\n"
     ]
    }
   ],
   "source": [
    "for x in range(5,51,5):\n",
    "    print(x)"
   ]
  },
  {
   "cell_type": "code",
   "execution_count": 9,
   "id": "98b88eb9-bfef-477d-be11-76c8c5c45d18",
   "metadata": {},
   "outputs": [
    {
     "data": {
      "text/plain": [
       "[5, 10, 15, 20, 25, 30, 35, 40, 45, 50]"
      ]
     },
     "execution_count": 9,
     "metadata": {},
     "output_type": "execute_result"
    }
   ],
   "source": [
    "list(range(5,51,5))"
   ]
  },
  {
   "cell_type": "code",
   "execution_count": 60,
   "id": "106fabbd-8c35-4edc-a30e-a60c55f3d69c",
   "metadata": {},
   "outputs": [
    {
     "name": "stdout",
     "output_type": "stream",
     "text": [
      " 5 * 6  =  5\n",
      " 5 * 11  =  10\n",
      " 5 * 16  =  15\n",
      " 5 * 21  =  20\n",
      " 5 * 26  =  25\n",
      " 5 * 31  =  30\n",
      " 5 * 36  =  35\n",
      " 5 * 41  =  40\n",
      " 5 * 46  =  45\n",
      " 5 * 51  =  50\n"
     ]
    }
   ],
   "source": [
    "for x in range(5,51,5):\n",
    "    print(f\" 5 * {x+1}  = \", x)\n",
    "    "
   ]
  },
  {
   "cell_type": "code",
   "execution_count": 23,
   "id": "6b3ea61a-1f29-488b-826c-77731adbd7e5",
   "metadata": {},
   "outputs": [],
   "source": [
    "a= [1, 2, 3, 4, '5', '6', '7', 'Hello', 'World', True, False]\n"
   ]
  },
  {
   "cell_type": "code",
   "execution_count": 24,
   "id": "4782c680-5cba-4a98-8e90-96124516caaa",
   "metadata": {},
   "outputs": [
    {
     "data": {
      "text/plain": [
       "11"
      ]
     },
     "execution_count": 24,
     "metadata": {},
     "output_type": "execute_result"
    }
   ],
   "source": [
    "len(a)"
   ]
  },
  {
   "cell_type": "code",
   "execution_count": 25,
   "id": "45494bbb-7183-4299-a81c-18fad00292a2",
   "metadata": {},
   "outputs": [
    {
     "data": {
      "text/plain": [
       "4"
      ]
     },
     "execution_count": 25,
     "metadata": {},
     "output_type": "execute_result"
    }
   ],
   "source": [
    "a[3]"
   ]
  },
  {
   "cell_type": "code",
   "execution_count": 26,
   "id": "ba66789e-5013-4821-b1ca-a428a7c75d29",
   "metadata": {},
   "outputs": [
    {
     "data": {
      "text/plain": [
       "'6'"
      ]
     },
     "execution_count": 26,
     "metadata": {},
     "output_type": "execute_result"
    }
   ],
   "source": [
    "a[-6]"
   ]
  },
  {
   "cell_type": "code",
   "execution_count": 27,
   "id": "a1edaecf-7ed6-49b8-89cb-1e93951c291d",
   "metadata": {},
   "outputs": [
    {
     "name": "stdout",
     "output_type": "stream",
     "text": [
      "1\n",
      "2\n",
      "3\n",
      "4\n",
      "5\n",
      "6\n",
      "7\n",
      "Hello\n",
      "World\n",
      "True\n",
      "False\n"
     ]
    }
   ],
   "source": [
    "for x in a:\n",
    "    print(x)"
   ]
  },
  {
   "cell_type": "code",
   "execution_count": 29,
   "id": "9b9bb177-5cce-47fb-b6a8-4c1fdf6321b6",
   "metadata": {},
   "outputs": [
    {
     "data": {
      "text/plain": [
       "[0, 1, 2, 3, 4, 5, 6, 7, 8, 9, 10]"
      ]
     },
     "execution_count": 29,
     "metadata": {},
     "output_type": "execute_result"
    }
   ],
   "source": [
    "list(range(len(a)))"
   ]
  },
  {
   "cell_type": "code",
   "execution_count": 30,
   "id": "3b0b1a58-88a0-42ce-b34d-9d601431b324",
   "metadata": {},
   "outputs": [
    {
     "data": {
      "text/plain": [
       "[0, 1, 2, 3, 4, 5, 6, 7, 8, 9, 10]"
      ]
     },
     "execution_count": 30,
     "metadata": {},
     "output_type": "execute_result"
    }
   ],
   "source": [
    "list(range(len(a)))"
   ]
  },
  {
   "cell_type": "code",
   "execution_count": null,
   "id": "03ebb212-7adf-4bb7-858e-d39d9b30375c",
   "metadata": {},
   "outputs": [],
   "source": [
    "#can we iterate item in list using range?"
   ]
  },
  {
   "cell_type": "code",
   "execution_count": 34,
   "id": "48f1ab49-9222-4b25-944a-30c2a9f4fb71",
   "metadata": {},
   "outputs": [
    {
     "name": "stdout",
     "output_type": "stream",
     "text": [
      "1\n",
      "2\n",
      "3\n",
      "4\n",
      "5\n",
      "6\n",
      "7\n",
      "Hello\n",
      "World\n",
      "True\n",
      "False\n"
     ]
    }
   ],
   "source": [
    "for x in range(len(a)):\n",
    "    print(a[x])"
   ]
  },
  {
   "cell_type": "code",
   "execution_count": 35,
   "id": "790db618-8c5d-48de-b1d0-d4c33dc4e2ef",
   "metadata": {},
   "outputs": [],
   "source": [
    "a1 = [\"mango\" , \"apple\" , 21, 45,True]"
   ]
  },
  {
   "cell_type": "code",
   "execution_count": 36,
   "id": "9d7e6ce9-8e3d-4683-8e23-2efaede14ade",
   "metadata": {},
   "outputs": [
    {
     "data": {
      "text/plain": [
       "5"
      ]
     },
     "execution_count": 36,
     "metadata": {},
     "output_type": "execute_result"
    }
   ],
   "source": [
    "len(a1)"
   ]
  },
  {
   "cell_type": "code",
   "execution_count": 37,
   "id": "ab3139ae-9f22-4cc0-b4b4-33a22a004faa",
   "metadata": {},
   "outputs": [
    {
     "name": "stdout",
     "output_type": "stream",
     "text": [
      "mango\n",
      "apple\n",
      "21\n",
      "45\n",
      "True\n"
     ]
    }
   ],
   "source": [
    "for x in a1:\n",
    "    print(x)       #using for loop"
   ]
  },
  {
   "cell_type": "code",
   "execution_count": 40,
   "id": "418581b8-73ad-4c3a-a052-15aa0ca55b9d",
   "metadata": {},
   "outputs": [
    {
     "name": "stdout",
     "output_type": "stream",
     "text": [
      "mango\n",
      "apple\n",
      "21\n",
      "45\n",
      "True\n"
     ]
    }
   ],
   "source": [
    "for x in range(len(a1)):\n",
    "    print(a1[x])   # using for loop range"
   ]
  },
  {
   "cell_type": "code",
   "execution_count": 41,
   "id": "42fbddfa-5bb8-4cbc-8f1e-1f3e4410017a",
   "metadata": {},
   "outputs": [
    {
     "name": "stdout",
     "output_type": "stream",
     "text": [
      "mango\n",
      "apple\n",
      "21\n",
      "45\n",
      "True\n"
     ]
    }
   ],
   "source": [
    "for i in range(len(a1)):\n",
    "    print(a1[i])"
   ]
  },
  {
   "cell_type": "code",
   "execution_count": null,
   "id": "cc593bc9-1fb1-4134-8c38-c48213ce215d",
   "metadata": {},
   "outputs": [],
   "source": []
  },
  {
   "cell_type": "code",
   "execution_count": null,
   "id": "c90f8620-b03b-467e-acb5-3491e4d0b04a",
   "metadata": {},
   "outputs": [],
   "source": [
    "# day15 th"
   ]
  },
  {
   "cell_type": "code",
   "execution_count": 43,
   "id": "a62b6702-62bf-42be-976e-25c839bee449",
   "metadata": {},
   "outputs": [],
   "source": [
    "name = [\"ruchika\",\"alka\",\"payal\",\"sarah\",\"deepika\"] "
   ]
  },
  {
   "cell_type": "code",
   "execution_count": 44,
   "id": "b475e0c2-aa23-47cf-8ca8-6f27cfc85204",
   "metadata": {},
   "outputs": [
    {
     "data": {
      "text/plain": [
       "5"
      ]
     },
     "execution_count": 44,
     "metadata": {},
     "output_type": "execute_result"
    }
   ],
   "source": [
    "len(name)"
   ]
  },
  {
   "cell_type": "code",
   "execution_count": 49,
   "id": "b189bc78-96eb-4702-94cf-ae1b41e3d665",
   "metadata": {},
   "outputs": [
    {
     "data": {
      "text/plain": [
       "[0, 1, 2, 3, 4]"
      ]
     },
     "execution_count": 49,
     "metadata": {},
     "output_type": "execute_result"
    }
   ],
   "source": [
    "list(range(len(name)))"
   ]
  },
  {
   "cell_type": "code",
   "execution_count": 50,
   "id": "c3f7568e-6ad1-4870-867f-e7b582d4d991",
   "metadata": {},
   "outputs": [
    {
     "name": "stdout",
     "output_type": "stream",
     "text": [
      "ruchika\n",
      "alka\n",
      "payal\n",
      "sarah\n",
      "deepika\n"
     ]
    }
   ],
   "source": [
    "for x in name:\n",
    "    print(x)"
   ]
  },
  {
   "cell_type": "code",
   "execution_count": 51,
   "id": "4f087646-7a8f-4786-9ff0-e4f33a8387de",
   "metadata": {},
   "outputs": [
    {
     "name": "stdout",
     "output_type": "stream",
     "text": [
      "ruchika\n",
      "alka\n",
      "payal\n",
      "sarah\n",
      "deepika\n"
     ]
    }
   ],
   "source": [
    "for x in range(len(name)):\n",
    "    print(name[x])"
   ]
  },
  {
   "cell_type": "code",
   "execution_count": 52,
   "id": "839ab3e1-2b4c-4acb-8b61-85e8ffcb3628",
   "metadata": {},
   "outputs": [
    {
     "data": {
      "text/plain": [
       "'payal'"
      ]
     },
     "execution_count": 52,
     "metadata": {},
     "output_type": "execute_result"
    }
   ],
   "source": [
    "name[2]"
   ]
  },
  {
   "cell_type": "code",
   "execution_count": 57,
   "id": "9fe16265-5732-43e9-b7b1-6b490047bee6",
   "metadata": {},
   "outputs": [
    {
     "data": {
      "text/plain": [
       "[1, 2, 3, 4, 5, 6, 7, 8, 9]"
      ]
     },
     "execution_count": 57,
     "metadata": {},
     "output_type": "execute_result"
    }
   ],
   "source": [
    "z=list(range(1,10))\n",
    "z"
   ]
  },
  {
   "cell_type": "code",
   "execution_count": 56,
   "id": "8e83353d-3309-4cde-a6a1-23f7c8b0f040",
   "metadata": {},
   "outputs": [],
   "source": [
    "# Que:Create table of 5 in the following format\n",
    "#     5*1 = 5\n",
    "#     5*2 = 10\n",
    "#     -\n",
    "#     -\n",
    "#     5*10 = 50"
   ]
  },
  {
   "cell_type": "code",
   "execution_count": 59,
   "id": "38761b99-be24-4d0d-857f-9452ffe38c58",
   "metadata": {},
   "outputs": [
    {
     "name": "stdout",
     "output_type": "stream",
     "text": [
      "5 * 1 =  5\n",
      "5 * 2 =  10\n",
      "5 * 3 =  15\n",
      "5 * 4 =  20\n",
      "5 * 5 =  25\n",
      "5 * 6 =  30\n",
      "5 * 7 =  35\n",
      "5 * 8 =  40\n",
      "5 * 9 =  45\n",
      "5 * 10 =  50\n"
     ]
    }
   ],
   "source": [
    "z = range(5,51,5)\n",
    "for x in range(len(z)):\n",
    "    print(f\"5 * {x+1} = \",z[x])"
   ]
  },
  {
   "cell_type": "code",
   "execution_count": 4,
   "id": "e657ce48-4e35-4808-8e09-00478b75395d",
   "metadata": {},
   "outputs": [],
   "source": [
    "b = range(2,21,2)\n"
   ]
  },
  {
   "cell_type": "code",
   "execution_count": 6,
   "id": "0dff8d8f-480f-47e0-89ca-501eb0ac2474",
   "metadata": {},
   "outputs": [
    {
     "name": "stdout",
     "output_type": "stream",
     "text": [
      "2 * 1 =  2\n",
      "2 * 2 =  4\n",
      "2 * 3 =  6\n",
      "2 * 4 =  8\n",
      "2 * 5 =  10\n",
      "2 * 6 =  12\n",
      "2 * 7 =  14\n",
      "2 * 8 =  16\n",
      "2 * 9 =  18\n",
      "2 * 10 =  20\n"
     ]
    }
   ],
   "source": [
    "for a in range(len(b)):\n",
    "    print(f\"2 * {a+1} = \",b[a])"
   ]
  },
  {
   "cell_type": "code",
   "execution_count": 64,
   "id": "5806976d-5dcd-4571-8968-1c72d9abb501",
   "metadata": {},
   "outputs": [
    {
     "name": "stdout",
     "output_type": "stream",
     "text": [
      "0 *6 =  0\n",
      "1 *6 =  6\n",
      "2 *6 =  12\n",
      "3 *6 =  18\n",
      "4 *6 =  24\n",
      "5 *6 =  30\n",
      "6 *6 =  36\n",
      "7 *6 =  42\n",
      "8 *6 =  48\n",
      "9 *6 =  54\n"
     ]
    }
   ],
   "source": [
    "a=range(6,61,6)\n",
    "for i in range(len(a)):\n",
    "    print(i,\"*6 = \",i*6)\n",
    "    "
   ]
  },
  {
   "cell_type": "code",
   "execution_count": 66,
   "id": "a124026b-2390-413f-9e90-ff84f103b8c9",
   "metadata": {},
   "outputs": [
    {
     "name": "stdout",
     "output_type": "stream",
     "text": [
      "1 * 6 =  6\n",
      "2 * 6 =  12\n",
      "3 * 6 =  18\n",
      "4 * 6 =  24\n",
      "5 * 6 =  30\n",
      "6 * 6 =  36\n",
      "7 * 6 =  42\n",
      "8 * 6 =  48\n",
      "9 * 6 =  54\n"
     ]
    }
   ],
   "source": [
    "a=range(6,61,6)\n",
    "for x in range(len(a)):\n",
    "    if (x==0):\n",
    "        continue\n",
    "    print(x,\"* 6 = \",x*6)"
   ]
  },
  {
   "cell_type": "code",
   "execution_count": 7,
   "id": "327c48b9-b5a1-43eb-bf64-74ab23f44018",
   "metadata": {},
   "outputs": [
    {
     "name": "stdout",
     "output_type": "stream",
     "text": [
      " 3 * 1 =  3\n",
      " 3 * 2 =  6\n",
      " 3 * 3 =  9\n",
      " 3 * 4 =  12\n",
      " 3 * 5 =  15\n",
      " 3 * 6 =  18\n",
      " 3 * 7 =  21\n",
      " 3 * 8 =  24\n",
      " 3 * 9 =  27\n",
      " 3 * 10 =  30\n"
     ]
    }
   ],
   "source": [
    "m = range(3,31,3)\n",
    "for n in range(len(m)):\n",
    "    print(f\" 3 * {n + 1} = \", m[n])"
   ]
  },
  {
   "cell_type": "code",
   "execution_count": 11,
   "id": "d953e08f-d1ea-4be8-91cb-15ab5d3664f9",
   "metadata": {},
   "outputs": [],
   "source": [
    "# ### Slicing\n",
    "#a[starting_index:ending_index:jump]\n",
    "# All Elements\n",
    "name = [\"ruchika\",\"alka\",\"payal\",\"sarah\",\"deepika\"] "
   ]
  },
  {
   "cell_type": "code",
   "execution_count": 12,
   "id": "0bcc7761-8992-413d-9a6b-34bed46bef50",
   "metadata": {},
   "outputs": [
    {
     "name": "stdout",
     "output_type": "stream",
     "text": [
      "['sarah', 'deepika']\n"
     ]
    }
   ],
   "source": [
    "print(name[3:])"
   ]
  },
  {
   "cell_type": "code",
   "execution_count": 69,
   "id": "c6ff84dd-2313-48c2-9878-44b3e87d0e03",
   "metadata": {},
   "outputs": [
    {
     "name": "stdout",
     "output_type": "stream",
     "text": [
      "['payal', 'sarah']\n"
     ]
    }
   ],
   "source": [
    "print(name[2:4])"
   ]
  },
  {
   "cell_type": "code",
   "execution_count": 70,
   "id": "3d360c27-2564-4d06-8dc1-9c26f17b36d1",
   "metadata": {},
   "outputs": [
    {
     "name": "stdout",
     "output_type": "stream",
     "text": [
      "['sarah', 'deepika']\n"
     ]
    }
   ],
   "source": [
    "print(name[3:5])"
   ]
  },
  {
   "cell_type": "code",
   "execution_count": 71,
   "id": "a3e0276e-fdb2-4a89-88d4-d22cc9dae1f8",
   "metadata": {},
   "outputs": [
    {
     "name": "stdout",
     "output_type": "stream",
     "text": [
      "['ruchika', 'alka', 'payal']\n"
     ]
    }
   ],
   "source": [
    "print(name[:3])"
   ]
  },
  {
   "cell_type": "code",
   "execution_count": 73,
   "id": "d71b93ae-cac3-4295-ae7c-8e51d0c0ab4a",
   "metadata": {},
   "outputs": [
    {
     "name": "stdout",
     "output_type": "stream",
     "text": [
      "['ruchika', 'alka', 'payal', 'sarah', 'deepika']\n"
     ]
    }
   ],
   "source": [
    "print(name[::])"
   ]
  },
  {
   "cell_type": "code",
   "execution_count": 74,
   "id": "6059327a-db75-4048-8485-0ec93f061ecb",
   "metadata": {},
   "outputs": [
    {
     "name": "stdout",
     "output_type": "stream",
     "text": [
      "['deepika', 'sarah', 'payal', 'alka', 'ruchika']\n"
     ]
    }
   ],
   "source": [
    "print(name[::-1])"
   ]
  },
  {
   "cell_type": "code",
   "execution_count": null,
   "id": "5016e2fe-e325-4cd0-aac6-4c47d76b1f26",
   "metadata": {},
   "outputs": [],
   "source": [
    "# ------------------------Concatenate"
   ]
  },
  {
   "cell_type": "code",
   "execution_count": 76,
   "id": "ddaf367a-a929-4096-985c-a931b5cb8494",
   "metadata": {},
   "outputs": [],
   "source": [
    "m = [10,20,30]\n",
    "n = [3,4,5]"
   ]
  },
  {
   "cell_type": "code",
   "execution_count": 77,
   "id": "30ee125a-2540-4229-98c1-e6adfafd1749",
   "metadata": {},
   "outputs": [
    {
     "data": {
      "text/plain": [
       "list"
      ]
     },
     "execution_count": 77,
     "metadata": {},
     "output_type": "execute_result"
    }
   ],
   "source": [
    "type(m)"
   ]
  },
  {
   "cell_type": "code",
   "execution_count": 78,
   "id": "137aea59-6c54-4787-bfd5-98320ecd7edd",
   "metadata": {},
   "outputs": [
    {
     "data": {
      "text/plain": [
       "[10, 20, 30, 3, 4, 5]"
      ]
     },
     "execution_count": 78,
     "metadata": {},
     "output_type": "execute_result"
    }
   ],
   "source": [
    "m + n"
   ]
  },
  {
   "cell_type": "code",
   "execution_count": 80,
   "id": "81d79a56-7aaf-41cc-a8d7-9a3db049b769",
   "metadata": {},
   "outputs": [
    {
     "data": {
      "text/plain": [
       "[3, 4, 5, 10, 20, 30]"
      ]
     },
     "execution_count": 80,
     "metadata": {},
     "output_type": "execute_result"
    }
   ],
   "source": [
    "n + m"
   ]
  },
  {
   "cell_type": "code",
   "execution_count": 81,
   "id": "99e25fe2-dafd-469a-a131-5db4725c1264",
   "metadata": {},
   "outputs": [
    {
     "data": {
      "text/plain": [
       "[10, 20, 30, 3, 4, 5]"
      ]
     },
     "execution_count": 81,
     "metadata": {},
     "output_type": "execute_result"
    }
   ],
   "source": [
    "c = m + n\n",
    "c"
   ]
  },
  {
   "cell_type": "code",
   "execution_count": 82,
   "id": "3e910992-deb2-439a-be7c-6fd420f2cda2",
   "metadata": {},
   "outputs": [
    {
     "data": {
      "text/plain": [
       "[10, 20, 30]"
      ]
     },
     "execution_count": 82,
     "metadata": {},
     "output_type": "execute_result"
    }
   ],
   "source": [
    "m"
   ]
  },
  {
   "cell_type": "code",
   "execution_count": 83,
   "id": "04fd129a-9ee6-46fe-98b5-b75a0714d776",
   "metadata": {},
   "outputs": [
    {
     "data": {
      "text/plain": [
       "[3, 4, 5]"
      ]
     },
     "execution_count": 83,
     "metadata": {},
     "output_type": "execute_result"
    }
   ],
   "source": [
    "n"
   ]
  },
  {
   "cell_type": "code",
   "execution_count": 84,
   "id": "05d71880-cb03-40ce-b804-77ec52c7a3b7",
   "metadata": {},
   "outputs": [
    {
     "ename": "TypeError",
     "evalue": "can only concatenate list (not \"int\") to list",
     "output_type": "error",
     "traceback": [
      "\u001b[1;31m---------------------------------------------------------------------------\u001b[0m",
      "\u001b[1;31mTypeError\u001b[0m                                 Traceback (most recent call last)",
      "Cell \u001b[1;32mIn[84], line 1\u001b[0m\n\u001b[1;32m----> 1\u001b[0m m \u001b[38;5;241m+\u001b[39m \u001b[38;5;241m20\u001b[39m\n",
      "\u001b[1;31mTypeError\u001b[0m: can only concatenate list (not \"int\") to list"
     ]
    }
   ],
   "source": [
    "m + 20 # Number not concatenated in list\n",
    "       # To concat we need all variables list"
   ]
  },
  {
   "cell_type": "code",
   "execution_count": 85,
   "id": "471a9f0d-7e6a-40a2-a438-d46abd62b120",
   "metadata": {},
   "outputs": [
    {
     "data": {
      "text/plain": [
       "[10, 20, 30, 10, 20, 30]"
      ]
     },
     "execution_count": 85,
     "metadata": {},
     "output_type": "execute_result"
    }
   ],
   "source": [
    " m * 2          #Replicate 2 (must be int) times"
   ]
  },
  {
   "cell_type": "code",
   "execution_count": 86,
   "id": "cebc51ae-a270-4c22-ae06-1c1dd560a89b",
   "metadata": {},
   "outputs": [
    {
     "data": {
      "text/plain": [
       "[3, 4, 5, 3, 4, 5, 3, 4, 5]"
      ]
     },
     "execution_count": 86,
     "metadata": {},
     "output_type": "execute_result"
    }
   ],
   "source": [
    "n * 3"
   ]
  },
  {
   "cell_type": "code",
   "execution_count": 87,
   "id": "41bbfab2-dc4f-4f94-8128-690a9604de62",
   "metadata": {},
   "outputs": [
    {
     "ename": "TypeError",
     "evalue": "can't multiply sequence by non-int of type 'float'",
     "output_type": "error",
     "traceback": [
      "\u001b[1;31m---------------------------------------------------------------------------\u001b[0m",
      "\u001b[1;31mTypeError\u001b[0m                                 Traceback (most recent call last)",
      "Cell \u001b[1;32mIn[87], line 1\u001b[0m\n\u001b[1;32m----> 1\u001b[0m m \u001b[38;5;241m*\u001b[39m \u001b[38;5;241m1.2\u001b[39m\n",
      "\u001b[1;31mTypeError\u001b[0m: can't multiply sequence by non-int of type 'float'"
     ]
    }
   ],
   "source": [
    "m * 1.2    #can't multiply sequence by non-int of type 'float'"
   ]
  },
  {
   "cell_type": "code",
   "execution_count": 98,
   "id": "e504c7c4-014e-4171-b500-54acfc075ef5",
   "metadata": {},
   "outputs": [],
   "source": [
    "\n",
    "a = [1,2,3,[4,5,6,[7,8]],9,10]"
   ]
  },
  {
   "cell_type": "code",
   "execution_count": 99,
   "id": "cfe0da33-8756-424b-9d7a-6beefd245c73",
   "metadata": {},
   "outputs": [
    {
     "data": {
      "text/plain": [
       "1"
      ]
     },
     "execution_count": 99,
     "metadata": {},
     "output_type": "execute_result"
    }
   ],
   "source": [
    "a[0]\n"
   ]
  },
  {
   "cell_type": "code",
   "execution_count": 111,
   "id": "20cd2a4e-9f22-4001-910b-2b4586afb0da",
   "metadata": {},
   "outputs": [
    {
     "data": {
      "text/plain": [
       "2"
      ]
     },
     "execution_count": 111,
     "metadata": {},
     "output_type": "execute_result"
    }
   ],
   "source": [
    "a[1]"
   ]
  },
  {
   "cell_type": "code",
   "execution_count": 102,
   "id": "1bad9721-6ef5-47ee-882c-3afcaa2dc0d4",
   "metadata": {},
   "outputs": [
    {
     "name": "stdout",
     "output_type": "stream",
     "text": [
      "[4, 5, 6, [7, 8]]\n"
     ]
    }
   ],
   "source": [
    "print (a[3])"
   ]
  },
  {
   "cell_type": "code",
   "execution_count": 108,
   "id": "410a842c-0da7-4568-a528-7547ae59519d",
   "metadata": {},
   "outputs": [
    {
     "name": "stdout",
     "output_type": "stream",
     "text": [
      "8\n"
     ]
    }
   ],
   "source": [
    "print(a[3][3][1])"
   ]
  },
  {
   "cell_type": "code",
   "execution_count": 109,
   "id": "7e6c3822-1daa-4f0e-834b-217d66d67620",
   "metadata": {},
   "outputs": [
    {
     "name": "stdout",
     "output_type": "stream",
     "text": [
      "9\n"
     ]
    }
   ],
   "source": [
    "print(a[4])"
   ]
  },
  {
   "cell_type": "code",
   "execution_count": 110,
   "id": "e0004055-84ac-4e12-bde2-ed81c5b128ef",
   "metadata": {},
   "outputs": [
    {
     "name": "stdout",
     "output_type": "stream",
     "text": [
      "6\n"
     ]
    }
   ],
   "source": [
    "print(a[3][2])"
   ]
  },
  {
   "cell_type": "code",
   "execution_count": null,
   "id": "a6ef7553-f650-45dc-bfbf-a2d4f533a85b",
   "metadata": {},
   "outputs": [],
   "source": [
    "#replace 8 to 88 9 to 999"
   ]
  },
  {
   "cell_type": "code",
   "execution_count": 112,
   "id": "0ae33925-28da-4663-9fa5-94e1188688c3",
   "metadata": {},
   "outputs": [
    {
     "name": "stdout",
     "output_type": "stream",
     "text": [
      "[1, 2, 3, [4, 5, 6, [7, 88]], 9, 10]\n"
     ]
    }
   ],
   "source": [
    "a[3][3][1] = 88\n",
    "print(a)"
   ]
  },
  {
   "cell_type": "code",
   "execution_count": 114,
   "id": "cb262948-911a-412e-8be4-303e73c70019",
   "metadata": {},
   "outputs": [
    {
     "data": {
      "text/plain": [
       "[1, 2, 3, [4, 5, 6, [7, 88]], 999, 10]"
      ]
     },
     "execution_count": 114,
     "metadata": {},
     "output_type": "execute_result"
    }
   ],
   "source": [
    "a[4] = 999\n",
    "a"
   ]
  },
  {
   "cell_type": "code",
   "execution_count": null,
   "id": "88d0e794-4030-4b00-b316-34069d99e307",
   "metadata": {},
   "outputs": [],
   "source": [
    "# list is mutable"
   ]
  },
  {
   "cell_type": "code",
   "execution_count": null,
   "id": "b331ce9e-638a-4003-a762-4808c76940c1",
   "metadata": {},
   "outputs": [],
   "source": [
    "# list methods\n",
    "1] append()\n",
    "2] clear()\n",
    "3] remove()\n",
    "4] insert()\n",
    "5] pop()\n",
    "6] sort()\n",
    "7] reverse()\n",
    "8] copy()\n",
    "9] extend()\n",
    "10] count()\n",
    "11] index()\n",
    "\n",
    "\n",
    "n1."
   ]
  },
  {
   "cell_type": "code",
   "execution_count": 8,
   "id": "b6c440be-08c8-4f6f-983b-6ef1a03567e1",
   "metadata": {},
   "outputs": [],
   "source": [
    "color1 = ['blue','green','black','red','white','pink']"
   ]
  },
  {
   "cell_type": "code",
   "execution_count": 9,
   "id": "884b6128-d1f4-419b-840b-fe51b07b678b",
   "metadata": {},
   "outputs": [
    {
     "name": "stdout",
     "output_type": "stream",
     "text": [
      "['blue', 'green', 'black', 'red', 'white', 'pink', 'grey']\n"
     ]
    }
   ],
   "source": [
    "color1.append('grey')\n",
    "print(color1)"
   ]
  },
  {
   "cell_type": "code",
   "execution_count": 10,
   "id": "d813cd6b-1544-4f1c-96de-2542c4adf194",
   "metadata": {},
   "outputs": [
    {
     "name": "stdout",
     "output_type": "stream",
     "text": [
      "[]\n"
     ]
    }
   ],
   "source": [
    "color1.clear()\n",
    "print(color1)"
   ]
  },
  {
   "cell_type": "code",
   "execution_count": 11,
   "id": "24197d13-983b-40ed-aa41-b898cbdd6f6f",
   "metadata": {},
   "outputs": [
    {
     "data": {
      "text/plain": [
       "[]"
      ]
     },
     "execution_count": 11,
     "metadata": {},
     "output_type": "execute_result"
    }
   ],
   "source": [
    "color1"
   ]
  },
  {
   "cell_type": "code",
   "execution_count": 22,
   "id": "55977e22-3371-4161-953b-698ad97bff75",
   "metadata": {},
   "outputs": [],
   "source": [
    "a = ['ruchi','2',33]    "
   ]
  },
  {
   "cell_type": "code",
   "execution_count": 20,
   "id": "cc047b9b-e1c4-4558-99a1-d791e222670a",
   "metadata": {},
   "outputs": [],
   "source": [
    "a.remove(33)"
   ]
  },
  {
   "cell_type": "code",
   "execution_count": 21,
   "id": "4e283024-5a8d-4b0d-b59c-0179591de471",
   "metadata": {},
   "outputs": [
    {
     "data": {
      "text/plain": [
       "['ruchi']"
      ]
     },
     "execution_count": 21,
     "metadata": {},
     "output_type": "execute_result"
    }
   ],
   "source": [
    "a"
   ]
  },
  {
   "cell_type": "code",
   "execution_count": 24,
   "id": "a06a745f-e3ba-4ccd-99cb-81468956663b",
   "metadata": {},
   "outputs": [],
   "source": [
    "color1 = ['blue','green','black','red','white','pink']"
   ]
  },
  {
   "cell_type": "code",
   "execution_count": 25,
   "id": "47bdc7fd-1f02-42e0-bf1d-0db660cd0663",
   "metadata": {},
   "outputs": [
    {
     "data": {
      "text/plain": [
       "['blue', 'green', 'black', 'red', 'white', 'pink']"
      ]
     },
     "execution_count": 25,
     "metadata": {},
     "output_type": "execute_result"
    }
   ],
   "source": [
    "color1"
   ]
  },
  {
   "cell_type": "code",
   "execution_count": 26,
   "id": "e4181ecb-8e9f-425c-a0c0-e05ff123178c",
   "metadata": {},
   "outputs": [
    {
     "data": {
      "text/plain": [
       "['purple', 'blue', 'green', 'black', 'red', 'white', 'pink']"
      ]
     },
     "execution_count": 26,
     "metadata": {},
     "output_type": "execute_result"
    }
   ],
   "source": [
    "color1.insert(0,'purple')\n",
    "color1"
   ]
  },
  {
   "cell_type": "code",
   "execution_count": 27,
   "id": "8db29fa7-d5be-4e1e-b46c-b0c2f0eda2c9",
   "metadata": {},
   "outputs": [
    {
     "data": {
      "text/plain": [
       "['purple', 'blue', 'green', 'black', 'red', 'grey', 'white', 'pink']"
      ]
     },
     "execution_count": 27,
     "metadata": {},
     "output_type": "execute_result"
    }
   ],
   "source": [
    "color1.insert(5,'grey')\n",
    "color1"
   ]
  },
  {
   "cell_type": "code",
   "execution_count": 29,
   "id": "52a134a9-07a5-4456-bd07-bbd4a4d2c033",
   "metadata": {},
   "outputs": [
    {
     "data": {
      "text/plain": [
       "['purple',\n",
       " 'blue',\n",
       " 'green',\n",
       " 'black',\n",
       " 'red',\n",
       " 'grey',\n",
       " 'white',\n",
       " 'pink',\n",
       " 'p',\n",
       " 'i',\n",
       " 'n',\n",
       " 'k',\n",
       " 'g']"
      ]
     },
     "execution_count": 29,
     "metadata": {},
     "output_type": "execute_result"
    }
   ],
   "source": [
    "color1.extend('pinkg')\n",
    "color1"
   ]
  },
  {
   "cell_type": "code",
   "execution_count": 30,
   "id": "03a9e5b0-294a-48a6-a03a-e02b1c1e5286",
   "metadata": {},
   "outputs": [
    {
     "data": {
      "text/plain": [
       "['purple',\n",
       " 'blue',\n",
       " 'green',\n",
       " 'black',\n",
       " 'red',\n",
       " 'grey',\n",
       " 'white',\n",
       " 'pink',\n",
       " 'p',\n",
       " 'i',\n",
       " 'n',\n",
       " 'k',\n",
       " 'g',\n",
       " 'blueg',\n",
       " 'greyg']"
      ]
     },
     "execution_count": 30,
     "metadata": {},
     "output_type": "execute_result"
    }
   ],
   "source": [
    "color1.extend(['blueg','greyg'])\n",
    "color1"
   ]
  },
  {
   "cell_type": "code",
   "execution_count": 31,
   "id": "1b31238d-836b-4099-8b45-6cc2019c9dba",
   "metadata": {},
   "outputs": [
    {
     "data": {
      "text/plain": [
       "['purple',\n",
       " 'blue',\n",
       " 'green',\n",
       " 'black',\n",
       " 'red',\n",
       " 'grey',\n",
       " 'white',\n",
       " 'pink',\n",
       " 'p',\n",
       " 'i',\n",
       " 'n',\n",
       " 'k',\n",
       " 'g',\n",
       " 'blueg',\n",
       " 'greyg']"
      ]
     },
     "execution_count": 31,
     "metadata": {},
     "output_type": "execute_result"
    }
   ],
   "source": [
    "color1"
   ]
  },
  {
   "cell_type": "code",
   "execution_count": 32,
   "id": "c75893a6-c01c-4777-bcd8-f2f115e1270b",
   "metadata": {},
   "outputs": [
    {
     "name": "stdout",
     "output_type": "stream",
     "text": [
      "[8, 9, 12, 23]\n"
     ]
    }
   ],
   "source": [
    "b = [8, 9, 12]\n",
    "b.extend([23])\n",
    "print(b)"
   ]
  },
  {
   "cell_type": "code",
   "execution_count": 33,
   "id": "bb636a61-9d64-4775-b94b-f9cd523597ee",
   "metadata": {},
   "outputs": [
    {
     "name": "stdout",
     "output_type": "stream",
     "text": [
      "[8, 9, 12, 23, 24, 25]\n"
     ]
    }
   ],
   "source": [
    "b = [8, 9, 12]\n",
    "b.extend([23,24,25])\n",
    "print(b)"
   ]
  },
  {
   "cell_type": "code",
   "execution_count": 34,
   "id": "303c7b7b-9e7f-451d-b92a-43b15c1c4651",
   "metadata": {},
   "outputs": [],
   "source": [
    "a = [2,3,4]\n",
    "b = [1,2,1]"
   ]
  },
  {
   "cell_type": "code",
   "execution_count": 35,
   "id": "af45e71c-4a81-4299-a307-fb09475b8286",
   "metadata": {},
   "outputs": [],
   "source": [
    "a.extend(b)"
   ]
  },
  {
   "cell_type": "code",
   "execution_count": 36,
   "id": "24ead2b0-dbd4-404b-a683-7029213d92d1",
   "metadata": {},
   "outputs": [
    {
     "data": {
      "text/plain": [
       "[2, 3, 4, 1, 2, 1]"
      ]
     },
     "execution_count": 36,
     "metadata": {},
     "output_type": "execute_result"
    }
   ],
   "source": [
    "a\n"
   ]
  },
  {
   "cell_type": "code",
   "execution_count": 38,
   "id": "554ac08e-c93e-4956-8396-c673c4768456",
   "metadata": {},
   "outputs": [
    {
     "data": {
      "text/plain": [
       "[2, 3, 4, 1, 2, 1, 2, 3, 4, 1, 2, 1]"
      ]
     },
     "execution_count": 38,
     "metadata": {},
     "output_type": "execute_result"
    }
   ],
   "source": [
    "a+a"
   ]
  },
  {
   "cell_type": "code",
   "execution_count": 1,
   "id": "1df57b08-c48f-4f5d-ad56-598c2efd70a3",
   "metadata": {},
   "outputs": [],
   "source": [
    "n1 = [\"riya\",\"soniya\",\"ruchika\",\"preeti\",\"diiya\"]"
   ]
  },
  {
   "cell_type": "code",
   "execution_count": 2,
   "id": "02c27a92-d0fd-4731-918f-ea09ced845d4",
   "metadata": {},
   "outputs": [
    {
     "data": {
      "text/plain": [
       "['riya', 'soniya', 'ruchika', 'preeti', 'diiya']"
      ]
     },
     "execution_count": 2,
     "metadata": {},
     "output_type": "execute_result"
    }
   ],
   "source": [
    "n1\n"
   ]
  },
  {
   "cell_type": "code",
   "execution_count": 3,
   "id": "38033dac-8142-4a02-8a8b-5d279cbecfb4",
   "metadata": {},
   "outputs": [],
   "source": [
    "n1.append('neha')"
   ]
  },
  {
   "cell_type": "code",
   "execution_count": 4,
   "id": "b80e04f3-c8dc-451e-b340-2201ecd0e0a3",
   "metadata": {},
   "outputs": [
    {
     "name": "stdout",
     "output_type": "stream",
     "text": [
      "['riya', 'soniya', 'ruchika', 'preeti', 'diiya', 'neha']\n"
     ]
    }
   ],
   "source": [
    "print(n1)"
   ]
  },
  {
   "cell_type": "code",
   "execution_count": 5,
   "id": "23828a14-9930-48ab-a4cc-4ba64f03ccd5",
   "metadata": {},
   "outputs": [
    {
     "data": {
      "text/plain": [
       "['riya', 'soniya', 'ruchika', 'preeti', 'diiya', 'neha']"
      ]
     },
     "execution_count": 5,
     "metadata": {},
     "output_type": "execute_result"
    }
   ],
   "source": [
    "n1\n"
   ]
  },
  {
   "cell_type": "code",
   "execution_count": 7,
   "id": "33357514-3c6d-45f1-bc6f-ea8e0fc39bf5",
   "metadata": {},
   "outputs": [
    {
     "data": {
      "text/plain": [
       "0"
      ]
     },
     "execution_count": 7,
     "metadata": {},
     "output_type": "execute_result"
    }
   ],
   "source": [
    "n1.index('riya')"
   ]
  },
  {
   "cell_type": "code",
   "execution_count": 8,
   "id": "eb7c4c91-99d3-4b60-8087-bb0551fcc215",
   "metadata": {},
   "outputs": [
    {
     "data": {
      "text/plain": [
       "['riya', 'soniya', 'ruchika', 'preeti', 'diiya']"
      ]
     },
     "execution_count": 8,
     "metadata": {},
     "output_type": "execute_result"
    }
   ],
   "source": [
    "n1.pop()\n",
    "n1"
   ]
  },
  {
   "cell_type": "code",
   "execution_count": 9,
   "id": "9cd9f9ee-bd06-4b3f-8b72-ba8d04ea3320",
   "metadata": {},
   "outputs": [
    {
     "data": {
      "text/plain": [
       "'diiya'"
      ]
     },
     "execution_count": 9,
     "metadata": {},
     "output_type": "execute_result"
    }
   ],
   "source": [
    "n1.pop(4)"
   ]
  },
  {
   "cell_type": "code",
   "execution_count": 10,
   "id": "06fc5e28-2572-48fe-9053-e446b85b2977",
   "metadata": {},
   "outputs": [
    {
     "data": {
      "text/plain": [
       "['riya', 'soniya', 'ruchika', 'preeti']"
      ]
     },
     "execution_count": 10,
     "metadata": {},
     "output_type": "execute_result"
    }
   ],
   "source": [
    "n1"
   ]
  },
  {
   "cell_type": "code",
   "execution_count": 11,
   "id": "9cae2ac4-31e7-4898-8444-c8c8083cf69c",
   "metadata": {},
   "outputs": [
    {
     "name": "stdout",
     "output_type": "stream",
     "text": [
      "['riya', 'soniya', 'ruchika']\n"
     ]
    }
   ],
   "source": [
    "n1.remove('preeti')\n",
    "print(n1)"
   ]
  },
  {
   "cell_type": "code",
   "execution_count": 12,
   "id": "704e4ddd-21e4-4399-bc35-593e5c081f01",
   "metadata": {},
   "outputs": [
    {
     "data": {
      "text/plain": [
       "['riya', 'soniya', 'ruchika']"
      ]
     },
     "execution_count": 12,
     "metadata": {},
     "output_type": "execute_result"
    }
   ],
   "source": [
    "n1.copy()"
   ]
  },
  {
   "cell_type": "code",
   "execution_count": 13,
   "id": "0b863dbc-179c-4c05-8f41-5f89800941e1",
   "metadata": {},
   "outputs": [
    {
     "name": "stdout",
     "output_type": "stream",
     "text": [
      "['riya', 'soniya', 'ruchika']\n"
     ]
    }
   ],
   "source": [
    "print(n1)"
   ]
  },
  {
   "cell_type": "code",
   "execution_count": 17,
   "id": "90c74c9c-a359-4df7-bd2f-58952034384f",
   "metadata": {},
   "outputs": [],
   "source": [
    "n1.sort()"
   ]
  },
  {
   "cell_type": "code",
   "execution_count": 18,
   "id": "1bd6a7ba-44a5-446b-9cbd-be33d9d59c37",
   "metadata": {},
   "outputs": [
    {
     "name": "stdout",
     "output_type": "stream",
     "text": [
      "['riya', 'ruchika', 'soniya']\n"
     ]
    }
   ],
   "source": [
    "print(n1)"
   ]
  },
  {
   "cell_type": "code",
   "execution_count": 21,
   "id": "591b8e77-08ca-4e92-8f3d-db74cfee0a1b",
   "metadata": {},
   "outputs": [
    {
     "data": {
      "text/plain": [
       "1"
      ]
     },
     "execution_count": 21,
     "metadata": {},
     "output_type": "execute_result"
    }
   ],
   "source": [
    "n1.count('riya')"
   ]
  },
  {
   "cell_type": "code",
   "execution_count": 22,
   "id": "4c31b01e-b8ee-4ee6-9e82-8a7710be1b12",
   "metadata": {},
   "outputs": [
    {
     "name": "stdout",
     "output_type": "stream",
     "text": [
      "[]\n"
     ]
    }
   ],
   "source": [
    "n1.clear()\n",
    "print(n1)"
   ]
  },
  {
   "cell_type": "code",
   "execution_count": 23,
   "id": "ad266e2e-419b-4d54-85d6-497a74babca4",
   "metadata": {},
   "outputs": [],
   "source": [
    "thislist = [100, 50, 65, 82, 23]"
   ]
  },
  {
   "cell_type": "code",
   "execution_count": 25,
   "id": "7aaa97f6-7fb4-4a9b-b1b1-b66fd3bb4dce",
   "metadata": {},
   "outputs": [
    {
     "name": "stdout",
     "output_type": "stream",
     "text": [
      "[100, 82, 65, 50, 23]\n"
     ]
    }
   ],
   "source": [
    "thislist.sort(reverse = True)\n",
    "print(thislist)"
   ]
  },
  {
   "cell_type": "code",
   "execution_count": 26,
   "id": "043d2f8a-87cb-4fbb-8ee4-83147a8b4734",
   "metadata": {},
   "outputs": [
    {
     "name": "stdout",
     "output_type": "stream",
     "text": [
      "[23, 50, 65, 82, 100]\n"
     ]
    }
   ],
   "source": [
    "thislist.sort(reverse = False)\n",
    "print(thislist)                      //reverse"
   ]
  },
  {
   "cell_type": "code",
   "execution_count": 27,
   "id": "29d3ff5b-183a-411d-a4d5-b64dfa6c2dea",
   "metadata": {},
   "outputs": [],
   "source": [
    "thislist.reverse()"
   ]
  },
  {
   "cell_type": "code",
   "execution_count": 28,
   "id": "6b6fd74e-da0e-412d-82f7-4724f40eaa7f",
   "metadata": {},
   "outputs": [
    {
     "name": "stdout",
     "output_type": "stream",
     "text": [
      "[100, 82, 65, 50, 23]\n"
     ]
    }
   ],
   "source": [
    "print(thislist)"
   ]
  },
  {
   "cell_type": "code",
   "execution_count": 29,
   "id": "d29ca759-4413-46ad-a309-a6268585bb43",
   "metadata": {},
   "outputs": [
    {
     "name": "stdout",
     "output_type": "stream",
     "text": [
      "[55, 66, 77, 88, 99]\n"
     ]
    }
   ],
   "source": [
    "no = [55,66,77,88,99]\n",
    "print(sorted(no))"
   ]
  },
  {
   "cell_type": "code",
   "execution_count": 30,
   "id": "c8d86fc7-9ea3-4254-af3c-4b305c29fb00",
   "metadata": {},
   "outputs": [
    {
     "data": {
      "text/plain": [
       "[99, 88, 77, 66, 55]"
      ]
     },
     "execution_count": 30,
     "metadata": {},
     "output_type": "execute_result"
    }
   ],
   "source": [
    "sorted(no,reverse=True)"
   ]
  },
  {
   "cell_type": "code",
   "execution_count": null,
   "id": "c5218a73-20ce-40ed-aa74-a0fb72d039d1",
   "metadata": {},
   "outputs": [],
   "source": [
    "# example 1 "
   ]
  },
  {
   "cell_type": "code",
   "execution_count": 15,
   "id": "1f639627-d24c-4953-8ae7-96b41f90e1e0",
   "metadata": {},
   "outputs": [
    {
     "name": "stdin",
     "output_type": "stream",
     "text": [
      "enter a number 2\n"
     ]
    },
    {
     "name": "stdout",
     "output_type": "stream",
     "text": [
      "user enterd:  2\n"
     ]
    }
   ],
   "source": [
    "number = input('enter a number')\n",
    "print('user enterd: ',number)"
   ]
  },
  {
   "cell_type": "code",
   "execution_count": null,
   "id": "8d97bb24-a424-4828-b989-59018e330e13",
   "metadata": {},
   "outputs": [],
   "source": [
    "#  example 2"
   ]
  },
  {
   "cell_type": "code",
   "execution_count": 16,
   "id": "58a694f6-9a64-4435-ae1a-c131da8bad83",
   "metadata": {},
   "outputs": [
    {
     "name": "stdin",
     "output_type": "stream",
     "text": [
      "enter a num 1\n"
     ]
    },
    {
     "data": {
      "text/plain": [
       "'1'"
      ]
     },
     "execution_count": 16,
     "metadata": {},
     "output_type": "execute_result"
    }
   ],
   "source": [
    "num = input('enter a num')\n",
    "num"
   ]
  },
  {
   "cell_type": "code",
   "execution_count": 17,
   "id": "a62fe422-5796-4de2-86db-5e19352da1e6",
   "metadata": {},
   "outputs": [
    {
     "name": "stdout",
     "output_type": "stream",
     "text": [
      "<class 'str'>\n"
     ]
    }
   ],
   "source": [
    "print(type(num))"
   ]
  },
  {
   "cell_type": "code",
   "execution_count": null,
   "id": "9a65ee95-da27-428e-bc5b-59ca744e0d0c",
   "metadata": {},
   "outputs": [],
   "source": [
    "# example 3"
   ]
  },
  {
   "cell_type": "code",
   "execution_count": 18,
   "id": "d1441e9a-1b72-4c19-bb9b-bfcfa014cbbb",
   "metadata": {},
   "outputs": [
    {
     "name": "stdin",
     "output_type": "stream",
     "text": [
      "Enter a Quantity:  20\n",
      "Enter size:  10\n"
     ]
    },
    {
     "name": "stdout",
     "output_type": "stream",
     "text": [
      "Your item cost is:  200\n"
     ]
    }
   ],
   "source": [
    "#eg.2\n",
    "product_quantity = int(input('Enter a Quantity: '))\n",
    "product_price = int(input('Enter size: '))\n",
    "product_cost = product_quantity * product_price\n",
    "\n",
    "print('Your item cost is: ',product_cost)"
   ]
  },
  {
   "cell_type": "code",
   "execution_count": 20,
   "id": "3ef24d0c-518c-4b6c-8ecd-c7eaf950dd71",
   "metadata": {},
   "outputs": [
    {
     "data": {
      "text/plain": [
       "20"
      ]
     },
     "execution_count": 20,
     "metadata": {},
     "output_type": "execute_result"
    }
   ],
   "source": [
    "product_quantity"
   ]
  },
  {
   "cell_type": "code",
   "execution_count": 21,
   "id": "4773880c-c299-4cf7-8ba8-fd90ec0591c1",
   "metadata": {},
   "outputs": [
    {
     "data": {
      "text/plain": [
       "10"
      ]
     },
     "execution_count": 21,
     "metadata": {},
     "output_type": "execute_result"
    }
   ],
   "source": [
    "product_price"
   ]
  },
  {
   "cell_type": "code",
   "execution_count": 22,
   "id": "24ee64a0-ffaa-4f13-a656-b4bdd58d7995",
   "metadata": {},
   "outputs": [
    {
     "data": {
      "text/plain": [
       "200"
      ]
     },
     "execution_count": 22,
     "metadata": {},
     "output_type": "execute_result"
    }
   ],
   "source": [
    "product_cost"
   ]
  },
  {
   "cell_type": "code",
   "execution_count": 3,
   "id": "8507eef4-b411-422f-801f-cbe6455708f6",
   "metadata": {},
   "outputs": [
    {
     "name": "stdin",
     "output_type": "stream",
     "text": [
      "enter the number 10\n",
      "enter the number 20\n"
     ]
    },
    {
     "name": "stdout",
     "output_type": "stream",
     "text": [
      "10\n",
      "20\n",
      "1020\n"
     ]
    }
   ],
   "source": [
    "n1 = input(\"enter the number\")\n",
    "n2 = input(\"enter the number\")\n",
    "print(n1)\n",
    "print(n2)\n",
    "z=int(n1+n2)\n",
    "print(z)"
   ]
  },
  {
   "cell_type": "code",
   "execution_count": null,
   "id": "49196063-da9b-4de1-865c-9c913519c595",
   "metadata": {},
   "outputs": [],
   "source": []
  }
 ],
 "metadata": {
  "kernelspec": {
   "display_name": "Python 3 (ipykernel)",
   "language": "python",
   "name": "python3"
  },
  "language_info": {
   "codemirror_mode": {
    "name": "ipython",
    "version": 3
   },
   "file_extension": ".py",
   "mimetype": "text/x-python",
   "name": "python",
   "nbconvert_exporter": "python",
   "pygments_lexer": "ipython3",
   "version": "3.11.9"
  }
 },
 "nbformat": 4,
 "nbformat_minor": 5
}
