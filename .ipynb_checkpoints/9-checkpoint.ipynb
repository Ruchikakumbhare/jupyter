{
 "cells": [
  {
   "cell_type": "code",
   "execution_count": null,
   "id": "a50420e3-774a-4d6c-b612-a9652ffd0217",
   "metadata": {},
   "outputs": [],
   "source": [
    "# String Methods\n",
    "nam.capitalize()\n",
    "nam.count()\n",
    "nam.endswith()\n",
    "nam.startswith()\n",
    "nam.index()\n",
    "nam.isalnum()\n",
    "nam.isalpha()\n",
    "nam.swapcase()\n",
    "nam.upper()\n",
    "nam.lower()\n",
    "nam.isupper()\n",
    "nam.islower()\n",
    "nam.replace()\n",
    "\n",
    "\n",
    "\n",
    "\n",
    "\n",
    "\n",
    "\n",
    "\n",
    "\n",
    "\n"
   ]
  },
  {
   "cell_type": "code",
   "execution_count": null,
   "id": "3beca420-b32c-46ac-ae5a-8112ec56b08d",
   "metadata": {},
   "outputs": [],
   "source": [
    "\"\"\"\n",
    " String Methods :-\n",
    "\n",
    " syntax:-\n",
    "        stringVariableName.method()\n",
    "\"\"\""
   ]
  },
  {
   "cell_type": "code",
   "execution_count": null,
   "id": "f4ea4181-4ee8-4dbc-9d4f-ecf60c0abcee",
   "metadata": {},
   "outputs": [],
   "source": [
    "String = \"Pythonclass\"  #(a-z A-Z 0-9)\n",
    "# isalnum() \n",
    "# Returns True if all characters in the string are alphanumeric .meaning alphabet letter (a-z) and numbers (0-9)\n",
    "# not alphanumeric: (space)!#%&? "
   ]
  },
  {
   "cell_type": "code",
   "execution_count": 18,
   "id": "7e08bd5a-9f24-490f-bb5f-39a0553cb857",
   "metadata": {},
   "outputs": [
    {
     "data": {
      "text/plain": [
       "'python'"
      ]
     },
     "execution_count": 18,
     "metadata": {},
     "output_type": "execute_result"
    }
   ],
   "source": [
    "a1 = \"python\"\n",
    "a1.isalnum()\n",
    "a1"
   ]
  },
  {
   "cell_type": "code",
   "execution_count": 19,
   "id": "5f677356-e274-4f1f-bb84-c895d40413b5",
   "metadata": {},
   "outputs": [
    {
     "data": {
      "text/plain": [
       "True"
      ]
     },
     "execution_count": 19,
     "metadata": {},
     "output_type": "execute_result"
    }
   ],
   "source": [
    "a1.isalnum()"
   ]
  },
  {
   "cell_type": "code",
   "execution_count": 22,
   "id": "5522c56e-838b-4fb6-a8d4-0d9eada907f0",
   "metadata": {},
   "outputs": [
    {
     "data": {
      "text/plain": [
       "False"
      ]
     },
     "execution_count": 22,
     "metadata": {},
     "output_type": "execute_result"
    }
   ],
   "source": [
    "\"python class\".isalnum()"
   ]
  },
  {
   "cell_type": "code",
   "execution_count": 21,
   "id": "369bfca5-543e-4ed9-ba5c-0bba3a177729",
   "metadata": {},
   "outputs": [
    {
     "data": {
      "text/plain": [
       "True"
      ]
     },
     "execution_count": 21,
     "metadata": {},
     "output_type": "execute_result"
    }
   ],
   "source": [
    "\"pythonclass\".isalnum()"
   ]
  },
  {
   "cell_type": "code",
   "execution_count": 20,
   "id": "c2dbc54d-bada-4260-ac4f-5a80caf8003d",
   "metadata": {},
   "outputs": [
    {
     "data": {
      "text/plain": [
       "True"
      ]
     },
     "execution_count": 20,
     "metadata": {},
     "output_type": "execute_result"
    }
   ],
   "source": [
    "\"abcdef123\".isalnum()"
   ]
  },
  {
   "cell_type": "code",
   "execution_count": 24,
   "id": "356a6db7-91ba-4226-8444-30a6202ebef8",
   "metadata": {},
   "outputs": [
    {
     "data": {
      "text/plain": [
       "False"
      ]
     },
     "execution_count": 24,
     "metadata": {},
     "output_type": "execute_result"
    }
   ],
   "source": [
    "\"xyz,124\".isalnum()"
   ]
  },
  {
   "cell_type": "code",
   "execution_count": 26,
   "id": "78dd46d1-b8da-464b-abe2-cf08716c6cb4",
   "metadata": {},
   "outputs": [],
   "source": [
    "# isalpha()\n",
    "# Returns True if all characters in the string are alphabet letters. (a-z)\n"
   ]
  },
  {
   "cell_type": "code",
   "execution_count": 27,
   "id": "f328796a-2096-4459-b794-5aabb6317d74",
   "metadata": {},
   "outputs": [],
   "source": [
    "x = \"python\""
   ]
  },
  {
   "cell_type": "code",
   "execution_count": 28,
   "id": "efba4a4e-9435-4887-89f0-be53c9a20fbe",
   "metadata": {},
   "outputs": [
    {
     "data": {
      "text/plain": [
       "'python'"
      ]
     },
     "execution_count": 28,
     "metadata": {},
     "output_type": "execute_result"
    }
   ],
   "source": [
    "x"
   ]
  },
  {
   "cell_type": "code",
   "execution_count": 30,
   "id": "7e194b7f-c10d-4e1a-a306-f1394833bf76",
   "metadata": {},
   "outputs": [
    {
     "data": {
      "text/plain": [
       "True"
      ]
     },
     "execution_count": 30,
     "metadata": {},
     "output_type": "execute_result"
    }
   ],
   "source": [
    "x.isalpha()"
   ]
  },
  {
   "cell_type": "code",
   "execution_count": 31,
   "id": "caaaea83-3a95-459c-90a6-80e4518fd155",
   "metadata": {},
   "outputs": [
    {
     "data": {
      "text/plain": [
       "False"
      ]
     },
     "execution_count": 31,
     "metadata": {},
     "output_type": "execute_result"
    }
   ],
   "source": [
    "\"abcd65876\".isalpha() "
   ]
  },
  {
   "cell_type": "code",
   "execution_count": 32,
   "id": "29b38fc0-2a1c-4d47-bf3b-2f7fe0436662",
   "metadata": {},
   "outputs": [
    {
     "name": "stdout",
     "output_type": "stream",
     "text": [
      "True\n"
     ]
    }
   ],
   "source": [
    "num = \"EVENING\"\n",
    "v=num.isalnum()\n",
    "print(v)"
   ]
  },
  {
   "cell_type": "code",
   "execution_count": null,
   "id": "2280bdaa-020b-444d-b38a-a23611945197",
   "metadata": {},
   "outputs": [],
   "source": [
    "# upper() \n",
    "#lower\n",
    "#isupper()\n",
    "#islower\n",
    "# Converts a string into upper case"
   ]
  },
  {
   "cell_type": "code",
   "execution_count": 33,
   "id": "a8bcf44f-b76e-4c79-a685-13a4e104a059",
   "metadata": {},
   "outputs": [],
   "source": [
    "name = \"ruchika\""
   ]
  },
  {
   "cell_type": "code",
   "execution_count": 34,
   "id": "acf60521-2cd8-4bdc-a084-3bb282999fb6",
   "metadata": {},
   "outputs": [
    {
     "data": {
      "text/plain": [
       "'RUCHIKA'"
      ]
     },
     "execution_count": 34,
     "metadata": {},
     "output_type": "execute_result"
    }
   ],
   "source": [
    "name.upper()"
   ]
  },
  {
   "cell_type": "code",
   "execution_count": 35,
   "id": "f696000e-c841-4674-881c-674007e478d1",
   "metadata": {},
   "outputs": [],
   "source": [
    "name = \"RUCHIKA\""
   ]
  },
  {
   "cell_type": "code",
   "execution_count": 36,
   "id": "08871dd1-bdb8-47a3-8c04-36a3c6c91c4f",
   "metadata": {},
   "outputs": [
    {
     "data": {
      "text/plain": [
       "'ruchika'"
      ]
     },
     "execution_count": 36,
     "metadata": {},
     "output_type": "execute_result"
    }
   ],
   "source": [
    "name.lower()"
   ]
  },
  {
   "cell_type": "code",
   "execution_count": 38,
   "id": "bf287093-e4d2-431c-b41e-efc857f82a59",
   "metadata": {},
   "outputs": [
    {
     "data": {
      "text/plain": [
       "True"
      ]
     },
     "execution_count": 38,
     "metadata": {},
     "output_type": "execute_result"
    }
   ],
   "source": [
    "name.isupper()"
   ]
  },
  {
   "cell_type": "code",
   "execution_count": 39,
   "id": "689eb1e3-f888-430d-b198-b935a0e9269d",
   "metadata": {},
   "outputs": [
    {
     "data": {
      "text/plain": [
       "False"
      ]
     },
     "execution_count": 39,
     "metadata": {},
     "output_type": "execute_result"
    }
   ],
   "source": [
    "name.islower()"
   ]
  },
  {
   "cell_type": "code",
   "execution_count": 40,
   "id": "55f80473-824f-43fc-9003-5fb4e7ba8abd",
   "metadata": {},
   "outputs": [
    {
     "data": {
      "text/plain": [
       "'My name is ruchika'"
      ]
     },
     "execution_count": 40,
     "metadata": {},
     "output_type": "execute_result"
    }
   ],
   "source": [
    "a1 = \"my name is ruchika\"\n",
    "a1.capitalize()       #------>1 st letter is captital"
   ]
  },
  {
   "cell_type": "code",
   "execution_count": 41,
   "id": "0d1cd417-7d76-452b-9abf-6788b62bf09b",
   "metadata": {},
   "outputs": [
    {
     "data": {
      "text/plain": [
       "'rUCHIKA KUMBHARE'"
      ]
     },
     "execution_count": 41,
     "metadata": {},
     "output_type": "execute_result"
    }
   ],
   "source": [
    "#swapcase()\n",
    "nam = \"Ruchika kumbhare\"\n",
    "nam.swapcase()"
   ]
  },
  {
   "cell_type": "code",
   "execution_count": 42,
   "id": "d59cf467-4fa3-41e7-9034-575c83294484",
   "metadata": {},
   "outputs": [
    {
     "data": {
      "text/plain": [
       "True"
      ]
     },
     "execution_count": 42,
     "metadata": {},
     "output_type": "execute_result"
    }
   ],
   "source": [
    "nam.endswith('re')"
   ]
  },
  {
   "cell_type": "code",
   "execution_count": 43,
   "id": "1f3d89d8-11ae-4a01-8673-9ea122735cca",
   "metadata": {},
   "outputs": [
    {
     "data": {
      "text/plain": [
       "False"
      ]
     },
     "execution_count": 43,
     "metadata": {},
     "output_type": "execute_result"
    }
   ],
   "source": [
    "nam.endswith('ka')"
   ]
  },
  {
   "cell_type": "code",
   "execution_count": 44,
   "id": "f9aab0c9-6ea0-4278-9c6c-da5014f910e9",
   "metadata": {},
   "outputs": [
    {
     "data": {
      "text/plain": [
       "False"
      ]
     },
     "execution_count": 44,
     "metadata": {},
     "output_type": "execute_result"
    }
   ],
   "source": [
    "nam.startswith('ru')"
   ]
  },
  {
   "cell_type": "code",
   "execution_count": 45,
   "id": "a892fde3-71e7-4133-a5ab-432166f85710",
   "metadata": {},
   "outputs": [
    {
     "data": {
      "text/plain": [
       "True"
      ]
     },
     "execution_count": 45,
     "metadata": {},
     "output_type": "execute_result"
    }
   ],
   "source": [
    "nam.startswith('Ru')"
   ]
  },
  {
   "cell_type": "code",
   "execution_count": 46,
   "id": "82b2dbda-6766-49db-8000-fc6ec059b5ec",
   "metadata": {},
   "outputs": [
    {
     "data": {
      "text/plain": [
       "2"
      ]
     },
     "execution_count": 46,
     "metadata": {},
     "output_type": "execute_result"
    }
   ],
   "source": [
    "nam.count('a')"
   ]
  },
  {
   "cell_type": "code",
   "execution_count": 48,
   "id": "6b7f3c7c-bf2b-428e-b63f-5864195444ff",
   "metadata": {},
   "outputs": [
    {
     "data": {
      "text/plain": [
       "6"
      ]
     },
     "execution_count": 48,
     "metadata": {},
     "output_type": "execute_result"
    }
   ],
   "source": [
    "nam.index('a')"
   ]
  },
  {
   "cell_type": "code",
   "execution_count": null,
   "id": "93a920b4-7082-4d2d-a202-5b0c9491cc2d",
   "metadata": {},
   "outputs": [],
   "source": [
    "#replace\n"
   ]
  },
  {
   "cell_type": "code",
   "execution_count": 49,
   "id": "23aa8320-eb8f-45db-bf51-35ef0faeadee",
   "metadata": {},
   "outputs": [
    {
     "data": {
      "text/plain": [
       "'i am ruchika and i am learning js'"
      ]
     },
     "execution_count": 49,
     "metadata": {},
     "output_type": "execute_result"
    }
   ],
   "source": [
    "name= \"i am ruchika and i am learning js\"\n",
    "name"
   ]
  },
  {
   "cell_type": "code",
   "execution_count": 51,
   "id": "92ae87b2-6ea5-4898-a2a5-e9679be879c9",
   "metadata": {},
   "outputs": [
    {
     "data": {
      "text/plain": [
       "'i am neha and i am learning js'"
      ]
     },
     "execution_count": 51,
     "metadata": {},
     "output_type": "execute_result"
    }
   ],
   "source": [
    "name.replace('ruchika' , 'neha')"
   ]
  },
  {
   "cell_type": "code",
   "execution_count": 52,
   "id": "80a4f398-8ec0-4cda-bd12-dcef846eb910",
   "metadata": {},
   "outputs": [
    {
     "data": {
      "text/plain": [
       "'hiee i am good'"
      ]
     },
     "execution_count": 52,
     "metadata": {},
     "output_type": "execute_result"
    }
   ],
   "source": [
    "m = \"hello i am good\"\n",
    "n = m.replace('hello' , 'hiee')\n",
    "n"
   ]
  },
  {
   "cell_type": "code",
   "execution_count": null,
   "id": "23df0185-361e-410d-b3e1-05140b85bafd",
   "metadata": {},
   "outputs": [],
   "source": []
  }
 ],
 "metadata": {
  "kernelspec": {
   "display_name": "Python 3 (ipykernel)",
   "language": "python",
   "name": "python3"
  },
  "language_info": {
   "codemirror_mode": {
    "name": "ipython",
    "version": 3
   },
   "file_extension": ".py",
   "mimetype": "text/x-python",
   "name": "python",
   "nbconvert_exporter": "python",
   "pygments_lexer": "ipython3",
   "version": "3.11.9"
  }
 },
 "nbformat": 4,
 "nbformat_minor": 5
}
