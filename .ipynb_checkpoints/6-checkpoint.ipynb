{
 "cells": [
  {
   "cell_type": "code",
   "execution_count": null,
   "id": "ce3c4b9e-4588-4001-923a-7397e86d49a5",
   "metadata": {},
   "outputs": [],
   "source": [
    "## String\n",
    "Strings are one of the fundamental Python data types.\n",
    "It is text or words or sentence in quotation mark (single or double). \n",
    "Strings are used to represent text.\n",
    "\n",
    "properties:\n",
    "1. Strings contain individual letters or symbols called characters.\n",
    "2. Characters in a string appear in a sequence, which means that each character has a numbered position in the string."
   ]
  },
  {
   "cell_type": "code",
   "execution_count": 1,
   "id": "4e680bee-3fc2-4a34-87d4-285cb6aff2a8",
   "metadata": {},
   "outputs": [
    {
     "name": "stdout",
     "output_type": "stream",
     "text": [
      "Ruchika\n"
     ]
    }
   ],
   "source": [
    "#          0123456\n",
    "my_name = 'Ruchika'\n",
    "print(my_name)"
   ]
  },
  {
   "cell_type": "code",
   "execution_count": 2,
   "id": "6bf28458-a207-48ea-8e52-5476ddd5c7f4",
   "metadata": {},
   "outputs": [
    {
     "name": "stdout",
     "output_type": "stream",
     "text": [
      "<class 'str'>\n"
     ]
    }
   ],
   "source": [
    "print(type(my_name))"
   ]
  },
  {
   "cell_type": "code",
   "execution_count": 3,
   "id": "58d794d5-066a-4efa-ac3d-a61de06d5d9e",
   "metadata": {},
   "outputs": [
    {
     "name": "stdout",
     "output_type": "stream",
     "text": [
      "7\n"
     ]
    }
   ],
   "source": [
    "print(len(my_name))"
   ]
  },
  {
   "cell_type": "code",
   "execution_count": 4,
   "id": "30ae4925-71b1-4d0f-893e-e0d85cb76a7c",
   "metadata": {},
   "outputs": [
    {
     "name": "stdout",
     "output_type": "stream",
     "text": [
      "h\n"
     ]
    }
   ],
   "source": [
    "print(my_name[3])"
   ]
  },
  {
   "cell_type": "code",
   "execution_count": 5,
   "id": "73f897a0-73f3-4506-9a74-389b4112f83a",
   "metadata": {},
   "outputs": [
    {
     "name": "stdout",
     "output_type": "stream",
     "text": [
      "a\n"
     ]
    }
   ],
   "source": [
    "print(my_name[6])"
   ]
  },
  {
   "cell_type": "code",
   "execution_count": 6,
   "id": "d8ab0bf4-e164-4955-a3b8-a2ce9ec6d9ea",
   "metadata": {},
   "outputs": [
    {
     "ename": "IndexError",
     "evalue": "string index out of range",
     "output_type": "error",
     "traceback": [
      "\u001b[1;31m---------------------------------------------------------------------------\u001b[0m",
      "\u001b[1;31mIndexError\u001b[0m                                Traceback (most recent call last)",
      "Cell \u001b[1;32mIn[6], line 1\u001b[0m\n\u001b[1;32m----> 1\u001b[0m \u001b[38;5;28mprint\u001b[39m(my_name[\u001b[38;5;241m7\u001b[39m])\n",
      "\u001b[1;31mIndexError\u001b[0m: string index out of range"
     ]
    }
   ],
   "source": [
    "print(my_name[7])"
   ]
  },
  {
   "cell_type": "code",
   "execution_count": null,
   "id": "7cbea62a-0eba-49d0-80ff-d5c42708e806",
   "metadata": {},
   "outputs": [],
   "source": [
    "# Multiline Strings :- You can assign a multiline string to a variable by using three quotes(sinle or double)"
   ]
  },
  {
   "cell_type": "code",
   "execution_count": 10,
   "id": "3c65dad5-3799-4964-932a-2505c1ea215e",
   "metadata": {},
   "outputs": [],
   "source": [
    "a1 = ''' my name is ruchika '''\n"
   ]
  },
  {
   "cell_type": "code",
   "execution_count": 11,
   "id": "94094e00-1bb5-416c-b6e8-337014026099",
   "metadata": {},
   "outputs": [
    {
     "data": {
      "text/plain": [
       "' my name is ruchika '"
      ]
     },
     "execution_count": 11,
     "metadata": {},
     "output_type": "execute_result"
    }
   ],
   "source": [
    "a1"
   ]
  },
  {
   "cell_type": "code",
   "execution_count": 12,
   "id": "8a22394c-fb09-480e-84e4-59b8cde7a0c7",
   "metadata": {},
   "outputs": [
    {
     "data": {
      "text/plain": [
       "str"
      ]
     },
     "execution_count": 12,
     "metadata": {},
     "output_type": "execute_result"
    }
   ],
   "source": [
    "type(a1)"
   ]
  },
  {
   "cell_type": "code",
   "execution_count": 13,
   "id": "89a82f0f-1e63-406b-be0e-f3153e6e6d21",
   "metadata": {},
   "outputs": [],
   "source": [
    "del a1"
   ]
  },
  {
   "cell_type": "code",
   "execution_count": 15,
   "id": "bbc4cf66-acc1-474b-9901-c8d69199150a",
   "metadata": {},
   "outputs": [],
   "source": [
    " a2 = ''' This is python language'''"
   ]
  },
  {
   "cell_type": "code",
   "execution_count": 16,
   "id": "f3fcab67-86ee-43b6-bd56-7035f01dfbf4",
   "metadata": {},
   "outputs": [
    {
     "data": {
      "text/plain": [
       "' This is python language'"
      ]
     },
     "execution_count": 16,
     "metadata": {},
     "output_type": "execute_result"
    }
   ],
   "source": [
    "a2"
   ]
  },
  {
   "cell_type": "code",
   "execution_count": 17,
   "id": "d889caf7-6e70-46f6-973a-ec1e54ab14c5",
   "metadata": {},
   "outputs": [
    {
     "data": {
      "text/plain": [
       "str"
      ]
     },
     "execution_count": 17,
     "metadata": {},
     "output_type": "execute_result"
    }
   ],
   "source": [
    "type(a2)"
   ]
  },
  {
   "cell_type": "code",
   "execution_count": null,
   "id": "1de2c9f2-388e-4fee-b901-4f1661576ef5",
   "metadata": {},
   "outputs": [],
   "source": [
    "Indexing :-\n",
    "\n",
    "    Indexing means referring to an element of an iterable by its position within the iterable. Each of a string’s characters corresponds to an index number and each character can be accessed using its index number. We can access characters in a String in Two ways :\n",
    "\n",
    "    1) Accessing Characters by Positive Index Number\n",
    "    2) Accessing Characters by Negative Index Number"
   ]
  },
  {
   "cell_type": "code",
   "execution_count": null,
   "id": "f954564f-0c1f-4c93-ae4e-e1633923b9f5",
   "metadata": {},
   "outputs": [],
   "source": [
    "x = 'python'"
   ]
  },
  {
   "cell_type": "code",
   "execution_count": 19,
   "id": "3972dc86-f832-4c27-b1d8-124fc65e1507",
   "metadata": {},
   "outputs": [],
   "source": [
    "x = 'python'"
   ]
  },
  {
   "cell_type": "code",
   "execution_count": 21,
   "id": "15f0e8ec-1a80-48d3-8ccb-31f976a79035",
   "metadata": {},
   "outputs": [
    {
     "data": {
      "text/plain": [
       "'t'"
      ]
     },
     "execution_count": 21,
     "metadata": {},
     "output_type": "execute_result"
    }
   ],
   "source": [
    "x[2]"
   ]
  },
  {
   "cell_type": "code",
   "execution_count": 22,
   "id": "24e4f4c1-2a7f-4664-9529-1d64d9ae7ec2",
   "metadata": {},
   "outputs": [
    {
     "data": {
      "text/plain": [
       "'n'"
      ]
     },
     "execution_count": 22,
     "metadata": {},
     "output_type": "execute_result"
    }
   ],
   "source": [
    "x[5]"
   ]
  },
  {
   "cell_type": "code",
   "execution_count": 26,
   "id": "0cd44af3-f2f4-439e-a5bf-909f90f6d157",
   "metadata": {},
   "outputs": [
    {
     "data": {
      "text/plain": [
       "' P Y t h o n '"
      ]
     },
     "execution_count": 26,
     "metadata": {},
     "output_type": "execute_result"
    }
   ],
   "source": [
    " x"
   ]
  },
  {
   "cell_type": "code",
   "execution_count": 27,
   "id": "f8022e60-bbc8-4b07-ab8c-b7da560d9d6b",
   "metadata": {},
   "outputs": [],
   "source": [
    " del x"
   ]
  },
  {
   "cell_type": "code",
   "execution_count": 29,
   "id": "24098abf-c894-446f-9567-136f500a481f",
   "metadata": {},
   "outputs": [
    {
     "data": {
      "text/plain": [
       "'pinku'"
      ]
     },
     "execution_count": 29,
     "metadata": {},
     "output_type": "execute_result"
    }
   ],
   "source": [
    " m = 'pinku'\n",
    " m "
   ]
  },
  {
   "cell_type": "code",
   "execution_count": 30,
   "id": "ce6da247-22e0-4f62-b6e3-cf26c2e388e9",
   "metadata": {},
   "outputs": [
    {
     "data": {
      "text/plain": [
       "'k'"
      ]
     },
     "execution_count": 30,
     "metadata": {},
     "output_type": "execute_result"
    }
   ],
   "source": [
    " m[-2]"
   ]
  },
  {
   "cell_type": "code",
   "execution_count": 31,
   "id": "ee26fdac-e8e9-477a-90f9-165ed0d774bb",
   "metadata": {},
   "outputs": [
    {
     "data": {
      "text/plain": [
       "'p'"
      ]
     },
     "execution_count": 31,
     "metadata": {},
     "output_type": "execute_result"
    }
   ],
   "source": [
    " m[-5]"
   ]
  },
  {
   "cell_type": "code",
   "execution_count": 32,
   "id": "0611a74b-5085-4528-ad35-7c678e8ef8d1",
   "metadata": {},
   "outputs": [
    {
     "data": {
      "text/plain": [
       "5"
      ]
     },
     "execution_count": 32,
     "metadata": {},
     "output_type": "execute_result"
    }
   ],
   "source": [
    "len(m)"
   ]
  },
  {
   "cell_type": "code",
   "execution_count": 33,
   "id": "ace53b05-5279-4a3f-a667-60b3c7ef5cfb",
   "metadata": {},
   "outputs": [
    {
     "data": {
      "text/plain": [
       "'i'"
      ]
     },
     "execution_count": 33,
     "metadata": {},
     "output_type": "execute_result"
    }
   ],
   "source": [
    " m[-4]"
   ]
  },
  {
   "cell_type": "code",
   "execution_count": null,
   "id": "d7a5b9da-0fef-4c52-867b-78b721c01cdf",
   "metadata": {},
   "outputs": [],
   "source": [
    "# Index\n",
    "\n",
    "# Variable[position]\n",
    "\n",
    "#Slicing\n",
    "\n",
    "# Variable[start : End : Step]"
   ]
  },
  {
   "cell_type": "code",
   "execution_count": null,
   "id": "34a8d5e2-d819-4079-822d-6b8811228b69",
   "metadata": {},
   "outputs": [],
   "source": [
    "Slicing :-\n",
    "\n",
    "    Slicing in Python is a feature that enables accessing parts of the sequence. \n",
    "    We use slicing when we require a part of the string and not the complete string.\n",
    "    \n",
    "Syntax :\n",
    "        string[start : end : step]\n",
    "\n",
    "    start : We provide the starting index.\n",
    "    end : We provide the end index(this is not included in substring).\n",
    "    step : It is an optional argument that determines the increment between each index for slicing.\n",
    "    \n",
    "    left ------------------>right"
   ]
  },
  {
   "cell_type": "code",
   "execution_count": 3,
   "id": "7938a2ff-a3b1-4330-9787-0971b92b8990",
   "metadata": {},
   "outputs": [
    {
     "data": {
      "text/plain": [
       "'monika'"
      ]
     },
     "execution_count": 3,
     "metadata": {},
     "output_type": "execute_result"
    }
   ],
   "source": [
    " c1 = 'monika'\n",
    " c1"
   ]
  },
  {
   "cell_type": "code",
   "execution_count": 4,
   "id": "5a258e8b-258f-479e-b266-075defb41c16",
   "metadata": {},
   "outputs": [
    {
     "data": {
      "text/plain": [
       "'moni'"
      ]
     },
     "execution_count": 4,
     "metadata": {},
     "output_type": "execute_result"
    }
   ],
   "source": [
    "c1[0:4]"
   ]
  },
  {
   "cell_type": "code",
   "execution_count": 5,
   "id": "32ec040e-db57-49fc-96be-0af7b66ca4ef",
   "metadata": {},
   "outputs": [
    {
     "data": {
      "text/plain": [
       "'onika'"
      ]
     },
     "execution_count": 5,
     "metadata": {},
     "output_type": "execute_result"
    }
   ],
   "source": [
    " c1[1:6]"
   ]
  },
  {
   "cell_type": "code",
   "execution_count": 7,
   "id": "881dd7b3-931d-4dd7-a7c6-c4659f0d14ed",
   "metadata": {},
   "outputs": [],
   "source": [
    "#    0123456789       17\n",
    "n = 'this is a Sentence' "
   ]
  },
  {
   "cell_type": "code",
   "execution_count": 8,
   "id": "25e17bef-c07a-409c-b4a1-ac4041548744",
   "metadata": {},
   "outputs": [
    {
     "data": {
      "text/plain": [
       "18"
      ]
     },
     "execution_count": 8,
     "metadata": {},
     "output_type": "execute_result"
    }
   ],
   "source": [
    "len(n)"
   ]
  },
  {
   "cell_type": "code",
   "execution_count": 9,
   "id": "2c455d3b-e175-4871-ba53-197fc90271ba",
   "metadata": {},
   "outputs": [
    {
     "data": {
      "text/plain": [
       "'is'"
      ]
     },
     "execution_count": 9,
     "metadata": {},
     "output_type": "execute_result"
    }
   ],
   "source": [
    "n[5:7]"
   ]
  },
  {
   "cell_type": "code",
   "execution_count": 10,
   "id": "84c5b815-5f9e-44fb-af48-bb3106ed93d1",
   "metadata": {},
   "outputs": [
    {
     "data": {
      "text/plain": [
       "'Sen'"
      ]
     },
     "execution_count": 10,
     "metadata": {},
     "output_type": "execute_result"
    }
   ],
   "source": [
    "n[-8:-5]"
   ]
  },
  {
   "cell_type": "code",
   "execution_count": 12,
   "id": "8420505d-6cac-4b57-98e5-89957e9465e4",
   "metadata": {},
   "outputs": [
    {
     "data": {
      "text/plain": [
       "''"
      ]
     },
     "execution_count": 12,
     "metadata": {},
     "output_type": "execute_result"
    }
   ],
   "source": [
    "n[5:0] #--------> it will be shown blank"
   ]
  },
  {
   "cell_type": "code",
   "execution_count": 14,
   "id": "b6a4f544-b3b0-48ba-b595-d70935fa2d97",
   "metadata": {},
   "outputs": [
    {
     "data": {
      "text/plain": [
       "'this '"
      ]
     },
     "execution_count": 14,
     "metadata": {},
     "output_type": "execute_result"
    }
   ],
   "source": [
    "n[0:5] #--------> 0 to 5 character wlll be shown"
   ]
  },
  {
   "cell_type": "code",
   "execution_count": 17,
   "id": "7dd30c47-96d1-4a9c-a45f-087b1844681b",
   "metadata": {},
   "outputs": [
    {
     "data": {
      "text/plain": [
       "'hello Good night'"
      ]
     },
     "execution_count": 17,
     "metadata": {},
     "output_type": "execute_result"
    }
   ],
   "source": [
    "name  = \"hello Good night\"\n",
    "name "
   ]
  },
  {
   "cell_type": "code",
   "execution_count": 18,
   "id": "da30dfe4-4fe3-4620-a8a8-8facb4946a64",
   "metadata": {},
   "outputs": [
    {
     "data": {
      "text/plain": [
       "16"
      ]
     },
     "execution_count": 18,
     "metadata": {},
     "output_type": "execute_result"
    }
   ],
   "source": [
    "len(name)"
   ]
  },
  {
   "cell_type": "code",
   "execution_count": 19,
   "id": "4adf9c7c-3790-4522-b0e4-514e9771ca59",
   "metadata": {},
   "outputs": [
    {
     "data": {
      "text/plain": [
       "'n'"
      ]
     },
     "execution_count": 19,
     "metadata": {},
     "output_type": "execute_result"
    }
   ],
   "source": [
    "name[11]"
   ]
  },
  {
   "cell_type": "code",
   "execution_count": 20,
   "id": "cc796418-cf3f-4e85-a769-02e55e0a872b",
   "metadata": {},
   "outputs": [
    {
     "data": {
      "text/plain": [
       "'night'"
      ]
     },
     "execution_count": 20,
     "metadata": {},
     "output_type": "execute_result"
    }
   ],
   "source": [
    "name[11:16]"
   ]
  },
  {
   "cell_type": "code",
   "execution_count": 22,
   "id": "77dee33e-3d2a-4564-b98f-6af04969bfab",
   "metadata": {},
   "outputs": [
    {
     "data": {
      "text/plain": [
       "'Good'"
      ]
     },
     "execution_count": 22,
     "metadata": {},
     "output_type": "execute_result"
    }
   ],
   "source": [
    "name[6:10]"
   ]
  },
  {
   "cell_type": "code",
   "execution_count": 23,
   "id": "94b7cb04-a133-4315-a032-5546e0b4fcb1",
   "metadata": {},
   "outputs": [
    {
     "data": {
      "text/plain": [
       "'hello'"
      ]
     },
     "execution_count": 23,
     "metadata": {},
     "output_type": "execute_result"
    }
   ],
   "source": [
    "name[0:5]"
   ]
  },
  {
   "cell_type": "code",
   "execution_count": 24,
   "id": "566cbbbd-bbf5-4bcd-870e-b9c0f8992c2a",
   "metadata": {},
   "outputs": [
    {
     "data": {
      "text/plain": [
       "''"
      ]
     },
     "execution_count": 24,
     "metadata": {},
     "output_type": "execute_result"
    }
   ],
   "source": [
    "name[16:0]"
   ]
  },
  {
   "cell_type": "code",
   "execution_count": 26,
   "id": "36af74e7-5602-4d8f-8c68-92a2f78c4560",
   "metadata": {},
   "outputs": [
    {
     "data": {
      "text/plain": [
       "'hello Good'"
      ]
     },
     "execution_count": 26,
     "metadata": {},
     "output_type": "execute_result"
    }
   ],
   "source": [
    "name[-16:10]"
   ]
  },
  {
   "cell_type": "code",
   "execution_count": 28,
   "id": "76a4f06c-3263-403b-82fa-6a4283859af1",
   "metadata": {},
   "outputs": [
    {
     "data": {
      "text/plain": [
       "'lo Good'"
      ]
     },
     "execution_count": 28,
     "metadata": {},
     "output_type": "execute_result"
    }
   ],
   "source": [
    "name[-13:-6]"
   ]
  },
  {
   "cell_type": "code",
   "execution_count": null,
   "id": "fdf47ffc-2bc0-4db7-a84d-845384a4f4da",
   "metadata": {},
   "outputs": [],
   "source": []
  }
 ],
 "metadata": {
  "kernelspec": {
   "display_name": "Python 3 (ipykernel)",
   "language": "python",
   "name": "python3"
  },
  "language_info": {
   "codemirror_mode": {
    "name": "ipython",
    "version": 3
   },
   "file_extension": ".py",
   "mimetype": "text/x-python",
   "name": "python",
   "nbconvert_exporter": "python",
   "pygments_lexer": "ipython3",
   "version": "3.11.9"
  }
 },
 "nbformat": 4,
 "nbformat_minor": 5
}
