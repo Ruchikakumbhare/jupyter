{
 "cells": [
  {
   "cell_type": "code",
   "execution_count": null,
   "id": "056a0c13-50f6-4e82-8c56-ce3ee10279e7",
   "metadata": {},
   "outputs": [],
   "source": [
    "# SET\n",
    "Set is an unordered collection of data types that is iterable, mutable and has \n",
    "    no duplicate elements.\n",
    "\n",
    "Creating a Set\n",
    "    Sets can be created by using the built-in set() function with an iterable object   \n",
    "    or a sequence by placing the sequence inside curly braces, separated by a ‘comma’.\n",
    "    \n",
    "    Every element in set is hashable\n",
    "\n",
    "Note: A set cannot have mutable elements like a list or dictionary, as it is mutable. \n",
    "\n",
    "    Common uses include membership testing, removing duplicates from a sequence, and computing \n",
    "    mathematical operations such as intersection, union, difference, and symmetric difference. "
   ]
  },
  {
   "cell_type": "code",
   "execution_count": 1,
   "id": "b5c581bd-330e-4b82-b8d0-df4eec4171da",
   "metadata": {},
   "outputs": [],
   "source": [
    "a = {20,30,40}"
   ]
  },
  {
   "cell_type": "code",
   "execution_count": 2,
   "id": "df2bde73-aea4-4b8e-bdb5-2efd7d220fd3",
   "metadata": {},
   "outputs": [
    {
     "data": {
      "text/plain": [
       "{20, 30, 40}"
      ]
     },
     "execution_count": 2,
     "metadata": {},
     "output_type": "execute_result"
    }
   ],
   "source": [
    "a"
   ]
  },
  {
   "cell_type": "code",
   "execution_count": 3,
   "id": "804f674c-0300-44b2-9312-cb8b5a04e149",
   "metadata": {},
   "outputs": [
    {
     "data": {
      "text/plain": [
       "set"
      ]
     },
     "execution_count": 3,
     "metadata": {},
     "output_type": "execute_result"
    }
   ],
   "source": [
    "type(a)"
   ]
  },
  {
   "cell_type": "code",
   "execution_count": 4,
   "id": "9d86faca-020d-4b25-9afd-15d96f5880fb",
   "metadata": {},
   "outputs": [
    {
     "data": {
      "text/plain": [
       "3"
      ]
     },
     "execution_count": 4,
     "metadata": {},
     "output_type": "execute_result"
    }
   ],
   "source": [
    "len(a)"
   ]
  },
  {
   "cell_type": "code",
   "execution_count": 8,
   "id": "7a2474b2-97cc-40ff-9248-e8ef19a004c8",
   "metadata": {},
   "outputs": [
    {
     "name": "stdout",
     "output_type": "stream",
     "text": [
      "<class 'set'>\n"
     ]
    }
   ],
   "source": [
    "b={10,2.0,(1,2)}\n",
    "print(type(b))"
   ]
  },
  {
   "cell_type": "code",
   "execution_count": 9,
   "id": "e2a33d95-8345-4f65-ae55-a6bf809f6321",
   "metadata": {},
   "outputs": [
    {
     "name": "stdout",
     "output_type": "stream",
     "text": [
      "{1, 2, 3, 4, 5, 6, 34}\n"
     ]
    }
   ],
   "source": [
    "# No duplicate\n",
    "c = {1,2,3,1,3,4,5,6,2,34}\n",
    "print(c)"
   ]
  },
  {
   "cell_type": "code",
   "execution_count": 12,
   "id": "b408c68e-df4e-4b0b-9935-af553a40dbf4",
   "metadata": {},
   "outputs": [
    {
     "data": {
      "text/plain": [
       "list"
      ]
     },
     "execution_count": 12,
     "metadata": {},
     "output_type": "execute_result"
    }
   ],
   "source": [
    "type([])"
   ]
  },
  {
   "cell_type": "code",
   "execution_count": 13,
   "id": "0fcc6fa8-1d74-4d4a-ae1b-0d5860e6fda8",
   "metadata": {},
   "outputs": [
    {
     "data": {
      "text/plain": [
       "tuple"
      ]
     },
     "execution_count": 13,
     "metadata": {},
     "output_type": "execute_result"
    }
   ],
   "source": [
    "type(())"
   ]
  },
  {
   "cell_type": "code",
   "execution_count": 14,
   "id": "04a3737e-4812-44e9-9605-d360ad3730f4",
   "metadata": {},
   "outputs": [
    {
     "data": {
      "text/plain": [
       "dict"
      ]
     },
     "execution_count": 14,
     "metadata": {},
     "output_type": "execute_result"
    }
   ],
   "source": [
    "type({})"
   ]
  },
  {
   "cell_type": "code",
   "execution_count": null,
   "id": "488b050b-9b34-4ca3-9299-6e0b6f3e3836",
   "metadata": {},
   "outputs": [],
   "source": [
    "# set is an unordered collection of unique elements\n",
    " # Sets Creation"
   ]
  },
  {
   "cell_type": "code",
   "execution_count": 16,
   "id": "85e3bbde-1505-4537-8e1b-1066539ac319",
   "metadata": {},
   "outputs": [
    {
     "data": {
      "text/plain": [
       "{(1, 3), 1, 2, 3}"
      ]
     },
     "execution_count": 16,
     "metadata": {},
     "output_type": "execute_result"
    }
   ],
   "source": [
    "a = {1,2,3,True,(1,3)}\n",
    "a"
   ]
  },
  {
   "cell_type": "code",
   "execution_count": 18,
   "id": "43a73ee1-ef64-4244-9174-2f978d66124b",
   "metadata": {},
   "outputs": [
    {
     "ename": "TypeError",
     "evalue": "unhashable type: 'list'",
     "output_type": "error",
     "traceback": [
      "\u001b[1;31m---------------------------------------------------------------------------\u001b[0m",
      "\u001b[1;31mTypeError\u001b[0m                                 Traceback (most recent call last)",
      "Cell \u001b[1;32mIn[18], line 1\u001b[0m\n\u001b[1;32m----> 1\u001b[0m a \u001b[38;5;241m=\u001b[39m {\u001b[38;5;241m1\u001b[39m,\u001b[38;5;241m2\u001b[39m,\u001b[38;5;241m3\u001b[39m,\u001b[38;5;28;01mTrue\u001b[39;00m,(\u001b[38;5;241m1\u001b[39m,\u001b[38;5;241m3\u001b[39m),[\u001b[38;5;241m4.5\u001b[39m,\u001b[38;5;241m44\u001b[39m]}\n\u001b[0;32m      2\u001b[0m \u001b[38;5;28mprint\u001b[39m (a)\n",
      "\u001b[1;31mTypeError\u001b[0m: unhashable type: 'list'"
     ]
    }
   ],
   "source": [
    "a = {1,2,3,True,(1,3),[4.5,44]}\n",
    "print(a ) #error"
   ]
  },
  {
   "cell_type": "code",
   "execution_count": 19,
   "id": "319c3bcc-4d74-4ade-8748-2402d1e30dbe",
   "metadata": {},
   "outputs": [
    {
     "name": "stdout",
     "output_type": "stream",
     "text": [
      "{65, 1, 2, 3, 4, 56}\n"
     ]
    }
   ],
   "source": [
    "print({1,2,3,1,3,4,56,65})"
   ]
  },
  {
   "cell_type": "code",
   "execution_count": 20,
   "id": "c7807f1f-b014-49f2-b7c8-52a56bd9c48d",
   "metadata": {},
   "outputs": [
    {
     "data": {
      "text/plain": [
       "{2, 3, 4, 5, 6, 7, 'bye', 'hello'}"
      ]
     },
     "execution_count": 20,
     "metadata": {},
     "output_type": "execute_result"
    }
   ],
   "source": [
    "d = {'hello',3,5,6,7,2,4,3,4,\"bye\"}\n",
    "d"
   ]
  },
  {
   "cell_type": "code",
   "execution_count": 22,
   "id": "cffdc746-0875-4aa0-99ad-561ad1fcd87f",
   "metadata": {},
   "outputs": [
    {
     "ename": "TypeError",
     "evalue": "'set' object is not subscriptable",
     "output_type": "error",
     "traceback": [
      "\u001b[1;31m---------------------------------------------------------------------------\u001b[0m",
      "\u001b[1;31mTypeError\u001b[0m                                 Traceback (most recent call last)",
      "Cell \u001b[1;32mIn[22], line 1\u001b[0m\n\u001b[1;32m----> 1\u001b[0m d[\u001b[38;5;241m1\u001b[39m]\n",
      "\u001b[1;31mTypeError\u001b[0m: 'set' object is not subscriptable"
     ]
    }
   ],
   "source": [
    "d[1]  #'set' object is not subscriptable \n"
   ]
  },
  {
   "cell_type": "code",
   "execution_count": 23,
   "id": "60169ab5-bd73-4e34-bdb4-36150aa1a28e",
   "metadata": {},
   "outputs": [
    {
     "data": {
      "text/plain": [
       "{'bye', 'good', 'hello'}"
      ]
     },
     "execution_count": 23,
     "metadata": {},
     "output_type": "execute_result"
    }
   ],
   "source": [
    "a = {'hello','bye','good','bye'}\n",
    "a"
   ]
  },
  {
   "cell_type": "code",
   "execution_count": 24,
   "id": "25b2588d-97e6-4cab-83b1-7ef8e90711e5",
   "metadata": {},
   "outputs": [
    {
     "ename": "TypeError",
     "evalue": "'set' object is not subscriptable",
     "output_type": "error",
     "traceback": [
      "\u001b[1;31m---------------------------------------------------------------------------\u001b[0m",
      "\u001b[1;31mTypeError\u001b[0m                                 Traceback (most recent call last)",
      "Cell \u001b[1;32mIn[24], line 1\u001b[0m\n\u001b[1;32m----> 1\u001b[0m a[\u001b[38;5;241m1\u001b[39m]\n",
      "\u001b[1;31mTypeError\u001b[0m: 'set' object is not subscriptable"
     ]
    }
   ],
   "source": [
    "a[1]"
   ]
  },
  {
   "cell_type": "code",
   "execution_count": 26,
   "id": "db9598a6-602b-44bd-be27-7c6542b36051",
   "metadata": {},
   "outputs": [
    {
     "data": {
      "text/plain": [
       "[1, 2, 4, 5, 2, 1, 3, 4, 4]"
      ]
     },
     "execution_count": 26,
     "metadata": {},
     "output_type": "execute_result"
    }
   ],
   "source": [
    "l1 = [1,2,4,5,2,1,3,4,4]\n",
    "l1"
   ]
  },
  {
   "cell_type": "code",
   "execution_count": 27,
   "id": "e377bb0f-6b82-4928-aa68-5200806650f9",
   "metadata": {},
   "outputs": [
    {
     "data": {
      "text/plain": [
       "2"
      ]
     },
     "execution_count": 27,
     "metadata": {},
     "output_type": "execute_result"
    }
   ],
   "source": [
    "l1[4]"
   ]
  },
  {
   "cell_type": "code",
   "execution_count": 29,
   "id": "3a29d70a-6c48-4bf9-8966-2c1d62f2e2e5",
   "metadata": {},
   "outputs": [
    {
     "data": {
      "text/plain": [
       "2"
      ]
     },
     "execution_count": 29,
     "metadata": {},
     "output_type": "execute_result"
    }
   ],
   "source": [
    "l1.index(4)"
   ]
  },
  {
   "cell_type": "code",
   "execution_count": 30,
   "id": "feaa7ac0-371e-4669-b97d-ffe556fe5371",
   "metadata": {},
   "outputs": [
    {
     "data": {
      "text/plain": [
       "2"
      ]
     },
     "execution_count": 30,
     "metadata": {},
     "output_type": "execute_result"
    }
   ],
   "source": [
    "l1.index(4)"
   ]
  },
  {
   "cell_type": "code",
   "execution_count": 31,
   "id": "aec1db75-f6a9-42ef-9f8f-455444b8453b",
   "metadata": {},
   "outputs": [
    {
     "data": {
      "text/plain": [
       "{102, 333, 454, 555}"
      ]
     },
     "execution_count": 31,
     "metadata": {},
     "output_type": "execute_result"
    }
   ],
   "source": [
    "a = {102,333,454,555}\n",
    "a"
   ]
  },
  {
   "cell_type": "code",
   "execution_count": 32,
   "id": "97b15b79-5763-4c53-9ae8-a66d0bf30c8a",
   "metadata": {},
   "outputs": [
    {
     "data": {
      "text/plain": [
       "set"
      ]
     },
     "execution_count": 32,
     "metadata": {},
     "output_type": "execute_result"
    }
   ],
   "source": [
    "type(a)"
   ]
  },
  {
   "cell_type": "code",
   "execution_count": 33,
   "id": "c2831bc3-7565-4524-bb77-86db585f4803",
   "metadata": {},
   "outputs": [
    {
     "data": {
      "text/plain": [
       "{100, 102, 333, 454, 555}"
      ]
     },
     "execution_count": 33,
     "metadata": {},
     "output_type": "execute_result"
    }
   ],
   "source": [
    "a.add(100)\n",
    "a"
   ]
  }
 ],
 "metadata": {
  "kernelspec": {
   "display_name": "Python 3 (ipykernel)",
   "language": "python",
   "name": "python3"
  },
  "language_info": {
   "codemirror_mode": {
    "name": "ipython",
    "version": 3
   },
   "file_extension": ".py",
   "mimetype": "text/x-python",
   "name": "python",
   "nbconvert_exporter": "python",
   "pygments_lexer": "ipython3",
   "version": "3.11.9"
  }
 },
 "nbformat": 4,
 "nbformat_minor": 5
}
