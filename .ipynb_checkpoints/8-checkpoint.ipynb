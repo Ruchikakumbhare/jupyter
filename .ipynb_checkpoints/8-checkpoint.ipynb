{
 "cells": [
  {
   "cell_type": "code",
   "execution_count": null,
   "id": "05d4ff9d-0762-4019-959d-13f7fb39bb06",
   "metadata": {},
   "outputs": [],
   "source": [
    "#STRING FORMATING"
   ]
  },
  {
   "cell_type": "code",
   "execution_count": null,
   "id": "7a4937e2-1513-4292-ad1a-66164741e223",
   "metadata": {},
   "outputs": [],
   "source": [
    "STRING FORMATTING\n",
    "\n",
    "     1) f-string\n",
    "     2) .format()\n",
    "\n",
    "placeholders {}\n",
    "\n",
    "\n",
    "\n",
    "\"My name is ---.I am --- years old\""
   ]
  },
  {
   "cell_type": "code",
   "execution_count": 1,
   "id": "31e6b1fe-ea9e-4cfc-8fff-9b9b0b81066d",
   "metadata": {},
   "outputs": [
    {
     "data": {
      "text/plain": [
       "'Priya'"
      ]
     },
     "execution_count": 1,
     "metadata": {},
     "output_type": "execute_result"
    }
   ],
   "source": [
    "nam = 'Priya'\n",
    "nam"
   ]
  },
  {
   "cell_type": "code",
   "execution_count": 2,
   "id": "d95e3e12-e320-4a54-851c-cfb8abf5d074",
   "metadata": {},
   "outputs": [
    {
     "data": {
      "text/plain": [
       "5"
      ]
     },
     "execution_count": 2,
     "metadata": {},
     "output_type": "execute_result"
    }
   ],
   "source": [
    "len(nam)"
   ]
  },
  {
   "cell_type": "code",
   "execution_count": 3,
   "id": "e5086026-3777-43dd-a47d-eaf4895d9895",
   "metadata": {},
   "outputs": [
    {
     "data": {
      "text/plain": [
       "'my name is shinchan'"
      ]
     },
     "execution_count": 3,
     "metadata": {},
     "output_type": "execute_result"
    }
   ],
   "source": [
    "\"my name is shinchan\""
   ]
  },
  {
   "cell_type": "code",
   "execution_count": 5,
   "id": "11376b18-123c-4e73-ba7f-6208412eda3a",
   "metadata": {},
   "outputs": [],
   "source": [
    " name = 'sonu'\n",
    " age = 22"
   ]
  },
  {
   "cell_type": "code",
   "execution_count": 6,
   "id": "37728495-7cf3-4be0-996c-698cadf545da",
   "metadata": {},
   "outputs": [
    {
     "data": {
      "text/plain": [
       "'sonu'"
      ]
     },
     "execution_count": 6,
     "metadata": {},
     "output_type": "execute_result"
    }
   ],
   "source": [
    "name"
   ]
  },
  {
   "cell_type": "code",
   "execution_count": 7,
   "id": "7391e36e-2de5-4cd2-a37c-0e19332f015e",
   "metadata": {},
   "outputs": [
    {
     "data": {
      "text/plain": [
       "22"
      ]
     },
     "execution_count": 7,
     "metadata": {},
     "output_type": "execute_result"
    }
   ],
   "source": [
    "age"
   ]
  },
  {
   "cell_type": "code",
   "execution_count": 12,
   "id": "1c4674e3-19cc-4606-a47c-da777a288815",
   "metadata": {},
   "outputs": [
    {
     "data": {
      "text/plain": [
       "'my name is sonu. my age is 22.'"
      ]
     },
     "execution_count": 12,
     "metadata": {},
     "output_type": "execute_result"
    }
   ],
   "source": [
    "f\"my name is {name}. my age is {age}.\""
   ]
  },
  {
   "cell_type": "code",
   "execution_count": 14,
   "id": "f9445391-f38c-48f5-9dc5-d6622535f466",
   "metadata": {},
   "outputs": [],
   "source": [
    "name = 'ruchika'\n",
    "surname = 'kumbhare'\n",
    "age = 22"
   ]
  },
  {
   "cell_type": "code",
   "execution_count": 15,
   "id": "ac6f0724-c7d3-41ca-a42d-788a5aecde0d",
   "metadata": {},
   "outputs": [
    {
     "data": {
      "text/plain": [
       "'my name is ruchika and my surname is kumbhare.i am 22 old .'"
      ]
     },
     "execution_count": 15,
     "metadata": {},
     "output_type": "execute_result"
    }
   ],
   "source": [
    "f\"my name is {name} and my surname is {surname}.i am {age} old .\""
   ]
  },
  {
   "cell_type": "code",
   "execution_count": null,
   "id": "66ac57c8-4a99-409d-95fc-b3b77072f7a2",
   "metadata": {},
   "outputs": [],
   "source": [
    ".format()"
   ]
  },
  {
   "cell_type": "code",
   "execution_count": 18,
   "id": "83901b90-3d86-4cde-bbe6-4da12f9d6dde",
   "metadata": {},
   "outputs": [
    {
     "data": {
      "text/plain": [
       "'my name is ruchika . and i am 22 years old'"
      ]
     },
     "execution_count": 18,
     "metadata": {},
     "output_type": "execute_result"
    }
   ],
   "source": [
    "\"my name is {} . and i am {} years old\".format(name,age) "
   ]
  },
  {
   "cell_type": "code",
   "execution_count": null,
   "id": "83db8d8e-8570-4b9e-9794-4222d4f34e0b",
   "metadata": {},
   "outputs": [],
   "source": []
  },
  {
   "cell_type": "code",
   "execution_count": 20,
   "id": "2040afc8-a6bc-4fe0-b838-9800e0de634a",
   "metadata": {},
   "outputs": [],
   "source": [
    "name = 'neha'\n",
    "city = 'nagpur'"
   ]
  },
  {
   "cell_type": "code",
   "execution_count": 22,
   "id": "48aed178-8f2b-4e5e-928e-83b16f330459",
   "metadata": {},
   "outputs": [
    {
     "data": {
      "text/plain": [
       "'my name is neha my city is nagpur'"
      ]
     },
     "execution_count": 22,
     "metadata": {},
     "output_type": "execute_result"
    }
   ],
   "source": [
    "\"my name is {} my city is {}\".format(name , city)    #---->.format"
   ]
  },
  {
   "cell_type": "code",
   "execution_count": 21,
   "id": "41e3cdc7-23ea-43fe-b542-811881b6f5f8",
   "metadata": {},
   "outputs": [
    {
     "data": {
      "text/plain": [
       "'my name is neha and my city is nagpur.'"
      ]
     },
     "execution_count": 21,
     "metadata": {},
     "output_type": "execute_result"
    }
   ],
   "source": [
    "f\"my name is {name} and my city is {city}.\"        # -------> f string"
   ]
  },
  {
   "cell_type": "code",
   "execution_count": 23,
   "id": "9df00b2e-7214-48f8-a7aa-e904664f54db",
   "metadata": {},
   "outputs": [
    {
     "data": {
      "text/plain": [
       "'i am a girl.\\n he is boy'"
      ]
     },
     "execution_count": 23,
     "metadata": {},
     "output_type": "execute_result"
    }
   ],
   "source": [
    "\"i am a girl. \\n he is boy\""
   ]
  },
  {
   "cell_type": "code",
   "execution_count": 24,
   "id": "da7a8d27-c5e2-4f7e-b17b-a47c0a9d88d6",
   "metadata": {},
   "outputs": [
    {
     "name": "stdout",
     "output_type": "stream",
     "text": [
      "i am a girl. \n",
      " he is boy\n"
     ]
    }
   ],
   "source": [
    "print(\"i am a girl. \\n he is boy\")"
   ]
  },
  {
   "cell_type": "code",
   "execution_count": 25,
   "id": "0323407e-45a8-407e-8766-b59730ae4690",
   "metadata": {},
   "outputs": [
    {
     "name": "stdout",
     "output_type": "stream",
     "text": [
      "this is python. \n",
      " this is java.\n"
     ]
    }
   ],
   "source": [
    "print('this is python. \\n this is java.')"
   ]
  },
  {
   "cell_type": "code",
   "execution_count": 26,
   "id": "e95f4265-8bd3-42c4-8126-f33f5a1f4662",
   "metadata": {},
   "outputs": [
    {
     "name": "stdout",
     "output_type": "stream",
     "text": [
      "i am a girl. \\n he is boy\n"
     ]
    }
   ],
   "source": [
    "print(r\"i am a girl. \\n he is boy\")"
   ]
  },
  {
   "cell_type": "code",
   "execution_count": 32,
   "id": "78bd534b-f58c-499d-a7b0-022fccd3783c",
   "metadata": {},
   "outputs": [
    {
     "name": "stdout",
     "output_type": "stream",
     "text": [
      "the color of mango is\t fill in the blank\n"
     ]
    }
   ],
   "source": [
    "print(\"the color of mango is\\t fill in the blank\")"
   ]
  },
  {
   "cell_type": "code",
   "execution_count": 30,
   "id": "011038c3-15ad-4f50-aecc-edc73de1d6e0",
   "metadata": {},
   "outputs": [
    {
     "name": "stdout",
     "output_type": "stream",
     "text": [
      "My name is name.\t I am age years old\n"
     ]
    }
   ],
   "source": [
    "print(\"My name is name.\\t I am age years old\")"
   ]
  },
  {
   "cell_type": "code",
   "execution_count": null,
   "id": "9e0e290e-44b3-4082-9e1f-0153f679e880",
   "metadata": {},
   "outputs": [],
   "source": []
  }
 ],
 "metadata": {
  "kernelspec": {
   "display_name": "Python 3 (ipykernel)",
   "language": "python",
   "name": "python3"
  },
  "language_info": {
   "codemirror_mode": {
    "name": "ipython",
    "version": 3
   },
   "file_extension": ".py",
   "mimetype": "text/x-python",
   "name": "python",
   "nbconvert_exporter": "python",
   "pygments_lexer": "ipython3",
   "version": "3.11.9"
  }
 },
 "nbformat": 4,
 "nbformat_minor": 5
}
