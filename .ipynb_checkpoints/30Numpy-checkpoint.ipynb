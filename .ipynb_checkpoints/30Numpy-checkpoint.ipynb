{
 "cells": [
  {
   "cell_type": "code",
   "execution_count": 3,
   "id": "1584c07d-a6a9-4859-9ceb-4923b96611db",
   "metadata": {},
   "outputs": [],
   "source": [
    "import numpy as np"
   ]
  },
  {
   "cell_type": "code",
   "execution_count": 5,
   "id": "5ecff842-d240-4431-a93d-50bd96986f10",
   "metadata": {},
   "outputs": [
    {
     "data": {
      "text/plain": [
       "array([ 1,  2,  3,  4,  5,  6,  7,  8,  9, 10, 11, 12, 13, 14])"
      ]
     },
     "execution_count": 5,
     "metadata": {},
     "output_type": "execute_result"
    }
   ],
   "source": [
    "np.arange(1,15)"
   ]
  },
  {
   "cell_type": "code",
   "execution_count": 9,
   "id": "d4e531b5-7f41-4fb1-a920-bd7b8906972d",
   "metadata": {},
   "outputs": [
    {
     "data": {
      "text/plain": [
       "array([ 1,  2,  3,  4,  5,  6,  7,  8,  9, 10, 11, 12, 13, 14])"
      ]
     },
     "execution_count": 9,
     "metadata": {},
     "output_type": "execute_result"
    }
   ],
   "source": [
    "arr = np.arange(1,15)\n",
    "arr"
   ]
  },
  {
   "cell_type": "code",
   "execution_count": 11,
   "id": "40944224-a253-4bcf-b046-3b1ad4346744",
   "metadata": {},
   "outputs": [
    {
     "data": {
      "text/plain": [
       "14"
      ]
     },
     "execution_count": 11,
     "metadata": {},
     "output_type": "execute_result"
    }
   ],
   "source": [
    "arr.size"
   ]
  },
  {
   "cell_type": "code",
   "execution_count": 13,
   "id": "33d9cd09-a563-4f0f-b14a-60ed3fe8536f",
   "metadata": {},
   "outputs": [
    {
     "data": {
      "text/plain": [
       "array([[ 1,  2,  3,  4,  5,  6,  7],\n",
       "       [ 8,  9, 10, 11, 12, 13, 14]])"
      ]
     },
     "execution_count": 13,
     "metadata": {},
     "output_type": "execute_result"
    }
   ],
   "source": [
    "arr.reshape(2,7)"
   ]
  },
  {
   "cell_type": "code",
   "execution_count": 17,
   "id": "c4899c5e-d5d9-4ea1-99fe-e847205cf5f1",
   "metadata": {},
   "outputs": [
    {
     "data": {
      "text/plain": [
       "array([[ 1,  2,  3,  4,  5,  6,  7,  8,  9, 10, 11, 12, 13, 14]])"
      ]
     },
     "execution_count": 17,
     "metadata": {},
     "output_type": "execute_result"
    }
   ],
   "source": [
    "arr.reshape(1,14)"
   ]
  },
  {
   "cell_type": "code",
   "execution_count": null,
   "id": "16c6dfc4-3faf-431c-883a-dd412d391fea",
   "metadata": {},
   "outputs": [],
   "source": [
    "#resize():- returns a new array with a new shape"
   ]
  },
  {
   "cell_type": "code",
   "execution_count": null,
   "id": "90e05954-4b82-44a2-a615-81fba3350dd2",
   "metadata": {},
   "outputs": [],
   "source": [
    "# "
   ]
  },
  {
   "cell_type": "code",
   "execution_count": null,
   "id": "3fb15d5d-ed8d-4cfe-a1f8-bdbeabfd1f61",
   "metadata": {},
   "outputs": [],
   "source": [
    "# method1"
   ]
  },
  {
   "cell_type": "code",
   "execution_count": 19,
   "id": "3c373241-4d9c-453a-8783-b21055fb3028",
   "metadata": {},
   "outputs": [
    {
     "data": {
      "text/plain": [
       "array([ 1,  2,  3,  4,  5,  6,  7,  8,  9, 10, 11, 12, 13, 14])"
      ]
     },
     "execution_count": 19,
     "metadata": {},
     "output_type": "execute_result"
    }
   ],
   "source": [
    "arr"
   ]
  },
  {
   "cell_type": "code",
   "execution_count": 21,
   "id": "5e517f20-44a8-4bdb-8146-b6a2399376ba",
   "metadata": {},
   "outputs": [],
   "source": [
    "arr.resize(2,7)"
   ]
  },
  {
   "cell_type": "code",
   "execution_count": 23,
   "id": "142d56bc-ffbd-41e6-8b0d-f0c008740809",
   "metadata": {},
   "outputs": [
    {
     "data": {
      "text/plain": [
       "array([[ 1,  2,  3,  4,  5,  6,  7],\n",
       "       [ 8,  9, 10, 11, 12, 13, 14]])"
      ]
     },
     "execution_count": 23,
     "metadata": {},
     "output_type": "execute_result"
    }
   ],
   "source": [
    "arr"
   ]
  },
  {
   "cell_type": "code",
   "execution_count": null,
   "id": "d2b9052c-404a-4d10-b687-3e9e95ef3209",
   "metadata": {},
   "outputs": [],
   "source": [
    "# method2"
   ]
  },
  {
   "cell_type": "code",
   "execution_count": 25,
   "id": "283c1dfe-e0fd-4d7f-a60b-79bf4c246581",
   "metadata": {},
   "outputs": [
    {
     "data": {
      "text/plain": [
       "array([[ 1,  2,  3,  4,  5,  6,  7],\n",
       "       [ 8,  9, 10, 11, 12, 13, 14]])"
      ]
     },
     "execution_count": 25,
     "metadata": {},
     "output_type": "execute_result"
    }
   ],
   "source": [
    "np.resize(arr,(2,7))"
   ]
  },
  {
   "cell_type": "code",
   "execution_count": 31,
   "id": "2abec4c4-5672-404a-8bd2-8a2f2dac279d",
   "metadata": {},
   "outputs": [
    {
     "data": {
      "text/plain": [
       "array([2, 3])"
      ]
     },
     "execution_count": 31,
     "metadata": {},
     "output_type": "execute_result"
    }
   ],
   "source": [
    "a = np.arange(2,4)\n",
    "a"
   ]
  },
  {
   "cell_type": "code",
   "execution_count": 35,
   "id": "25db72ad-e71f-435f-913e-25cbd3115a1a",
   "metadata": {},
   "outputs": [
    {
     "data": {
      "text/plain": [
       "2"
      ]
     },
     "execution_count": 35,
     "metadata": {},
     "output_type": "execute_result"
    }
   ],
   "source": [
    "a.size"
   ]
  },
  {
   "cell_type": "code",
   "execution_count": 43,
   "id": "6031d0a5-10cc-44d6-80e9-96bbdb7e7c82",
   "metadata": {},
   "outputs": [],
   "source": [
    "b=np.arange(1,9)"
   ]
  },
  {
   "cell_type": "code",
   "execution_count": 45,
   "id": "e542d5f8-c160-40d3-a5e5-2ee6bbbb81c6",
   "metadata": {},
   "outputs": [
    {
     "data": {
      "text/plain": [
       "array([1, 2, 3, 4, 5, 6, 7, 8])"
      ]
     },
     "execution_count": 45,
     "metadata": {},
     "output_type": "execute_result"
    }
   ],
   "source": [
    "b"
   ]
  },
  {
   "cell_type": "code",
   "execution_count": 47,
   "id": "e3af8bfc-b307-41bf-b8a7-e476f9bf8aba",
   "metadata": {},
   "outputs": [
    {
     "data": {
      "text/plain": [
       "8"
      ]
     },
     "execution_count": 47,
     "metadata": {},
     "output_type": "execute_result"
    }
   ],
   "source": [
    "b.size"
   ]
  },
  {
   "cell_type": "code",
   "execution_count": 51,
   "id": "2e5ef01d-5457-4dd0-9957-0ce6251631df",
   "metadata": {},
   "outputs": [],
   "source": [
    "b.resize(2,4)"
   ]
  },
  {
   "cell_type": "code",
   "execution_count": 54,
   "id": "26cb4186-92f0-4431-b720-ef11272800f6",
   "metadata": {},
   "outputs": [
    {
     "data": {
      "text/plain": [
       "array([[1, 2, 3, 4],\n",
       "       [5, 6, 7, 8]])"
      ]
     },
     "execution_count": 54,
     "metadata": {},
     "output_type": "execute_result"
    }
   ],
   "source": [
    "b"
   ]
  },
  {
   "cell_type": "code",
   "execution_count": 56,
   "id": "9eb4d2b2-e28d-4fb6-bbf7-8707bf77920f",
   "metadata": {},
   "outputs": [
    {
     "data": {
      "text/plain": [
       "array([[1, 2, 3, 4],\n",
       "       [5, 6, 7, 8]])"
      ]
     },
     "execution_count": 56,
     "metadata": {},
     "output_type": "execute_result"
    }
   ],
   "source": [
    "b.reshape(2,4)\n",
    "b"
   ]
  },
  {
   "cell_type": "code",
   "execution_count": 58,
   "id": "0e7d905b-d405-400e-8f6f-a80a7c131bba",
   "metadata": {},
   "outputs": [
    {
     "data": {
      "text/plain": [
       "array([[1, 2, 3, 4],\n",
       "       [5, 6, 7, 8]])"
      ]
     },
     "execution_count": 58,
     "metadata": {},
     "output_type": "execute_result"
    }
   ],
   "source": [
    "np.reshape(b,(2,4))"
   ]
  },
  {
   "cell_type": "code",
   "execution_count": 60,
   "id": "7427e750-5f64-4095-b0c8-1e0f96792bae",
   "metadata": {},
   "outputs": [
    {
     "data": {
      "text/plain": [
       "array([ 3,  6,  9, 12, 15, 18, 21, 24, 27, 30])"
      ]
     },
     "execution_count": 60,
     "metadata": {},
     "output_type": "execute_result"
    }
   ],
   "source": [
    "c = np.arange(3,31,3)\n",
    "c"
   ]
  },
  {
   "cell_type": "code",
   "execution_count": 62,
   "id": "f2b41ad8-bcc6-45cf-8b6c-b8b5eb63756e",
   "metadata": {},
   "outputs": [
    {
     "data": {
      "text/plain": [
       "10"
      ]
     },
     "execution_count": 62,
     "metadata": {},
     "output_type": "execute_result"
    }
   ],
   "source": [
    "c.size"
   ]
  },
  {
   "cell_type": "code",
   "execution_count": 64,
   "id": "c0ee4b2a-42a0-4856-9ab4-f46cfcb5d3a5",
   "metadata": {},
   "outputs": [
    {
     "data": {
      "text/plain": [
       "array([[ 3,  6,  9, 12, 15],\n",
       "       [18, 21, 24, 27, 30]])"
      ]
     },
     "execution_count": 64,
     "metadata": {},
     "output_type": "execute_result"
    }
   ],
   "source": [
    "np.resize(c,(2,5))"
   ]
  },
  {
   "cell_type": "code",
   "execution_count": 76,
   "id": "1ee10a98-01a9-4f3e-822d-629ee165b50e",
   "metadata": {},
   "outputs": [],
   "source": [
    "from functools import reduce"
   ]
  },
  {
   "cell_type": "code",
   "execution_count": 66,
   "id": "aaa8c711-171b-4f85-9244-68a7abc457fa",
   "metadata": {},
   "outputs": [],
   "source": [
    "l=[ 2,  4,  6,  8, 10, 12, 14, 16, 18, 20]\n"
   ]
  },
  {
   "cell_type": "code",
   "execution_count": 84,
   "id": "c19fb155-f27a-4ae0-b944-1efef666807b",
   "metadata": {},
   "outputs": [
    {
     "name": "stdout",
     "output_type": "stream",
     "text": [
      "110\n"
     ]
    }
   ],
   "source": [
    "print(reduce(lambda x,y: x+y ,l))"
   ]
  },
  {
   "cell_type": "code",
   "execution_count": null,
   "id": "8a76e2dc-6709-409c-9567-27008181d6ec",
   "metadata": {},
   "outputs": [],
   "source": [
    "#Aggregate functions\n",
    "sum\n",
    "min\n",
    "max\n"
   ]
  },
  {
   "cell_type": "code",
   "execution_count": 88,
   "id": "1afcb62a-74c3-4509-bc10-02bb6de6625a",
   "metadata": {},
   "outputs": [
    {
     "data": {
      "text/plain": [
       "array([ 1,  2,  3,  4,  5,  6,  7,  8,  9, 10, 11, 12, 13, 14])"
      ]
     },
     "execution_count": 88,
     "metadata": {},
     "output_type": "execute_result"
    }
   ],
   "source": [
    "x=np.arange(1,15)\n",
    "x"
   ]
  },
  {
   "cell_type": "code",
   "execution_count": 90,
   "id": "cf351a6c-5229-4f28-8d0a-9e9244622f8e",
   "metadata": {},
   "outputs": [
    {
     "data": {
      "text/plain": [
       "105"
      ]
     },
     "execution_count": 90,
     "metadata": {},
     "output_type": "execute_result"
    }
   ],
   "source": [
    "x.sum()"
   ]
  },
  {
   "cell_type": "code",
   "execution_count": 92,
   "id": "c61ec011-173e-4c04-af15-5cf0aa1f522f",
   "metadata": {},
   "outputs": [
    {
     "ename": "AttributeError",
     "evalue": "'list' object has no attribute 'sum'",
     "output_type": "error",
     "traceback": [
      "\u001b[1;31m---------------------------------------------------------------------------\u001b[0m",
      "\u001b[1;31mAttributeError\u001b[0m                            Traceback (most recent call last)",
      "Cell \u001b[1;32mIn[92], line 1\u001b[0m\n\u001b[1;32m----> 1\u001b[0m l\u001b[38;5;241m.\u001b[39msum()\n",
      "\u001b[1;31mAttributeError\u001b[0m: 'list' object has no attribute 'sum'"
     ]
    }
   ],
   "source": [
    "l.sum() #this is list,list doest not have sum method it is have for loop to sum and reduce method"
   ]
  },
  {
   "cell_type": "code",
   "execution_count": 96,
   "id": "931bb091-76ae-42e9-a1b1-74f889ac3a28",
   "metadata": {},
   "outputs": [
    {
     "data": {
      "text/plain": [
       "1"
      ]
     },
     "execution_count": 96,
     "metadata": {},
     "output_type": "execute_result"
    }
   ],
   "source": [
    "x.min()"
   ]
  },
  {
   "cell_type": "code",
   "execution_count": 98,
   "id": "48e4e18c-4f2a-4755-8173-7543e3aea4de",
   "metadata": {},
   "outputs": [
    {
     "data": {
      "text/plain": [
       "14"
      ]
     },
     "execution_count": 98,
     "metadata": {},
     "output_type": "execute_result"
    }
   ],
   "source": [
    "x.max()"
   ]
  },
  {
   "cell_type": "code",
   "execution_count": 100,
   "id": "9c1b78de-bf5f-457e-8d64-66bf638ff123",
   "metadata": {},
   "outputs": [
    {
     "data": {
      "text/plain": [
       "<function ndarray.min>"
      ]
     },
     "execution_count": 100,
     "metadata": {},
     "output_type": "execute_result"
    }
   ],
   "source": [
    "x.min"
   ]
  },
  {
   "cell_type": "code",
   "execution_count": 102,
   "id": "32b43cde-d7cf-4ea6-affa-763dd1c3e873",
   "metadata": {},
   "outputs": [
    {
     "ename": "TypeError",
     "evalue": "'int' object is not callable",
     "output_type": "error",
     "traceback": [
      "\u001b[1;31m---------------------------------------------------------------------------\u001b[0m",
      "\u001b[1;31mTypeError\u001b[0m                                 Traceback (most recent call last)",
      "Cell \u001b[1;32mIn[102], line 1\u001b[0m\n\u001b[1;32m----> 1\u001b[0m x\u001b[38;5;241m.\u001b[39msize()\n",
      "\u001b[1;31mTypeError\u001b[0m: 'int' object is not callable"
     ]
    }
   ],
   "source": [
    "x.size()"
   ]
  },
  {
   "cell_type": "code",
   "execution_count": 104,
   "id": "b0c81bca-e88e-4f5f-b342-269fd77b6172",
   "metadata": {},
   "outputs": [
    {
     "data": {
      "text/plain": [
       "14"
      ]
     },
     "execution_count": 104,
     "metadata": {},
     "output_type": "execute_result"
    }
   ],
   "source": [
    "x.size"
   ]
  },
  {
   "cell_type": "code",
   "execution_count": 106,
   "id": "4cbd2fb1-572b-494b-bed0-549f009a5d94",
   "metadata": {},
   "outputs": [
    {
     "data": {
      "text/plain": [
       "7.5"
      ]
     },
     "execution_count": 106,
     "metadata": {},
     "output_type": "execute_result"
    }
   ],
   "source": [
    "x.mean()  #sum/size  ==>105/14"
   ]
  },
  {
   "cell_type": "code",
   "execution_count": 108,
   "id": "1e92e26c-adba-4436-9e83-637b75ff6770",
   "metadata": {},
   "outputs": [
    {
     "data": {
      "text/plain": [
       "7.5"
      ]
     },
     "execution_count": 108,
     "metadata": {},
     "output_type": "execute_result"
    }
   ],
   "source": [
    "105/14"
   ]
  },
  {
   "cell_type": "code",
   "execution_count": 110,
   "id": "52887376-926e-43de-9f02-26d8c41d216c",
   "metadata": {},
   "outputs": [
    {
     "data": {
      "text/plain": [
       "16.25"
      ]
     },
     "execution_count": 110,
     "metadata": {},
     "output_type": "execute_result"
    }
   ],
   "source": [
    "x.var()    #==> std*std"
   ]
  },
  {
   "cell_type": "code",
   "execution_count": 112,
   "id": "d0253096-ed4d-44e6-99ec-48fb9ac33ce9",
   "metadata": {},
   "outputs": [
    {
     "data": {
      "text/plain": [
       "4.031128874149275"
      ]
     },
     "execution_count": 112,
     "metadata": {},
     "output_type": "execute_result"
    }
   ],
   "source": [
    "x.std()"
   ]
  },
  {
   "cell_type": "code",
   "execution_count": 116,
   "id": "4597f560-d4af-4b68-b148-477b1e83a030",
   "metadata": {},
   "outputs": [
    {
     "data": {
      "text/plain": [
       "16.249999999999996"
      ]
     },
     "execution_count": 116,
     "metadata": {},
     "output_type": "execute_result"
    }
   ],
   "source": [
    "4.031128874149275*4.031128874149275"
   ]
  },
  {
   "cell_type": "code",
   "execution_count": null,
   "id": "767d087d-701e-49a6-a285-eb83d782467f",
   "metadata": {},
   "outputs": [],
   "source": [
    "# Homework"
   ]
  },
  {
   "cell_type": "code",
   "execution_count": 118,
   "id": "88d84c16-1ae4-490d-97d7-c487de8d62e7",
   "metadata": {},
   "outputs": [
    {
     "data": {
      "text/plain": [
       "array([ 2,  4,  6,  8, 10, 12, 14, 16, 18, 20, 22, 24, 26, 28, 30, 32, 34,\n",
       "       36, 38, 40])"
      ]
     },
     "execution_count": 118,
     "metadata": {},
     "output_type": "execute_result"
    }
   ],
   "source": [
    "arr = np.arange(2,42,2)\n",
    "arr"
   ]
  },
  {
   "cell_type": "code",
   "execution_count": 120,
   "id": "4f6a86ca-60ff-433f-a2b5-3edf7684a0ea",
   "metadata": {},
   "outputs": [
    {
     "data": {
      "text/plain": [
       "20"
      ]
     },
     "execution_count": 120,
     "metadata": {},
     "output_type": "execute_result"
    }
   ],
   "source": [
    "arr.size"
   ]
  },
  {
   "cell_type": "code",
   "execution_count": 128,
   "id": "01c76d2d-1c25-4b5a-89f4-e9f7686e9ba7",
   "metadata": {},
   "outputs": [
    {
     "data": {
      "text/plain": [
       "array([[ 2,  4,  6,  8, 10],\n",
       "       [12, 14, 16, 18, 20],\n",
       "       [22, 24, 26, 28, 30],\n",
       "       [32, 34, 36, 38, 40]])"
      ]
     },
     "execution_count": 128,
     "metadata": {},
     "output_type": "execute_result"
    }
   ],
   "source": [
    "x=arr.reshape(4,5)\n",
    "x"
   ]
  },
  {
   "cell_type": "code",
   "execution_count": null,
   "id": "a6d07c3e-527b-4984-af98-6d52eb16c797",
   "metadata": {},
   "outputs": [],
   "source": [
    "# # Retrive following value from array x\n",
    "# 1) 14\n",
    "# 2) 28\n",
    "# 3) 6\n",
    "# 4) 34\n",
    "\n",
    "# 5) 24,26,28\n",
    "\n",
    "# 6) 14,16\n",
    "#    24,26\n",
    "\n",
    "# 7)[22, 24, 26, 28, 30]\n",
    "#   [32, 34, 36, 38, 40]\n",
    "    \n",
    "# 8) 4\n",
    "#   14\n",
    "#   24\n",
    "#   34"
   ]
  },
  {
   "cell_type": "code",
   "execution_count": 146,
   "id": "18148dfc-5ab7-4752-8cdf-e505946d5522",
   "metadata": {},
   "outputs": [
    {
     "data": {
      "text/plain": [
       "28"
      ]
     },
     "execution_count": 146,
     "metadata": {},
     "output_type": "execute_result"
    }
   ],
   "source": [
    "   [  0 1 2 3 4\n",
    "      1 1 2 3 4                   \n",
    "      2 1 2 3 4                    \n",
    "      3 1 2 3 4      ]       \n",
    "                                \n",
    "\n"
   ]
  },
  {
   "cell_type": "code",
   "execution_count": 166,
   "id": "42c7d7f2-74d4-4536-b180-924b5a8a1d98",
   "metadata": {},
   "outputs": [
    {
     "data": {
      "text/plain": [
       "array([[ 2,  4,  6,  8, 10],\n",
       "       [12, 14, 16, 18, 20],\n",
       "       [22, 24, 26, 28, 30],\n",
       "       [32, 34, 36, 38, 40]])"
      ]
     },
     "execution_count": 166,
     "metadata": {},
     "output_type": "execute_result"
    }
   ],
   "source": [
    "x=arr.reshape(4,5)\n",
    "x"
   ]
  },
  {
   "cell_type": "code",
   "execution_count": 148,
   "id": "4c6627ca-bd41-4457-a69e-54318ef8c9fb",
   "metadata": {},
   "outputs": [
    {
     "data": {
      "text/plain": [
       "14"
      ]
     },
     "execution_count": 148,
     "metadata": {},
     "output_type": "execute_result"
    }
   ],
   "source": [
    "x[1,1] "
   ]
  },
  {
   "cell_type": "code",
   "execution_count": 150,
   "id": "7d369a01-6bba-4fdd-bae3-0130369abea3",
   "metadata": {},
   "outputs": [
    {
     "data": {
      "text/plain": [
       "28"
      ]
     },
     "execution_count": 150,
     "metadata": {},
     "output_type": "execute_result"
    }
   ],
   "source": [
    "x[2,3]  "
   ]
  },
  {
   "cell_type": "code",
   "execution_count": 154,
   "id": "12248cda-8835-40da-bc3b-7080b9351f74",
   "metadata": {},
   "outputs": [
    {
     "data": {
      "text/plain": [
       "6"
      ]
     },
     "execution_count": 154,
     "metadata": {},
     "output_type": "execute_result"
    }
   ],
   "source": [
    "x[0,2]"
   ]
  },
  {
   "cell_type": "code",
   "execution_count": 164,
   "id": "de2349d5-d9be-4cd3-b382-51c6f98b3a5d",
   "metadata": {},
   "outputs": [
    {
     "data": {
      "text/plain": [
       "34"
      ]
     },
     "execution_count": 164,
     "metadata": {},
     "output_type": "execute_result"
    }
   ],
   "source": [
    "x[3,1]"
   ]
  },
  {
   "cell_type": "code",
   "execution_count": 176,
   "id": "23fc0a1b-dd30-4f81-b94a-f255137d57eb",
   "metadata": {},
   "outputs": [
    {
     "data": {
      "text/plain": [
       "array([24, 26, 28])"
      ]
     },
     "execution_count": 176,
     "metadata": {},
     "output_type": "execute_result"
    }
   ],
   "source": [
    "x[2 ,1:4]"
   ]
  },
  {
   "cell_type": "code",
   "execution_count": 190,
   "id": "49f07107-3f43-46a7-890b-d49b5f2e3ead",
   "metadata": {},
   "outputs": [
    {
     "data": {
      "text/plain": [
       "array([14, 16])"
      ]
     },
     "execution_count": 190,
     "metadata": {},
     "output_type": "execute_result"
    }
   ],
   "source": [
    "x[1,1:3]"
   ]
  },
  {
   "cell_type": "code",
   "execution_count": 192,
   "id": "0d8ecae1-e7d3-4444-b003-36c320c8f97e",
   "metadata": {},
   "outputs": [
    {
     "data": {
      "text/plain": [
       "array([24, 26])"
      ]
     },
     "execution_count": 192,
     "metadata": {},
     "output_type": "execute_result"
    }
   ],
   "source": [
    "x[2,1:3]"
   ]
  },
  {
   "cell_type": "code",
   "execution_count": 194,
   "id": "29f93fb1-e65a-48d7-ab9c-c5e913e49299",
   "metadata": {},
   "outputs": [
    {
     "data": {
      "text/plain": [
       "array([22, 24, 26, 28, 30])"
      ]
     },
     "execution_count": 194,
     "metadata": {},
     "output_type": "execute_result"
    }
   ],
   "source": [
    "x[2]"
   ]
  },
  {
   "cell_type": "code",
   "execution_count": 198,
   "id": "2acdc75c-9dec-41c9-8e87-0fa07732b541",
   "metadata": {},
   "outputs": [
    {
     "data": {
      "text/plain": [
       "array([32, 34, 36, 38, 40])"
      ]
     },
     "execution_count": 198,
     "metadata": {},
     "output_type": "execute_result"
    }
   ],
   "source": [
    "x[3]"
   ]
  },
  {
   "cell_type": "code",
   "execution_count": 204,
   "id": "aa7bd477-b5aa-4b6f-8eed-5b994b853287",
   "metadata": {},
   "outputs": [
    {
     "data": {
      "text/plain": [
       "4"
      ]
     },
     "execution_count": 204,
     "metadata": {},
     "output_type": "execute_result"
    }
   ],
   "source": [
    "x[0,1]"
   ]
  },
  {
   "cell_type": "code",
   "execution_count": 208,
   "id": "dc6a8473-a4b6-4677-9810-4e280cfc992f",
   "metadata": {},
   "outputs": [
    {
     "data": {
      "text/plain": [
       "14"
      ]
     },
     "execution_count": 208,
     "metadata": {},
     "output_type": "execute_result"
    }
   ],
   "source": [
    "x[1,1]"
   ]
  },
  {
   "cell_type": "code",
   "execution_count": 210,
   "id": "22e8f421-a4e7-48ab-b482-6fb2c510415f",
   "metadata": {},
   "outputs": [
    {
     "data": {
      "text/plain": [
       "24"
      ]
     },
     "execution_count": 210,
     "metadata": {},
     "output_type": "execute_result"
    }
   ],
   "source": [
    "x[2,1]"
   ]
  },
  {
   "cell_type": "code",
   "execution_count": 212,
   "id": "4780f90d-084d-401f-a844-e6fc8e2bcb6a",
   "metadata": {},
   "outputs": [
    {
     "data": {
      "text/plain": [
       "34"
      ]
     },
     "execution_count": 212,
     "metadata": {},
     "output_type": "execute_result"
    }
   ],
   "source": [
    "x[3,1]"
   ]
  },
  {
   "cell_type": "code",
   "execution_count": null,
   "id": "d70329ed-b95e-4a46-ac6a-60712077d795",
   "metadata": {},
   "outputs": [],
   "source": []
  }
 ],
 "metadata": {
  "kernelspec": {
   "display_name": "Python 3 (ipykernel)",
   "language": "python",
   "name": "python3"
  },
  "language_info": {
   "codemirror_mode": {
    "name": "ipython",
    "version": 3
   },
   "file_extension": ".py",
   "mimetype": "text/x-python",
   "name": "python",
   "nbconvert_exporter": "python",
   "pygments_lexer": "ipython3",
   "version": "3.12.4"
  }
 },
 "nbformat": 4,
 "nbformat_minor": 5
}
