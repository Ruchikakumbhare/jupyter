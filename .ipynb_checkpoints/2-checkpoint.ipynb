{
 "cells": [
  {
   "cell_type": "code",
   "execution_count": 1,
   "id": "9cd00b0c-68b9-4414-9b2e-904163bc2d76",
   "metadata": {},
   "outputs": [
    {
     "name": "stdout",
     "output_type": "stream",
     "text": [
      "ruchika\n",
      "kumbhare\n",
      "ruchikakumbhare\n"
     ]
    }
   ],
   "source": [
    "class person:\n",
    "    def __init__(self,fn,ln):\n",
    "        self.fname = fn\n",
    "        self.lname = ln \n",
    "    def display(self):\n",
    "        print(self.fname + self.lname)\n",
    "a = person(\"ruchika\",\"kumbhare\")\n",
    "print(a.fname)\n",
    "print(a.lname)\n",
    "a.display()\n",
    "\n",
    "\n",
    "\n"
   ]
  },
  {
   "cell_type": "code",
   "execution_count": null,
   "id": "0668f025-bb9b-446d-ba7a-75f478785ebf",
   "metadata": {},
   "outputs": [],
   "source": []
  }
 ],
 "metadata": {
  "kernelspec": {
   "display_name": "Python 3 (ipykernel)",
   "language": "python",
   "name": "python3"
  },
  "language_info": {
   "codemirror_mode": {
    "name": "ipython",
    "version": 3
   },
   "file_extension": ".py",
   "mimetype": "text/x-python",
   "name": "python",
   "nbconvert_exporter": "python",
   "pygments_lexer": "ipython3",
   "version": "3.12.4"
  }
 },
 "nbformat": 4,
 "nbformat_minor": 5
}
