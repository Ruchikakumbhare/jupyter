{
 "cells": [
  {
   "cell_type": "code",
   "execution_count": 1,
   "id": "14cecbed-c5ef-4014-bd00-ddd7d60af301",
   "metadata": {},
   "outputs": [],
   "source": [
    "import numpy as np"
   ]
  },
  {
   "cell_type": "code",
   "execution_count": null,
   "id": "e5f4565a-e927-46cd-a235-7c846e94caff",
   "metadata": {},
   "outputs": [],
   "source": [
    "# Creating 1D array: Excel (perticular column only)"
   ]
  },
  {
   "cell_type": "code",
   "execution_count": 5,
   "id": "0a39f1f5-7d6f-4afb-b2aa-5f955263fcc3",
   "metadata": {},
   "outputs": [
    {
     "name": "stdout",
     "output_type": "stream",
     "text": [
      "[10 20 30 40]\n"
     ]
    }
   ],
   "source": [
    "a=np.array([10,20,30,40])\n",
    "print(a)"
   ]
  },
  {
   "cell_type": "code",
   "execution_count": 23,
   "id": "87c94b10-9efc-400f-8f7f-b85b836b3317",
   "metadata": {},
   "outputs": [
    {
     "data": {
      "text/plain": [
       "1"
      ]
     },
     "execution_count": 23,
     "metadata": {},
     "output_type": "execute_result"
    }
   ],
   "source": [
    "a.ndim"
   ]
  },
  {
   "cell_type": "code",
   "execution_count": 25,
   "id": "514788aa-79c9-42aa-a311-018621300048",
   "metadata": {},
   "outputs": [
    {
     "data": {
      "text/plain": [
       "(4,)"
      ]
     },
     "execution_count": 25,
     "metadata": {},
     "output_type": "execute_result"
    }
   ],
   "source": [
    "a.shape"
   ]
  },
  {
   "cell_type": "code",
   "execution_count": null,
   "id": "f56a6e89-0f52-46ac-97a2-ad2cd2240e37",
   "metadata": {},
   "outputs": [],
   "source": [
    "# Creating  2D array: Excel (Row and columns)"
   ]
  },
  {
   "cell_type": "code",
   "execution_count": 11,
   "id": "1d5da006-3bc9-4459-8499-dfa7e1d02e57",
   "metadata": {},
   "outputs": [
    {
     "data": {
      "text/plain": [
       "array([[2, 3, 4, 5],\n",
       "       [5, 6, 7, 8]])"
      ]
     },
     "execution_count": 11,
     "metadata": {},
     "output_type": "execute_result"
    }
   ],
   "source": [
    "b=np.array([[2,3,4,5],[5,6,7,8]])\n",
    "b"
   ]
  },
  {
   "cell_type": "code",
   "execution_count": 13,
   "id": "d0daaaa7-c5a9-4e8f-b1c0-6c410cee289b",
   "metadata": {},
   "outputs": [
    {
     "data": {
      "text/plain": [
       "2"
      ]
     },
     "execution_count": 13,
     "metadata": {},
     "output_type": "execute_result"
    }
   ],
   "source": [
    "b.ndim"
   ]
  },
  {
   "cell_type": "code",
   "execution_count": 21,
   "id": "9095ee9a-d414-45f2-af5b-4877499f7b51",
   "metadata": {},
   "outputs": [
    {
     "data": {
      "text/plain": [
       "(2, 4)"
      ]
     },
     "execution_count": 21,
     "metadata": {},
     "output_type": "execute_result"
    }
   ],
   "source": [
    "b.shape"
   ]
  },
  {
   "cell_type": "code",
   "execution_count": null,
   "id": "a78d9785-5af5-4ccd-847a-49432c2b4111",
   "metadata": {},
   "outputs": [],
   "source": [
    "# Creating  3D array: Image"
   ]
  },
  {
   "cell_type": "code",
   "execution_count": 15,
   "id": "5a3ca020-af40-4a81-86ca-9a339dd1f760",
   "metadata": {},
   "outputs": [
    {
     "data": {
      "text/plain": [
       "array([[[1, 2],\n",
       "        [3, 4],\n",
       "        [5, 6]]])"
      ]
     },
     "execution_count": 15,
     "metadata": {},
     "output_type": "execute_result"
    }
   ],
   "source": [
    "c=np.array([[[1,2],[3,4],[5,6]]])\n",
    "c"
   ]
  },
  {
   "cell_type": "code",
   "execution_count": null,
   "id": "cfab357f-e301-4c66-9c85-c83e6dc9e42a",
   "metadata": {},
   "outputs": [],
   "source": []
  },
  {
   "cell_type": "code",
   "execution_count": 17,
   "id": "6a635a86-efc2-44ab-848c-6ede583e5d8a",
   "metadata": {},
   "outputs": [
    {
     "data": {
      "text/plain": [
       "3"
      ]
     },
     "execution_count": 17,
     "metadata": {},
     "output_type": "execute_result"
    }
   ],
   "source": [
    "c.ndim"
   ]
  },
  {
   "cell_type": "code",
   "execution_count": 19,
   "id": "0ec82db2-b524-46c1-97da-baf341237b4a",
   "metadata": {},
   "outputs": [
    {
     "data": {
      "text/plain": [
       "(1, 3, 2)"
      ]
     },
     "execution_count": 19,
     "metadata": {},
     "output_type": "execute_result"
    }
   ],
   "source": [
    "c.shape"
   ]
  },
  {
   "cell_type": "code",
   "execution_count": 43,
   "id": "303f73b8-37a4-4f12-a696-faa943c56e27",
   "metadata": {},
   "outputs": [],
   "source": [
    "d=np.array([\n",
    "    [\n",
    "        [1,2],\n",
    "        [3,4],\n",
    "        [5,6]\n",
    "    ],\n",
    "    [\n",
    "        [2,3],\n",
    "        [1,2],\n",
    "        [4,3]\n",
    "    ]\n",
    "]\n",
    "   \n",
    "    )"
   ]
  },
  {
   "cell_type": "code",
   "execution_count": 45,
   "id": "2987aed5-6255-4e8f-8e16-cf3c62e316a3",
   "metadata": {},
   "outputs": [
    {
     "data": {
      "text/plain": [
       "array([[[1, 2],\n",
       "        [3, 4],\n",
       "        [5, 6]],\n",
       "\n",
       "       [[2, 3],\n",
       "        [1, 2],\n",
       "        [4, 3]]])"
      ]
     },
     "execution_count": 45,
     "metadata": {},
     "output_type": "execute_result"
    }
   ],
   "source": [
    "d"
   ]
  },
  {
   "cell_type": "code",
   "execution_count": 47,
   "id": "4ad9e696-840f-4672-9b04-3dd06d803a56",
   "metadata": {},
   "outputs": [
    {
     "data": {
      "text/plain": [
       "(2, 3, 2)"
      ]
     },
     "execution_count": 47,
     "metadata": {},
     "output_type": "execute_result"
    }
   ],
   "source": [
    "d.shape"
   ]
  },
  {
   "cell_type": "code",
   "execution_count": 49,
   "id": "c2283527-5a56-43e3-984c-f4387d2c0cbd",
   "metadata": {},
   "outputs": [
    {
     "data": {
      "text/plain": [
       "3"
      ]
     },
     "execution_count": 49,
     "metadata": {},
     "output_type": "execute_result"
    }
   ],
   "source": [
    "d.ndim\n"
   ]
  },
  {
   "cell_type": "code",
   "execution_count": 59,
   "id": "ca39c0de-e99b-4c1c-aeba-0fab0f34a0ab",
   "metadata": {},
   "outputs": [],
   "source": [
    "x =np.arange(22)"
   ]
  },
  {
   "cell_type": "code",
   "execution_count": 61,
   "id": "9597b4d1-90ef-4115-9de9-dd4cebb5c66b",
   "metadata": {},
   "outputs": [
    {
     "data": {
      "text/plain": [
       "array([ 0,  1,  2,  3,  4,  5,  6,  7,  8,  9, 10, 11, 12, 13, 14, 15, 16,\n",
       "       17, 18, 19, 20, 21])"
      ]
     },
     "execution_count": 61,
     "metadata": {},
     "output_type": "execute_result"
    }
   ],
   "source": [
    "x"
   ]
  },
  {
   "cell_type": "code",
   "execution_count": 63,
   "id": "8c3defad-8e3f-4724-ac03-f01558955913",
   "metadata": {},
   "outputs": [
    {
     "data": {
      "text/plain": [
       "22"
      ]
     },
     "execution_count": 63,
     "metadata": {},
     "output_type": "execute_result"
    }
   ],
   "source": [
    "x.size"
   ]
  },
  {
   "cell_type": "code",
   "execution_count": 69,
   "id": "28e59264-3e81-4038-8cab-5aeb344ac023",
   "metadata": {},
   "outputs": [],
   "source": [
    "a=np.arange(24)"
   ]
  },
  {
   "cell_type": "code",
   "execution_count": 71,
   "id": "82b5ebf8-720d-45e0-a764-480881dd2a55",
   "metadata": {},
   "outputs": [
    {
     "data": {
      "text/plain": [
       "array([ 0,  1,  2,  3,  4,  5,  6,  7,  8,  9, 10, 11, 12, 13, 14, 15, 16,\n",
       "       17, 18, 19, 20, 21, 22, 23])"
      ]
     },
     "execution_count": 71,
     "metadata": {},
     "output_type": "execute_result"
    }
   ],
   "source": [
    "a"
   ]
  },
  {
   "cell_type": "code",
   "execution_count": 77,
   "id": "bbdb2adc-8e73-43fb-b562-bc62231944e0",
   "metadata": {},
   "outputs": [],
   "source": [
    "b = np.reshape(a,(4,2,3), \"C\" )"
   ]
  },
  {
   "cell_type": "code",
   "execution_count": 79,
   "id": "c8da62f4-9300-4314-aed0-9ff715f05493",
   "metadata": {},
   "outputs": [
    {
     "data": {
      "text/plain": [
       "array([[[ 0,  1,  2],\n",
       "        [ 3,  4,  5]],\n",
       "\n",
       "       [[ 6,  7,  8],\n",
       "        [ 9, 10, 11]],\n",
       "\n",
       "       [[12, 13, 14],\n",
       "        [15, 16, 17]],\n",
       "\n",
       "       [[18, 19, 20],\n",
       "        [21, 22, 23]]])"
      ]
     },
     "execution_count": 79,
     "metadata": {},
     "output_type": "execute_result"
    }
   ],
   "source": [
    "b"
   ]
  },
  {
   "cell_type": "code",
   "execution_count": 81,
   "id": "134b1305-1f26-42c1-abf8-5fcd36bee0e4",
   "metadata": {},
   "outputs": [
    {
     "data": {
      "text/plain": [
       "(4, 2, 3)"
      ]
     },
     "execution_count": 81,
     "metadata": {},
     "output_type": "execute_result"
    }
   ],
   "source": [
    "b.shape # 3D Array\n",
    "        # Shape (Frame, Row, Columns)"
   ]
  },
  {
   "cell_type": "code",
   "execution_count": null,
   "id": "d1d9ccb4-6b39-4ff5-be38-7d018055d695",
   "metadata": {},
   "outputs": [],
   "source": [
    "# np.reshape(data,shape,Fill_by)\n",
    "# shape= (row,col)\n",
    "# Fill_by \"C\" ===> Fill_by Row\n",
    "#         \"F\" ===> Fill_by column"
   ]
  },
  {
   "cell_type": "code",
   "execution_count": 85,
   "id": "06efa283-e86f-4dbf-9841-e8a75b5e80ce",
   "metadata": {},
   "outputs": [],
   "source": [
    "a=np.arange(1,21,2)"
   ]
  },
  {
   "cell_type": "code",
   "execution_count": 87,
   "id": "cf1a0c4a-9aaa-45d3-83c8-fe7e158f50c1",
   "metadata": {},
   "outputs": [
    {
     "data": {
      "text/plain": [
       "array([[ 1,  3,  5,  7,  9],\n",
       "       [11, 13, 15, 17, 19]])"
      ]
     },
     "execution_count": 87,
     "metadata": {},
     "output_type": "execute_result"
    }
   ],
   "source": [
    "# M1 ==> Prefere if input dsts id not array\n",
    "np.reshape(a,(2,5),\"C\")"
   ]
  },
  {
   "cell_type": "code",
   "execution_count": 89,
   "id": "3cc2bd52-faef-459b-b8e9-81ed76dbb1ce",
   "metadata": {},
   "outputs": [
    {
     "data": {
      "text/plain": [
       "array([[ 1,  5,  9, 13, 17],\n",
       "       [ 3,  7, 11, 15, 19]])"
      ]
     },
     "execution_count": 89,
     "metadata": {},
     "output_type": "execute_result"
    }
   ],
   "source": [
    "np.reshape(a,(2,5),\"F\")"
   ]
  },
  {
   "cell_type": "code",
   "execution_count": null,
   "id": "cb63fea6-d77a-4f29-8315-4faf4292381d",
   "metadata": {},
   "outputs": [],
   "source": []
  }
 ],
 "metadata": {
  "kernelspec": {
   "display_name": "Python 3 (ipykernel)",
   "language": "python",
   "name": "python3"
  },
  "language_info": {
   "codemirror_mode": {
    "name": "ipython",
    "version": 3
   },
   "file_extension": ".py",
   "mimetype": "text/x-python",
   "name": "python",
   "nbconvert_exporter": "python",
   "pygments_lexer": "ipython3",
   "version": "3.12.4"
  }
 },
 "nbformat": 4,
 "nbformat_minor": 5
}
