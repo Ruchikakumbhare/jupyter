{
 "cells": [
  {
   "cell_type": "code",
   "execution_count": null,
   "id": "2996e55b-4d26-4097-a693-a5c55c32dd04",
   "metadata": {},
   "outputs": [],
   "source": [
    "# map()\n",
    "# filter()\n",
    "# reduce"
   ]
  },
  {
   "cell_type": "code",
   "execution_count": null,
   "id": "c718d601-38c0-488a-a22e-4ab70bcc09b4",
   "metadata": {},
   "outputs": [],
   "source": [
    "# filter"
   ]
  },
  {
   "cell_type": "code",
   "execution_count": null,
   "id": "dd0da3b9-9960-4aa0-a674-389249b2dd28",
   "metadata": {},
   "outputs": [],
   "source": [
    "filter() function takes two arguments - a function and an iterable. \n",
    "It applies the function to each element of the iterable and returns a new iterable with the elements for which the function returns True."
   ]
  },
  {
   "cell_type": "code",
   "execution_count": 9,
   "id": "c408ff06-8cab-455a-9455-0077a0d466a3",
   "metadata": {},
   "outputs": [
    {
     "name": "stdout",
     "output_type": "stream",
     "text": [
      "[65, 55, 67]\n"
     ]
    }
   ],
   "source": [
    "a = [32,4,5,65,33,55,67]\n",
    "b =[]\n",
    "c=[]\n",
    "for item in a:\n",
    "    if item>50:\n",
    "        b.append(item)\n",
    "print(b)"
   ]
  },
  {
   "cell_type": "code",
   "execution_count": 12,
   "id": "d57f1259-a215-4b0a-87d7-6258887d17a0",
   "metadata": {},
   "outputs": [
    {
     "name": "stdout",
     "output_type": "stream",
     "text": [
      "[4, 5]\n"
     ]
    }
   ],
   "source": [
    "for item in a:\n",
    "    if item < 20:\n",
    "        c.append(item)\n",
    "print(c)"
   ]
  },
  {
   "cell_type": "code",
   "execution_count": 13,
   "id": "c3e086e8-b6db-4f8c-8383-f4409a9edd31",
   "metadata": {},
   "outputs": [
    {
     "data": {
      "text/plain": [
       "[4, 5]"
      ]
     },
     "execution_count": 13,
     "metadata": {},
     "output_type": "execute_result"
    }
   ],
   "source": [
    "list(filter(lambda x:x<20 ,a))"
   ]
  },
  {
   "cell_type": "code",
   "execution_count": 14,
   "id": "d5082828-6095-4376-b1f6-ef4b165b2264",
   "metadata": {},
   "outputs": [
    {
     "data": {
      "text/plain": [
       "{55, 65, 67}"
      ]
     },
     "execution_count": 14,
     "metadata": {},
     "output_type": "execute_result"
    }
   ],
   "source": [
    "set(filter(lambda x:x>50 , a))"
   ]
  },
  {
   "cell_type": "code",
   "execution_count": 17,
   "id": "740d9ae6-f609-4d00-9730-7ae9c5d6af5b",
   "metadata": {},
   "outputs": [
    {
     "data": {
      "text/plain": [
       "[12, 2, 38, 90, 54]"
      ]
     },
     "execution_count": 17,
     "metadata": {},
     "output_type": "execute_result"
    }
   ],
   "source": [
    "even = [12,45,2,38,45,90,54]\n",
    "list(filter(lambda x : x%2==0,even))"
   ]
  },
  {
   "cell_type": "code",
   "execution_count": 18,
   "id": "74d46a66-9a5d-42bd-a71e-c351540cbaa4",
   "metadata": {},
   "outputs": [
    {
     "data": {
      "text/plain": [
       "[45, 45]"
      ]
     },
     "execution_count": 18,
     "metadata": {},
     "output_type": "execute_result"
    }
   ],
   "source": [
    "odd = [12,45,2,38,45,90,54]\n",
    "list(filter(lambda x:x%2!=0, odd))"
   ]
  },
  {
   "cell_type": "code",
   "execution_count": 19,
   "id": "95d0d6b4-649c-4c05-960e-11e9bc3101a8",
   "metadata": {},
   "outputs": [
    {
     "data": {
      "text/plain": [
       "['priya', 'kajal']"
      ]
     },
     "execution_count": 19,
     "metadata": {},
     "output_type": "execute_result"
    }
   ],
   "source": [
    "name = ['ruchika','akansha','priya','kajal']\n",
    "list(filter(lambda x: len(x)==5 , name))"
   ]
  },
  {
   "cell_type": "code",
   "execution_count": 20,
   "id": "c7312067-894f-41b7-b7cb-eff9c657a92d",
   "metadata": {},
   "outputs": [
    {
     "data": {
      "text/plain": [
       "['ruchika', 'akansha']"
      ]
     },
     "execution_count": 20,
     "metadata": {},
     "output_type": "execute_result"
    }
   ],
   "source": [
    "name = ['ruchika','akansha','priya','kajal']\n",
    "list(filter(lambda x: len(x)>5 , name))"
   ]
  },
  {
   "cell_type": "code",
   "execution_count": null,
   "id": "0ac4bb68-ca85-4d51-a9d2-54b3c0864b08",
   "metadata": {},
   "outputs": [],
   "source": [
    "# reduce\n",
    "# reduce() function takes two arguments - a function and an iterable. It applies the function to the first two elements of the iterable, then applies it to the result and the next element, and so on, until all the elements are processed and a single value is returne"
   ]
  },
  {
   "cell_type": "code",
   "execution_count": 21,
   "id": "f0eba08e-4f63-4c9b-8e79-e9f34445f51b",
   "metadata": {},
   "outputs": [],
   "source": [
    "def sum(x):\n",
    "    s = 0\n",
    "    for i in x:\n",
    "        s = s + 1\n",
    "    return s"
   ]
  },
  {
   "cell_type": "code",
   "execution_count": 23,
   "id": "c5182e4d-e309-44a7-b97c-efbe2e3219b3",
   "metadata": {},
   "outputs": [
    {
     "name": "stdout",
     "output_type": "stream",
     "text": [
      "2\n"
     ]
    }
   ],
   "source": [
    "print(sum([2,3]))"
   ]
  },
  {
   "cell_type": "code",
   "execution_count": 30,
   "id": "787978b0-3bd6-47e3-88d2-827adf9f62d1",
   "metadata": {},
   "outputs": [],
   "source": [
    "from functools import reduce"
   ]
  },
  {
   "cell_type": "code",
   "execution_count": 32,
   "id": "3dca1340-014f-483e-8244-d97ee13ee977",
   "metadata": {},
   "outputs": [
    {
     "name": "stdout",
     "output_type": "stream",
     "text": [
      "5\n"
     ]
    }
   ],
   "source": [
    "print(reduce(lambda x,y : x + y,[2,3]))"
   ]
  },
  {
   "cell_type": "code",
   "execution_count": 39,
   "id": "5d9d1a1d-4ab1-4683-ad53-6859e7cc18b2",
   "metadata": {},
   "outputs": [
    {
     "name": "stdout",
     "output_type": "stream",
     "text": [
      "4\n"
     ]
    }
   ],
   "source": [
    "print(reduce(lambda x,y: x+y ,[1,1,2]))"
   ]
  },
  {
   "cell_type": "code",
   "execution_count": 40,
   "id": "7ca4cb71-9c74-4c58-ad26-39cf7b7fed54",
   "metadata": {},
   "outputs": [
    {
     "name": "stdout",
     "output_type": "stream",
     "text": [
      "2\n"
     ]
    }
   ],
   "source": [
    "print(reduce(lambda x,y: x*y ,[1,1,2]))"
   ]
  },
  {
   "cell_type": "code",
   "execution_count": 41,
   "id": "1d2c7fa5-b177-4c29-be26-631ec165b074",
   "metadata": {},
   "outputs": [
    {
     "name": "stdout",
     "output_type": "stream",
     "text": [
      "44\n"
     ]
    }
   ],
   "source": [
    "a = [1,21,22]\n",
    "sum = 0\n",
    "for item in a:\n",
    "    sum = sum + item\n",
    "print(sum)"
   ]
  },
  {
   "cell_type": "code",
   "execution_count": 42,
   "id": "c0701688-c6c2-4878-8979-fc8968476bf3",
   "metadata": {},
   "outputs": [
    {
     "name": "stdout",
     "output_type": "stream",
     "text": [
      "45\n"
     ]
    }
   ],
   "source": [
    "a = [1,21,22]\n",
    "sum = 1\n",
    "for item in a:\n",
    "    sum = sum + item\n",
    "print(sum)"
   ]
  },
  {
   "cell_type": "code",
   "execution_count": 43,
   "id": "9639940a-36ab-4c6e-9159-4ab6ce96f001",
   "metadata": {},
   "outputs": [
    {
     "name": "stdout",
     "output_type": "stream",
     "text": [
      "44\n"
     ]
    }
   ],
   "source": [
    "print(reduce(lambda x , y : x+y ,a))"
   ]
  },
  {
   "cell_type": "code",
   "execution_count": null,
   "id": "686b6ffe-e038-407b-926c-48d4bcbdc489",
   "metadata": {},
   "outputs": [],
   "source": []
  }
 ],
 "metadata": {
  "kernelspec": {
   "display_name": "Python 3 (ipykernel)",
   "language": "python",
   "name": "python3"
  },
  "language_info": {
   "codemirror_mode": {
    "name": "ipython",
    "version": 3
   },
   "file_extension": ".py",
   "mimetype": "text/x-python",
   "name": "python",
   "nbconvert_exporter": "python",
   "pygments_lexer": "ipython3",
   "version": "3.11.9"
  }
 },
 "nbformat": 4,
 "nbformat_minor": 5
}
