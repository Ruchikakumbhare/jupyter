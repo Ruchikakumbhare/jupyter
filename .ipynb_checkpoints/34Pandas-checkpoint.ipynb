{
 "cells": [
  {
   "cell_type": "code",
   "execution_count": null,
   "id": "8d97bea6-f530-44af-98f4-d7ec1e50fbb3",
   "metadata": {},
   "outputs": [],
   "source": [
    "## Pandas"
   ]
  },
  {
   "cell_type": "code",
   "execution_count": null,
   "id": "b6bb786a-dd7e-4866-b11d-d4019253320f",
   "metadata": {},
   "outputs": [],
   "source": [
    "# Pandas provides two main classes of data structures: Series and DataFrame. \n",
    "# A Series is a one-dimensional labeled array that can hold data of any type.\n",
    "# A DataFrame is a two-dimensional labeled array that can hold multiple Series, where each Series can have a different data type.\n",
    "\n",
    "# Pandas provides a wide range of functions for data cleaning, data preprocessing, data manipulation, and data analysis. \n",
    "# Some of the commonly used functions in pandas include reading and writing data to files, \n",
    "# merging and joining data from multiple sources, \n",
    "# reshaping data, filtering data based on certain conditions, grouping and aggregating data, and more.\n",
    "\n",
    "# EDA stands for Exploratory Data Analysis. It is the process of analyzing and summarizing data in order to \n",
    "# gain insights and understand the patterns, relationships, and distributions within the data. EDA is often \n",
    "# the first step in any data analysis project and is used to identify anomalies, detect missing or inconsistent data, and explore\n",
    "# potential relationships between variables. Common EDA techniques include summary statistics, data visualization, correlation \n",
    "# analysis, and clustering analysis. EDA is important because it helps to ensure that the data is appropriate for the analysis\n",
    "# being conducted and can provide valuable insights that can guide subsequent analyses."
   ]
  },
  {
   "cell_type": "code",
   "execution_count": null,
   "id": "006c8775-7772-4a00-84ec-e08126007820",
   "metadata": {},
   "outputs": [],
   "source": [
    "# Pandas:\n",
    "# 1) Series : 1D , Store any type of data or any type of python Object , In single series store single datatype\n",
    "# 2) DataFrame : 2D"
   ]
  },
  {
   "cell_type": "code",
   "execution_count": 1,
   "id": "7ae56c83-7388-43a8-8cf9-220746cc1b1f",
   "metadata": {},
   "outputs": [],
   "source": [
    "import pandas as pd"
   ]
  },
  {
   "cell_type": "code",
   "execution_count": null,
   "id": "12e82392-dda7-4d64-8572-c9d466bb25e7",
   "metadata": {},
   "outputs": [],
   "source": [
    "# Series :- one-dimensional labeled array  ( #single column)"
   ]
  },
  {
   "cell_type": "code",
   "execution_count": 5,
   "id": "838d6382-dd8c-49b7-a391-4282577362ce",
   "metadata": {},
   "outputs": [
    {
     "data": {
      "text/plain": [
       "0    1\n",
       "1    2\n",
       "2    3\n",
       "dtype: int64"
      ]
     },
     "execution_count": 5,
     "metadata": {},
     "output_type": "execute_result"
    }
   ],
   "source": [
    "pd.Series(data = [1,2,3])     #bydefault index = 0,1,2"
   ]
  },
  {
   "cell_type": "code",
   "execution_count": 7,
   "id": "6cd591a0-9004-4d2c-93a3-66da4254b759",
   "metadata": {},
   "outputs": [
    {
     "data": {
      "text/plain": [
       "a    1\n",
       "b    2\n",
       "c    3\n",
       "dtype: int64"
      ]
     },
     "execution_count": 7,
     "metadata": {},
     "output_type": "execute_result"
    }
   ],
   "source": [
    "pd.Series(data = [1,2,3] , index =['a','b','c'])  "
   ]
  },
  {
   "cell_type": "code",
   "execution_count": 19,
   "id": "3d7ef62d-4b23-4f13-a88a-af9ab842a8f7",
   "metadata": {},
   "outputs": [
    {
     "data": {
      "text/plain": [
       "['a', 'b', 'c']"
      ]
     },
     "execution_count": 19,
     "metadata": {},
     "output_type": "execute_result"
    }
   ],
   "source": [
    "(\"a b c\".split(\" \"))"
   ]
  },
  {
   "cell_type": "code",
   "execution_count": 21,
   "id": "a5a1868e-7ecf-4a10-b453-9b179ae9c4b9",
   "metadata": {},
   "outputs": [
    {
     "name": "stdout",
     "output_type": "stream",
     "text": [
      "a    1\n",
      "b    2\n",
      "c    3\n",
      "dtype: int64\n"
     ]
    }
   ],
   "source": [
    "a = (\"a b c\".split(\" \"))\n",
    "b = [1,2,3]\n",
    "c=pd.Series(data = b , index = a)\n",
    "print(c)\n"
   ]
  },
  {
   "cell_type": "code",
   "execution_count": 23,
   "id": "b6fe2bb7-0d1d-4b63-a3d0-3bf308489d4a",
   "metadata": {},
   "outputs": [
    {
     "name": "stdout",
     "output_type": "stream",
     "text": [
      "a    1\n",
      "b    2\n",
      "c    3\n",
      "dtype: int64\n"
     ]
    }
   ],
   "source": [
    "d = {'a': 1 , 'b':2, 'c':3}\n",
    "x=pd.Series(d)\n",
    "print(x)"
   ]
  },
  {
   "cell_type": "code",
   "execution_count": 29,
   "id": "63c8de69-ca0c-4db6-89f1-d69115bd3150",
   "metadata": {},
   "outputs": [
    {
     "name": "stdout",
     "output_type": "stream",
     "text": [
      "0    22\n",
      "1    12\n",
      "2    34\n",
      "3    56\n",
      "dtype: int64\n"
     ]
    }
   ],
   "source": [
    "m=pd.Series(data = [22,12,34,56])\n",
    "print(m)"
   ]
  },
  {
   "cell_type": "code",
   "execution_count": null,
   "id": "a19e39a0-7a35-4ad4-a153-c678a0ddcb4d",
   "metadata": {},
   "outputs": [],
   "source": []
  },
  {
   "cell_type": "code",
   "execution_count": null,
   "id": "d3864a1b-f432-4272-ad38-b3e10f57039c",
   "metadata": {},
   "outputs": [],
   "source": [
    "# Dataframes :-two-dimensional labeled array that can hold multiple Series, where each Series can have a different data type\n",
    "# pd.DataFrame(data,index,columns)\n"
   ]
  },
  {
   "cell_type": "code",
   "execution_count": null,
   "id": "d6049fc3-cb75-4656-a527-6bc13ef34bf7",
   "metadata": {},
   "outputs": [],
   "source": [
    "# Create DataFrame"
   ]
  },
  {
   "cell_type": "code",
   "execution_count": 31,
   "id": "cd00508e-cd51-43fa-b385-4776beaf82ed",
   "metadata": {},
   "outputs": [],
   "source": [
    "data = {\n",
    "    'name':['ruchika','priya','neha'],\n",
    "    'favcolor':['black','blue','pink'],\n",
    "    'favfruit':['mango','apple','grapes']\n",
    "}"
   ]
  },
  {
   "cell_type": "code",
   "execution_count": 33,
   "id": "99493739-180c-49af-983b-83c202d0021f",
   "metadata": {},
   "outputs": [],
   "source": [
    "x=pd.DataFrame(data,index =['a','b','c'])"
   ]
  },
  {
   "cell_type": "code",
   "execution_count": 35,
   "id": "88d91915-5d6f-4ebd-a72f-7dd958dc3498",
   "metadata": {},
   "outputs": [
    {
     "data": {
      "text/html": [
       "<div>\n",
       "<style scoped>\n",
       "    .dataframe tbody tr th:only-of-type {\n",
       "        vertical-align: middle;\n",
       "    }\n",
       "\n",
       "    .dataframe tbody tr th {\n",
       "        vertical-align: top;\n",
       "    }\n",
       "\n",
       "    .dataframe thead th {\n",
       "        text-align: right;\n",
       "    }\n",
       "</style>\n",
       "<table border=\"1\" class=\"dataframe\">\n",
       "  <thead>\n",
       "    <tr style=\"text-align: right;\">\n",
       "      <th></th>\n",
       "      <th>name</th>\n",
       "      <th>favcolor</th>\n",
       "      <th>favfruit</th>\n",
       "    </tr>\n",
       "  </thead>\n",
       "  <tbody>\n",
       "    <tr>\n",
       "      <th>a</th>\n",
       "      <td>ruchika</td>\n",
       "      <td>black</td>\n",
       "      <td>mango</td>\n",
       "    </tr>\n",
       "    <tr>\n",
       "      <th>b</th>\n",
       "      <td>priya</td>\n",
       "      <td>blue</td>\n",
       "      <td>apple</td>\n",
       "    </tr>\n",
       "    <tr>\n",
       "      <th>c</th>\n",
       "      <td>neha</td>\n",
       "      <td>pink</td>\n",
       "      <td>grapes</td>\n",
       "    </tr>\n",
       "  </tbody>\n",
       "</table>\n",
       "</div>"
      ],
      "text/plain": [
       "      name favcolor favfruit\n",
       "a  ruchika    black    mango\n",
       "b    priya     blue    apple\n",
       "c     neha     pink   grapes"
      ]
     },
     "execution_count": 35,
     "metadata": {},
     "output_type": "execute_result"
    }
   ],
   "source": [
    "x"
   ]
  },
  {
   "cell_type": "code",
   "execution_count": 39,
   "id": "38fbd080-62b0-4882-80b5-62640fbea9fc",
   "metadata": {},
   "outputs": [],
   "source": [
    "info = {\n",
    "    'id': [1,2] ,\n",
    "    'name' : ['pranay','om']\n",
    "}"
   ]
  },
  {
   "cell_type": "code",
   "execution_count": 43,
   "id": "a660c20d-f654-4920-9345-988d9b632f8e",
   "metadata": {},
   "outputs": [],
   "source": [
    "y=pd.DataFrame(info,index=[\"a\",\"b\"])"
   ]
  },
  {
   "cell_type": "code",
   "execution_count": 45,
   "id": "0b4cd3be-04bc-48f6-af1f-60f202a493fe",
   "metadata": {},
   "outputs": [
    {
     "data": {
      "text/html": [
       "<div>\n",
       "<style scoped>\n",
       "    .dataframe tbody tr th:only-of-type {\n",
       "        vertical-align: middle;\n",
       "    }\n",
       "\n",
       "    .dataframe tbody tr th {\n",
       "        vertical-align: top;\n",
       "    }\n",
       "\n",
       "    .dataframe thead th {\n",
       "        text-align: right;\n",
       "    }\n",
       "</style>\n",
       "<table border=\"1\" class=\"dataframe\">\n",
       "  <thead>\n",
       "    <tr style=\"text-align: right;\">\n",
       "      <th></th>\n",
       "      <th>id</th>\n",
       "      <th>name</th>\n",
       "    </tr>\n",
       "  </thead>\n",
       "  <tbody>\n",
       "    <tr>\n",
       "      <th>a</th>\n",
       "      <td>1</td>\n",
       "      <td>pranay</td>\n",
       "    </tr>\n",
       "    <tr>\n",
       "      <th>b</th>\n",
       "      <td>2</td>\n",
       "      <td>om</td>\n",
       "    </tr>\n",
       "  </tbody>\n",
       "</table>\n",
       "</div>"
      ],
      "text/plain": [
       "   id    name\n",
       "a   1  pranay\n",
       "b   2      om"
      ]
     },
     "execution_count": 45,
     "metadata": {},
     "output_type": "execute_result"
    }
   ],
   "source": [
    "y"
   ]
  },
  {
   "cell_type": "code",
   "execution_count": null,
   "id": "30bcb49e-f6ac-461a-a6fb-85033e3d1cae",
   "metadata": {},
   "outputs": [],
   "source": []
  }
 ],
 "metadata": {
  "kernelspec": {
   "display_name": "Python 3 (ipykernel)",
   "language": "python",
   "name": "python3"
  },
  "language_info": {
   "codemirror_mode": {
    "name": "ipython",
    "version": 3
   },
   "file_extension": ".py",
   "mimetype": "text/x-python",
   "name": "python",
   "nbconvert_exporter": "python",
   "pygments_lexer": "ipython3",
   "version": "3.12.4"
  }
 },
 "nbformat": 4,
 "nbformat_minor": 5
}
