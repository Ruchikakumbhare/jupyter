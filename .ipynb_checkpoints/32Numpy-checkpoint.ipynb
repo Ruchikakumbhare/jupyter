{
 "cells": [
  {
   "cell_type": "code",
   "execution_count": null,
   "id": "7d7180e8-fb42-441e-8df0-ab581bdb51b7",
   "metadata": {},
   "outputs": [],
   "source": [
    "# Mathematical functions"
   ]
  },
  {
   "cell_type": "code",
   "execution_count": 1,
   "id": "fc8a31cd-14a7-4168-8eee-71e629ae926b",
   "metadata": {},
   "outputs": [],
   "source": [
    "import numpy as np"
   ]
  },
  {
   "cell_type": "code",
   "execution_count": 15,
   "id": "5ed20dc4-593c-463d-b4ba-2aa567d83a1e",
   "metadata": {},
   "outputs": [],
   "source": [
    "a = np.arange(2,41,2)"
   ]
  },
  {
   "cell_type": "code",
   "execution_count": 17,
   "id": "8892c222-5d28-4413-b23f-8fa1fa7f5996",
   "metadata": {},
   "outputs": [
    {
     "data": {
      "text/plain": [
       "array([ 2,  4,  6,  8, 10, 12, 14, 16, 18, 20, 22, 24, 26, 28, 30, 32, 34,\n",
       "       36, 38, 40])"
      ]
     },
     "execution_count": 17,
     "metadata": {},
     "output_type": "execute_result"
    }
   ],
   "source": [
    "a"
   ]
  },
  {
   "cell_type": "code",
   "execution_count": 19,
   "id": "5588e935-5e75-403b-ab6e-2b0a92c0b334",
   "metadata": {},
   "outputs": [
    {
     "data": {
      "text/plain": [
       "20"
      ]
     },
     "execution_count": 19,
     "metadata": {},
     "output_type": "execute_result"
    }
   ],
   "source": [
    "a.size"
   ]
  },
  {
   "cell_type": "code",
   "execution_count": 21,
   "id": "dac6650f-a00b-471a-906d-9051f7e5d050",
   "metadata": {},
   "outputs": [
    {
     "data": {
      "text/plain": [
       "array([[ 2,  4,  6,  8],\n",
       "       [10, 12, 14, 16],\n",
       "       [18, 20, 22, 24],\n",
       "       [26, 28, 30, 32],\n",
       "       [34, 36, 38, 40]])"
      ]
     },
     "execution_count": 21,
     "metadata": {},
     "output_type": "execute_result"
    }
   ],
   "source": [
    "np.reshape(a,(5,4) , order = 'C')"
   ]
  },
  {
   "cell_type": "code",
   "execution_count": 25,
   "id": "dc622094-4848-4e0b-b364-88c993fff057",
   "metadata": {},
   "outputs": [
    {
     "data": {
      "text/plain": [
       "array([1.2, 5. ])"
      ]
     },
     "execution_count": 25,
     "metadata": {},
     "output_type": "execute_result"
    }
   ],
   "source": [
    "np.around([1.21,4.99],decimals = 1) ##evenly round all elements to the given number of decimals."
   ]
  },
  {
   "cell_type": "code",
   "execution_count": 27,
   "id": "a19c0cbc-9e20-40c0-aa3c-ef7d46f2d9cb",
   "metadata": {},
   "outputs": [
    {
     "data": {
      "text/plain": [
       "array([ 1.,  5.,  8.,  9., 10.])"
      ]
     },
     "execution_count": 27,
     "metadata": {},
     "output_type": "execute_result"
    }
   ],
   "source": [
    "np.around([1.23,4.55,7.66,8.77,9.87])"
   ]
  },
  {
   "cell_type": "code",
   "execution_count": 29,
   "id": "0f6840b3-5cda-44ef-9d29-f7bf124bf2a1",
   "metadata": {},
   "outputs": [
    {
     "data": {
      "text/plain": [
       "4.3"
      ]
     },
     "execution_count": 29,
     "metadata": {},
     "output_type": "execute_result"
    }
   ],
   "source": [
    "round(4.32 , 1)"
   ]
  },
  {
   "cell_type": "code",
   "execution_count": 31,
   "id": "c886b0ab-8763-4111-927c-3beacf5eb0f9",
   "metadata": {},
   "outputs": [
    {
     "data": {
      "text/plain": [
       "99.2"
      ]
     },
     "execution_count": 31,
     "metadata": {},
     "output_type": "execute_result"
    }
   ],
   "source": [
    "round(99.21,1)"
   ]
  },
  {
   "cell_type": "code",
   "execution_count": 33,
   "id": "47303519-74dd-4f50-b601-243a77ce2bb4",
   "metadata": {},
   "outputs": [
    {
     "data": {
      "text/plain": [
       "8.0"
      ]
     },
     "execution_count": 33,
     "metadata": {},
     "output_type": "execute_result"
    }
   ],
   "source": [
    "round(7.98,1)"
   ]
  },
  {
   "cell_type": "code",
   "execution_count": null,
   "id": "cfa73a15-7a7b-4dd7-80be-98c1aa6f32a0",
   "metadata": {},
   "outputs": [],
   "source": [
    "#Matrix"
   ]
  },
  {
   "cell_type": "code",
   "execution_count": null,
   "id": "0d3ae2cb-afa5-413e-a9d1-5084e7b0ada1",
   "metadata": {},
   "outputs": [],
   "source": [
    "# Element-wise operations:\n",
    "# Addition: np.add()\n",
    "# Subtraction: np.subtract()\n",
    "# Division: np.divide()\n",
    "# Multiplication: np.multiply()"
   ]
  },
  {
   "cell_type": "code",
   "execution_count": null,
   "id": "26b6750c-afee-4e45-a21b-bf664bc5a31c",
   "metadata": {},
   "outputs": [],
   "source": [
    "# Define two matrices to multiply"
   ]
  },
  {
   "cell_type": "code",
   "execution_count": 37,
   "id": "aa6e1614-ba50-4940-a661-130cbf485366",
   "metadata": {},
   "outputs": [
    {
     "name": "stdout",
     "output_type": "stream",
     "text": [
      "[[1 2]\n",
      " [3 4]]\n",
      "[[5 6]\n",
      " [7 1]]\n"
     ]
    }
   ],
   "source": [
    "a=np.array([[1,2],[3,4]])\n",
    "b=np.array([[5,6],[7,1]])\n",
    "print(a)\n",
    "print(b)"
   ]
  },
  {
   "cell_type": "code",
   "execution_count": 39,
   "id": "976b2835-5f8d-4931-9c38-c0bdc689af00",
   "metadata": {},
   "outputs": [
    {
     "data": {
      "text/plain": [
       "array([[ 6,  8],\n",
       "       [10,  5]])"
      ]
     },
     "execution_count": 39,
     "metadata": {},
     "output_type": "execute_result"
    }
   ],
   "source": [
    "a+b  # 1+5,7+3 ,2+6,4+1"
   ]
  },
  {
   "cell_type": "code",
   "execution_count": 43,
   "id": "579899eb-b51b-4eb1-bd7b-86110e7f2d87",
   "metadata": {},
   "outputs": [
    {
     "data": {
      "text/plain": [
       "array([[ 6,  8],\n",
       "       [10,  5]])"
      ]
     },
     "execution_count": 43,
     "metadata": {},
     "output_type": "execute_result"
    }
   ],
   "source": [
    "np.add(a,b)"
   ]
  },
  {
   "cell_type": "code",
   "execution_count": 41,
   "id": "a1baff53-dcd6-4cfa-8a79-d497bb6a63f9",
   "metadata": {},
   "outputs": [
    {
     "data": {
      "text/plain": [
       "array([[-4, -4],\n",
       "       [-4,  3]])"
      ]
     },
     "execution_count": 41,
     "metadata": {},
     "output_type": "execute_result"
    }
   ],
   "source": [
    "a-b"
   ]
  },
  {
   "cell_type": "code",
   "execution_count": 47,
   "id": "b50a82de-edda-4c9d-b992-63622f2e6722",
   "metadata": {},
   "outputs": [
    {
     "data": {
      "text/plain": [
       "array([[-4, -4],\n",
       "       [-4,  3]])"
      ]
     },
     "execution_count": 47,
     "metadata": {},
     "output_type": "execute_result"
    }
   ],
   "source": [
    "np.subtract(a,b)"
   ]
  },
  {
   "cell_type": "code",
   "execution_count": 49,
   "id": "f2c7e705-6be3-4757-bc78-de27162e25e3",
   "metadata": {},
   "outputs": [
    {
     "data": {
      "text/plain": [
       "array([[0.2       , 0.33333333],\n",
       "       [0.42857143, 4.        ]])"
      ]
     },
     "execution_count": 49,
     "metadata": {},
     "output_type": "execute_result"
    }
   ],
   "source": [
    "a/b"
   ]
  },
  {
   "cell_type": "code",
   "execution_count": 51,
   "id": "480d4e03-9b6b-4b72-9bf5-31e04f4dfd40",
   "metadata": {},
   "outputs": [
    {
     "data": {
      "text/plain": [
       "array([[0.2       , 0.33333333],\n",
       "       [0.42857143, 4.        ]])"
      ]
     },
     "execution_count": 51,
     "metadata": {},
     "output_type": "execute_result"
    }
   ],
   "source": [
    "np.divide(a,b)"
   ]
  },
  {
   "cell_type": "code",
   "execution_count": 55,
   "id": "0ce69166-c97d-46d1-9e2b-b271e9733f9f",
   "metadata": {},
   "outputs": [
    {
     "data": {
      "text/plain": [
       "array([[1, 2],\n",
       "       [3, 4]])"
      ]
     },
     "execution_count": 55,
     "metadata": {},
     "output_type": "execute_result"
    }
   ],
   "source": [
    "a"
   ]
  },
  {
   "cell_type": "code",
   "execution_count": 57,
   "id": "53d33e76-cd4d-4c3d-b035-f37398ae8dc6",
   "metadata": {},
   "outputs": [
    {
     "data": {
      "text/plain": [
       "array([[5, 6],\n",
       "       [7, 1]])"
      ]
     },
     "execution_count": 57,
     "metadata": {},
     "output_type": "execute_result"
    }
   ],
   "source": [
    "b"
   ]
  },
  {
   "cell_type": "code",
   "execution_count": 53,
   "id": "bc4b36f6-ca24-4034-8520-8c14d21157be",
   "metadata": {},
   "outputs": [
    {
     "data": {
      "text/plain": [
       "array([[ 5, 12],\n",
       "       [21,  4]])"
      ]
     },
     "execution_count": 53,
     "metadata": {},
     "output_type": "execute_result"
    }
   ],
   "source": [
    "a*b"
   ]
  },
  {
   "cell_type": "code",
   "execution_count": 59,
   "id": "bc0830a7-d586-4457-8b48-077afdeffe01",
   "metadata": {},
   "outputs": [
    {
     "data": {
      "text/plain": [
       "array([[ 5, 12],\n",
       "       [21,  4]])"
      ]
     },
     "execution_count": 59,
     "metadata": {},
     "output_type": "execute_result"
    }
   ],
   "source": [
    "np.multiply(a,b)"
   ]
  },
  {
   "cell_type": "code",
   "execution_count": null,
   "id": "c1962615-c0dd-4b64-9ea9-b65a4ad3fa48",
   "metadata": {},
   "outputs": [],
   "source": [
    "# add()\n",
    "# substract()\n",
    "# multiply()\n",
    "# divide()"
   ]
  },
  {
   "cell_type": "code",
   "execution_count": null,
   "id": "025932e6-5bff-4aa8-b72c-39aa8551d8f1",
   "metadata": {},
   "outputs": [],
   "source": [
    "#Linear Algebra"
   ]
  },
  {
   "cell_type": "code",
   "execution_count": null,
   "id": "0c90c6ef-6f75-4a73-a589-96c67348d470",
   "metadata": {},
   "outputs": [],
   "source": [
    "# np.dot(): Computes the dot product of two arrays. \n",
    "# np.linalg.inv(): Computes the inverse of a matrix.\n",
    "# np.linalg.det(): Computes the determinant of a matrix.\n",
    "# np.linalg.eig(): Computes the eigenvalues and right eigenvectors of a square array."
   ]
  },
  {
   "cell_type": "code",
   "execution_count": null,
   "id": "05f8acc9-0c92-40ff-9f09-e40f63d8131b",
   "metadata": {},
   "outputs": [],
   "source": [
    "# method1 using np.dot()"
   ]
  },
  {
   "cell_type": "code",
   "execution_count": 63,
   "id": "ae5ef6ca-1e45-48a0-b3eb-57defd0a2dd6",
   "metadata": {},
   "outputs": [
    {
     "data": {
      "text/plain": [
       "array([[1, 2],\n",
       "       [3, 4]])"
      ]
     },
     "execution_count": 63,
     "metadata": {},
     "output_type": "execute_result"
    }
   ],
   "source": [
    "a"
   ]
  },
  {
   "cell_type": "code",
   "execution_count": 65,
   "id": "38de17fa-7769-45e2-9c54-4fd094e5abfb",
   "metadata": {},
   "outputs": [
    {
     "data": {
      "text/plain": [
       "array([[5, 6],\n",
       "       [7, 1]])"
      ]
     },
     "execution_count": 65,
     "metadata": {},
     "output_type": "execute_result"
    }
   ],
   "source": [
    "b"
   ]
  },
  {
   "cell_type": "code",
   "execution_count": 61,
   "id": "c88a9524-e083-4865-a659-7339a9c12509",
   "metadata": {},
   "outputs": [
    {
     "name": "stdout",
     "output_type": "stream",
     "text": [
      "[[19  8]\n",
      " [43 22]]\n"
     ]
    }
   ],
   "source": [
    "x=np.dot(a,b)           #(1*5)+(2*7) =>5+14 =>19\n",
    "\n",
    "print(x)"
   ]
  },
  {
   "cell_type": "code",
   "execution_count": null,
   "id": "68ed2bb2-a632-4a7c-9824-2ded45efb461",
   "metadata": {},
   "outputs": [],
   "source": [
    "# Method 2: Using @ operator"
   ]
  },
  {
   "cell_type": "code",
   "execution_count": 67,
   "id": "369d4278-172a-4775-bfb6-5b1589fabf6e",
   "metadata": {},
   "outputs": [
    {
     "name": "stdout",
     "output_type": "stream",
     "text": [
      "[[19  8]\n",
      " [43 22]]\n"
     ]
    }
   ],
   "source": [
    "x = a@b\n",
    "print(x)"
   ]
  },
  {
   "cell_type": "code",
   "execution_count": 69,
   "id": "2c5509ec-ea8d-4ac5-815f-ed9b978f7c4d",
   "metadata": {},
   "outputs": [],
   "source": [
    "# Compute the determinant\n",
    "a= np.array([[1, 2], [3, 4]])"
   ]
  },
  {
   "cell_type": "code",
   "execution_count": 71,
   "id": "b4d00f3f-323a-42cb-80e3-c3d88b80b6b5",
   "metadata": {},
   "outputs": [
    {
     "data": {
      "text/plain": [
       "array([[1, 2],\n",
       "       [3, 4]])"
      ]
     },
     "execution_count": 71,
     "metadata": {},
     "output_type": "execute_result"
    }
   ],
   "source": [
    "a"
   ]
  },
  {
   "cell_type": "code",
   "execution_count": 73,
   "id": "1c1c456d-6664-4bdc-9a07-5abe36465282",
   "metadata": {},
   "outputs": [
    {
     "data": {
      "text/plain": [
       "-2.0000000000000004"
      ]
     },
     "execution_count": 73,
     "metadata": {},
     "output_type": "execute_result"
    }
   ],
   "source": [
    "det=np.linalg.det(a)\n",
    "det"
   ]
  },
  {
   "cell_type": "code",
   "execution_count": null,
   "id": "2413d0d5-3f9c-401b-b650-315da61a3453",
   "metadata": {},
   "outputs": [],
   "source": [
    "# (4*1) - (3*2)\n",
    "# 4 - 6\n",
    "# -2"
   ]
  },
  {
   "cell_type": "code",
   "execution_count": 75,
   "id": "587f5b8c-6fe8-418d-8fe7-2dcd717b70f9",
   "metadata": {},
   "outputs": [
    {
     "name": "stdout",
     "output_type": "stream",
     "text": [
      "-2.0\n"
     ]
    }
   ],
   "source": [
    "print(round(det,2))"
   ]
  },
  {
   "cell_type": "code",
   "execution_count": 77,
   "id": "23f7c4b9-fdbe-47b2-8d62-0af00e59e440",
   "metadata": {},
   "outputs": [
    {
     "name": "stdout",
     "output_type": "stream",
     "text": [
      "[[ 0.2972973  -0.10810811]\n",
      " [-0.58108108  0.25675676]]\n"
     ]
    }
   ],
   "source": [
    "# calculate the inverse\n",
    "\n",
    "x_inv = np.linalg.inv(x)\n",
    "print(x_inv)\n"
   ]
  },
  {
   "cell_type": "code",
   "execution_count": 79,
   "id": "5abd9526-2781-4487-9335-c6b8ae1e3a8a",
   "metadata": {},
   "outputs": [
    {
     "data": {
      "text/plain": [
       "array([[1., 0.],\n",
       "       [0., 1.]])"
      ]
     },
     "execution_count": 79,
     "metadata": {},
     "output_type": "execute_result"
    }
   ],
   "source": [
    "x @ x_inv"
   ]
  },
  {
   "cell_type": "code",
   "execution_count": 89,
   "id": "06e232fe-b22b-4a1e-8d85-4a1994821dda",
   "metadata": {},
   "outputs": [
    {
     "data": {
      "text/plain": [
       "EigResult(eigenvalues=array([ 1.89220593, 39.10779407]), eigenvectors=array([[-0.4235968 , -0.36967243],\n",
       "       [ 0.90585085, -0.92916215]]))"
      ]
     },
     "execution_count": 89,
     "metadata": {},
     "output_type": "execute_result"
    }
   ],
   "source": [
    "np.linalg.eig(x)"
   ]
  },
  {
   "cell_type": "code",
   "execution_count": null,
   "id": "0da5a0d0-8c0a-4429-a959-ad281cfdce94",
   "metadata": {},
   "outputs": [],
   "source": []
  },
  {
   "cell_type": "code",
   "execution_count": null,
   "id": "35377943-7e77-4b66-a9c8-a49e7df295ae",
   "metadata": {},
   "outputs": [],
   "source": [
    "#Exercise"
   ]
  },
  {
   "cell_type": "code",
   "execution_count": 91,
   "id": "f6c957f8-7b11-4b61-9e0b-0edd3b9722c1",
   "metadata": {},
   "outputs": [],
   "source": [
    "#Create array values and practice following examples\n",
    "arr=np.arange(10).reshape(5,2)"
   ]
  },
  {
   "cell_type": "code",
   "execution_count": 93,
   "id": "1ffde318-232b-4d04-92d8-9e4732957491",
   "metadata": {},
   "outputs": [
    {
     "data": {
      "text/plain": [
       "array([[0, 1],\n",
       "       [2, 3],\n",
       "       [4, 5],\n",
       "       [6, 7],\n",
       "       [8, 9]])"
      ]
     },
     "execution_count": 93,
     "metadata": {},
     "output_type": "execute_result"
    }
   ],
   "source": [
    "arr"
   ]
  },
  {
   "cell_type": "code",
   "execution_count": 95,
   "id": "18bc9b03-534e-43d0-9f2f-a3c35e5f9b4e",
   "metadata": {},
   "outputs": [
    {
     "data": {
      "text/plain": [
       "4.5"
      ]
     },
     "execution_count": 95,
     "metadata": {},
     "output_type": "execute_result"
    }
   ],
   "source": [
    "# Finding the mean of a NumPy array:\n",
    "\n",
    "mean_val = np.mean(arr)\n",
    "mean_val"
   ]
  },
  {
   "cell_type": "code",
   "execution_count": 97,
   "id": "5c92997e-069d-4754-aeb4-ba97358d047d",
   "metadata": {},
   "outputs": [
    {
     "data": {
      "text/plain": [
       "4.5"
      ]
     },
     "execution_count": 97,
     "metadata": {},
     "output_type": "execute_result"
    }
   ],
   "source": [
    "# Finding the median of a NumPy array:\n",
    "\n",
    "median_val = np.median(arr)\n",
    "median_val"
   ]
  },
  {
   "cell_type": "code",
   "execution_count": 99,
   "id": "fa621be5-70e1-4579-b807-2be1a02ea391",
   "metadata": {},
   "outputs": [
    {
     "data": {
      "text/plain": [
       "2.8722813232690143"
      ]
     },
     "execution_count": 99,
     "metadata": {},
     "output_type": "execute_result"
    }
   ],
   "source": [
    "# Finding the standard deviation of a NumPy array:\n",
    "\n",
    "std_val = np.std(arr)\n",
    "std_val"
   ]
  },
  {
   "cell_type": "code",
   "execution_count": 101,
   "id": "c1307788-0640-4d91-aed3-5c6cf4556286",
   "metadata": {},
   "outputs": [
    {
     "data": {
      "text/plain": [
       "8.25"
      ]
     },
     "execution_count": 101,
     "metadata": {},
     "output_type": "execute_result"
    }
   ],
   "source": [
    "var_val = np.var(arr)\n",
    "var_val"
   ]
  },
  {
   "cell_type": "code",
   "execution_count": 105,
   "id": "d2ced624-8574-43cc-aa06-5dfdd142610a",
   "metadata": {},
   "outputs": [
    {
     "data": {
      "text/plain": [
       "array([[0, 1],\n",
       "       [2, 3],\n",
       "       [4, 5],\n",
       "       [6, 7],\n",
       "       [8, 9]])"
      ]
     },
     "execution_count": 105,
     "metadata": {},
     "output_type": "execute_result"
    }
   ],
   "source": [
    "arr"
   ]
  },
  {
   "cell_type": "code",
   "execution_count": 103,
   "id": "7ae0d016-1122-49b4-b074-bf3574291258",
   "metadata": {},
   "outputs": [
    {
     "data": {
      "text/plain": [
       "array([[ 0,  1],\n",
       "       [ 4,  9],\n",
       "       [16, 25],\n",
       "       [36, 49],\n",
       "       [64, 81]])"
      ]
     },
     "execution_count": 103,
     "metadata": {},
     "output_type": "execute_result"
    }
   ],
   "source": [
    "# Performing element-wise operations on NumPy arrays:\n",
    "\n",
    "arr_squared = arr ** 2\n",
    "arr_squared"
   ]
  },
  {
   "cell_type": "code",
   "execution_count": 107,
   "id": "54ff1e27-7ea3-4ae3-9585-94523763ad20",
   "metadata": {},
   "outputs": [
    {
     "name": "stdout",
     "output_type": "stream",
     "text": [
      "Mean: 49.5\n",
      "Median: 49.5\n",
      "Variance: 833.25\n",
      "Standard deviation: 28.86607004772212\n",
      "Minimum: 0\n",
      "Maximum: 99\n"
     ]
    }
   ],
   "source": [
    "# create an array of data\n",
    "data = np.arange(100)\n",
    "\n",
    "# calculate the mean\n",
    "mean = np.mean(data)\n",
    "print(\"Mean:\", mean)\n",
    "\n",
    "# calculate the median\n",
    "median = np.median(data)\n",
    "print(\"Median:\", median)\n",
    "\n",
    "# calculate the variance\n",
    "variance = np.var(data)\n",
    "print(\"Variance:\", variance)\n",
    "\n",
    "# calculate the standard deviation\n",
    "std_dev = np.std(data)\n",
    "print(\"Standard deviation:\", std_dev)\n",
    "\n",
    "# calculate the minimum and maximum values\n",
    "minimum = np.min(data)\n",
    "maximum = np.max(data)\n",
    "print(\"Minimum:\", minimum)\n",
    "print(\"Maximum:\", maximum)"
   ]
  },
  {
   "cell_type": "code",
   "execution_count": null,
   "id": "25c9f511-b584-45c4-bad5-52bb57bbf3c1",
   "metadata": {},
   "outputs": [],
   "source": []
  },
  {
   "cell_type": "code",
   "execution_count": null,
   "id": "5c7aebc0-ab31-4e42-89ca-e2f1eec7e32b",
   "metadata": {},
   "outputs": [],
   "source": []
  }
 ],
 "metadata": {
  "kernelspec": {
   "display_name": "Python 3 (ipykernel)",
   "language": "python",
   "name": "python3"
  },
  "language_info": {
   "codemirror_mode": {
    "name": "ipython",
    "version": 3
   },
   "file_extension": ".py",
   "mimetype": "text/x-python",
   "name": "python",
   "nbconvert_exporter": "python",
   "pygments_lexer": "ipython3",
   "version": "3.12.4"
  }
 },
 "nbformat": 4,
 "nbformat_minor": 5
}
