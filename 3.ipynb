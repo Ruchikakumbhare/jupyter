{
 "cells": [
  {
   "cell_type": "code",
   "execution_count": null,
   "id": "dbaf299e-b3ff-4707-939e-c455ddc7275d",
   "metadata": {},
   "outputs": [],
   "source": [
    "## 3) Logical Operators :-\n",
    "\n",
    "    Operator\t                            Description\t\n",
    "    and      Logical AND\t    If both the operands are true then condition becomes true.\t(a and b) is true.\n",
    "    or        Logical OR\t    If any of the two operands are non-zero then condition becomes true. (a or b) is true.\n",
    "    not       Logical NOT\t    Used to reverse the logical state of its operand."
   ]
  },
  {
   "cell_type": "code",
   "execution_count": null,
   "id": "0a935ae1-ec79-4c5d-b8fc-749da434170d",
   "metadata": {},
   "outputs": [],
   "source": [
    "# and\n",
    "True and True ===> True\n",
    "True and False ===> False\n",
    "False and True===> False\n",
    "False and False ===> False\n",
    "\n",
    "# or\n",
    "True or True ===> True\n",
    "True or False ===> True\n",
    "False or True===> True\n",
    "False or False ===> False\n",
    "\n",
    "#not\n",
    "not (condition) ==> Reverse\n",
    "\n",
    "not (True) ==> False\n",
    "not (False) ==> True\n"
   ]
  },
  {
   "cell_type": "code",
   "execution_count": 1,
   "id": "325ebc25-470f-487a-a5fd-2891a2511ecb",
   "metadata": {},
   "outputs": [
    {
     "data": {
      "text/plain": [
       "False"
      ]
     },
     "execution_count": 1,
     "metadata": {},
     "output_type": "execute_result"
    }
   ],
   "source": [
    "10 < 2 and 3==2"
   ]
  },
  {
   "cell_type": "code",
   "execution_count": 3,
   "id": "db4e2de3-1682-46c2-8417-949e4ef46d85",
   "metadata": {},
   "outputs": [
    {
     "data": {
      "text/plain": [
       "False"
      ]
     },
     "execution_count": 3,
     "metadata": {},
     "output_type": "execute_result"
    }
   ],
   "source": [
    "12>30 and 2<4"
   ]
  },
  {
   "cell_type": "code",
   "execution_count": 5,
   "id": "65e32c71-1cad-489c-aa0d-ec1d71c629f9",
   "metadata": {},
   "outputs": [
    {
     "data": {
      "text/plain": [
       "True"
      ]
     },
     "execution_count": 5,
     "metadata": {},
     "output_type": "execute_result"
    }
   ],
   "source": [
    "12<15 and  30>2"
   ]
  },
  {
   "cell_type": "code",
   "execution_count": 7,
   "id": "bf7d5672-98a8-4538-afbc-0c76f1018bda",
   "metadata": {},
   "outputs": [
    {
     "data": {
      "text/plain": [
       "True"
      ]
     },
     "execution_count": 7,
     "metadata": {},
     "output_type": "execute_result"
    }
   ],
   "source": [
    "20<10 or 10==10"
   ]
  },
  {
   "cell_type": "code",
   "execution_count": 9,
   "id": "dd546227-15a2-4cc5-8254-34f1f4757f91",
   "metadata": {},
   "outputs": [
    {
     "data": {
      "text/plain": [
       "False"
      ]
     },
     "execution_count": 9,
     "metadata": {},
     "output_type": "execute_result"
    }
   ],
   "source": [
    "10==20 or 10>20"
   ]
  },
  {
   "cell_type": "code",
   "execution_count": 11,
   "id": "08928db5-3218-41d0-95ca-7bfc4918690d",
   "metadata": {},
   "outputs": [
    {
     "data": {
      "text/plain": [
       "False"
      ]
     },
     "execution_count": 11,
     "metadata": {},
     "output_type": "execute_result"
    }
   ],
   "source": [
    "a = 20 < 10 \n",
    "a"
   ]
  },
  {
   "cell_type": "code",
   "execution_count": 13,
   "id": "1651df5c-3c08-4c31-a05d-e63c0306c20c",
   "metadata": {},
   "outputs": [
    {
     "name": "stdout",
     "output_type": "stream",
     "text": [
      "False\n"
     ]
    }
   ],
   "source": [
    "print(a)"
   ]
  },
  {
   "cell_type": "code",
   "execution_count": 15,
   "id": "3e5258b2-aca2-4082-a3e6-5bed571e76bb",
   "metadata": {},
   "outputs": [
    {
     "data": {
      "text/plain": [
       "bool"
      ]
     },
     "execution_count": 15,
     "metadata": {},
     "output_type": "execute_result"
    }
   ],
   "source": [
    "type(a)"
   ]
  },
  {
   "cell_type": "code",
   "execution_count": 17,
   "id": "c16e9ff1-8479-4bae-8f7a-c86420f8b641",
   "metadata": {},
   "outputs": [
    {
     "name": "stdout",
     "output_type": "stream",
     "text": [
      "True\n"
     ]
    }
   ],
   "source": [
    "print(12 > 11 and 7 != 8)  "
   ]
  },
  {
   "cell_type": "code",
   "execution_count": 19,
   "id": "dbef0957-c7c4-43ba-b680-91718eb1347f",
   "metadata": {},
   "outputs": [
    {
     "data": {
      "text/plain": [
       "True"
      ]
     },
     "execution_count": 19,
     "metadata": {},
     "output_type": "execute_result"
    }
   ],
   "source": [
    "2!=4"
   ]
  },
  {
   "cell_type": "code",
   "execution_count": null,
   "id": "8fd669c7-b3a4-4c61-965d-22a00cd27921",
   "metadata": {},
   "outputs": [],
   "source": [
    "There are two built-in functions for multiple condition\n",
    "\n",
    "all() :- True if all True otherwise False\n",
    "any() :- True if at least one is True. False if all conditions are False\n",
    "\n",
    "The all() function returns True if all elements in the iterable are truthy (i.e., non-zero, non-empty, or True), or False if at least one element is falsy (i.e., zero, empty, or False)"
   ]
  },
  {
   "cell_type": "code",
   "execution_count": null,
   "id": "dec90ee6-8ee5-4306-8013-86d128e567fb",
   "metadata": {},
   "outputs": [],
   "source": [
    "c1 d1 c2 d2 c3 d3"
   ]
  },
  {
   "cell_type": "code",
   "execution_count": 2,
   "id": "b7f41c49-e36c-454e-91d7-86f4be763e78",
   "metadata": {},
   "outputs": [
    {
     "data": {
      "text/plain": [
       "0"
      ]
     },
     "execution_count": 2,
     "metadata": {},
     "output_type": "execute_result"
    }
   ],
   "source": [
    " int(False)"
   ]
  },
  {
   "cell_type": "code",
   "execution_count": 3,
   "id": "dc0b14fa-a70e-4420-868f-e5ddc03a4650",
   "metadata": {},
   "outputs": [
    {
     "data": {
      "text/plain": [
       "1"
      ]
     },
     "execution_count": 3,
     "metadata": {},
     "output_type": "execute_result"
    }
   ],
   "source": [
    "int(True)"
   ]
  },
  {
   "cell_type": "code",
   "execution_count": 4,
   "id": "24c8d132-d394-466a-8f69-f0c726141c22",
   "metadata": {},
   "outputs": [
    {
     "data": {
      "text/plain": [
       "False"
      ]
     },
     "execution_count": 4,
     "metadata": {},
     "output_type": "execute_result"
    }
   ],
   "source": [
    "bool(0)"
   ]
  },
  {
   "cell_type": "code",
   "execution_count": 5,
   "id": "48859019-8aee-4e37-b864-12b74e9bee6c",
   "metadata": {},
   "outputs": [
    {
     "data": {
      "text/plain": [
       "True"
      ]
     },
     "execution_count": 5,
     "metadata": {},
     "output_type": "execute_result"
    }
   ],
   "source": [
    "bool(1)"
   ]
  },
  {
   "cell_type": "code",
   "execution_count": 6,
   "id": "089321fc-b8aa-4355-b6dc-9c6b07a91b14",
   "metadata": {},
   "outputs": [
    {
     "data": {
      "text/plain": [
       "True"
      ]
     },
     "execution_count": 6,
     "metadata": {},
     "output_type": "execute_result"
    }
   ],
   "source": [
    "bool(-3)"
   ]
  },
  {
   "cell_type": "code",
   "execution_count": 7,
   "id": "0c432009-f29b-40fd-ad94-d5aa48a86a4e",
   "metadata": {},
   "outputs": [
    {
     "data": {
      "text/plain": [
       "100"
      ]
     },
     "execution_count": 7,
     "metadata": {},
     "output_type": "execute_result"
    }
   ],
   "source": [
    "int(100)"
   ]
  },
  {
   "cell_type": "code",
   "execution_count": 8,
   "id": "4e46ccf3-268e-495b-a952-fa87db32a148",
   "metadata": {},
   "outputs": [
    {
     "data": {
      "text/plain": [
       "True"
      ]
     },
     "execution_count": 8,
     "metadata": {},
     "output_type": "execute_result"
    }
   ],
   "source": [
    "bool(20)"
   ]
  },
  {
   "cell_type": "code",
   "execution_count": 9,
   "id": "dcd78758-2855-4cdc-bdf9-1d7fcf14f594",
   "metadata": {},
   "outputs": [
    {
     "data": {
      "text/plain": [
       "False"
      ]
     },
     "execution_count": 9,
     "metadata": {},
     "output_type": "execute_result"
    }
   ],
   "source": [
    "bool(0)"
   ]
  },
  {
   "cell_type": "code",
   "execution_count": null,
   "id": "5caaf474-df33-41e9-b846-53f1b72b96c2",
   "metadata": {},
   "outputs": [],
   "source": []
  }
 ],
 "metadata": {
  "kernelspec": {
   "display_name": "Python 3 (ipykernel)",
   "language": "python",
   "name": "python3"
  },
  "language_info": {
   "codemirror_mode": {
    "name": "ipython",
    "version": 3
   },
   "file_extension": ".py",
   "mimetype": "text/x-python",
   "name": "python",
   "nbconvert_exporter": "python",
   "pygments_lexer": "ipython3",
   "version": "3.11.9"
  }
 },
 "nbformat": 4,
 "nbformat_minor": 5
}
