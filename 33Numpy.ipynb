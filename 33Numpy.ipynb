{
 "cells": [
  {
   "cell_type": "code",
   "execution_count": null,
   "id": "12ebebfd-e218-4044-9be9-615213a48ce9",
   "metadata": {},
   "outputs": [],
   "source": [
    "# Manipulate arrays"
   ]
  },
  {
   "cell_type": "code",
   "execution_count": null,
   "id": "b7b7540a-d158-440f-b7a8-5c4c9d5f50e7",
   "metadata": {},
   "outputs": [],
   "source": [
    "# np.append(): adds values to the end of an array. It returns a new array\n",
    "# np.concatenate(): Combines two or more arrays along a specified axis\n",
    "# np.vstack(): Stacks arrays vertically (row-wise)\n",
    "# np.hstack(): Stacks arrays horizontally (column-wise)\n",
    "#  \"stack\" refers to the operation of joining multiple arrays along a new axis"
   ]
  },
  {
   "cell_type": "code",
   "execution_count": 1,
   "id": "595b7cc9-5e87-496e-bff1-2898e1a25689",
   "metadata": {},
   "outputs": [],
   "source": [
    "import numpy as np"
   ]
  },
  {
   "cell_type": "code",
   "execution_count": 51,
   "id": "d84227cd-5958-4d9f-bfd0-ba6e1543ed8e",
   "metadata": {},
   "outputs": [],
   "source": [
    "a = np.arange(1,16).reshape(3,5)\n"
   ]
  },
  {
   "cell_type": "code",
   "execution_count": 53,
   "id": "0062c29b-77d7-49ba-abe9-94adedbdbbff",
   "metadata": {},
   "outputs": [
    {
     "data": {
      "text/plain": [
       "array([[ 1,  2,  3,  4,  5],\n",
       "       [ 6,  7,  8,  9, 10],\n",
       "       [11, 12, 13, 14, 15]])"
      ]
     },
     "execution_count": 53,
     "metadata": {},
     "output_type": "execute_result"
    }
   ],
   "source": [
    "a"
   ]
  },
  {
   "cell_type": "code",
   "execution_count": 55,
   "id": "decd76ce-944a-4a38-a679-a28bbdf77eec",
   "metadata": {},
   "outputs": [
    {
     "data": {
      "text/plain": [
       "array([[21, 22, 23, 24, 25],\n",
       "       [26, 27, 28, 29, 30],\n",
       "       [31, 32, 33, 34, 35]])"
      ]
     },
     "execution_count": 55,
     "metadata": {},
     "output_type": "execute_result"
    }
   ],
   "source": [
    "b=np.arange(21,36).reshape(3,5)\n",
    "b"
   ]
  },
  {
   "cell_type": "code",
   "execution_count": 33,
   "id": "64cca978-61e3-4685-bff4-eee55644fb5f",
   "metadata": {},
   "outputs": [],
   "source": [
    "c=np.append(a,b)"
   ]
  },
  {
   "cell_type": "code",
   "execution_count": 35,
   "id": "6a05afa2-82a0-42e9-928c-567bd66f3dc2",
   "metadata": {},
   "outputs": [
    {
     "data": {
      "text/plain": [
       "array([ 1,  2,  3,  4,  5,  6,  7,  8,  9, 10, 11, 12, 13, 14, 15, 21, 22,\n",
       "       23, 24, 25, 26, 27, 28, 29, 30, 31, 32, 33, 34, 35])"
      ]
     },
     "execution_count": 35,
     "metadata": {},
     "output_type": "execute_result"
    }
   ],
   "source": [
    "c"
   ]
  },
  {
   "cell_type": "code",
   "execution_count": 57,
   "id": "d82eb942-2d89-4f2b-9338-a0d467106a30",
   "metadata": {},
   "outputs": [
    {
     "data": {
      "text/plain": [
       "array([[ 1,  2,  3,  4,  5],\n",
       "       [ 6,  7,  8,  9, 10],\n",
       "       [11, 12, 13, 14, 15],\n",
       "       [21, 22, 23, 24, 25],\n",
       "       [26, 27, 28, 29, 30],\n",
       "       [31, 32, 33, 34, 35]])"
      ]
     },
     "execution_count": 57,
     "metadata": {},
     "output_type": "execute_result"
    }
   ],
   "source": [
    "np.append(a,b ,axis=0) #row wise"
   ]
  },
  {
   "cell_type": "code",
   "execution_count": 59,
   "id": "b2a7a5f3-afca-4784-a377-cb204b9a0987",
   "metadata": {},
   "outputs": [
    {
     "data": {
      "text/plain": [
       "array([[ 1,  2,  3,  4,  5, 21, 22, 23, 24, 25],\n",
       "       [ 6,  7,  8,  9, 10, 26, 27, 28, 29, 30],\n",
       "       [11, 12, 13, 14, 15, 31, 32, 33, 34, 35]])"
      ]
     },
     "execution_count": 59,
     "metadata": {},
     "output_type": "execute_result"
    }
   ],
   "source": [
    "np.append(a,b ,axis=1) #column wise"
   ]
  },
  {
   "cell_type": "code",
   "execution_count": 43,
   "id": "741aa444-ea20-47f8-888d-1533614926ab",
   "metadata": {},
   "outputs": [
    {
     "data": {
      "text/plain": [
       "15"
      ]
     },
     "execution_count": 43,
     "metadata": {},
     "output_type": "execute_result"
    }
   ],
   "source": [
    "a.size"
   ]
  },
  {
   "cell_type": "code",
   "execution_count": 45,
   "id": "450759b7-3290-4585-901f-06d94d4a68d0",
   "metadata": {},
   "outputs": [
    {
     "data": {
      "text/plain": [
       "15"
      ]
     },
     "execution_count": 45,
     "metadata": {},
     "output_type": "execute_result"
    }
   ],
   "source": [
    "b.size"
   ]
  },
  {
   "cell_type": "code",
   "execution_count": 61,
   "id": "6c2f6198-aa03-4603-a17a-3fabd410c01e",
   "metadata": {},
   "outputs": [
    {
     "data": {
      "text/plain": [
       "2"
      ]
     },
     "execution_count": 61,
     "metadata": {},
     "output_type": "execute_result"
    }
   ],
   "source": [
    "a.ndim"
   ]
  },
  {
   "cell_type": "code",
   "execution_count": 49,
   "id": "0c3dc174-9c2f-459c-bfd5-5f1e65197e6b",
   "metadata": {},
   "outputs": [
    {
     "data": {
      "text/plain": [
       "2"
      ]
     },
     "execution_count": 49,
     "metadata": {},
     "output_type": "execute_result"
    }
   ],
   "source": [
    "b.ndim"
   ]
  },
  {
   "cell_type": "code",
   "execution_count": 63,
   "id": "37d8a8b4-14fe-46de-91fc-b22ee08c8860",
   "metadata": {},
   "outputs": [
    {
     "data": {
      "text/plain": [
       "array([[ 1,  2,  3,  4,  5],\n",
       "       [ 6,  7,  8,  9, 10],\n",
       "       [11, 12, 13, 14, 15],\n",
       "       [21, 22, 23, 24, 25],\n",
       "       [26, 27, 28, 29, 30],\n",
       "       [31, 32, 33, 34, 35]])"
      ]
     },
     "execution_count": 63,
     "metadata": {},
     "output_type": "execute_result"
    }
   ],
   "source": [
    "# combining\n",
    "# M1)concatenate\n",
    "np.concatenate((a,b),axis=0) #row"
   ]
  },
  {
   "cell_type": "code",
   "execution_count": 65,
   "id": "a28f84ce-c41b-49c9-a76d-55fe5411fbe8",
   "metadata": {},
   "outputs": [
    {
     "data": {
      "text/plain": [
       "array([[ 1,  2,  3,  4,  5, 21, 22, 23, 24, 25],\n",
       "       [ 6,  7,  8,  9, 10, 26, 27, 28, 29, 30],\n",
       "       [11, 12, 13, 14, 15, 31, 32, 33, 34, 35]])"
      ]
     },
     "execution_count": 65,
     "metadata": {},
     "output_type": "execute_result"
    }
   ],
   "source": [
    "np.concatenate((a,b),axis=1) #col"
   ]
  },
  {
   "cell_type": "code",
   "execution_count": 69,
   "id": "7ef23685-366a-4143-a895-993e9229e0d4",
   "metadata": {},
   "outputs": [
    {
     "data": {
      "text/plain": [
       "array([[ 1,  2,  3,  4,  5],\n",
       "       [ 6,  7,  8,  9, 10],\n",
       "       [11, 12, 13, 14, 15],\n",
       "       [21, 22, 23, 24, 25],\n",
       "       [26, 27, 28, 29, 30],\n",
       "       [31, 32, 33, 34, 35]])"
      ]
     },
     "execution_count": 69,
     "metadata": {},
     "output_type": "execute_result"
    }
   ],
   "source": [
    "# M2\n",
    "np.vstack((a,b))       #row wise   0"
   ]
  },
  {
   "cell_type": "code",
   "execution_count": 71,
   "id": "65dd9edc-c326-4493-8dbc-fd2c561e21c2",
   "metadata": {},
   "outputs": [
    {
     "data": {
      "text/plain": [
       "array([[ 1,  2,  3,  4,  5, 21, 22, 23, 24, 25],\n",
       "       [ 6,  7,  8,  9, 10, 26, 27, 28, 29, 30],\n",
       "       [11, 12, 13, 14, 15, 31, 32, 33, 34, 35]])"
      ]
     },
     "execution_count": 71,
     "metadata": {},
     "output_type": "execute_result"
    }
   ],
   "source": [
    "np.hstack((a,b)) "
   ]
  },
  {
   "cell_type": "code",
   "execution_count": 73,
   "id": "c9660615-0178-4aec-9b60-6cc1d4a16c99",
   "metadata": {},
   "outputs": [
    {
     "data": {
      "text/plain": [
       "array([[ 1,  2,  3,  4,  5],\n",
       "       [ 6,  7,  8,  9, 10],\n",
       "       [11, 12, 13, 14, 15],\n",
       "       [21, 22, 23, 24, 25],\n",
       "       [26, 27, 28, 29, 30],\n",
       "       [31, 32, 33, 34, 35]])"
      ]
     },
     "execution_count": 73,
     "metadata": {},
     "output_type": "execute_result"
    }
   ],
   "source": [
    "# m3\n",
    "np.row_stack((a,b))"
   ]
  },
  {
   "cell_type": "code",
   "execution_count": 75,
   "id": "b0a3c25f-b0df-445a-bdad-6ae4003eb26c",
   "metadata": {},
   "outputs": [
    {
     "data": {
      "text/plain": [
       "array([[ 1,  2,  3,  4,  5, 21, 22, 23, 24, 25],\n",
       "       [ 6,  7,  8,  9, 10, 26, 27, 28, 29, 30],\n",
       "       [11, 12, 13, 14, 15, 31, 32, 33, 34, 35]])"
      ]
     },
     "execution_count": 75,
     "metadata": {},
     "output_type": "execute_result"
    }
   ],
   "source": [
    "np.column_stack((a,b))"
   ]
  },
  {
   "cell_type": "code",
   "execution_count": 79,
   "id": "e59d4450-cd0b-4641-8f13-c5d8f0123e23",
   "metadata": {},
   "outputs": [
    {
     "data": {
      "text/plain": [
       "array([[ 1,  2,  3,  4,  5],\n",
       "       [ 6,  7,  8,  9, 10],\n",
       "       [11, 12, 13, 14, 15],\n",
       "       [21, 22, 23, 24, 25],\n",
       "       [26, 27, 28, 29, 30],\n",
       "       [31, 32, 33, 34, 35]])"
      ]
     },
     "execution_count": 79,
     "metadata": {},
     "output_type": "execute_result"
    }
   ],
   "source": [
    "# m4\n",
    "np.r_[a,b]  #row"
   ]
  },
  {
   "cell_type": "code",
   "execution_count": 81,
   "id": "81bd0d34-6885-4d42-816d-ce0694754f8c",
   "metadata": {},
   "outputs": [
    {
     "data": {
      "text/plain": [
       "array([[ 1,  2,  3,  4,  5, 21, 22, 23, 24, 25],\n",
       "       [ 6,  7,  8,  9, 10, 26, 27, 28, 29, 30],\n",
       "       [11, 12, 13, 14, 15, 31, 32, 33, 34, 35]])"
      ]
     },
     "execution_count": 81,
     "metadata": {},
     "output_type": "execute_result"
    }
   ],
   "source": [
    "np.c_[a,b] #col"
   ]
  },
  {
   "cell_type": "code",
   "execution_count": 85,
   "id": "2c986508-4222-4968-b8d6-35f24d489780",
   "metadata": {},
   "outputs": [
    {
     "data": {
      "text/plain": [
       "array([[ 1,  2,  3,  4,  5],\n",
       "       [ 6,  7,  8,  9, 10],\n",
       "       [11, 12, 13, 14, 15],\n",
       "       [21, 22, 23, 24, 25],\n",
       "       [26, 27, 28, 29, 30],\n",
       "       [31, 32, 33, 34, 35]])"
      ]
     },
     "execution_count": 85,
     "metadata": {},
     "output_type": "execute_result"
    }
   ],
   "source": [
    "# splitting\n",
    "\n",
    "x=np.r_[a,b]\n",
    "x"
   ]
  },
  {
   "cell_type": "code",
   "execution_count": 87,
   "id": "b87576af-40ae-4f51-90f5-09f26384a94c",
   "metadata": {},
   "outputs": [
    {
     "data": {
      "text/plain": [
       "[array([[1, 2, 3, 4, 5]]),\n",
       " array([[ 6,  7,  8,  9, 10]]),\n",
       " array([[11, 12, 13, 14, 15]])]"
      ]
     },
     "execution_count": 87,
     "metadata": {},
     "output_type": "execute_result"
    }
   ],
   "source": [
    "np.vsplit(a,3) "
   ]
  },
  {
   "cell_type": "code",
   "execution_count": null,
   "id": "41c2d954-61c7-43c1-bef3-59e443ddb58b",
   "metadata": {},
   "outputs": [],
   "source": [
    "hsplit()"
   ]
  },
  {
   "cell_type": "code",
   "execution_count": null,
   "id": "7dc2a6f7-08f2-4bd9-96ac-f35e7f106c71",
   "metadata": {},
   "outputs": [],
   "source": [
    "# M1 --> NP.APPENDE(A,B , AXIS = 0) -->ROWWISE\n",
    "# M2 -->NP.VSTACK((A,B)) -->ROWWISE\n",
    "# M3 -->NP.R_[A,B] -->ROWWISSE\n",
    "# M4 -->NP.R_STACK(A,B) -->ROWWISE\n",
    "\n",
    "# SPLIT -->HOLD NOT UDERSTAND!!VSPLIT \n"
   ]
  },
  {
   "cell_type": "code",
   "execution_count": null,
   "id": "bb80ab5c-edb2-4043-aa38-7e78236660e2",
   "metadata": {},
   "outputs": [],
   "source": []
  },
  {
   "cell_type": "code",
   "execution_count": null,
   "id": "df8bfc1c-9788-4601-8128-791628461805",
   "metadata": {},
   "outputs": [],
   "source": []
  },
  {
   "cell_type": "code",
   "execution_count": 97,
   "id": "a394ef89-af44-43e2-85fe-13daf352f624",
   "metadata": {},
   "outputs": [
    {
     "data": {
      "text/plain": [
       "array([ 1,  2,  3,  4,  5,  6,  7,  8,  9, 10, 11, 12, 13, 14])"
      ]
     },
     "execution_count": 97,
     "metadata": {},
     "output_type": "execute_result"
    }
   ],
   "source": [
    "x=np.arange(1,15)\n",
    "x"
   ]
  },
  {
   "cell_type": "code",
   "execution_count": 99,
   "id": "c9798e17-602f-4770-91d8-de3689c363d7",
   "metadata": {},
   "outputs": [
    {
     "data": {
      "text/plain": [
       "array([ True,  True,  True, False, False, False, False, False, False,\n",
       "       False, False, False, False, False])"
      ]
     },
     "execution_count": 99,
     "metadata": {},
     "output_type": "execute_result"
    }
   ],
   "source": [
    "x<4"
   ]
  },
  {
   "cell_type": "code",
   "execution_count": 101,
   "id": "222e765a-e237-4878-9c21-cf08c9db3367",
   "metadata": {},
   "outputs": [
    {
     "data": {
      "text/plain": [
       "array([1, 2, 3])"
      ]
     },
     "execution_count": 101,
     "metadata": {},
     "output_type": "execute_result"
    }
   ],
   "source": [
    "x[x<4]  #values showing "
   ]
  },
  {
   "cell_type": "code",
   "execution_count": 105,
   "id": "48104b04-f68d-42f5-baa5-071ffd1a1f26",
   "metadata": {},
   "outputs": [
    {
     "data": {
      "text/plain": [
       "array([ 1,  2,  3,  4,  5,  6,  7,  8,  9, 10, 11, 12, 13, 14])"
      ]
     },
     "execution_count": 105,
     "metadata": {},
     "output_type": "execute_result"
    }
   ],
   "source": [
    "x[~x < 4]"
   ]
  },
  {
   "cell_type": "code",
   "execution_count": null,
   "id": "39aba676-ba99-46b9-a9b0-fe4dbc206adb",
   "metadata": {},
   "outputs": [],
   "source": []
  }
 ],
 "metadata": {
  "kernelspec": {
   "display_name": "Python 3 (ipykernel)",
   "language": "python",
   "name": "python3"
  },
  "language_info": {
   "codemirror_mode": {
    "name": "ipython",
    "version": 3
   },
   "file_extension": ".py",
   "mimetype": "text/x-python",
   "name": "python",
   "nbconvert_exporter": "python",
   "pygments_lexer": "ipython3",
   "version": "3.12.4"
  }
 },
 "nbformat": 4,
 "nbformat_minor": 5
}
