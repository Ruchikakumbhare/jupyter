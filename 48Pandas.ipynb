{
 "cells": [
  {
   "cell_type": "code",
   "execution_count": 1,
   "id": "363617aa-fb98-4109-8005-cf1850b1501f",
   "metadata": {},
   "outputs": [],
   "source": [
    "import pandas as pd\n"
   ]
  },
  {
   "cell_type": "code",
   "execution_count": 3,
   "id": "47b9d627-7ada-4043-bcd1-9f2647b69bc0",
   "metadata": {},
   "outputs": [],
   "source": [
    "d1=pd.read_excel(r\"C:\\Users\\Rohit\\Desktop\\jupyterpy\\Employee data.xlsx\")"
   ]
  },
  {
   "cell_type": "code",
   "execution_count": 5,
   "id": "c262f2fe-9d92-4d8f-820b-01c25f214911",
   "metadata": {},
   "outputs": [
    {
     "data": {
      "text/html": [
       "<div>\n",
       "<style scoped>\n",
       "    .dataframe tbody tr th:only-of-type {\n",
       "        vertical-align: middle;\n",
       "    }\n",
       "\n",
       "    .dataframe tbody tr th {\n",
       "        vertical-align: top;\n",
       "    }\n",
       "\n",
       "    .dataframe thead th {\n",
       "        text-align: right;\n",
       "    }\n",
       "</style>\n",
       "<table border=\"1\" class=\"dataframe\">\n",
       "  <thead>\n",
       "    <tr style=\"text-align: right;\">\n",
       "      <th></th>\n",
       "      <th>Employee ID</th>\n",
       "      <th>Employee Name</th>\n",
       "      <th>Manager Name</th>\n",
       "      <th>Department</th>\n",
       "      <th>Qualification</th>\n",
       "      <th>Gender</th>\n",
       "      <th>Experience</th>\n",
       "      <th>Salary</th>\n",
       "    </tr>\n",
       "  </thead>\n",
       "  <tbody>\n",
       "    <tr>\n",
       "      <th>0</th>\n",
       "      <td>E001</td>\n",
       "      <td>Pooja Thorat</td>\n",
       "      <td>Vishal Bhosale</td>\n",
       "      <td>Finance</td>\n",
       "      <td>Bachelor</td>\n",
       "      <td>Female</td>\n",
       "      <td>18</td>\n",
       "      <td>103464</td>\n",
       "    </tr>\n",
       "    <tr>\n",
       "      <th>1</th>\n",
       "      <td>E002</td>\n",
       "      <td>Shruti Sawant</td>\n",
       "      <td>Neelam Sawant</td>\n",
       "      <td>Engineering</td>\n",
       "      <td>PhD</td>\n",
       "      <td>Male</td>\n",
       "      <td>9</td>\n",
       "      <td>126942</td>\n",
       "    </tr>\n",
       "    <tr>\n",
       "      <th>2</th>\n",
       "      <td>E003</td>\n",
       "      <td>Rupal Kulkarni</td>\n",
       "      <td>Aparna Jadhav</td>\n",
       "      <td>HR</td>\n",
       "      <td>PhD</td>\n",
       "      <td>Male</td>\n",
       "      <td>14</td>\n",
       "      <td>129882</td>\n",
       "    </tr>\n",
       "    <tr>\n",
       "      <th>3</th>\n",
       "      <td>E004</td>\n",
       "      <td>Shweta Pawar</td>\n",
       "      <td>Siddhi Bhosale</td>\n",
       "      <td>Sales</td>\n",
       "      <td>PhD</td>\n",
       "      <td>Male</td>\n",
       "      <td>2</td>\n",
       "      <td>71092</td>\n",
       "    </tr>\n",
       "    <tr>\n",
       "      <th>4</th>\n",
       "      <td>E005</td>\n",
       "      <td>Snehal Jadhav</td>\n",
       "      <td>Siddhi Rathod</td>\n",
       "      <td>Finance</td>\n",
       "      <td>Bachelor</td>\n",
       "      <td>Female</td>\n",
       "      <td>8</td>\n",
       "      <td>104760</td>\n",
       "    </tr>\n",
       "    <tr>\n",
       "      <th>...</th>\n",
       "      <td>...</td>\n",
       "      <td>...</td>\n",
       "      <td>...</td>\n",
       "      <td>...</td>\n",
       "      <td>...</td>\n",
       "      <td>...</td>\n",
       "      <td>...</td>\n",
       "      <td>...</td>\n",
       "    </tr>\n",
       "    <tr>\n",
       "      <th>95</th>\n",
       "      <td>E096</td>\n",
       "      <td>Gaurav Pawar</td>\n",
       "      <td>Siddhi Rathod</td>\n",
       "      <td>Engineering</td>\n",
       "      <td>Bachelor</td>\n",
       "      <td>Female</td>\n",
       "      <td>6</td>\n",
       "      <td>92906</td>\n",
       "    </tr>\n",
       "    <tr>\n",
       "      <th>96</th>\n",
       "      <td>E097</td>\n",
       "      <td>Tejas Mane</td>\n",
       "      <td>Sandeep Gore</td>\n",
       "      <td>Sales</td>\n",
       "      <td>Master</td>\n",
       "      <td>Male</td>\n",
       "      <td>8</td>\n",
       "      <td>64956</td>\n",
       "    </tr>\n",
       "    <tr>\n",
       "      <th>97</th>\n",
       "      <td>E098</td>\n",
       "      <td>Madhavi Kadam</td>\n",
       "      <td>Sandeep Rathod</td>\n",
       "      <td>Finance</td>\n",
       "      <td>PhD</td>\n",
       "      <td>Male</td>\n",
       "      <td>11</td>\n",
       "      <td>119764</td>\n",
       "    </tr>\n",
       "    <tr>\n",
       "      <th>98</th>\n",
       "      <td>E099</td>\n",
       "      <td>Neha Jadhav</td>\n",
       "      <td>Rajesh Patil</td>\n",
       "      <td>Sales</td>\n",
       "      <td>Diploma</td>\n",
       "      <td>Male</td>\n",
       "      <td>1</td>\n",
       "      <td>76522</td>\n",
       "    </tr>\n",
       "    <tr>\n",
       "      <th>99</th>\n",
       "      <td>E100</td>\n",
       "      <td>Neha Chavan</td>\n",
       "      <td>Shubham Rathod</td>\n",
       "      <td>Engineering</td>\n",
       "      <td>PhD</td>\n",
       "      <td>Female</td>\n",
       "      <td>12</td>\n",
       "      <td>63238</td>\n",
       "    </tr>\n",
       "  </tbody>\n",
       "</table>\n",
       "<p>100 rows × 8 columns</p>\n",
       "</div>"
      ],
      "text/plain": [
       "   Employee ID   Employee Name    Manager Name   Department Qualification  \\\n",
       "0         E001    Pooja Thorat  Vishal Bhosale      Finance      Bachelor   \n",
       "1         E002   Shruti Sawant   Neelam Sawant  Engineering           PhD   \n",
       "2         E003  Rupal Kulkarni   Aparna Jadhav           HR           PhD   \n",
       "3         E004    Shweta Pawar  Siddhi Bhosale        Sales           PhD   \n",
       "4         E005   Snehal Jadhav   Siddhi Rathod      Finance      Bachelor   \n",
       "..         ...             ...             ...          ...           ...   \n",
       "95        E096    Gaurav Pawar   Siddhi Rathod  Engineering      Bachelor   \n",
       "96        E097      Tejas Mane    Sandeep Gore        Sales        Master   \n",
       "97        E098   Madhavi Kadam  Sandeep Rathod      Finance           PhD   \n",
       "98        E099     Neha Jadhav    Rajesh Patil        Sales       Diploma   \n",
       "99        E100     Neha Chavan  Shubham Rathod  Engineering           PhD   \n",
       "\n",
       "    Gender  Experience  Salary  \n",
       "0   Female          18  103464  \n",
       "1     Male           9  126942  \n",
       "2     Male          14  129882  \n",
       "3     Male           2   71092  \n",
       "4   Female           8  104760  \n",
       "..     ...         ...     ...  \n",
       "95  Female           6   92906  \n",
       "96    Male           8   64956  \n",
       "97    Male          11  119764  \n",
       "98    Male           1   76522  \n",
       "99  Female          12   63238  \n",
       "\n",
       "[100 rows x 8 columns]"
      ]
     },
     "execution_count": 5,
     "metadata": {},
     "output_type": "execute_result"
    }
   ],
   "source": [
    "d1"
   ]
  },
  {
   "cell_type": "code",
   "execution_count": null,
   "id": "0f82bfcc-3bb0-4be5-a61f-8172375bbfb0",
   "metadata": {},
   "outputs": [],
   "source": [
    "# How many employees are there in each department?"
   ]
  },
  {
   "cell_type": "code",
   "execution_count": 13,
   "id": "7fb6588e-bf6b-4b15-852d-d586bba62023",
   "metadata": {},
   "outputs": [],
   "source": [
    "dep_count = d1.groupby('Department')['Employee ID'].count()"
   ]
  },
  {
   "cell_type": "code",
   "execution_count": 15,
   "id": "9f6e308c-2aa6-4d6f-8ea8-aef2a3fa2a28",
   "metadata": {},
   "outputs": [
    {
     "data": {
      "text/plain": [
       "Department\n",
       "Engineering    12\n",
       "Finance        20\n",
       "HR             13\n",
       "Marketing      18\n",
       "Operations     18\n",
       "Sales          19\n",
       "Name: Employee ID, dtype: int64"
      ]
     },
     "execution_count": 15,
     "metadata": {},
     "output_type": "execute_result"
    }
   ],
   "source": [
    "dep_count"
   ]
  },
  {
   "cell_type": "code",
   "execution_count": 17,
   "id": "184f674e-e4e4-41ee-b621-ac7182927384",
   "metadata": {},
   "outputs": [
    {
     "data": {
      "text/html": [
       "<div>\n",
       "<style scoped>\n",
       "    .dataframe tbody tr th:only-of-type {\n",
       "        vertical-align: middle;\n",
       "    }\n",
       "\n",
       "    .dataframe tbody tr th {\n",
       "        vertical-align: top;\n",
       "    }\n",
       "\n",
       "    .dataframe thead th {\n",
       "        text-align: right;\n",
       "    }\n",
       "</style>\n",
       "<table border=\"1\" class=\"dataframe\">\n",
       "  <thead>\n",
       "    <tr style=\"text-align: right;\">\n",
       "      <th></th>\n",
       "      <th>Department</th>\n",
       "      <th>Employee ID</th>\n",
       "    </tr>\n",
       "  </thead>\n",
       "  <tbody>\n",
       "    <tr>\n",
       "      <th>0</th>\n",
       "      <td>Engineering</td>\n",
       "      <td>12</td>\n",
       "    </tr>\n",
       "    <tr>\n",
       "      <th>1</th>\n",
       "      <td>Finance</td>\n",
       "      <td>20</td>\n",
       "    </tr>\n",
       "    <tr>\n",
       "      <th>2</th>\n",
       "      <td>HR</td>\n",
       "      <td>13</td>\n",
       "    </tr>\n",
       "    <tr>\n",
       "      <th>3</th>\n",
       "      <td>Marketing</td>\n",
       "      <td>18</td>\n",
       "    </tr>\n",
       "    <tr>\n",
       "      <th>4</th>\n",
       "      <td>Operations</td>\n",
       "      <td>18</td>\n",
       "    </tr>\n",
       "    <tr>\n",
       "      <th>5</th>\n",
       "      <td>Sales</td>\n",
       "      <td>19</td>\n",
       "    </tr>\n",
       "  </tbody>\n",
       "</table>\n",
       "</div>"
      ],
      "text/plain": [
       "    Department  Employee ID\n",
       "0  Engineering           12\n",
       "1      Finance           20\n",
       "2           HR           13\n",
       "3    Marketing           18\n",
       "4   Operations           18\n",
       "5        Sales           19"
      ]
     },
     "execution_count": 17,
     "metadata": {},
     "output_type": "execute_result"
    }
   ],
   "source": [
    "dep_count.reset_index()"
   ]
  },
  {
   "cell_type": "code",
   "execution_count": 21,
   "id": "8e318af2-f1eb-4553-90ff-b6e74a7ea5de",
   "metadata": {},
   "outputs": [
    {
     "data": {
      "text/html": [
       "<div>\n",
       "<style scoped>\n",
       "    .dataframe tbody tr th:only-of-type {\n",
       "        vertical-align: middle;\n",
       "    }\n",
       "\n",
       "    .dataframe tbody tr th {\n",
       "        vertical-align: top;\n",
       "    }\n",
       "\n",
       "    .dataframe thead th {\n",
       "        text-align: right;\n",
       "    }\n",
       "</style>\n",
       "<table border=\"1\" class=\"dataframe\">\n",
       "  <thead>\n",
       "    <tr style=\"text-align: right;\">\n",
       "      <th></th>\n",
       "      <th>Department</th>\n",
       "      <th>Salary</th>\n",
       "    </tr>\n",
       "  </thead>\n",
       "  <tbody>\n",
       "    <tr>\n",
       "      <th>0</th>\n",
       "      <td>Engineering</td>\n",
       "      <td>111970.833333</td>\n",
       "    </tr>\n",
       "    <tr>\n",
       "      <th>1</th>\n",
       "      <td>Finance</td>\n",
       "      <td>104037.800000</td>\n",
       "    </tr>\n",
       "    <tr>\n",
       "      <th>2</th>\n",
       "      <td>HR</td>\n",
       "      <td>101945.076923</td>\n",
       "    </tr>\n",
       "    <tr>\n",
       "      <th>3</th>\n",
       "      <td>Marketing</td>\n",
       "      <td>99690.500000</td>\n",
       "    </tr>\n",
       "    <tr>\n",
       "      <th>4</th>\n",
       "      <td>Operations</td>\n",
       "      <td>86655.500000</td>\n",
       "    </tr>\n",
       "    <tr>\n",
       "      <th>5</th>\n",
       "      <td>Sales</td>\n",
       "      <td>84412.263158</td>\n",
       "    </tr>\n",
       "  </tbody>\n",
       "</table>\n",
       "</div>"
      ],
      "text/plain": [
       "    Department         Salary\n",
       "0  Engineering  111970.833333\n",
       "1      Finance  104037.800000\n",
       "2           HR  101945.076923\n",
       "3    Marketing   99690.500000\n",
       "4   Operations   86655.500000\n",
       "5        Sales   84412.263158"
      ]
     },
     "execution_count": 21,
     "metadata": {},
     "output_type": "execute_result"
    }
   ],
   "source": [
    "d1.groupby('Department')['Salary'].mean().reset_index()"
   ]
  },
  {
   "cell_type": "code",
   "execution_count": null,
   "id": "8b7a2ef6-a63c-480e-b5f1-a8b6424272be",
   "metadata": {},
   "outputs": [],
   "source": [
    "# unique"
   ]
  },
  {
   "cell_type": "code",
   "execution_count": 29,
   "id": "f0984ffc-1ed9-443a-8910-c0b50589775f",
   "metadata": {},
   "outputs": [
    {
     "data": {
      "text/plain": [
       "array(['Female', 'Male'], dtype=object)"
      ]
     },
     "execution_count": 29,
     "metadata": {},
     "output_type": "execute_result"
    }
   ],
   "source": [
    "d1['Gender'].unique()"
   ]
  },
  {
   "cell_type": "code",
   "execution_count": null,
   "id": "3b9a2155-89ff-4d18-9f1e-9559f05b3a70",
   "metadata": {},
   "outputs": [],
   "source": [
    "# nuinque"
   ]
  },
  {
   "cell_type": "code",
   "execution_count": 31,
   "id": "3628e2c9-969b-45c6-8f8d-21c006e88c4c",
   "metadata": {},
   "outputs": [
    {
     "data": {
      "text/plain": [
       "2"
      ]
     },
     "execution_count": 31,
     "metadata": {},
     "output_type": "execute_result"
    }
   ],
   "source": [
    "d1['Gender'].nunique()"
   ]
  },
  {
   "cell_type": "code",
   "execution_count": 33,
   "id": "8921e773-7a68-47af-95b2-d628b0577ede",
   "metadata": {},
   "outputs": [
    {
     "data": {
      "text/html": [
       "<div>\n",
       "<style scoped>\n",
       "    .dataframe tbody tr th:only-of-type {\n",
       "        vertical-align: middle;\n",
       "    }\n",
       "\n",
       "    .dataframe tbody tr th {\n",
       "        vertical-align: top;\n",
       "    }\n",
       "\n",
       "    .dataframe thead th {\n",
       "        text-align: right;\n",
       "    }\n",
       "</style>\n",
       "<table border=\"1\" class=\"dataframe\">\n",
       "  <thead>\n",
       "    <tr style=\"text-align: right;\">\n",
       "      <th></th>\n",
       "      <th>Gender</th>\n",
       "      <th>Employee ID</th>\n",
       "    </tr>\n",
       "  </thead>\n",
       "  <tbody>\n",
       "    <tr>\n",
       "      <th>0</th>\n",
       "      <td>Female</td>\n",
       "      <td>44</td>\n",
       "    </tr>\n",
       "    <tr>\n",
       "      <th>1</th>\n",
       "      <td>Male</td>\n",
       "      <td>56</td>\n",
       "    </tr>\n",
       "  </tbody>\n",
       "</table>\n",
       "</div>"
      ],
      "text/plain": [
       "   Gender  Employee ID\n",
       "0  Female           44\n",
       "1    Male           56"
      ]
     },
     "execution_count": 33,
     "metadata": {},
     "output_type": "execute_result"
    }
   ],
   "source": [
    "d1.groupby('Gender')['Employee ID'].count().reset_index()"
   ]
  },
  {
   "cell_type": "code",
   "execution_count": 41,
   "id": "06b52baa-b6ad-4a09-9d28-40d8078af9ee",
   "metadata": {},
   "outputs": [
    {
     "data": {
      "text/html": [
       "<div>\n",
       "<style scoped>\n",
       "    .dataframe tbody tr th:only-of-type {\n",
       "        vertical-align: middle;\n",
       "    }\n",
       "\n",
       "    .dataframe tbody tr th {\n",
       "        vertical-align: top;\n",
       "    }\n",
       "\n",
       "    .dataframe thead th {\n",
       "        text-align: right;\n",
       "    }\n",
       "</style>\n",
       "<table border=\"1\" class=\"dataframe\">\n",
       "  <thead>\n",
       "    <tr style=\"text-align: right;\">\n",
       "      <th></th>\n",
       "      <th>Gender</th>\n",
       "      <th>Department</th>\n",
       "      <th>Employee ID</th>\n",
       "    </tr>\n",
       "  </thead>\n",
       "  <tbody>\n",
       "    <tr>\n",
       "      <th>0</th>\n",
       "      <td>Female</td>\n",
       "      <td>Engineering</td>\n",
       "      <td>7</td>\n",
       "    </tr>\n",
       "    <tr>\n",
       "      <th>1</th>\n",
       "      <td>Female</td>\n",
       "      <td>Finance</td>\n",
       "      <td>7</td>\n",
       "    </tr>\n",
       "    <tr>\n",
       "      <th>2</th>\n",
       "      <td>Female</td>\n",
       "      <td>HR</td>\n",
       "      <td>5</td>\n",
       "    </tr>\n",
       "    <tr>\n",
       "      <th>3</th>\n",
       "      <td>Female</td>\n",
       "      <td>Marketing</td>\n",
       "      <td>7</td>\n",
       "    </tr>\n",
       "    <tr>\n",
       "      <th>4</th>\n",
       "      <td>Female</td>\n",
       "      <td>Operations</td>\n",
       "      <td>12</td>\n",
       "    </tr>\n",
       "    <tr>\n",
       "      <th>5</th>\n",
       "      <td>Female</td>\n",
       "      <td>Sales</td>\n",
       "      <td>6</td>\n",
       "    </tr>\n",
       "    <tr>\n",
       "      <th>6</th>\n",
       "      <td>Male</td>\n",
       "      <td>Engineering</td>\n",
       "      <td>5</td>\n",
       "    </tr>\n",
       "    <tr>\n",
       "      <th>7</th>\n",
       "      <td>Male</td>\n",
       "      <td>Finance</td>\n",
       "      <td>13</td>\n",
       "    </tr>\n",
       "    <tr>\n",
       "      <th>8</th>\n",
       "      <td>Male</td>\n",
       "      <td>HR</td>\n",
       "      <td>8</td>\n",
       "    </tr>\n",
       "    <tr>\n",
       "      <th>9</th>\n",
       "      <td>Male</td>\n",
       "      <td>Marketing</td>\n",
       "      <td>11</td>\n",
       "    </tr>\n",
       "    <tr>\n",
       "      <th>10</th>\n",
       "      <td>Male</td>\n",
       "      <td>Operations</td>\n",
       "      <td>6</td>\n",
       "    </tr>\n",
       "    <tr>\n",
       "      <th>11</th>\n",
       "      <td>Male</td>\n",
       "      <td>Sales</td>\n",
       "      <td>13</td>\n",
       "    </tr>\n",
       "  </tbody>\n",
       "</table>\n",
       "</div>"
      ],
      "text/plain": [
       "    Gender   Department  Employee ID\n",
       "0   Female  Engineering            7\n",
       "1   Female      Finance            7\n",
       "2   Female           HR            5\n",
       "3   Female    Marketing            7\n",
       "4   Female   Operations           12\n",
       "5   Female        Sales            6\n",
       "6     Male  Engineering            5\n",
       "7     Male      Finance           13\n",
       "8     Male           HR            8\n",
       "9     Male    Marketing           11\n",
       "10    Male   Operations            6\n",
       "11    Male        Sales           13"
      ]
     },
     "execution_count": 41,
     "metadata": {},
     "output_type": "execute_result"
    }
   ],
   "source": [
    "d1.groupby(['Gender','Department'])['Employee ID'].count().reset_index()"
   ]
  },
  {
   "cell_type": "code",
   "execution_count": null,
   "id": "af2f168f-5efd-4e85-81c2-6e41e7f50ef0",
   "metadata": {},
   "outputs": [],
   "source": [
    "# What is the average salary for each gender?"
   ]
  },
  {
   "cell_type": "code",
   "execution_count": 47,
   "id": "143566d2-67d9-468e-a30e-b813bc78acbc",
   "metadata": {},
   "outputs": [
    {
     "data": {
      "text/html": [
       "<div>\n",
       "<style scoped>\n",
       "    .dataframe tbody tr th:only-of-type {\n",
       "        vertical-align: middle;\n",
       "    }\n",
       "\n",
       "    .dataframe tbody tr th {\n",
       "        vertical-align: top;\n",
       "    }\n",
       "\n",
       "    .dataframe thead th {\n",
       "        text-align: right;\n",
       "    }\n",
       "</style>\n",
       "<table border=\"1\" class=\"dataframe\">\n",
       "  <thead>\n",
       "    <tr style=\"text-align: right;\">\n",
       "      <th></th>\n",
       "      <th>Gender</th>\n",
       "      <th>Salary</th>\n",
       "    </tr>\n",
       "  </thead>\n",
       "  <tbody>\n",
       "    <tr>\n",
       "      <th>0</th>\n",
       "      <td>Female</td>\n",
       "      <td>95179.977273</td>\n",
       "    </tr>\n",
       "    <tr>\n",
       "      <th>1</th>\n",
       "      <td>Male</td>\n",
       "      <td>98568.464286</td>\n",
       "    </tr>\n",
       "  </tbody>\n",
       "</table>\n",
       "</div>"
      ],
      "text/plain": [
       "   Gender        Salary\n",
       "0  Female  95179.977273\n",
       "1    Male  98568.464286"
      ]
     },
     "execution_count": 47,
     "metadata": {},
     "output_type": "execute_result"
    }
   ],
   "source": [
    "d1.groupby('Gender')[\"Salary\"].mean().reset_index()"
   ]
  },
  {
   "cell_type": "code",
   "execution_count": 55,
   "id": "664016ac-49cb-4f57-8590-64678021fe83",
   "metadata": {},
   "outputs": [],
   "source": [
    "x=d1.groupby(['Gender','Department'])[\"Salary\"].mean().reset_index()"
   ]
  },
  {
   "cell_type": "code",
   "execution_count": 57,
   "id": "d42e0654-554f-460e-8448-3e95ab5c4cd4",
   "metadata": {},
   "outputs": [
    {
     "data": {
      "text/html": [
       "<div>\n",
       "<style scoped>\n",
       "    .dataframe tbody tr th:only-of-type {\n",
       "        vertical-align: middle;\n",
       "    }\n",
       "\n",
       "    .dataframe tbody tr th {\n",
       "        vertical-align: top;\n",
       "    }\n",
       "\n",
       "    .dataframe thead th {\n",
       "        text-align: right;\n",
       "    }\n",
       "</style>\n",
       "<table border=\"1\" class=\"dataframe\">\n",
       "  <thead>\n",
       "    <tr style=\"text-align: right;\">\n",
       "      <th></th>\n",
       "      <th>Gender</th>\n",
       "      <th>Department</th>\n",
       "      <th>Salary</th>\n",
       "    </tr>\n",
       "  </thead>\n",
       "  <tbody>\n",
       "    <tr>\n",
       "      <th>0</th>\n",
       "      <td>Female</td>\n",
       "      <td>Engineering</td>\n",
       "      <td>104965.000000</td>\n",
       "    </tr>\n",
       "    <tr>\n",
       "      <th>1</th>\n",
       "      <td>Female</td>\n",
       "      <td>Finance</td>\n",
       "      <td>100104.428571</td>\n",
       "    </tr>\n",
       "    <tr>\n",
       "      <th>2</th>\n",
       "      <td>Female</td>\n",
       "      <td>HR</td>\n",
       "      <td>101190.600000</td>\n",
       "    </tr>\n",
       "    <tr>\n",
       "      <th>3</th>\n",
       "      <td>Female</td>\n",
       "      <td>Marketing</td>\n",
       "      <td>102852.714286</td>\n",
       "    </tr>\n",
       "    <tr>\n",
       "      <th>4</th>\n",
       "      <td>Female</td>\n",
       "      <td>Operations</td>\n",
       "      <td>91468.666667</td>\n",
       "    </tr>\n",
       "    <tr>\n",
       "      <th>5</th>\n",
       "      <td>Female</td>\n",
       "      <td>Sales</td>\n",
       "      <td>71481.166667</td>\n",
       "    </tr>\n",
       "    <tr>\n",
       "      <th>6</th>\n",
       "      <td>Male</td>\n",
       "      <td>Engineering</td>\n",
       "      <td>121779.000000</td>\n",
       "    </tr>\n",
       "    <tr>\n",
       "      <th>7</th>\n",
       "      <td>Male</td>\n",
       "      <td>Finance</td>\n",
       "      <td>106155.769231</td>\n",
       "    </tr>\n",
       "    <tr>\n",
       "      <th>8</th>\n",
       "      <td>Male</td>\n",
       "      <td>HR</td>\n",
       "      <td>102416.625000</td>\n",
       "    </tr>\n",
       "    <tr>\n",
       "      <th>9</th>\n",
       "      <td>Male</td>\n",
       "      <td>Marketing</td>\n",
       "      <td>97678.181818</td>\n",
       "    </tr>\n",
       "    <tr>\n",
       "      <th>10</th>\n",
       "      <td>Male</td>\n",
       "      <td>Operations</td>\n",
       "      <td>77029.166667</td>\n",
       "    </tr>\n",
       "    <tr>\n",
       "      <th>11</th>\n",
       "      <td>Male</td>\n",
       "      <td>Sales</td>\n",
       "      <td>90380.461538</td>\n",
       "    </tr>\n",
       "  </tbody>\n",
       "</table>\n",
       "</div>"
      ],
      "text/plain": [
       "    Gender   Department         Salary\n",
       "0   Female  Engineering  104965.000000\n",
       "1   Female      Finance  100104.428571\n",
       "2   Female           HR  101190.600000\n",
       "3   Female    Marketing  102852.714286\n",
       "4   Female   Operations   91468.666667\n",
       "5   Female        Sales   71481.166667\n",
       "6     Male  Engineering  121779.000000\n",
       "7     Male      Finance  106155.769231\n",
       "8     Male           HR  102416.625000\n",
       "9     Male    Marketing   97678.181818\n",
       "10    Male   Operations   77029.166667\n",
       "11    Male        Sales   90380.461538"
      ]
     },
     "execution_count": 57,
     "metadata": {},
     "output_type": "execute_result"
    }
   ],
   "source": [
    "x"
   ]
  },
  {
   "cell_type": "code",
   "execution_count": null,
   "id": "35034508-db83-455a-9160-55c549a9390b",
   "metadata": {},
   "outputs": [],
   "source": [
    "# What is the average salary for employees in each depar"
   ]
  },
  {
   "cell_type": "code",
   "execution_count": 59,
   "id": "6889d456-783e-404b-bf1e-1cfb753156d7",
   "metadata": {},
   "outputs": [],
   "source": [
    "x1=d1.groupby('Department')[\"Salary\"].mean().reset_index()"
   ]
  },
  {
   "cell_type": "code",
   "execution_count": 61,
   "id": "39548b10-d455-4d0b-abd1-ccc63be14cd9",
   "metadata": {},
   "outputs": [
    {
     "data": {
      "text/html": [
       "<div>\n",
       "<style scoped>\n",
       "    .dataframe tbody tr th:only-of-type {\n",
       "        vertical-align: middle;\n",
       "    }\n",
       "\n",
       "    .dataframe tbody tr th {\n",
       "        vertical-align: top;\n",
       "    }\n",
       "\n",
       "    .dataframe thead th {\n",
       "        text-align: right;\n",
       "    }\n",
       "</style>\n",
       "<table border=\"1\" class=\"dataframe\">\n",
       "  <thead>\n",
       "    <tr style=\"text-align: right;\">\n",
       "      <th></th>\n",
       "      <th>Department</th>\n",
       "      <th>Salary</th>\n",
       "    </tr>\n",
       "  </thead>\n",
       "  <tbody>\n",
       "    <tr>\n",
       "      <th>0</th>\n",
       "      <td>Engineering</td>\n",
       "      <td>111970.833333</td>\n",
       "    </tr>\n",
       "    <tr>\n",
       "      <th>1</th>\n",
       "      <td>Finance</td>\n",
       "      <td>104037.800000</td>\n",
       "    </tr>\n",
       "    <tr>\n",
       "      <th>2</th>\n",
       "      <td>HR</td>\n",
       "      <td>101945.076923</td>\n",
       "    </tr>\n",
       "    <tr>\n",
       "      <th>3</th>\n",
       "      <td>Marketing</td>\n",
       "      <td>99690.500000</td>\n",
       "    </tr>\n",
       "    <tr>\n",
       "      <th>4</th>\n",
       "      <td>Operations</td>\n",
       "      <td>86655.500000</td>\n",
       "    </tr>\n",
       "    <tr>\n",
       "      <th>5</th>\n",
       "      <td>Sales</td>\n",
       "      <td>84412.263158</td>\n",
       "    </tr>\n",
       "  </tbody>\n",
       "</table>\n",
       "</div>"
      ],
      "text/plain": [
       "    Department         Salary\n",
       "0  Engineering  111970.833333\n",
       "1      Finance  104037.800000\n",
       "2           HR  101945.076923\n",
       "3    Marketing   99690.500000\n",
       "4   Operations   86655.500000\n",
       "5        Sales   84412.263158"
      ]
     },
     "execution_count": 61,
     "metadata": {},
     "output_type": "execute_result"
    }
   ],
   "source": [
    "x1"
   ]
  },
  {
   "cell_type": "code",
   "execution_count": 63,
   "id": "1f9b66a4-42f0-41dd-b735-38d08908f150",
   "metadata": {},
   "outputs": [],
   "source": [
    "x1=d1.groupby('Department')[\"Salary\"].sum().reset_index()"
   ]
  },
  {
   "cell_type": "code",
   "execution_count": 65,
   "id": "1faaab01-f383-4109-9d9b-c1e130990444",
   "metadata": {},
   "outputs": [
    {
     "data": {
      "text/html": [
       "<div>\n",
       "<style scoped>\n",
       "    .dataframe tbody tr th:only-of-type {\n",
       "        vertical-align: middle;\n",
       "    }\n",
       "\n",
       "    .dataframe tbody tr th {\n",
       "        vertical-align: top;\n",
       "    }\n",
       "\n",
       "    .dataframe thead th {\n",
       "        text-align: right;\n",
       "    }\n",
       "</style>\n",
       "<table border=\"1\" class=\"dataframe\">\n",
       "  <thead>\n",
       "    <tr style=\"text-align: right;\">\n",
       "      <th></th>\n",
       "      <th>Department</th>\n",
       "      <th>Salary</th>\n",
       "    </tr>\n",
       "  </thead>\n",
       "  <tbody>\n",
       "    <tr>\n",
       "      <th>0</th>\n",
       "      <td>Engineering</td>\n",
       "      <td>1343650</td>\n",
       "    </tr>\n",
       "    <tr>\n",
       "      <th>1</th>\n",
       "      <td>Finance</td>\n",
       "      <td>2080756</td>\n",
       "    </tr>\n",
       "    <tr>\n",
       "      <th>2</th>\n",
       "      <td>HR</td>\n",
       "      <td>1325286</td>\n",
       "    </tr>\n",
       "    <tr>\n",
       "      <th>3</th>\n",
       "      <td>Marketing</td>\n",
       "      <td>1794429</td>\n",
       "    </tr>\n",
       "    <tr>\n",
       "      <th>4</th>\n",
       "      <td>Operations</td>\n",
       "      <td>1559799</td>\n",
       "    </tr>\n",
       "    <tr>\n",
       "      <th>5</th>\n",
       "      <td>Sales</td>\n",
       "      <td>1603833</td>\n",
       "    </tr>\n",
       "  </tbody>\n",
       "</table>\n",
       "</div>"
      ],
      "text/plain": [
       "    Department   Salary\n",
       "0  Engineering  1343650\n",
       "1      Finance  2080756\n",
       "2           HR  1325286\n",
       "3    Marketing  1794429\n",
       "4   Operations  1559799\n",
       "5        Sales  1603833"
      ]
     },
     "execution_count": 65,
     "metadata": {},
     "output_type": "execute_result"
    }
   ],
   "source": [
    "x1"
   ]
  },
  {
   "cell_type": "code",
   "execution_count": 67,
   "id": "f4be9be8-91ba-48fd-8353-18436477fbc2",
   "metadata": {},
   "outputs": [],
   "source": [
    "x1=d1.groupby('Department')[\"Salary\"].count()"
   ]
  },
  {
   "cell_type": "code",
   "execution_count": 69,
   "id": "fd22f613-ab11-4413-b66e-cf9e13eaa8bd",
   "metadata": {},
   "outputs": [
    {
     "data": {
      "text/plain": [
       "Department\n",
       "Engineering    12\n",
       "Finance        20\n",
       "HR             13\n",
       "Marketing      18\n",
       "Operations     18\n",
       "Sales          19\n",
       "Name: Salary, dtype: int64"
      ]
     },
     "execution_count": 69,
     "metadata": {},
     "output_type": "execute_result"
    }
   ],
   "source": [
    "x1"
   ]
  },
  {
   "cell_type": "code",
   "execution_count": 75,
   "id": "b2edefba-a527-40eb-849b-9ce60e688ba6",
   "metadata": {},
   "outputs": [],
   "source": [
    "k=d1.groupby('Department').agg({'Salary':'mean','Experience':'mean'})"
   ]
  },
  {
   "cell_type": "code",
   "execution_count": 77,
   "id": "d88082d9-6d3f-45d9-8c07-c65053e9e28b",
   "metadata": {},
   "outputs": [
    {
     "data": {
      "text/html": [
       "<div>\n",
       "<style scoped>\n",
       "    .dataframe tbody tr th:only-of-type {\n",
       "        vertical-align: middle;\n",
       "    }\n",
       "\n",
       "    .dataframe tbody tr th {\n",
       "        vertical-align: top;\n",
       "    }\n",
       "\n",
       "    .dataframe thead th {\n",
       "        text-align: right;\n",
       "    }\n",
       "</style>\n",
       "<table border=\"1\" class=\"dataframe\">\n",
       "  <thead>\n",
       "    <tr style=\"text-align: right;\">\n",
       "      <th></th>\n",
       "      <th>Salary</th>\n",
       "      <th>Experience</th>\n",
       "    </tr>\n",
       "    <tr>\n",
       "      <th>Department</th>\n",
       "      <th></th>\n",
       "      <th></th>\n",
       "    </tr>\n",
       "  </thead>\n",
       "  <tbody>\n",
       "    <tr>\n",
       "      <th>Engineering</th>\n",
       "      <td>111970.833333</td>\n",
       "      <td>12.166667</td>\n",
       "    </tr>\n",
       "    <tr>\n",
       "      <th>Finance</th>\n",
       "      <td>104037.800000</td>\n",
       "      <td>13.500000</td>\n",
       "    </tr>\n",
       "    <tr>\n",
       "      <th>HR</th>\n",
       "      <td>101945.076923</td>\n",
       "      <td>11.230769</td>\n",
       "    </tr>\n",
       "    <tr>\n",
       "      <th>Marketing</th>\n",
       "      <td>99690.500000</td>\n",
       "      <td>12.111111</td>\n",
       "    </tr>\n",
       "    <tr>\n",
       "      <th>Operations</th>\n",
       "      <td>86655.500000</td>\n",
       "      <td>11.833333</td>\n",
       "    </tr>\n",
       "    <tr>\n",
       "      <th>Sales</th>\n",
       "      <td>84412.263158</td>\n",
       "      <td>12.210526</td>\n",
       "    </tr>\n",
       "  </tbody>\n",
       "</table>\n",
       "</div>"
      ],
      "text/plain": [
       "                    Salary  Experience\n",
       "Department                            \n",
       "Engineering  111970.833333   12.166667\n",
       "Finance      104037.800000   13.500000\n",
       "HR           101945.076923   11.230769\n",
       "Marketing     99690.500000   12.111111\n",
       "Operations    86655.500000   11.833333\n",
       "Sales         84412.263158   12.210526"
      ]
     },
     "execution_count": 77,
     "metadata": {},
     "output_type": "execute_result"
    }
   ],
   "source": [
    "k"
   ]
  },
  {
   "cell_type": "code",
   "execution_count": 83,
   "id": "b2486b7f-e7f8-491e-b333-17f2e93f4bb0",
   "metadata": {},
   "outputs": [],
   "source": [
    "k=d1.groupby('Department').agg({'Salary':['mean','sum','count'],'Experience':['mean','count']})"
   ]
  },
  {
   "cell_type": "code",
   "execution_count": 85,
   "id": "eda83700-9fd4-4a79-ada4-02af1725c26c",
   "metadata": {},
   "outputs": [
    {
     "data": {
      "text/html": [
       "<div>\n",
       "<style scoped>\n",
       "    .dataframe tbody tr th:only-of-type {\n",
       "        vertical-align: middle;\n",
       "    }\n",
       "\n",
       "    .dataframe tbody tr th {\n",
       "        vertical-align: top;\n",
       "    }\n",
       "\n",
       "    .dataframe thead tr th {\n",
       "        text-align: left;\n",
       "    }\n",
       "\n",
       "    .dataframe thead tr:last-of-type th {\n",
       "        text-align: right;\n",
       "    }\n",
       "</style>\n",
       "<table border=\"1\" class=\"dataframe\">\n",
       "  <thead>\n",
       "    <tr>\n",
       "      <th></th>\n",
       "      <th colspan=\"3\" halign=\"left\">Salary</th>\n",
       "      <th colspan=\"2\" halign=\"left\">Experience</th>\n",
       "    </tr>\n",
       "    <tr>\n",
       "      <th></th>\n",
       "      <th>mean</th>\n",
       "      <th>sum</th>\n",
       "      <th>count</th>\n",
       "      <th>mean</th>\n",
       "      <th>count</th>\n",
       "    </tr>\n",
       "    <tr>\n",
       "      <th>Department</th>\n",
       "      <th></th>\n",
       "      <th></th>\n",
       "      <th></th>\n",
       "      <th></th>\n",
       "      <th></th>\n",
       "    </tr>\n",
       "  </thead>\n",
       "  <tbody>\n",
       "    <tr>\n",
       "      <th>Engineering</th>\n",
       "      <td>111970.833333</td>\n",
       "      <td>1343650</td>\n",
       "      <td>12</td>\n",
       "      <td>12.166667</td>\n",
       "      <td>12</td>\n",
       "    </tr>\n",
       "    <tr>\n",
       "      <th>Finance</th>\n",
       "      <td>104037.800000</td>\n",
       "      <td>2080756</td>\n",
       "      <td>20</td>\n",
       "      <td>13.500000</td>\n",
       "      <td>20</td>\n",
       "    </tr>\n",
       "    <tr>\n",
       "      <th>HR</th>\n",
       "      <td>101945.076923</td>\n",
       "      <td>1325286</td>\n",
       "      <td>13</td>\n",
       "      <td>11.230769</td>\n",
       "      <td>13</td>\n",
       "    </tr>\n",
       "    <tr>\n",
       "      <th>Marketing</th>\n",
       "      <td>99690.500000</td>\n",
       "      <td>1794429</td>\n",
       "      <td>18</td>\n",
       "      <td>12.111111</td>\n",
       "      <td>18</td>\n",
       "    </tr>\n",
       "    <tr>\n",
       "      <th>Operations</th>\n",
       "      <td>86655.500000</td>\n",
       "      <td>1559799</td>\n",
       "      <td>18</td>\n",
       "      <td>11.833333</td>\n",
       "      <td>18</td>\n",
       "    </tr>\n",
       "    <tr>\n",
       "      <th>Sales</th>\n",
       "      <td>84412.263158</td>\n",
       "      <td>1603833</td>\n",
       "      <td>19</td>\n",
       "      <td>12.210526</td>\n",
       "      <td>19</td>\n",
       "    </tr>\n",
       "  </tbody>\n",
       "</table>\n",
       "</div>"
      ],
      "text/plain": [
       "                    Salary                Experience      \n",
       "                      mean      sum count       mean count\n",
       "Department                                                \n",
       "Engineering  111970.833333  1343650    12  12.166667    12\n",
       "Finance      104037.800000  2080756    20  13.500000    20\n",
       "HR           101945.076923  1325286    13  11.230769    13\n",
       "Marketing     99690.500000  1794429    18  12.111111    18\n",
       "Operations    86655.500000  1559799    18  11.833333    18\n",
       "Sales         84412.263158  1603833    19  12.210526    19"
      ]
     },
     "execution_count": 85,
     "metadata": {},
     "output_type": "execute_result"
    }
   ],
   "source": [
    "k"
   ]
  },
  {
   "cell_type": "code",
   "execution_count": 89,
   "id": "2ce5e503-9185-4b25-854b-5754108266cc",
   "metadata": {},
   "outputs": [
    {
     "data": {
      "text/plain": [
       "array(['Finance', 'Engineering', 'HR', 'Sales', 'Operations', 'Marketing'],\n",
       "      dtype=object)"
      ]
     },
     "execution_count": 89,
     "metadata": {},
     "output_type": "execute_result"
    }
   ],
   "source": [
    "d1['Department'].unique()\n"
   ]
  },
  {
   "cell_type": "code",
   "execution_count": 91,
   "id": "baeea1aa-9583-48d3-8ed3-118bc9333a4e",
   "metadata": {},
   "outputs": [
    {
     "data": {
      "text/plain": [
       "array(['Bachelor', 'PhD', 'Diploma', 'Master'], dtype=object)"
      ]
     },
     "execution_count": 91,
     "metadata": {},
     "output_type": "execute_result"
    }
   ],
   "source": [
    "d1['Qualification'].unique()"
   ]
  },
  {
   "cell_type": "code",
   "execution_count": 95,
   "id": "d2d11289-e0ac-4788-9858-bd086c991464",
   "metadata": {},
   "outputs": [
    {
     "data": {
      "text/html": [
       "<div>\n",
       "<style scoped>\n",
       "    .dataframe tbody tr th:only-of-type {\n",
       "        vertical-align: middle;\n",
       "    }\n",
       "\n",
       "    .dataframe tbody tr th {\n",
       "        vertical-align: top;\n",
       "    }\n",
       "\n",
       "    .dataframe thead th {\n",
       "        text-align: right;\n",
       "    }\n",
       "</style>\n",
       "<table border=\"1\" class=\"dataframe\">\n",
       "  <thead>\n",
       "    <tr style=\"text-align: right;\">\n",
       "      <th></th>\n",
       "      <th>Qualification</th>\n",
       "      <th>count</th>\n",
       "    </tr>\n",
       "  </thead>\n",
       "  <tbody>\n",
       "    <tr>\n",
       "      <th>0</th>\n",
       "      <td>PhD</td>\n",
       "      <td>37</td>\n",
       "    </tr>\n",
       "    <tr>\n",
       "      <th>1</th>\n",
       "      <td>Bachelor</td>\n",
       "      <td>23</td>\n",
       "    </tr>\n",
       "    <tr>\n",
       "      <th>2</th>\n",
       "      <td>Diploma</td>\n",
       "      <td>20</td>\n",
       "    </tr>\n",
       "    <tr>\n",
       "      <th>3</th>\n",
       "      <td>Master</td>\n",
       "      <td>20</td>\n",
       "    </tr>\n",
       "  </tbody>\n",
       "</table>\n",
       "</div>"
      ],
      "text/plain": [
       "  Qualification  count\n",
       "0           PhD     37\n",
       "1      Bachelor     23\n",
       "2       Diploma     20\n",
       "3        Master     20"
      ]
     },
     "execution_count": 95,
     "metadata": {},
     "output_type": "execute_result"
    }
   ],
   "source": [
    "#Returns the count of unique values in a column\n",
    "d1['Qualification'].value_counts().reset_index()"
   ]
  },
  {
   "cell_type": "code",
   "execution_count": 97,
   "id": "f7a9a0ce-e179-4eae-be0b-e54540cce2fb",
   "metadata": {},
   "outputs": [
    {
     "data": {
      "text/plain": [
       "0       POOJA THORAT\n",
       "1      SHRUTI SAWANT\n",
       "2     RUPAL KULKARNI\n",
       "3       SHWETA PAWAR\n",
       "4      SNEHAL JADHAV\n",
       "           ...      \n",
       "95      GAURAV PAWAR\n",
       "96        TEJAS MANE\n",
       "97     MADHAVI KADAM\n",
       "98       NEHA JADHAV\n",
       "99       NEHA CHAVAN\n",
       "Name: Employee Name, Length: 100, dtype: object"
      ]
     },
     "execution_count": 97,
     "metadata": {},
     "output_type": "execute_result"
    }
   ],
   "source": [
    "d1['Employee Name'].str.upper()"
   ]
  },
  {
   "cell_type": "code",
   "execution_count": 101,
   "id": "e8dd31b5-2798-4b95-87bd-970599d3213d",
   "metadata": {},
   "outputs": [
    {
     "data": {
      "text/plain": [
       "0     vishal bhosale\n",
       "1      neelam sawant\n",
       "2      aparna jadhav\n",
       "3     siddhi bhosale\n",
       "4      siddhi rathod\n",
       "           ...      \n",
       "95     siddhi rathod\n",
       "96      sandeep gore\n",
       "97    sandeep rathod\n",
       "98      rajesh patil\n",
       "99    shubham rathod\n",
       "Name: Manager Name, Length: 100, dtype: object"
      ]
     },
     "execution_count": 101,
     "metadata": {},
     "output_type": "execute_result"
    }
   ],
   "source": [
    "d1['Manager Name'].str.lower()"
   ]
  },
  {
   "cell_type": "code",
   "execution_count": 103,
   "id": "55c1dab1-1db6-4dd8-bfa9-c80bef6d8dde",
   "metadata": {},
   "outputs": [
    {
     "data": {
      "text/html": [
       "<div>\n",
       "<style scoped>\n",
       "    .dataframe tbody tr th:only-of-type {\n",
       "        vertical-align: middle;\n",
       "    }\n",
       "\n",
       "    .dataframe tbody tr th {\n",
       "        vertical-align: top;\n",
       "    }\n",
       "\n",
       "    .dataframe thead th {\n",
       "        text-align: right;\n",
       "    }\n",
       "</style>\n",
       "<table border=\"1\" class=\"dataframe\">\n",
       "  <thead>\n",
       "    <tr style=\"text-align: right;\">\n",
       "      <th></th>\n",
       "      <th>Employee ID</th>\n",
       "      <th>Employee Name</th>\n",
       "      <th>Manager Name</th>\n",
       "      <th>Department</th>\n",
       "      <th>Qualification</th>\n",
       "      <th>Gender</th>\n",
       "      <th>Experience</th>\n",
       "      <th>Salary</th>\n",
       "    </tr>\n",
       "  </thead>\n",
       "  <tbody>\n",
       "    <tr>\n",
       "      <th>0</th>\n",
       "      <td>E001</td>\n",
       "      <td>Pooja Thorat</td>\n",
       "      <td>Vishal Bhosale</td>\n",
       "      <td>Finance</td>\n",
       "      <td>Bachelor</td>\n",
       "      <td>Female</td>\n",
       "      <td>18</td>\n",
       "      <td>103464</td>\n",
       "    </tr>\n",
       "    <tr>\n",
       "      <th>1</th>\n",
       "      <td>E002</td>\n",
       "      <td>Shruti Sawant</td>\n",
       "      <td>Neelam Sawant</td>\n",
       "      <td>Engineering</td>\n",
       "      <td>PhD</td>\n",
       "      <td>Male</td>\n",
       "      <td>9</td>\n",
       "      <td>126942</td>\n",
       "    </tr>\n",
       "    <tr>\n",
       "      <th>2</th>\n",
       "      <td>E003</td>\n",
       "      <td>Rupal Kulkarni</td>\n",
       "      <td>Aparna Jadhav</td>\n",
       "      <td>HR</td>\n",
       "      <td>PhD</td>\n",
       "      <td>Male</td>\n",
       "      <td>14</td>\n",
       "      <td>129882</td>\n",
       "    </tr>\n",
       "    <tr>\n",
       "      <th>3</th>\n",
       "      <td>E004</td>\n",
       "      <td>Shweta Pawar</td>\n",
       "      <td>Siddhi Bhosale</td>\n",
       "      <td>Sales</td>\n",
       "      <td>PhD</td>\n",
       "      <td>Male</td>\n",
       "      <td>2</td>\n",
       "      <td>71092</td>\n",
       "    </tr>\n",
       "    <tr>\n",
       "      <th>4</th>\n",
       "      <td>E005</td>\n",
       "      <td>Snehal Jadhav</td>\n",
       "      <td>Siddhi Rathod</td>\n",
       "      <td>Finance</td>\n",
       "      <td>Bachelor</td>\n",
       "      <td>Female</td>\n",
       "      <td>8</td>\n",
       "      <td>104760</td>\n",
       "    </tr>\n",
       "  </tbody>\n",
       "</table>\n",
       "</div>"
      ],
      "text/plain": [
       "  Employee ID   Employee Name    Manager Name   Department Qualification  \\\n",
       "0        E001    Pooja Thorat  Vishal Bhosale      Finance      Bachelor   \n",
       "1        E002   Shruti Sawant   Neelam Sawant  Engineering           PhD   \n",
       "2        E003  Rupal Kulkarni   Aparna Jadhav           HR           PhD   \n",
       "3        E004    Shweta Pawar  Siddhi Bhosale        Sales           PhD   \n",
       "4        E005   Snehal Jadhav   Siddhi Rathod      Finance      Bachelor   \n",
       "\n",
       "   Gender  Experience  Salary  \n",
       "0  Female          18  103464  \n",
       "1    Male           9  126942  \n",
       "2    Male          14  129882  \n",
       "3    Male           2   71092  \n",
       "4  Female           8  104760  "
      ]
     },
     "execution_count": 103,
     "metadata": {},
     "output_type": "execute_result"
    }
   ],
   "source": [
    "d1.head()"
   ]
  },
  {
   "cell_type": "code",
   "execution_count": 105,
   "id": "d25336fe-ef63-4189-ae5e-20d8d7d11604",
   "metadata": {},
   "outputs": [
    {
     "data": {
      "text/plain": [
       "0            Finance\n",
       "1        Engineering\n",
       "2     Human Resource\n",
       "3              Sales\n",
       "4            Finance\n",
       "           ...      \n",
       "95       Engineering\n",
       "96             Sales\n",
       "97           Finance\n",
       "98             Sales\n",
       "99       Engineering\n",
       "Name: Department, Length: 100, dtype: object"
      ]
     },
     "execution_count": 105,
     "metadata": {},
     "output_type": "execute_result"
    }
   ],
   "source": [
    "d1['Department'].str.replace('HR' , 'Human Resource')"
   ]
  },
  {
   "cell_type": "code",
   "execution_count": 107,
   "id": "f7604653-41bf-44c7-95c4-d553c38a04ac",
   "metadata": {},
   "outputs": [
    {
     "data": {
      "text/plain": [
       "0       Pooja Sharma\n",
       "1      Shruti Sawant\n",
       "2     Rupal Kulkarni\n",
       "3       Shweta Pawar\n",
       "4      Snehal Jadhav\n",
       "           ...      \n",
       "95      Gaurav Pawar\n",
       "96        Tejas Mane\n",
       "97     Madhavi Kadam\n",
       "98       Neha Jadhav\n",
       "99       Neha Chavan\n",
       "Name: Employee Name, Length: 100, dtype: object"
      ]
     },
     "execution_count": 107,
     "metadata": {},
     "output_type": "execute_result"
    }
   ],
   "source": [
    "d1['Employee Name'].str.replace('Pooja Thorat' , 'Pooja Sharma')"
   ]
  },
  {
   "cell_type": "code",
   "execution_count": null,
   "id": "56259b9e-150c-4aa9-9fa6-2d8eb31613aa",
   "metadata": {},
   "outputs": [],
   "source": []
  }
 ],
 "metadata": {
  "kernelspec": {
   "display_name": "Python 3 (ipykernel)",
   "language": "python",
   "name": "python3"
  },
  "language_info": {
   "codemirror_mode": {
    "name": "ipython",
    "version": 3
   },
   "file_extension": ".py",
   "mimetype": "text/x-python",
   "name": "python",
   "nbconvert_exporter": "python",
   "pygments_lexer": "ipython3",
   "version": "3.12.4"
  }
 },
 "nbformat": 4,
 "nbformat_minor": 5
}
