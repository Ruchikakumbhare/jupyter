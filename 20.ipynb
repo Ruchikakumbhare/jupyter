{
 "cells": [
  {
   "cell_type": "code",
   "execution_count": null,
   "id": "6643a2e9-08a9-4193-b2d5-3b97dad2054a",
   "metadata": {},
   "outputs": [],
   "source": [
    "# Function in python "
   ]
  },
  {
   "cell_type": "code",
   "execution_count": null,
   "id": "30619ac0-ad9f-4a00-984d-15f4445ce769",
   "metadata": {},
   "outputs": [],
   "source": [
    "# #keyword\n",
    "# def function_name():\n",
    "#     code"
   ]
  },
  {
   "cell_type": "code",
   "execution_count": 2,
   "id": "34626441-d69f-46f2-81d2-11d3e182ba15",
   "metadata": {},
   "outputs": [],
   "source": [
    "a = [1,2,3,4,5,6,7,8]"
   ]
  },
  {
   "cell_type": "code",
   "execution_count": 3,
   "id": "d92ca1f4-0364-416c-93c2-9bfda384a258",
   "metadata": {},
   "outputs": [
    {
     "name": "stdout",
     "output_type": "stream",
     "text": [
      "1\n",
      "2\n",
      "3\n",
      "4\n",
      "5\n",
      "6\n",
      "7\n",
      "8\n"
     ]
    }
   ],
   "source": [
    "# 1,2,3,4,5,6,7,8\n",
    "for i in a:\n",
    "    print(i)"
   ]
  },
  {
   "cell_type": "code",
   "execution_count": 4,
   "id": "615585c3-1785-4eb8-a00d-46d83bd10292",
   "metadata": {},
   "outputs": [],
   "source": [
    "even = []\n",
    "odd =[] "
   ]
  },
  {
   "cell_type": "code",
   "execution_count": 5,
   "id": "5fba9aba-4779-4166-a105-00ad77da5936",
   "metadata": {},
   "outputs": [],
   "source": [
    "a = [1,2,3,4,5,6,7,8]\n",
    "for i in a:\n",
    "    if i%2==0:\n",
    "        even.append(i)\n",
    "    else:\n",
    "        odd.append(i)"
   ]
  },
  {
   "cell_type": "code",
   "execution_count": 6,
   "id": "faf6164d-d823-4cd8-8829-f66580563746",
   "metadata": {},
   "outputs": [
    {
     "data": {
      "text/plain": [
       "[2, 4, 6, 8]"
      ]
     },
     "execution_count": 6,
     "metadata": {},
     "output_type": "execute_result"
    }
   ],
   "source": [
    "even"
   ]
  },
  {
   "cell_type": "code",
   "execution_count": 7,
   "id": "06ef9e20-f590-40b7-aafb-dd9b7992c8bc",
   "metadata": {},
   "outputs": [
    {
     "data": {
      "text/plain": [
       "[1, 3, 5, 7]"
      ]
     },
     "execution_count": 7,
     "metadata": {},
     "output_type": "execute_result"
    }
   ],
   "source": [
    "odd\n"
   ]
  },
  {
   "cell_type": "code",
   "execution_count": 8,
   "id": "3df2b08d-9928-458b-a3a4-1d2313a30d10",
   "metadata": {},
   "outputs": [],
   "source": [
    "del even"
   ]
  },
  {
   "cell_type": "code",
   "execution_count": 9,
   "id": "d14d4c98-db22-4b44-8b89-d9613fd86dfd",
   "metadata": {},
   "outputs": [
    {
     "ename": "NameError",
     "evalue": "name 'even' is not defined",
     "output_type": "error",
     "traceback": [
      "\u001b[1;31m---------------------------------------------------------------------------\u001b[0m",
      "\u001b[1;31mNameError\u001b[0m                                 Traceback (most recent call last)",
      "Cell \u001b[1;32mIn[9], line 1\u001b[0m\n\u001b[1;32m----> 1\u001b[0m even\n",
      "\u001b[1;31mNameError\u001b[0m: name 'even' is not defined"
     ]
    }
   ],
   "source": [
    "even"
   ]
  },
  {
   "cell_type": "code",
   "execution_count": 10,
   "id": "aec7c404-054e-4c9e-880c-5dba7ef79668",
   "metadata": {},
   "outputs": [],
   "source": [
    "del odd"
   ]
  },
  {
   "cell_type": "code",
   "execution_count": 12,
   "id": "5cbc5c7c-c8bb-4132-b2bd-27221c116dbe",
   "metadata": {},
   "outputs": [
    {
     "ename": "NameError",
     "evalue": "name 'odd' is not defined",
     "output_type": "error",
     "traceback": [
      "\u001b[1;31m---------------------------------------------------------------------------\u001b[0m",
      "\u001b[1;31mNameError\u001b[0m                                 Traceback (most recent call last)",
      "Cell \u001b[1;32mIn[12], line 1\u001b[0m\n\u001b[1;32m----> 1\u001b[0m odd\n",
      "\u001b[1;31mNameError\u001b[0m: name 'odd' is not defined"
     ]
    }
   ],
   "source": [
    "odd\n"
   ]
  },
  {
   "cell_type": "code",
   "execution_count": 13,
   "id": "4a2846e0-dea2-45c5-9911-170219db1db2",
   "metadata": {},
   "outputs": [],
   "source": [
    "x=[10,22,45,78,77,44,11,34,56,67,87]\n",
    "even = []\n",
    "odd = []\n",
    "for i in x:\n",
    "    if i % 2 == 0:\n",
    "        even.append(i)\n",
    "    else :\n",
    "        odd.append(i)"
   ]
  },
  {
   "cell_type": "code",
   "execution_count": 14,
   "id": "ab15f3e6-e60d-41c0-986e-df99afac01c6",
   "metadata": {},
   "outputs": [
    {
     "data": {
      "text/plain": [
       "[45, 77, 11, 67, 87]"
      ]
     },
     "execution_count": 14,
     "metadata": {},
     "output_type": "execute_result"
    }
   ],
   "source": [
    "odd"
   ]
  },
  {
   "cell_type": "code",
   "execution_count": 15,
   "id": "e92bde0c-11b5-43eb-b061-a2be878963db",
   "metadata": {},
   "outputs": [
    {
     "data": {
      "text/plain": [
       "[10, 22, 78, 44, 34, 56]"
      ]
     },
     "execution_count": 15,
     "metadata": {},
     "output_type": "execute_result"
    }
   ],
   "source": [
    "even"
   ]
  },
  {
   "cell_type": "code",
   "execution_count": 19,
   "id": "0515a82b-d93f-4bce-8674-600e9d769e53",
   "metadata": {},
   "outputs": [],
   "source": [
    "q = [1,5,6,4,7,89,90]\n",
    "even = []\n",
    "odd = []\n",
    "for x in q:\n",
    "    if x % 2 == 0 :\n",
    "        even.append(x)\n",
    "    else:\n",
    "        odd.append(x)"
   ]
  },
  {
   "cell_type": "code",
   "execution_count": 20,
   "id": "52b062ed-2006-4cf0-af48-a77337976286",
   "metadata": {},
   "outputs": [
    {
     "data": {
      "text/plain": [
       "[6, 4, 90]"
      ]
     },
     "execution_count": 20,
     "metadata": {},
     "output_type": "execute_result"
    }
   ],
   "source": [
    "even"
   ]
  },
  {
   "cell_type": "code",
   "execution_count": 21,
   "id": "a945a005-a27f-4f60-ba94-e6a826b3433c",
   "metadata": {},
   "outputs": [
    {
     "data": {
      "text/plain": [
       "[1, 5, 7, 89]"
      ]
     },
     "execution_count": 21,
     "metadata": {},
     "output_type": "execute_result"
    }
   ],
   "source": [
    "odd"
   ]
  },
  {
   "cell_type": "code",
   "execution_count": 28,
   "id": "52f932aa-d081-46c7-b0cb-6ab24f5e820a",
   "metadata": {},
   "outputs": [],
   "source": [
    "def even_odd(a):\n",
    "    even = [] \n",
    "    odd = []\n",
    "    for i in a:\n",
    "        if i%2==0:\n",
    "            even.append(i)\n",
    "        else:\n",
    "            odd.append(i)\n",
    "    print('even =>' , even , 'odd =>',odd)"
   ]
  },
  {
   "cell_type": "code",
   "execution_count": 29,
   "id": "520708a8-d42a-4aab-b30a-b2a0a69e8bcf",
   "metadata": {},
   "outputs": [
    {
     "name": "stdout",
     "output_type": "stream",
     "text": [
      "even => [2] odd => [3, 5, 7, 67, 5, 3]\n"
     ]
    }
   ],
   "source": [
    "even_odd([2,3,5,7,67,5,3])"
   ]
  },
  {
   "cell_type": "code",
   "execution_count": 30,
   "id": "24f8f51f-a85e-44b3-a456-deea34b3f69c",
   "metadata": {},
   "outputs": [
    {
     "name": "stdout",
     "output_type": "stream",
     "text": [
      "even => [388, 4, 532, 90] odd => [5, 67, 7, 5, 7]\n"
     ]
    }
   ],
   "source": [
    "even_odd([388,4,5,67,7,532,5,90,7])"
   ]
  },
  {
   "cell_type": "code",
   "execution_count": 46,
   "id": "b24d1a2c-aea2-43cb-a32b-ec58169d6a02",
   "metadata": {},
   "outputs": [],
   "source": [
    "a1 = [647,333,5,6,78,87,4,3,2,4]\n",
    "a2 = [32,44,67,32,87,65,32]"
   ]
  },
  {
   "cell_type": "code",
   "execution_count": 44,
   "id": "9d7a269f-c6a8-4f5b-b323-7c16147cd7a1",
   "metadata": {},
   "outputs": [],
   "source": [
    "def Even_Odd2(a):\n",
    "    even=[]\n",
    "    odd=[]\n",
    "    for i in a:  \n",
    "        if i%2==0:\n",
    "            even.append(i)\n",
    "        else:\n",
    "            odd.append(i)\n",
    "    return even,odd"
   ]
  },
  {
   "cell_type": "code",
   "execution_count": 48,
   "id": "18a88680-f40c-4d39-a72f-ea25fe82e4fd",
   "metadata": {},
   "outputs": [
    {
     "data": {
      "text/plain": [
       "([6, 78, 4, 2, 4], [647, 333, 5, 87, 3])"
      ]
     },
     "execution_count": 48,
     "metadata": {},
     "output_type": "execute_result"
    }
   ],
   "source": [
    "Even_Odd2(a1)"
   ]
  },
  {
   "cell_type": "code",
   "execution_count": 49,
   "id": "f492e3f2-7252-4ee7-9466-a08932980c23",
   "metadata": {},
   "outputs": [
    {
     "data": {
      "text/plain": [
       "([32, 44, 32, 32], [67, 87, 65])"
      ]
     },
     "execution_count": 49,
     "metadata": {},
     "output_type": "execute_result"
    }
   ],
   "source": [
    "Even_Odd2(a2)"
   ]
  },
  {
   "cell_type": "code",
   "execution_count": 50,
   "id": "3177630a-0302-4f14-87f0-63dd26205a84",
   "metadata": {},
   "outputs": [],
   "source": [
    "def even(x):\n",
    "    y = []\n",
    "    for i in x:\n",
    "        if i%2==0:\n",
    "            y.append(i)\n",
    "    return y"
   ]
  },
  {
   "cell_type": "code",
   "execution_count": 51,
   "id": "233a5f00-50b3-427f-b780-52d7b52f1aef",
   "metadata": {},
   "outputs": [
    {
     "data": {
      "text/plain": [
       "[2, 4, 6, 8, 8]"
      ]
     },
     "execution_count": 51,
     "metadata": {},
     "output_type": "execute_result"
    }
   ],
   "source": [
    "even([1,2,3,4,5,6,7,8,8])"
   ]
  },
  {
   "cell_type": "code",
   "execution_count": 52,
   "id": "32791513-9053-477b-8985-6ddfd3a53170",
   "metadata": {},
   "outputs": [],
   "source": [
    "m  =  [1,3,6,5,77,89,76,3]"
   ]
  },
  {
   "cell_type": "code",
   "execution_count": 64,
   "id": "34d9039a-19ec-4934-8aa9-f54069297572",
   "metadata": {},
   "outputs": [],
   "source": [
    "def evenodd(m):\n",
    "    c=[]\n",
    "    d=[]\n",
    "    for i in m:\n",
    "        if i%2==0:\n",
    "            c.append(i)\n",
    "        else:\n",
    "             d.append(i)\n",
    "    return c,d"
   ]
  },
  {
   "cell_type": "code",
   "execution_count": 65,
   "id": "6ca9a190-5228-4957-b905-22cb971ae117",
   "metadata": {},
   "outputs": [
    {
     "data": {
      "text/plain": [
       "([6, 76], [21, 3, 5, 77, 89, 3])"
      ]
     },
     "execution_count": 65,
     "metadata": {},
     "output_type": "execute_result"
    }
   ],
   "source": [
    "evenodd([21,3,6,5,77,89,76,3])\n"
   ]
  },
  {
   "cell_type": "code",
   "execution_count": 71,
   "id": "7c430420-7faf-4fe1-9775-5582e3d82728",
   "metadata": {},
   "outputs": [],
   "source": [
    "list_num = [12,13,14,15,16]\n",
    "def double(v):\n",
    "    b = []\n",
    "    for i in v:\n",
    "        b.append(2*i)\n",
    "    return b"
   ]
  },
  {
   "cell_type": "code",
   "execution_count": 72,
   "id": "1fcc35d5-4131-45cb-9de5-48d676f31775",
   "metadata": {},
   "outputs": [
    {
     "name": "stdout",
     "output_type": "stream",
     "text": [
      "[24, 26, 28, 30, 32]\n"
     ]
    }
   ],
   "source": [
    "print(double(list_num))"
   ]
  },
  {
   "cell_type": "code",
   "execution_count": 69,
   "id": "85a1d996-6030-4378-8346-162bae3163de",
   "metadata": {},
   "outputs": [],
   "source": [
    "list_num = [100,200,300,400]\n",
    "\n",
    "def double(z):\n",
    "    d = []\n",
    "    for i in z:\n",
    "        d.append(2*i)\n",
    "    return d"
   ]
  },
  {
   "cell_type": "code",
   "execution_count": 70,
   "id": "0c4f7d1d-69a3-47d7-8f56-0745edf3b682",
   "metadata": {},
   "outputs": [
    {
     "name": "stdout",
     "output_type": "stream",
     "text": [
      "[200, 400, 600, 800]\n"
     ]
    }
   ],
   "source": [
    "print(double(list_num))"
   ]
  },
  {
   "cell_type": "code",
   "execution_count": 74,
   "id": "245b5cd6-dea6-440f-9154-88ab7ad06ba8",
   "metadata": {},
   "outputs": [],
   "source": [
    "a = [1,2,3,4,5]\n",
    "def sq(x):\n",
    "    b = []\n",
    "    for i in a:\n",
    "        b.append(i**2)\n",
    "    return b"
   ]
  },
  {
   "cell_type": "code",
   "execution_count": 75,
   "id": "33b64569-cc2d-4833-b930-a56802433b8b",
   "metadata": {},
   "outputs": [
    {
     "name": "stdout",
     "output_type": "stream",
     "text": [
      "[1, 4, 9, 16, 25]\n"
     ]
    }
   ],
   "source": [
    "print(sq(a))"
   ]
  },
  {
   "cell_type": "code",
   "execution_count": 80,
   "id": "e4ae76e7-de33-44f3-9612-692898eec211",
   "metadata": {},
   "outputs": [],
   "source": [
    "def calcy(a,b):\n",
    "    add = a+b\n",
    "    sub = a-b\n",
    "    mul = a*b\n",
    "    print(f\"For given number addition is {add} sub is {sub} mul is {mul}\")"
   ]
  },
  {
   "cell_type": "code",
   "execution_count": 81,
   "id": "5f923f7b-6155-4598-9b5e-a1ce3a276258",
   "metadata": {},
   "outputs": [
    {
     "name": "stdout",
     "output_type": "stream",
     "text": [
      "For given number addition is 30 sub is -10 mul is 200\n"
     ]
    }
   ],
   "source": [
    "calcy(10,20)"
   ]
  },
  {
   "cell_type": "code",
   "execution_count": 88,
   "id": "1d63dc0f-d122-47cb-944d-ec7fb51c34f0",
   "metadata": {},
   "outputs": [
    {
     "name": "stdout",
     "output_type": "stream",
     "text": [
      "For given number addition is 24 sub is -20 mul is 44\n"
     ]
    }
   ],
   "source": [
    "calcy(2,22)"
   ]
  },
  {
   "cell_type": "code",
   "execution_count": 89,
   "id": "6f3e636a-da29-48cb-a58f-608f7dfc0d3e",
   "metadata": {},
   "outputs": [
    {
     "name": "stdout",
     "output_type": "stream",
     "text": [
      "For given number addition is 7 sub is 3 mul is 10\n"
     ]
    }
   ],
   "source": [
    "calcy(5,2)"
   ]
  },
  {
   "cell_type": "code",
   "execution_count": 87,
   "id": "f0c3da28-464b-4d9f-9c79-210c19dd138c",
   "metadata": {},
   "outputs": [
    {
     "data": {
      "text/plain": [
       "20"
      ]
     },
     "execution_count": 87,
     "metadata": {},
     "output_type": "execute_result"
    }
   ],
   "source": [
    "a = 10\n",
    "b= 10\n",
    "a+b"
   ]
  },
  {
   "cell_type": "code",
   "execution_count": null,
   "id": "7d8c4067-e57c-45c9-8c9f-357046f822db",
   "metadata": {},
   "outputs": [],
   "source": [
    "#factorial\n",
    "# 8! = 8*7*6*5*4*3*2*1"
   ]
  },
  {
   "cell_type": "code",
   "execution_count": 90,
   "id": "77ccf665-158d-49ae-a307-71fff93f0056",
   "metadata": {},
   "outputs": [
    {
     "data": {
      "text/plain": [
       "[0, 1, 2, 3, 4]"
      ]
     },
     "execution_count": 90,
     "metadata": {},
     "output_type": "execute_result"
    }
   ],
   "source": [
    "list(range(5))"
   ]
  },
  {
   "cell_type": "code",
   "execution_count": null,
   "id": "43f1de63-56a1-42ed-9b0e-631a24da6093",
   "metadata": {},
   "outputs": [],
   "source": []
  },
  {
   "cell_type": "code",
   "execution_count": 91,
   "id": "5b63e0db-0c51-4773-aa9c-23e3644e9279",
   "metadata": {},
   "outputs": [
    {
     "data": {
      "text/plain": [
       "[1, 2, 3, 4, 5]"
      ]
     },
     "execution_count": 91,
     "metadata": {},
     "output_type": "execute_result"
    }
   ],
   "source": [
    "a = 5 \n",
    "list(range(1,a+1))"
   ]
  },
  {
   "cell_type": "code",
   "execution_count": 92,
   "id": "a1d8a152-e2cc-49b0-adab-fea3f6de954d",
   "metadata": {},
   "outputs": [
    {
     "name": "stdout",
     "output_type": "stream",
     "text": [
      "1\n",
      "1\n",
      "1\n",
      "1\n",
      "1\n"
     ]
    }
   ],
   "source": [
    "fac = 1\n",
    "for i in list(range(1,a+1)):\n",
    "    fac = fac * 1\n",
    "    print(fac)"
   ]
  },
  {
   "cell_type": "code",
   "execution_count": 93,
   "id": "926904c4-de36-4605-a3f9-757ab13ad1a4",
   "metadata": {},
   "outputs": [
    {
     "name": "stdout",
     "output_type": "stream",
     "text": [
      "1\n",
      "2\n",
      "6\n",
      "24\n",
      "120\n"
     ]
    }
   ],
   "source": [
    "Factorial=1\n",
    "for i in list(range(1,a+1)):\n",
    "    Factorial=Factorial*i\n",
    "    print(Factorial)"
   ]
  },
  {
   "cell_type": "code",
   "execution_count": 2,
   "id": "3e0332b2-449f-4eec-9089-882917a5d802",
   "metadata": {},
   "outputs": [
    {
     "data": {
      "text/plain": [
       "list"
      ]
     },
     "execution_count": 2,
     "metadata": {},
     "output_type": "execute_result"
    }
   ],
   "source": [
    "A = [2,3,4,5,6,7,88]\n",
    "type(A)"
   ]
  },
  {
   "cell_type": "code",
   "execution_count": 6,
   "id": "ac2a0c11-3fe1-4ca5-9a82-2d86e6ad1c58",
   "metadata": {},
   "outputs": [],
   "source": [
    "A = [2,3,4,5,6,7,88]\n",
    "x = []\n",
    "y = []\n",
    "for i in A:\n",
    "    if i %2==0:\n",
    "        x.append(i)\n",
    "    else:\n",
    "        y.append(i)\n"
   ]
  },
  {
   "cell_type": "code",
   "execution_count": 7,
   "id": "6e5c0235-2f35-4800-ac43-38ae59938ffe",
   "metadata": {},
   "outputs": [
    {
     "data": {
      "text/plain": [
       "[2, 4, 6, 88]"
      ]
     },
     "execution_count": 7,
     "metadata": {},
     "output_type": "execute_result"
    }
   ],
   "source": [
    "x"
   ]
  },
  {
   "cell_type": "code",
   "execution_count": 8,
   "id": "7cd55430-003d-4e2d-866e-a27d987763e3",
   "metadata": {},
   "outputs": [
    {
     "data": {
      "text/plain": [
       "[3, 5, 7]"
      ]
     },
     "execution_count": 8,
     "metadata": {},
     "output_type": "execute_result"
    }
   ],
   "source": [
    "y"
   ]
  },
  {
   "cell_type": "code",
   "execution_count": 9,
   "id": "b853b304-354d-494d-b05c-39beb39ffb40",
   "metadata": {},
   "outputs": [
    {
     "name": "stdout",
     "output_type": "stream",
     "text": [
      "[2, 4, 2, 4]\n",
      "[3, 5, 3]\n"
     ]
    }
   ],
   "source": [
    "li = [2,4,3,2,4,5,3]\n",
    "even = []\n",
    "odd = []\n",
    "for i in li:\n",
    "    if  i%2==0:\n",
    "        even.append(i)\n",
    "    else:\n",
    "        odd.append(i)\n",
    "print(even)\n",
    "print(odd)"
   ]
  },
  {
   "cell_type": "code",
   "execution_count": 20,
   "id": "aa61a6c8-baf9-4f70-9c99-8cf21129c130",
   "metadata": {},
   "outputs": [],
   "source": [
    "def factorial (a):\n",
    "    factorial = 1\n",
    "    for i in list(range(1,a+1)):\n",
    "        factorial = factorial*1\n",
    "        # print(factorial)\n",
    "    return factorial"
   ]
  },
  {
   "cell_type": "code",
   "execution_count": 21,
   "id": "47706828-db38-4b9c-9d09-85f7c244d6b8",
   "metadata": {},
   "outputs": [],
   "source": [
    "m = factorial(21)"
   ]
  },
  {
   "cell_type": "code",
   "execution_count": 22,
   "id": "039728df-a6ab-4bb6-b1a7-3862c8733eb1",
   "metadata": {},
   "outputs": [
    {
     "data": {
      "text/plain": [
       "1"
      ]
     },
     "execution_count": 22,
     "metadata": {},
     "output_type": "execute_result"
    }
   ],
   "source": [
    "m"
   ]
  },
  {
   "cell_type": "code",
   "execution_count": 13,
   "id": "8b558aa6-e864-418f-8a77-5af208fb3246",
   "metadata": {},
   "outputs": [],
   "source": [
    "def Factorial(a):\n",
    "    Factorial=1\n",
    "    for i in list(range(1,a+1)):\n",
    "        Factorial=Factorial*i\n",
    "#     print(Factorial)\n",
    "    return Factorial"
   ]
  },
  {
   "cell_type": "code",
   "execution_count": 14,
   "id": "bbe5e4ca-f899-46c3-81a9-da0d69caa012",
   "metadata": {},
   "outputs": [],
   "source": [
    "R1=Factorial(5)"
   ]
  },
  {
   "cell_type": "code",
   "execution_count": 15,
   "id": "92b7a334-aa3d-4e3b-bfb9-fa4b6ba1a582",
   "metadata": {},
   "outputs": [
    {
     "data": {
      "text/plain": [
       "120"
      ]
     },
     "execution_count": 15,
     "metadata": {},
     "output_type": "execute_result"
    }
   ],
   "source": [
    "R1"
   ]
  },
  {
   "cell_type": "code",
   "execution_count": null,
   "id": "08277225-bd3b-410d-8a5c-60fab2119f23",
   "metadata": {},
   "outputs": [],
   "source": [
    "def Factorial(a):\n",
    "    Factorial=1\n",
    "    for i in list(range(1,a+1)):\n",
    "        Factorial=Factorial*i\n",
    "#     print(Factorial)\n",
    "    return Factorial"
   ]
  },
  {
   "cell_type": "code",
   "execution_count": 26,
   "id": "3e18f745-f51a-413a-baa5-413bed049119",
   "metadata": {},
   "outputs": [
    {
     "data": {
      "text/plain": [
       "6"
      ]
     },
     "execution_count": 26,
     "metadata": {},
     "output_type": "execute_result"
    }
   ],
   "source": [
    "R1=Factorial(3)\n",
    "R1"
   ]
  },
  {
   "cell_type": "code",
   "execution_count": 1,
   "id": "ad9a22cb-69bf-4383-824a-de2ebda3301d",
   "metadata": {},
   "outputs": [
    {
     "name": "stdout",
     "output_type": "stream",
     "text": [
      "1\n",
      "2\n",
      "3\n",
      "4\n",
      "5\n",
      "6\n",
      "7\n",
      "8\n",
      "9\n",
      "10\n"
     ]
    }
   ],
   "source": [
    "# print 1 to 1o\n",
    "for i in range(1,11):\n",
    "    print(i)\n"
   ]
  },
  {
   "cell_type": "code",
   "execution_count": null,
   "id": "8eb03a1b-caaf-480b-ba44-cfe75166e2d9",
   "metadata": {},
   "outputs": [],
   "source": []
  },
  {
   "cell_type": "code",
   "execution_count": null,
   "id": "4825c04f-19c8-4080-bb56-41d41950c25b",
   "metadata": {},
   "outputs": [],
   "source": []
  }
 ],
 "metadata": {
  "kernelspec": {
   "display_name": "Python 3 (ipykernel)",
   "language": "python",
   "name": "python3"
  },
  "language_info": {
   "codemirror_mode": {
    "name": "ipython",
    "version": 3
   },
   "file_extension": ".py",
   "mimetype": "text/x-python",
   "name": "python",
   "nbconvert_exporter": "python",
   "pygments_lexer": "ipython3",
   "version": "3.11.9"
  }
 },
 "nbformat": 4,
 "nbformat_minor": 5
}
