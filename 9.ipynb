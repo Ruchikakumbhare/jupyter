{
 "cells": [
  {
   "cell_type": "code",
   "execution_count": null,
   "id": "a50420e3-774a-4d6c-b612-a9652ffd0217",
   "metadata": {},
   "outputs": [],
   "source": [
    "# String Methods\n",
    "nam.capitalize()\n",
    "nam.count()\n",
    "nam.endswith()\n",
    "nam.startswith()\n",
    "nam.index()\n",
    "nam.isalnum()\n",
    "nam.isalpha()\n",
    "nam.swapcase()\n",
    "nam.upper()\n",
    "nam.lower()\n",
    "nam.isupper()\n",
    "nam.islower()\n",
    "nam.replace()\n",
    "nam.strip()\n",
    "nam.lstrip()\n",
    "nam.rstrip()\n"
   ]
  },
  {
   "cell_type": "code",
   "execution_count": null,
   "id": "3beca420-b32c-46ac-ae5a-8112ec56b08d",
   "metadata": {},
   "outputs": [],
   "source": [
    "\"\"\"\n",
    " String Methods :-\n",
    "\n",
    " syntax:-\n",
    "        stringVariableName.method()\n",
    "\"\"\""
   ]
  },
  {
   "cell_type": "code",
   "execution_count": null,
   "id": "f4ea4181-4ee8-4dbc-9d4f-ecf60c0abcee",
   "metadata": {},
   "outputs": [],
   "source": [
    "String = \"Pythonclass\"  #(a-z A-Z 0-9)\n",
    "# isalnum() \n",
    "# Returns True if all characters in the string are alphanumeric .meaning alphabet letter (a-z) and numbers (0-9)\n",
    "# not alphanumeric: (space)!#%&? "
   ]
  },
  {
   "cell_type": "code",
   "execution_count": 18,
   "id": "7e08bd5a-9f24-490f-bb5f-39a0553cb857",
   "metadata": {},
   "outputs": [
    {
     "data": {
      "text/plain": [
       "'python'"
      ]
     },
     "execution_count": 18,
     "metadata": {},
     "output_type": "execute_result"
    }
   ],
   "source": [
    "a1 = \"python\"\n",
    "a1.isalnum()\n",
    "a1"
   ]
  },
  {
   "cell_type": "code",
   "execution_count": 19,
   "id": "5f677356-e274-4f1f-bb84-c895d40413b5",
   "metadata": {},
   "outputs": [
    {
     "data": {
      "text/plain": [
       "True"
      ]
     },
     "execution_count": 19,
     "metadata": {},
     "output_type": "execute_result"
    }
   ],
   "source": [
    "a1.isalnum()"
   ]
  },
  {
   "cell_type": "code",
   "execution_count": 22,
   "id": "5522c56e-838b-4fb6-a8d4-0d9eada907f0",
   "metadata": {},
   "outputs": [
    {
     "data": {
      "text/plain": [
       "False"
      ]
     },
     "execution_count": 22,
     "metadata": {},
     "output_type": "execute_result"
    }
   ],
   "source": [
    "\"python class\".isalnum()"
   ]
  },
  {
   "cell_type": "code",
   "execution_count": 21,
   "id": "369bfca5-543e-4ed9-ba5c-0bba3a177729",
   "metadata": {},
   "outputs": [
    {
     "data": {
      "text/plain": [
       "True"
      ]
     },
     "execution_count": 21,
     "metadata": {},
     "output_type": "execute_result"
    }
   ],
   "source": [
    "\"pythonclass\".isalnum()"
   ]
  },
  {
   "cell_type": "code",
   "execution_count": 20,
   "id": "c2dbc54d-bada-4260-ac4f-5a80caf8003d",
   "metadata": {},
   "outputs": [
    {
     "data": {
      "text/plain": [
       "True"
      ]
     },
     "execution_count": 20,
     "metadata": {},
     "output_type": "execute_result"
    }
   ],
   "source": [
    "\"abcdef123\".isalnum()"
   ]
  },
  {
   "cell_type": "code",
   "execution_count": 24,
   "id": "356a6db7-91ba-4226-8444-30a6202ebef8",
   "metadata": {},
   "outputs": [
    {
     "data": {
      "text/plain": [
       "False"
      ]
     },
     "execution_count": 24,
     "metadata": {},
     "output_type": "execute_result"
    }
   ],
   "source": [
    "\"xyz,124\".isalnum()"
   ]
  },
  {
   "cell_type": "code",
   "execution_count": 26,
   "id": "78dd46d1-b8da-464b-abe2-cf08716c6cb4",
   "metadata": {},
   "outputs": [],
   "source": [
    "# isalpha()\n",
    "# Returns True if all characters in the string are alphabet letters. (a-z)\n"
   ]
  },
  {
   "cell_type": "code",
   "execution_count": 27,
   "id": "f328796a-2096-4459-b794-5aabb6317d74",
   "metadata": {},
   "outputs": [],
   "source": [
    "x = \"python\""
   ]
  },
  {
   "cell_type": "code",
   "execution_count": 28,
   "id": "efba4a4e-9435-4887-89f0-be53c9a20fbe",
   "metadata": {},
   "outputs": [
    {
     "data": {
      "text/plain": [
       "'python'"
      ]
     },
     "execution_count": 28,
     "metadata": {},
     "output_type": "execute_result"
    }
   ],
   "source": [
    "x"
   ]
  },
  {
   "cell_type": "code",
   "execution_count": 30,
   "id": "7e194b7f-c10d-4e1a-a306-f1394833bf76",
   "metadata": {},
   "outputs": [
    {
     "data": {
      "text/plain": [
       "True"
      ]
     },
     "execution_count": 30,
     "metadata": {},
     "output_type": "execute_result"
    }
   ],
   "source": [
    "x.isalpha()"
   ]
  },
  {
   "cell_type": "code",
   "execution_count": 31,
   "id": "caaaea83-3a95-459c-90a6-80e4518fd155",
   "metadata": {},
   "outputs": [
    {
     "data": {
      "text/plain": [
       "False"
      ]
     },
     "execution_count": 31,
     "metadata": {},
     "output_type": "execute_result"
    }
   ],
   "source": [
    "\"abcd65876\".isalpha() "
   ]
  },
  {
   "cell_type": "code",
   "execution_count": 32,
   "id": "29b38fc0-2a1c-4d47-bf3b-2f7fe0436662",
   "metadata": {},
   "outputs": [
    {
     "name": "stdout",
     "output_type": "stream",
     "text": [
      "True\n"
     ]
    }
   ],
   "source": [
    "num = \"EVENING\"\n",
    "v=num.isalnum()\n",
    "print(v)"
   ]
  },
  {
   "cell_type": "code",
   "execution_count": null,
   "id": "2280bdaa-020b-444d-b38a-a23611945197",
   "metadata": {},
   "outputs": [],
   "source": [
    "# upper() \n",
    "#lower\n",
    "#isupper()\n",
    "#islower\n",
    "# Converts a string into upper case"
   ]
  },
  {
   "cell_type": "code",
   "execution_count": 33,
   "id": "a8bcf44f-b76e-4c79-a685-13a4e104a059",
   "metadata": {},
   "outputs": [],
   "source": [
    "name = \"ruchika\""
   ]
  },
  {
   "cell_type": "code",
   "execution_count": 34,
   "id": "acf60521-2cd8-4bdc-a084-3bb282999fb6",
   "metadata": {},
   "outputs": [
    {
     "data": {
      "text/plain": [
       "'RUCHIKA'"
      ]
     },
     "execution_count": 34,
     "metadata": {},
     "output_type": "execute_result"
    }
   ],
   "source": [
    "name.upper()"
   ]
  },
  {
   "cell_type": "code",
   "execution_count": 35,
   "id": "f696000e-c841-4674-881c-674007e478d1",
   "metadata": {},
   "outputs": [],
   "source": [
    "name = \"RUCHIKA\""
   ]
  },
  {
   "cell_type": "code",
   "execution_count": 36,
   "id": "08871dd1-bdb8-47a3-8c04-36a3c6c91c4f",
   "metadata": {},
   "outputs": [
    {
     "data": {
      "text/plain": [
       "'ruchika'"
      ]
     },
     "execution_count": 36,
     "metadata": {},
     "output_type": "execute_result"
    }
   ],
   "source": [
    "name.lower()"
   ]
  },
  {
   "cell_type": "code",
   "execution_count": 38,
   "id": "bf287093-e4d2-431c-b41e-efc857f82a59",
   "metadata": {},
   "outputs": [
    {
     "data": {
      "text/plain": [
       "True"
      ]
     },
     "execution_count": 38,
     "metadata": {},
     "output_type": "execute_result"
    }
   ],
   "source": [
    "name.isupper()"
   ]
  },
  {
   "cell_type": "code",
   "execution_count": 39,
   "id": "689eb1e3-f888-430d-b198-b935a0e9269d",
   "metadata": {},
   "outputs": [
    {
     "data": {
      "text/plain": [
       "False"
      ]
     },
     "execution_count": 39,
     "metadata": {},
     "output_type": "execute_result"
    }
   ],
   "source": [
    "name.islower()"
   ]
  },
  {
   "cell_type": "code",
   "execution_count": 40,
   "id": "55f80473-824f-43fc-9003-5fb4e7ba8abd",
   "metadata": {},
   "outputs": [
    {
     "data": {
      "text/plain": [
       "'My name is ruchika'"
      ]
     },
     "execution_count": 40,
     "metadata": {},
     "output_type": "execute_result"
    }
   ],
   "source": [
    "a1 = \"my name is ruchika\"\n",
    "a1.capitalize()       #------>1 st letter is captital"
   ]
  },
  {
   "cell_type": "code",
   "execution_count": 41,
   "id": "0d1cd417-7d76-452b-9abf-6788b62bf09b",
   "metadata": {},
   "outputs": [
    {
     "data": {
      "text/plain": [
       "'rUCHIKA KUMBHARE'"
      ]
     },
     "execution_count": 41,
     "metadata": {},
     "output_type": "execute_result"
    }
   ],
   "source": [
    "#swapcase()\n",
    "nam = \"Ruchika kumbhare\"\n",
    "nam.swapcase()"
   ]
  },
  {
   "cell_type": "code",
   "execution_count": 42,
   "id": "d59cf467-4fa3-41e7-9034-575c83294484",
   "metadata": {},
   "outputs": [
    {
     "data": {
      "text/plain": [
       "True"
      ]
     },
     "execution_count": 42,
     "metadata": {},
     "output_type": "execute_result"
    }
   ],
   "source": [
    "nam.endswith('re')"
   ]
  },
  {
   "cell_type": "code",
   "execution_count": 43,
   "id": "1f3d89d8-11ae-4a01-8673-9ea122735cca",
   "metadata": {},
   "outputs": [
    {
     "data": {
      "text/plain": [
       "False"
      ]
     },
     "execution_count": 43,
     "metadata": {},
     "output_type": "execute_result"
    }
   ],
   "source": [
    "nam.endswith('ka')"
   ]
  },
  {
   "cell_type": "code",
   "execution_count": 44,
   "id": "f9aab0c9-6ea0-4278-9c6c-da5014f910e9",
   "metadata": {},
   "outputs": [
    {
     "data": {
      "text/plain": [
       "False"
      ]
     },
     "execution_count": 44,
     "metadata": {},
     "output_type": "execute_result"
    }
   ],
   "source": [
    "nam.startswith('ru')"
   ]
  },
  {
   "cell_type": "code",
   "execution_count": 45,
   "id": "a892fde3-71e7-4133-a5ab-432166f85710",
   "metadata": {},
   "outputs": [
    {
     "data": {
      "text/plain": [
       "True"
      ]
     },
     "execution_count": 45,
     "metadata": {},
     "output_type": "execute_result"
    }
   ],
   "source": [
    "nam.startswith('Ru')"
   ]
  },
  {
   "cell_type": "code",
   "execution_count": 46,
   "id": "82b2dbda-6766-49db-8000-fc6ec059b5ec",
   "metadata": {},
   "outputs": [
    {
     "data": {
      "text/plain": [
       "2"
      ]
     },
     "execution_count": 46,
     "metadata": {},
     "output_type": "execute_result"
    }
   ],
   "source": [
    "nam.count('a')"
   ]
  },
  {
   "cell_type": "code",
   "execution_count": 48,
   "id": "6b7f3c7c-bf2b-428e-b63f-5864195444ff",
   "metadata": {},
   "outputs": [
    {
     "data": {
      "text/plain": [
       "6"
      ]
     },
     "execution_count": 48,
     "metadata": {},
     "output_type": "execute_result"
    }
   ],
   "source": [
    "nam.index('a')"
   ]
  },
  {
   "cell_type": "code",
   "execution_count": null,
   "id": "93a920b4-7082-4d2d-a202-5b0c9491cc2d",
   "metadata": {},
   "outputs": [],
   "source": [
    "#replace\n"
   ]
  },
  {
   "cell_type": "code",
   "execution_count": 49,
   "id": "23aa8320-eb8f-45db-bf51-35ef0faeadee",
   "metadata": {},
   "outputs": [
    {
     "data": {
      "text/plain": [
       "'i am ruchika and i am learning js'"
      ]
     },
     "execution_count": 49,
     "metadata": {},
     "output_type": "execute_result"
    }
   ],
   "source": [
    "name= \"i am ruchika and i am learning js\"\n",
    "name"
   ]
  },
  {
   "cell_type": "code",
   "execution_count": 51,
   "id": "92ae87b2-6ea5-4898-a2a5-e9679be879c9",
   "metadata": {},
   "outputs": [
    {
     "data": {
      "text/plain": [
       "'i am neha and i am learning js'"
      ]
     },
     "execution_count": 51,
     "metadata": {},
     "output_type": "execute_result"
    }
   ],
   "source": [
    "name.replace('ruchika' , 'neha')"
   ]
  },
  {
   "cell_type": "code",
   "execution_count": 52,
   "id": "80a4f398-8ec0-4cda-bd12-dcef846eb910",
   "metadata": {},
   "outputs": [
    {
     "data": {
      "text/plain": [
       "'hiee i am good'"
      ]
     },
     "execution_count": 52,
     "metadata": {},
     "output_type": "execute_result"
    }
   ],
   "source": [
    "m = \"hello i am good\"\n",
    "n = m.replace('hello' , 'hiee')\n",
    "n"
   ]
  },
  {
   "cell_type": "code",
   "execution_count": 2,
   "id": "23df0185-361e-410d-b3e1-05140b85bafd",
   "metadata": {},
   "outputs": [],
   "source": [
    "a = \"ruchika\"\n",
    "b = \"Kumbhare\""
   ]
  },
  {
   "cell_type": "code",
   "execution_count": 3,
   "id": "8fee74e1-52cc-4343-9e5e-8a885a95cb6a",
   "metadata": {},
   "outputs": [
    {
     "data": {
      "text/plain": [
       "'my name is ruchika and my surname is Kumbhare'"
      ]
     },
     "execution_count": 3,
     "metadata": {},
     "output_type": "execute_result"
    }
   ],
   "source": [
    "f\"my name is {a} and my surname is {b}\""
   ]
  },
  {
   "cell_type": "code",
   "execution_count": 4,
   "id": "652424d9-d705-463c-82b2-e6f4c897753b",
   "metadata": {},
   "outputs": [
    {
     "data": {
      "text/plain": [
       "'my name is ruchika and my surname is Kumbhare'"
      ]
     },
     "execution_count": 4,
     "metadata": {},
     "output_type": "execute_result"
    }
   ],
   "source": [
    "\"my name is {} and my surname is {}\".format(a,b)"
   ]
  },
  {
   "cell_type": "code",
   "execution_count": 5,
   "id": "a2a05d41-1fa7-4844-99a2-b454f33037f6",
   "metadata": {},
   "outputs": [
    {
     "data": {
      "text/plain": [
       "'ruchika'"
      ]
     },
     "execution_count": 5,
     "metadata": {},
     "output_type": "execute_result"
    }
   ],
   "source": [
    "a"
   ]
  },
  {
   "cell_type": "code",
   "execution_count": 6,
   "id": "88c9cfcf-05f2-4339-8ef6-70fd01b6113f",
   "metadata": {},
   "outputs": [
    {
     "data": {
      "text/plain": [
       "'my name is Kumbhare and my surname is ruchika'"
      ]
     },
     "execution_count": 6,
     "metadata": {},
     "output_type": "execute_result"
    }
   ],
   "source": [
    "\"my name is {1} and my surname is {0}\".format(a,b)"
   ]
  },
  {
   "cell_type": "code",
   "execution_count": 7,
   "id": "c3ac8f1f-a3d5-434b-973f-efd0976eebd1",
   "metadata": {},
   "outputs": [
    {
     "data": {
      "text/plain": [
       "'my name is ruchika and my surname is Kumbhare'"
      ]
     },
     "execution_count": 7,
     "metadata": {},
     "output_type": "execute_result"
    }
   ],
   "source": [
    "\"my name is {0} and my surname is {1}\".format(a,b)"
   ]
  },
  {
   "cell_type": "code",
   "execution_count": null,
   "id": "e0c9ce0f-2274-4587-acd3-f28be9f866e6",
   "metadata": {},
   "outputs": [],
   "source": [
    "#index"
   ]
  },
  {
   "cell_type": "code",
   "execution_count": 9,
   "id": "a9a925a5-160b-4bd5-b125-d212dd4b8cdc",
   "metadata": {},
   "outputs": [
    {
     "data": {
      "text/plain": [
       "'RUchika'"
      ]
     },
     "execution_count": 9,
     "metadata": {},
     "output_type": "execute_result"
    }
   ],
   "source": [
    "z = \"RUchika\"\n",
    "z"
   ]
  },
  {
   "cell_type": "code",
   "execution_count": 11,
   "id": "47910fea-b7ba-4f2f-9b52-ddba19bcf50e",
   "metadata": {},
   "outputs": [
    {
     "data": {
      "text/plain": [
       "6"
      ]
     },
     "execution_count": 11,
     "metadata": {},
     "output_type": "execute_result"
    }
   ],
   "source": [
    "z.index(\"a\")    # a ka index 6"
   ]
  },
  {
   "cell_type": "code",
   "execution_count": 12,
   "id": "94e1fd9b-0332-47f2-b17a-3e85f4c736bd",
   "metadata": {},
   "outputs": [],
   "source": [
    "z1 = \"my name is ruchi\""
   ]
  },
  {
   "cell_type": "code",
   "execution_count": 13,
   "id": "abc394f8-0099-4147-95cb-e65fa1fea994",
   "metadata": {},
   "outputs": [
    {
     "data": {
      "text/plain": [
       "11"
      ]
     },
     "execution_count": 13,
     "metadata": {},
     "output_type": "execute_result"
    }
   ],
   "source": [
    "z1.index('r')"
   ]
  },
  {
   "cell_type": "code",
   "execution_count": 14,
   "id": "449b2154-431d-479c-a288-882e474d21e1",
   "metadata": {},
   "outputs": [
    {
     "data": {
      "text/plain": [
       "1"
      ]
     },
     "execution_count": 14,
     "metadata": {},
     "output_type": "execute_result"
    }
   ],
   "source": [
    "#count\n",
    "z1.count('a')"
   ]
  },
  {
   "cell_type": "code",
   "execution_count": 15,
   "id": "d14e7903-ffb2-4791-9e8a-d686d4f10759",
   "metadata": {},
   "outputs": [
    {
     "data": {
      "text/plain": [
       "2"
      ]
     },
     "execution_count": 15,
     "metadata": {},
     "output_type": "execute_result"
    }
   ],
   "source": [
    "z1.count('i')"
   ]
  },
  {
   "cell_type": "code",
   "execution_count": 16,
   "id": "84afd2bc-2107-4b45-b2a5-3d44f95240f1",
   "metadata": {},
   "outputs": [
    {
     "data": {
      "text/plain": [
       "'my name is kajal'"
      ]
     },
     "execution_count": 16,
     "metadata": {},
     "output_type": "execute_result"
    }
   ],
   "source": [
    "z1.replace('ruchi' , 'kajal')"
   ]
  },
  {
   "cell_type": "code",
   "execution_count": 17,
   "id": "0461ff8e-7ad1-4f47-978c-3e6e8ca8a080",
   "metadata": {},
   "outputs": [
    {
     "data": {
      "text/plain": [
       "'ruchi'"
      ]
     },
     "execution_count": 17,
     "metadata": {},
     "output_type": "execute_result"
    }
   ],
   "source": [
    "#strip\n",
    "e = \" ruchi \"\n",
    "e.strip()"
   ]
  },
  {
   "cell_type": "code",
   "execution_count": 19,
   "id": "71b57afc-d423-45e2-bdd2-40be8bfe9b82",
   "metadata": {},
   "outputs": [
    {
     "name": "stdout",
     "output_type": "stream",
     "text": [
      "7\n"
     ]
    }
   ],
   "source": [
    "print(len(e))"
   ]
  },
  {
   "cell_type": "code",
   "execution_count": 21,
   "id": "2b68154a-175c-4f92-b94b-2781e04b18ea",
   "metadata": {},
   "outputs": [
    {
     "data": {
      "text/plain": [
       "9"
      ]
     },
     "execution_count": 21,
     "metadata": {},
     "output_type": "execute_result"
    }
   ],
   "source": [
    "e = ' ruchika '\n",
    "len(e)"
   ]
  },
  {
   "cell_type": "code",
   "execution_count": 22,
   "id": "33354dbc-1f5a-4ad3-8e5a-4c6435850332",
   "metadata": {},
   "outputs": [
    {
     "name": "stdout",
     "output_type": "stream",
     "text": [
      "ruchika\n"
     ]
    }
   ],
   "source": [
    "a1 = e.strip()\n",
    "print(a1)"
   ]
  },
  {
   "cell_type": "code",
   "execution_count": 23,
   "id": "b12c4b58-b947-4671-a810-330838861c2f",
   "metadata": {},
   "outputs": [
    {
     "data": {
      "text/plain": [
       "7"
      ]
     },
     "execution_count": 23,
     "metadata": {},
     "output_type": "execute_result"
    }
   ],
   "source": [
    "len(a1)  #remove both left and right space"
   ]
  },
  {
   "cell_type": "code",
   "execution_count": 24,
   "id": "bcfb689d-15b7-4006-a3b9-7b6cddf5d7be",
   "metadata": {},
   "outputs": [
    {
     "name": "stdout",
     "output_type": "stream",
     "text": [
      "ruchika \n"
     ]
    }
   ],
   "source": [
    "a1 = e.lstrip()\n",
    "print(a1)"
   ]
  },
  {
   "cell_type": "code",
   "execution_count": 25,
   "id": "e42d2d6b-fa00-4949-a66e-c48988c51721",
   "metadata": {},
   "outputs": [
    {
     "data": {
      "text/plain": [
       "8"
      ]
     },
     "execution_count": 25,
     "metadata": {},
     "output_type": "execute_result"
    }
   ],
   "source": [
    "len(a1)    #remove left space"
   ]
  },
  {
   "cell_type": "code",
   "execution_count": 26,
   "id": "2dedab2b-4589-4e98-bf04-8ad8e4809c93",
   "metadata": {},
   "outputs": [
    {
     "name": "stdout",
     "output_type": "stream",
     "text": [
      " ruchika\n"
     ]
    }
   ],
   "source": [
    "a1=e.rstrip()\n",
    "print(a1)"
   ]
  },
  {
   "cell_type": "code",
   "execution_count": 27,
   "id": "4447820d-5045-48df-b395-5e6ac707e5c6",
   "metadata": {},
   "outputs": [
    {
     "data": {
      "text/plain": [
       "8"
      ]
     },
     "execution_count": 27,
     "metadata": {},
     "output_type": "execute_result"
    }
   ],
   "source": [
    "len(a1)  # remove right space"
   ]
  },
  {
   "cell_type": "code",
   "execution_count": null,
   "id": "26463e24-f4c4-4e53-9d1c-e1a00fa1f89e",
   "metadata": {},
   "outputs": [],
   "source": [
    "# split()\n",
    "#   Splits the string at the specified separator, and returns a list"
   ]
  },
  {
   "cell_type": "code",
   "execution_count": 28,
   "id": "b3d4abb2-289c-4a3a-81b9-9b2840585f5e",
   "metadata": {},
   "outputs": [
    {
     "name": "stdout",
     "output_type": "stream",
     "text": [
      "['ruchi', 'a', 'humbhare']\n"
     ]
    }
   ],
   "source": [
    "print(\"ruchikakhumbhare\".split('k'))"
   ]
  },
  {
   "cell_type": "code",
   "execution_count": 29,
   "id": "a0fece5e-5f52-4645-abac-a47845a6f5ec",
   "metadata": {},
   "outputs": [
    {
     "name": "stdout",
     "output_type": "stream",
     "text": [
      "['ruchika', 'gmail.com']\n"
     ]
    }
   ],
   "source": [
    "email = \"ruchika@gmail.com\"\n",
    "x =email.split('@')\n",
    "print(x)"
   ]
  },
  {
   "cell_type": "code",
   "execution_count": 34,
   "id": "d16852bd-102f-49d6-8143-590e376ddb4c",
   "metadata": {},
   "outputs": [],
   "source": [
    "x = \"abc\""
   ]
  },
  {
   "cell_type": "code",
   "execution_count": 36,
   "id": "faf0d0ae-cd28-4074-bbb1-dba2b9a7bb46",
   "metadata": {},
   "outputs": [
    {
     "name": "stdout",
     "output_type": "stream",
     "text": [
      "aBc\n"
     ]
    }
   ],
   "source": [
    "x1=x.replace('b' , 'B')\n",
    "print(x1)"
   ]
  },
  {
   "cell_type": "code",
   "execution_count": 38,
   "id": "cca86aa9-a3e3-4e9d-ba46-ef017cb50df1",
   "metadata": {},
   "outputs": [],
   "source": [
    "a=\"Python class aaa bbb  aaaa\""
   ]
  },
  {
   "cell_type": "code",
   "execution_count": 39,
   "id": "6ee7189c-e0f1-4a53-b07c-9dd13f7758f1",
   "metadata": {},
   "outputs": [
    {
     "name": "stdout",
     "output_type": "stream",
     "text": [
      "['Python cl', 'ss ', '', '', ' bbb  ', '', '', '', '']\n"
     ]
    }
   ],
   "source": [
    "a1=a.split('a')\n",
    "print(a1)"
   ]
  },
  {
   "cell_type": "code",
   "execution_count": null,
   "id": "2ffebd71-633b-43d1-8cf7-8562884abab4",
   "metadata": {},
   "outputs": [],
   "source": []
  }
 ],
 "metadata": {
  "kernelspec": {
   "display_name": "Python 3 (ipykernel)",
   "language": "python",
   "name": "python3"
  },
  "language_info": {
   "codemirror_mode": {
    "name": "ipython",
    "version": 3
   },
   "file_extension": ".py",
   "mimetype": "text/x-python",
   "name": "python",
   "nbconvert_exporter": "python",
   "pygments_lexer": "ipython3",
   "version": "3.11.9"
  }
 },
 "nbformat": 4,
 "nbformat_minor": 5
}
