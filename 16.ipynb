{
 "cells": [
  {
   "cell_type": "code",
   "execution_count": null,
   "id": "1104923b-5d77-487e-846b-82fd5b6b7607",
   "metadata": {},
   "outputs": [],
   "source": [
    "# set methods \n",
    "# no duplicate elements\n",
    "# set is an unordered collection of unique elements\n",
    "# we can not call elements of  a set by calling the index position"
   ]
  },
  {
   "cell_type": "code",
   "execution_count": 2,
   "id": "893a7f15-617c-4554-82b4-d3606d89df23",
   "metadata": {},
   "outputs": [
    {
     "name": "stdout",
     "output_type": "stream",
     "text": [
      "{'d', 'b', 'c', 'a', 'e'}\n"
     ]
    },
    {
     "data": {
      "text/plain": [
       "set"
      ]
     },
     "execution_count": 2,
     "metadata": {},
     "output_type": "execute_result"
    }
   ],
   "source": [
    "a1 = {\"a\",\"b\",\"c\",\"d\",\"e\"}\n",
    "print(a1)\n",
    "type(a1)"
   ]
  },
  {
   "cell_type": "code",
   "execution_count": 3,
   "id": "1d092c1d-d1c1-42d3-9c62-359ec476decb",
   "metadata": {},
   "outputs": [
    {
     "name": "stdout",
     "output_type": "stream",
     "text": [
      "{'d', 'f', 'b', 'c', 'a', 'e'}\n"
     ]
    }
   ],
   "source": [
    "a1.add(\"f\")\n",
    "print(a1)"
   ]
  },
  {
   "cell_type": "code",
   "execution_count": 4,
   "id": "8e7cb056-1cff-45de-b0cf-0240f96460df",
   "metadata": {},
   "outputs": [
    {
     "data": {
      "text/plain": [
       "{'a', 'b', 'c', 'd', 'e', 'f', 'l'}"
      ]
     },
     "execution_count": 4,
     "metadata": {},
     "output_type": "execute_result"
    }
   ],
   "source": [
    "a1.update('l')\n",
    "a1"
   ]
  },
  {
   "cell_type": "code",
   "execution_count": 5,
   "id": "42cf7c00-df50-4b6c-9a95-956a2b498514",
   "metadata": {},
   "outputs": [
    {
     "ename": "TypeError",
     "evalue": "'int' object is not iterable",
     "output_type": "error",
     "traceback": [
      "\u001b[1;31m---------------------------------------------------------------------------\u001b[0m",
      "\u001b[1;31mTypeError\u001b[0m                                 Traceback (most recent call last)",
      "Cell \u001b[1;32mIn[5], line 1\u001b[0m\n\u001b[1;32m----> 1\u001b[0m a1\u001b[38;5;241m.\u001b[39mupdate(\u001b[38;5;241m10\u001b[39m)\n",
      "\u001b[1;31mTypeError\u001b[0m: 'int' object is not iterable"
     ]
    }
   ],
   "source": [
    "a1.update(10)"
   ]
  },
  {
   "cell_type": "code",
   "execution_count": 6,
   "id": "585ecdfc-5345-4d9a-b38b-b977b888653b",
   "metadata": {},
   "outputs": [
    {
     "data": {
      "text/plain": [
       "{1, 'a', 'b', 'c', 'd', 'e', 'f', 'l'}"
      ]
     },
     "execution_count": 6,
     "metadata": {},
     "output_type": "execute_result"
    }
   ],
   "source": [
    "a1.update([1])\n",
    "a1"
   ]
  },
  {
   "cell_type": "code",
   "execution_count": 7,
   "id": "ea0b0f88-2efa-477a-a9d4-6ce4ecd1a0e1",
   "metadata": {},
   "outputs": [
    {
     "data": {
      "text/plain": [
       "1"
      ]
     },
     "execution_count": 7,
     "metadata": {},
     "output_type": "execute_result"
    }
   ],
   "source": [
    "a1.pop()"
   ]
  },
  {
   "cell_type": "code",
   "execution_count": 8,
   "id": "8be5c06f-7c3e-463e-9897-fd260662a14f",
   "metadata": {},
   "outputs": [
    {
     "data": {
      "text/plain": [
       "'d'"
      ]
     },
     "execution_count": 8,
     "metadata": {},
     "output_type": "execute_result"
    }
   ],
   "source": [
    "a1.pop()"
   ]
  },
  {
   "cell_type": "code",
   "execution_count": 9,
   "id": "1b93af76-cb23-4719-9a40-d434111c3128",
   "metadata": {},
   "outputs": [
    {
     "data": {
      "text/plain": [
       "'f'"
      ]
     },
     "execution_count": 9,
     "metadata": {},
     "output_type": "execute_result"
    }
   ],
   "source": [
    "a1.pop()"
   ]
  },
  {
   "cell_type": "code",
   "execution_count": 10,
   "id": "8bc02e9a-633b-4235-bd2f-f626f71f7e42",
   "metadata": {},
   "outputs": [
    {
     "data": {
      "text/plain": [
       "'b'"
      ]
     },
     "execution_count": 10,
     "metadata": {},
     "output_type": "execute_result"
    }
   ],
   "source": [
    "a1.pop()"
   ]
  },
  {
   "cell_type": "code",
   "execution_count": 11,
   "id": "65bdb409-ae83-43ba-a245-c1ed4e547bfa",
   "metadata": {},
   "outputs": [
    {
     "data": {
      "text/plain": [
       "{'a', 'c', 'e', 'l'}"
      ]
     },
     "execution_count": 11,
     "metadata": {},
     "output_type": "execute_result"
    }
   ],
   "source": [
    "a1"
   ]
  },
  {
   "cell_type": "code",
   "execution_count": 15,
   "id": "0c0a48ee-94aa-4ed4-8a78-42753fd2f4d4",
   "metadata": {},
   "outputs": [
    {
     "data": {
      "text/plain": [
       "{'c', 'l'}"
      ]
     },
     "execution_count": 15,
     "metadata": {},
     "output_type": "execute_result"
    }
   ],
   "source": [
    "a1.remove('a')\n",
    "a1"
   ]
  },
  {
   "cell_type": "code",
   "execution_count": 16,
   "id": "541b9e60-7f27-4efb-88e7-ce7d03c8eb43",
   "metadata": {},
   "outputs": [
    {
     "data": {
      "text/plain": [
       "{'c', 'l'}"
      ]
     },
     "execution_count": 16,
     "metadata": {},
     "output_type": "execute_result"
    }
   ],
   "source": [
    "a1"
   ]
  },
  {
   "cell_type": "code",
   "execution_count": 17,
   "id": "224527ac-58bf-41fe-9400-ab08147c3310",
   "metadata": {},
   "outputs": [
    {
     "data": {
      "text/plain": [
       "{'c'}"
      ]
     },
     "execution_count": 17,
     "metadata": {},
     "output_type": "execute_result"
    }
   ],
   "source": [
    "a1.remove('l')\n",
    "a1"
   ]
  },
  {
   "cell_type": "code",
   "execution_count": 18,
   "id": "b1ca33fd-714f-4b1d-9132-226fee11d4a8",
   "metadata": {},
   "outputs": [
    {
     "data": {
      "text/plain": [
       "set()"
      ]
     },
     "execution_count": 18,
     "metadata": {},
     "output_type": "execute_result"
    }
   ],
   "source": [
    "a1.clear()\n",
    "a1"
   ]
  },
  {
   "cell_type": "code",
   "execution_count": 19,
   "id": "1ba78a68-a8ae-4b5e-9932-52d4d704b085",
   "metadata": {},
   "outputs": [],
   "source": [
    "a2 = {1,2,3,4,5,6,7,8}\n",
    "a3 = {10,2,40,50,60}"
   ]
  },
  {
   "cell_type": "code",
   "execution_count": 20,
   "id": "a3e2cb5e-2360-4bd5-9919-2649018a13f6",
   "metadata": {},
   "outputs": [
    {
     "data": {
      "text/plain": [
       "{1, 2, 3, 4, 5, 6, 7, 8, 10, 40, 50, 60}"
      ]
     },
     "execution_count": 20,
     "metadata": {},
     "output_type": "execute_result"
    }
   ],
   "source": [
    "a2.union(a3)"
   ]
  },
  {
   "cell_type": "code",
   "execution_count": 21,
   "id": "da0db9e6-8b91-4dfd-8f7e-8dabf999673e",
   "metadata": {},
   "outputs": [
    {
     "data": {
      "text/plain": [
       "{1, 2, 3, 4, 5, 6, 7, 8, 10, 40, 50, 60}"
      ]
     },
     "execution_count": 21,
     "metadata": {},
     "output_type": "execute_result"
    }
   ],
   "source": [
    "a3.union(a2)"
   ]
  },
  {
   "cell_type": "code",
   "execution_count": 22,
   "id": "49ac614a-d80b-4738-bd79-e1e88495fbd6",
   "metadata": {},
   "outputs": [
    {
     "data": {
      "text/plain": [
       "{1, 2, 3, 4, 5, 6, 7, 8}"
      ]
     },
     "execution_count": 22,
     "metadata": {},
     "output_type": "execute_result"
    }
   ],
   "source": [
    "a2"
   ]
  },
  {
   "cell_type": "code",
   "execution_count": 23,
   "id": "d3790582-2bca-47f3-94c0-279c39d2254c",
   "metadata": {},
   "outputs": [
    {
     "data": {
      "text/plain": [
       "{2, 10, 40, 50, 60}"
      ]
     },
     "execution_count": 23,
     "metadata": {},
     "output_type": "execute_result"
    }
   ],
   "source": [
    "a3"
   ]
  },
  {
   "cell_type": "code",
   "execution_count": 24,
   "id": "343f5a96-e871-4928-954a-98ac262e6494",
   "metadata": {},
   "outputs": [
    {
     "data": {
      "text/plain": [
       "{1, 2, 3, 4, 5, 6, 7, 8}"
      ]
     },
     "execution_count": 24,
     "metadata": {},
     "output_type": "execute_result"
    }
   ],
   "source": [
    "a1.union(a2)"
   ]
  },
  {
   "cell_type": "code",
   "execution_count": 25,
   "id": "c5c98c23-d0fc-4370-bd06-8761efc2c222",
   "metadata": {},
   "outputs": [
    {
     "data": {
      "text/plain": [
       "{2}"
      ]
     },
     "execution_count": 25,
     "metadata": {},
     "output_type": "execute_result"
    }
   ],
   "source": [
    "a2.intersection(a3)"
   ]
  },
  {
   "cell_type": "code",
   "execution_count": 26,
   "id": "25861483-e10f-45e2-8e0e-28c69bee93c9",
   "metadata": {},
   "outputs": [],
   "source": [
    "x = {'a','b','c','d'}\n",
    "y = {'b','l', 'd','m'}"
   ]
  },
  {
   "cell_type": "code",
   "execution_count": 27,
   "id": "488faf2e-5fb4-417d-a888-799805381746",
   "metadata": {},
   "outputs": [
    {
     "data": {
      "text/plain": [
       "{'b', 'd'}"
      ]
     },
     "execution_count": 27,
     "metadata": {},
     "output_type": "execute_result"
    }
   ],
   "source": [
    "x.intersection(y)"
   ]
  },
  {
   "cell_type": "code",
   "execution_count": 28,
   "id": "a76d174c-3c3c-4251-9f0e-b185833a2f2a",
   "metadata": {},
   "outputs": [
    {
     "data": {
      "text/plain": [
       "{'a', 'b', 'c', 'd', 'l', 'm'}"
      ]
     },
     "execution_count": 28,
     "metadata": {},
     "output_type": "execute_result"
    }
   ],
   "source": [
    "x.union(y)"
   ]
  },
  {
   "cell_type": "code",
   "execution_count": 29,
   "id": "634268e3-9b07-445f-9b44-fca9991c6ee2",
   "metadata": {},
   "outputs": [
    {
     "data": {
      "text/plain": [
       "{'a', 'c', 'l', 'm'}"
      ]
     },
     "execution_count": 29,
     "metadata": {},
     "output_type": "execute_result"
    }
   ],
   "source": [
    "x.symmetric_difference(y)"
   ]
  },
  {
   "cell_type": "code",
   "execution_count": 30,
   "id": "03e68cdb-f625-43cc-8846-f00550517707",
   "metadata": {},
   "outputs": [
    {
     "data": {
      "text/plain": [
       "{'a', 'b', 'c', 'd', 'e'}"
      ]
     },
     "execution_count": 30,
     "metadata": {},
     "output_type": "execute_result"
    }
   ],
   "source": [
    "x.update('e')\n",
    "x"
   ]
  },
  {
   "cell_type": "code",
   "execution_count": 31,
   "id": "2106ef1c-58a9-4b38-a292-1530ec1cbe6a",
   "metadata": {},
   "outputs": [
    {
     "data": {
      "text/plain": [
       "{'a', 'b', 'c', 'd', 'e', 'k'}"
      ]
     },
     "execution_count": 31,
     "metadata": {},
     "output_type": "execute_result"
    }
   ],
   "source": [
    "x.add('k')\n",
    "x"
   ]
  },
  {
   "cell_type": "code",
   "execution_count": 32,
   "id": "084104d9-d493-4793-81c7-8c485ae73052",
   "metadata": {},
   "outputs": [
    {
     "data": {
      "text/plain": [
       "{'a', 'b', 'c', 'd', 'e', 'k'}"
      ]
     },
     "execution_count": 32,
     "metadata": {},
     "output_type": "execute_result"
    }
   ],
   "source": [
    "x\n"
   ]
  },
  {
   "cell_type": "code",
   "execution_count": 33,
   "id": "cca27cf2-244f-40b9-8715-3ae6e6e88338",
   "metadata": {},
   "outputs": [
    {
     "data": {
      "text/plain": [
       "{'b', 'd', 'l', 'm'}"
      ]
     },
     "execution_count": 33,
     "metadata": {},
     "output_type": "execute_result"
    }
   ],
   "source": [
    "y"
   ]
  },
  {
   "cell_type": "code",
   "execution_count": 1,
   "id": "67bcfc90-d3b5-4ec4-9699-0f33dd3f6ae5",
   "metadata": {},
   "outputs": [],
   "source": [
    "num1 = {10,20,30,40,50}\n",
    "num2 = {50,300,200}    #1U2"
   ]
  },
  {
   "cell_type": "code",
   "execution_count": 2,
   "id": "e4a2d883-7688-4f5d-94bc-eee1990e541c",
   "metadata": {},
   "outputs": [
    {
     "data": {
      "text/plain": [
       "{10, 20, 30, 40, 50, 200, 300}"
      ]
     },
     "execution_count": 2,
     "metadata": {},
     "output_type": "execute_result"
    }
   ],
   "source": [
    "num1.union(num2)"
   ]
  },
  {
   "cell_type": "code",
   "execution_count": 3,
   "id": "04fe2047-36f8-4220-a8cf-b7cf17ef6e12",
   "metadata": {},
   "outputs": [
    {
     "name": "stdout",
     "output_type": "stream",
     "text": [
      "{50, 20, 40, 10, 300, 30, 200}\n"
     ]
    }
   ],
   "source": [
    "print(num1.union(num2))"
   ]
  },
  {
   "cell_type": "code",
   "execution_count": 4,
   "id": "fe3e48ad-e13d-407f-8de1-db11e3351937",
   "metadata": {},
   "outputs": [
    {
     "data": {
      "text/plain": [
       "{50}"
      ]
     },
     "execution_count": 4,
     "metadata": {},
     "output_type": "execute_result"
    }
   ],
   "source": [
    "num1.intersection(num2)"
   ]
  },
  {
   "cell_type": "code",
   "execution_count": 5,
   "id": "ae7b880b-4e28-4312-ab5a-f8008ab85f37",
   "metadata": {},
   "outputs": [
    {
     "name": "stdout",
     "output_type": "stream",
     "text": [
      "{50}\n"
     ]
    }
   ],
   "source": [
    "print(num1.intersection(num2))"
   ]
  },
  {
   "cell_type": "code",
   "execution_count": 6,
   "id": "b13abe87-7080-4a0e-a08d-45e42bd899fe",
   "metadata": {},
   "outputs": [
    {
     "name": "stdout",
     "output_type": "stream",
     "text": [
      "{50}\n"
     ]
    }
   ],
   "source": [
    "print(num1 & num2)"
   ]
  },
  {
   "cell_type": "code",
   "execution_count": 7,
   "id": "8f2e93c5-0ff4-44a4-ae50-06ee2d19ee50",
   "metadata": {},
   "outputs": [
    {
     "name": "stdout",
     "output_type": "stream",
     "text": [
      "{40, 10, 20, 30}\n"
     ]
    }
   ],
   "source": [
    "print(num1-num2)"
   ]
  },
  {
   "cell_type": "code",
   "execution_count": 8,
   "id": "51915334-ff63-4bd1-a74c-3b4bac082196",
   "metadata": {},
   "outputs": [
    {
     "data": {
      "text/plain": [
       "{10, 20, 30, 40}"
      ]
     },
     "execution_count": 8,
     "metadata": {},
     "output_type": "execute_result"
    }
   ],
   "source": [
    "num1.difference(num2)"
   ]
  },
  {
   "cell_type": "code",
   "execution_count": 9,
   "id": "a93c73fb-bb40-416b-bfff-b310f034d906",
   "metadata": {},
   "outputs": [
    {
     "data": {
      "text/plain": [
       "{10, 20, 30, 40, 50}"
      ]
     },
     "execution_count": 9,
     "metadata": {},
     "output_type": "execute_result"
    }
   ],
   "source": [
    "num1"
   ]
  },
  {
   "cell_type": "code",
   "execution_count": 10,
   "id": "d5987520-1ec2-491c-8953-513ad9de7ad2",
   "metadata": {},
   "outputs": [
    {
     "data": {
      "text/plain": [
       "{50, 200, 300}"
      ]
     },
     "execution_count": 10,
     "metadata": {},
     "output_type": "execute_result"
    }
   ],
   "source": [
    "num2"
   ]
  },
  {
   "cell_type": "code",
   "execution_count": 11,
   "id": "86e3350f-ea52-467c-942c-18701747ecd1",
   "metadata": {},
   "outputs": [
    {
     "data": {
      "text/plain": [
       "{200, 300}"
      ]
     },
     "execution_count": 11,
     "metadata": {},
     "output_type": "execute_result"
    }
   ],
   "source": [
    "num2.difference(num1)"
   ]
  },
  {
   "cell_type": "code",
   "execution_count": 12,
   "id": "491ac105-9bbb-4eaa-bd4f-d757e6fbc5f7",
   "metadata": {},
   "outputs": [
    {
     "data": {
      "text/plain": [
       "{10, 20, 30, 40, 50}"
      ]
     },
     "execution_count": 12,
     "metadata": {},
     "output_type": "execute_result"
    }
   ],
   "source": [
    "num1"
   ]
  },
  {
   "cell_type": "code",
   "execution_count": 13,
   "id": "5dae168b-852b-436f-8870-920d78fa5f7b",
   "metadata": {},
   "outputs": [
    {
     "data": {
      "text/plain": [
       "{50, 200, 300}"
      ]
     },
     "execution_count": 13,
     "metadata": {},
     "output_type": "execute_result"
    }
   ],
   "source": [
    "num2"
   ]
  },
  {
   "cell_type": "code",
   "execution_count": 14,
   "id": "fba6f517-9dce-4bbd-851f-74f9ef7db523",
   "metadata": {},
   "outputs": [
    {
     "data": {
      "text/plain": [
       "{10, 20, 30, 40, 200, 300}"
      ]
     },
     "execution_count": 14,
     "metadata": {},
     "output_type": "execute_result"
    }
   ],
   "source": [
    "num1.symmetric_difference(num2)"
   ]
  },
  {
   "cell_type": "code",
   "execution_count": 15,
   "id": "103ef93a-6dbf-4c9f-b100-f8a866d2ae4d",
   "metadata": {},
   "outputs": [
    {
     "name": "stdout",
     "output_type": "stream",
     "text": [
      "{200, 40, 10, 300, 20, 30}\n"
     ]
    }
   ],
   "source": [
    "print(num1^num2)"
   ]
  },
  {
   "cell_type": "code",
   "execution_count": null,
   "id": "ac8881e1-885e-4bad-b361-5c8b4ee07714",
   "metadata": {},
   "outputs": [],
   "source": [
    "num1 = {10,20,30,40,50}\n",
    "num2 = {50,300,200} \n"
   ]
  },
  {
   "cell_type": "code",
   "execution_count": 16,
   "id": "a85f8ea9-2e35-435d-8e16-32f6d3c989b8",
   "metadata": {},
   "outputs": [
    {
     "data": {
      "text/plain": [
       "False"
      ]
     },
     "execution_count": 16,
     "metadata": {},
     "output_type": "execute_result"
    }
   ],
   "source": [
    "num1.issubset(num2) ## Subset: if each element of 1 is in 2 "
   ]
  },
  {
   "cell_type": "code",
   "execution_count": 17,
   "id": "0c564adf-40cd-409d-8df5-8631c99a0d4b",
   "metadata": {},
   "outputs": [
    {
     "data": {
      "text/plain": [
       "False"
      ]
     },
     "execution_count": 17,
     "metadata": {},
     "output_type": "execute_result"
    }
   ],
   "source": [
    "num2.issubset(num1)"
   ]
  },
  {
   "cell_type": "code",
   "execution_count": 18,
   "id": "87694093-13a9-444c-92b8-926696198117",
   "metadata": {},
   "outputs": [
    {
     "data": {
      "text/plain": [
       "False"
      ]
     },
     "execution_count": 18,
     "metadata": {},
     "output_type": "execute_result"
    }
   ],
   "source": [
    "num1.issuperset(num2)"
   ]
  },
  {
   "cell_type": "code",
   "execution_count": 23,
   "id": "c1a91d44-9d64-458a-9851-036079c34c26",
   "metadata": {},
   "outputs": [
    {
     "data": {
      "text/plain": [
       "False"
      ]
     },
     "execution_count": 23,
     "metadata": {},
     "output_type": "execute_result"
    }
   ],
   "source": [
    "num1.isdisjoint(num2)"
   ]
  },
  {
   "cell_type": "code",
   "execution_count": null,
   "id": "315de2ff-3fcd-4de8-8873-e870d429a108",
   "metadata": {},
   "outputs": [],
   "source": [
    "# if each element in a is in b"
   ]
  },
  {
   "cell_type": "code",
   "execution_count": 19,
   "id": "3486d60d-c167-436e-9c16-86b8ef4ed7de",
   "metadata": {},
   "outputs": [],
   "source": [
    "a = {1,2,3,4,5,6,8}\n",
    "b = {2,4,8}"
   ]
  },
  {
   "cell_type": "code",
   "execution_count": 20,
   "id": "2d1ef0f4-7dea-4f57-815c-23dcfe8a0a04",
   "metadata": {},
   "outputs": [
    {
     "data": {
      "text/plain": [
       "True"
      ]
     },
     "execution_count": 20,
     "metadata": {},
     "output_type": "execute_result"
    }
   ],
   "source": [
    "a.issuperset(b)"
   ]
  },
  {
   "cell_type": "code",
   "execution_count": 21,
   "id": "a963cd38-3c4d-4a79-94e0-5359e0a41b87",
   "metadata": {},
   "outputs": [
    {
     "data": {
      "text/plain": [
       "False"
      ]
     },
     "execution_count": 21,
     "metadata": {},
     "output_type": "execute_result"
    }
   ],
   "source": [
    "b.issuperset(a)"
   ]
  },
  {
   "cell_type": "code",
   "execution_count": 22,
   "id": "06d6aaf0-b567-462e-bed5-db56f33cfed9",
   "metadata": {},
   "outputs": [
    {
     "data": {
      "text/plain": [
       "False"
      ]
     },
     "execution_count": 22,
     "metadata": {},
     "output_type": "execute_result"
    }
   ],
   "source": [
    "a.isdisjoint(b)"
   ]
  },
  {
   "cell_type": "code",
   "execution_count": null,
   "id": "b126e7d0-1c90-4347-99cc-1e7a24049b45",
   "metadata": {},
   "outputs": [],
   "source": []
  }
 ],
 "metadata": {
  "kernelspec": {
   "display_name": "Python 3 (ipykernel)",
   "language": "python",
   "name": "python3"
  },
  "language_info": {
   "codemirror_mode": {
    "name": "ipython",
    "version": 3
   },
   "file_extension": ".py",
   "mimetype": "text/x-python",
   "name": "python",
   "nbconvert_exporter": "python",
   "pygments_lexer": "ipython3",
   "version": "3.11.9"
  }
 },
 "nbformat": 4,
 "nbformat_minor": 5
}
