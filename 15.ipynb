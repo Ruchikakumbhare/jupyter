{
 "cells": [
  {
   "cell_type": "code",
   "execution_count": null,
   "id": "1d7be06b-918a-4366-bb69-de5d0dd4c235",
   "metadata": {},
   "outputs": [],
   "source": [
    "# DICTIONARY  IN PYTHON\n",
    "Dictionaries are used to store data values in key:value pairs.\n",
    "    A dictionary is a collection which is  changeable and do not allow duplicates.\n",
    "    Dictionaries cannot have two items with the same key"
   ]
  },
  {
   "cell_type": "code",
   "execution_count": null,
   "id": "f1579d19-6a78-47c8-9271-19cc02e8bbdd",
   "metadata": {},
   "outputs": [],
   "source": [
    "#Syntax\n",
    " dictionary = { key           : value ,   \n",
    "                key2          : value2  }\n",
    "# Mutable      Not duplicate\n",
    "#               hashable"
   ]
  },
  {
   "cell_type": "code",
   "execution_count": 2,
   "id": "d65c376a-9d22-4a34-a64f-9962b91fff73",
   "metadata": {},
   "outputs": [
    {
     "name": "stdout",
     "output_type": "stream",
     "text": [
      "{1, 2, 3, 4}\n",
      "<class 'set'>\n"
     ]
    }
   ],
   "source": [
    "a={1,2,3,4}\n",
    "print(a)\n",
    "print(type(a))"
   ]
  },
  {
   "cell_type": "code",
   "execution_count": 5,
   "id": "d15c0476-b204-45df-8c5f-995e837d7fda",
   "metadata": {},
   "outputs": [],
   "source": [
    "a1 = { \n",
    "    'fname' : 'Ruchika',\n",
    "    'lname' : 'Kumbhare',\n",
    "    'age' : 22\n",
    "}"
   ]
  },
  {
   "cell_type": "code",
   "execution_count": 6,
   "id": "160e90d1-eb6a-411c-83b0-b1aa1583fa78",
   "metadata": {},
   "outputs": [
    {
     "name": "stdout",
     "output_type": "stream",
     "text": [
      "{'fname': 'Ruchika', 'lname': 'Kumbhare', 'age': 22}\n"
     ]
    }
   ],
   "source": [
    "print(a1)"
   ]
  },
  {
   "cell_type": "code",
   "execution_count": 7,
   "id": "28fb97e1-9071-4139-8be6-8003ae7152f2",
   "metadata": {},
   "outputs": [
    {
     "data": {
      "text/plain": [
       "dict"
      ]
     },
     "execution_count": 7,
     "metadata": {},
     "output_type": "execute_result"
    }
   ],
   "source": [
    "type(a1)"
   ]
  },
  {
   "cell_type": "code",
   "execution_count": 8,
   "id": "f6bd6424-2526-4e9a-a703-055ac99d41d0",
   "metadata": {},
   "outputs": [
    {
     "ename": "KeyError",
     "evalue": "2",
     "output_type": "error",
     "traceback": [
      "\u001b[1;31m---------------------------------------------------------------------------\u001b[0m",
      "\u001b[1;31mKeyError\u001b[0m                                  Traceback (most recent call last)",
      "Cell \u001b[1;32mIn[8], line 1\u001b[0m\n\u001b[1;32m----> 1\u001b[0m a1[\u001b[38;5;241m2\u001b[39m]\n",
      "\u001b[1;31mKeyError\u001b[0m: 2"
     ]
    }
   ],
   "source": [
    "a1[2]   #it does not store in index values"
   ]
  },
  {
   "cell_type": "code",
   "execution_count": 9,
   "id": "3ca57d5d-757e-42cd-9da4-06831d43b1b0",
   "metadata": {},
   "outputs": [
    {
     "data": {
      "text/plain": [
       "22"
      ]
     },
     "execution_count": 9,
     "metadata": {},
     "output_type": "execute_result"
    }
   ],
   "source": [
    "a1['age']"
   ]
  },
  {
   "cell_type": "code",
   "execution_count": 10,
   "id": "7b6d316c-07c8-44a7-8548-a145afd95b05",
   "metadata": {},
   "outputs": [
    {
     "data": {
      "text/plain": [
       "'Ruchika'"
      ]
     },
     "execution_count": 10,
     "metadata": {},
     "output_type": "execute_result"
    }
   ],
   "source": [
    "a1['fname']"
   ]
  },
  {
   "cell_type": "code",
   "execution_count": 11,
   "id": "61eead58-237e-4f75-9e00-4a008ab2c187",
   "metadata": {},
   "outputs": [
    {
     "data": {
      "text/plain": [
       "dict_keys(['fname', 'lname', 'age'])"
      ]
     },
     "execution_count": 11,
     "metadata": {},
     "output_type": "execute_result"
    }
   ],
   "source": [
    "a1.keys()"
   ]
  },
  {
   "cell_type": "code",
   "execution_count": 12,
   "id": "d81b0003-3eef-4fb5-b788-f3088b188817",
   "metadata": {},
   "outputs": [
    {
     "data": {
      "text/plain": [
       "dict_values(['Ruchika', 'Kumbhare', 22])"
      ]
     },
     "execution_count": 12,
     "metadata": {},
     "output_type": "execute_result"
    }
   ],
   "source": [
    "a1.values()"
   ]
  },
  {
   "cell_type": "code",
   "execution_count": null,
   "id": "92505d7b-a1b4-4e33-9157-6823fdd7748d",
   "metadata": {},
   "outputs": [],
   "source": [
    "# duplicate key in dictionary"
   ]
  },
  {
   "cell_type": "code",
   "execution_count": 15,
   "id": "3710ed82-3b2a-40bd-ac36-cda9526b28db",
   "metadata": {},
   "outputs": [],
   "source": [
    "fruits = {\n",
    "    'mango' : 'yellow',\n",
    "    'apple' : 'red',\n",
    "    'mango': 'green'\n",
    "}\n"
   ]
  },
  {
   "cell_type": "code",
   "execution_count": 16,
   "id": "e651ea64-6274-4bbd-9c7a-03f1fb22ce24",
   "metadata": {},
   "outputs": [
    {
     "data": {
      "text/plain": [
       "{'mango': 'green', 'apple': 'red'}"
      ]
     },
     "execution_count": 16,
     "metadata": {},
     "output_type": "execute_result"
    }
   ],
   "source": [
    "fruits\n"
   ]
  },
  {
   "cell_type": "code",
   "execution_count": 18,
   "id": "8246560e-eb21-4fa8-a7cf-f74f5b7e16d3",
   "metadata": {},
   "outputs": [
    {
     "data": {
      "text/plain": [
       "{'name': 'Raj',\n",
       " 'roll no.': 54,\n",
       " 'Addr': 'Pune',\n",
       " 'Hobby': 'cricket',\n",
       " (101, 55, 21, 9): 'Score',\n",
       " 'Score': [101, 55, 21, 9],\n",
       " 1: 'ONE'}"
      ]
     },
     "execution_count": 18,
     "metadata": {},
     "output_type": "execute_result"
    }
   ],
   "source": [
    "# keys are hashable\n",
    "dict_student = {\n",
    "    'name' : 'Raj',\n",
    "    'roll no.' : 54,\n",
    "    'Addr' : 'Pune',\n",
    "    'Hobby' :  'cricket',\n",
    "    # [101,55,21,9] : 'Scores',# unhashable type: 'list'\n",
    "    (101,55,21,9) : 'Score' ,# ok... but not to be used\n",
    "    'Score' :[101,55,21,9],\n",
    "    1 : 'ONE'\n",
    "}\n",
    "# keys are hashable\n",
    "dict_student"
   ]
  },
  {
   "cell_type": "code",
   "execution_count": null,
   "id": "f38e390d-d1c2-4ed1-8a1c-7ef65b17f7ee",
   "metadata": {},
   "outputs": [],
   "source": [
    "#  Defining the dict with values\n",
    "#   dict does not stores the value by index"
   ]
  },
  {
   "cell_type": "code",
   "execution_count": 19,
   "id": "17097bca-514d-4bef-85d8-f1dfcf66bcfe",
   "metadata": {},
   "outputs": [],
   "source": [
    "\n",
    "person = {\n",
    "    \"firstName\":\"Raj\",\n",
    "    (3,5,6):6,\n",
    "    \"Age\":22\n",
    "}\n"
   ]
  },
  {
   "cell_type": "code",
   "execution_count": 20,
   "id": "bc26f049-469e-4175-980c-aa00b194bfe8",
   "metadata": {},
   "outputs": [
    {
     "data": {
      "text/plain": [
       "{'firstName': 'Raj', (3, 5, 6): 6, 'Age': 22}"
      ]
     },
     "execution_count": 20,
     "metadata": {},
     "output_type": "execute_result"
    }
   ],
   "source": [
    "person"
   ]
  },
  {
   "cell_type": "code",
   "execution_count": 24,
   "id": "098ead1d-fe33-4817-b8d9-6f67283ed6a6",
   "metadata": {},
   "outputs": [
    {
     "data": {
      "text/plain": [
       "22"
      ]
     },
     "execution_count": 24,
     "metadata": {},
     "output_type": "execute_result"
    }
   ],
   "source": [
    "person['Age']"
   ]
  },
  {
   "cell_type": "code",
   "execution_count": 26,
   "id": "3f175c12-42d9-4a2c-afaa-8ce18a11f6ed",
   "metadata": {},
   "outputs": [
    {
     "ename": "KeyError",
     "evalue": "2",
     "output_type": "error",
     "traceback": [
      "\u001b[1;31m---------------------------------------------------------------------------\u001b[0m",
      "\u001b[1;31mKeyError\u001b[0m                                  Traceback (most recent call last)",
      "Cell \u001b[1;32mIn[26], line 1\u001b[0m\n\u001b[1;32m----> 1\u001b[0m person[\u001b[38;5;241m2\u001b[39m]\n",
      "\u001b[1;31mKeyError\u001b[0m: 2"
     ]
    }
   ],
   "source": [
    "person[2]"
   ]
  },
  {
   "cell_type": "code",
   "execution_count": null,
   "id": "f58e2165-1de6-4027-af9b-dabebf8e009e",
   "metadata": {},
   "outputs": [],
   "source": [
    "\n",
    "person = {\n",
    "    \"firstName\":\"Raj\",\n",
    "    (3,5,6):6,\n",
    "    \"Age\":22\n",
    "}\n"
   ]
  },
  {
   "cell_type": "code",
   "execution_count": 28,
   "id": "85a61a53-a695-4d6f-b085-52424373e70d",
   "metadata": {},
   "outputs": [
    {
     "data": {
      "text/plain": [
       "'Raj'"
      ]
     },
     "execution_count": 28,
     "metadata": {},
     "output_type": "execute_result"
    }
   ],
   "source": [
    "#retrive 1\n",
    "person['firstName'] #retrive 1"
   ]
  },
  {
   "cell_type": "code",
   "execution_count": 29,
   "id": "035ddc91-0736-4be3-9e9b-dde6e8b3ec5e",
   "metadata": {},
   "outputs": [
    {
     "data": {
      "text/plain": [
       "{'firstName': 'ruchi', (3, 5, 6): 6, 'Age': 22}"
      ]
     },
     "execution_count": 29,
     "metadata": {},
     "output_type": "execute_result"
    }
   ],
   "source": [
    "#update 2 \n",
    "person['firstName'] = 'ruchi'\n",
    "person\n"
   ]
  },
  {
   "cell_type": "code",
   "execution_count": null,
   "id": "8f1f76e2-26e6-453b-a903-7d78d2ba975e",
   "metadata": {},
   "outputs": [],
   "source": [
    "person = {\n",
    "    1:\"Raj\",\n",
    "    (3,5,6):6,\n",
    "    \"Age\":22\n",
    "}"
   ]
  },
  {
   "cell_type": "code",
   "execution_count": 30,
   "id": "a518a934-1951-414b-baf5-e81eb8e40ae1",
   "metadata": {},
   "outputs": [
    {
     "data": {
      "text/plain": [
       "{'firstName': 'ruchi', (3, 5, 6): 6, 'Age': 22, 'city': 'pune'}"
      ]
     },
     "execution_count": 30,
     "metadata": {},
     "output_type": "execute_result"
    }
   ],
   "source": [
    "# added 3]\n",
    "person['city'] = 'pune'\n",
    "person"
   ]
  },
  {
   "cell_type": "code",
   "execution_count": 32,
   "id": "09610620-040b-46ac-9793-34fe22334350",
   "metadata": {},
   "outputs": [
    {
     "data": {
      "text/plain": [
       "dict_values(['ruchi', 6, 22, 'pune'])"
      ]
     },
     "execution_count": 32,
     "metadata": {},
     "output_type": "execute_result"
    }
   ],
   "source": [
    "person.values()"
   ]
  },
  {
   "cell_type": "code",
   "execution_count": 33,
   "id": "163077a7-e8c0-4877-ba13-eabb9f3b33b0",
   "metadata": {},
   "outputs": [
    {
     "data": {
      "text/plain": [
       "dict_keys(['firstName', (3, 5, 6), 'Age', 'city'])"
      ]
     },
     "execution_count": 33,
     "metadata": {},
     "output_type": "execute_result"
    }
   ],
   "source": [
    "person.keys()"
   ]
  },
  {
   "cell_type": "code",
   "execution_count": 34,
   "id": "69d9e4f6-a557-4c65-8767-1ededabd2bc1",
   "metadata": {},
   "outputs": [
    {
     "data": {
      "text/plain": [
       "dict_items([('firstName', 'ruchi'), ((3, 5, 6), 6), ('Age', 22), ('city', 'pune')])"
      ]
     },
     "execution_count": 34,
     "metadata": {},
     "output_type": "execute_result"
    }
   ],
   "source": [
    "person.items()"
   ]
  },
  {
   "cell_type": "code",
   "execution_count": 36,
   "id": "9d88efcb-b923-4164-a9c4-a60729878550",
   "metadata": {},
   "outputs": [
    {
     "data": {
      "text/plain": [
       "'pune'"
      ]
     },
     "execution_count": 36,
     "metadata": {},
     "output_type": "execute_result"
    }
   ],
   "source": [
    "person.pop('city') "
   ]
  },
  {
   "cell_type": "code",
   "execution_count": 38,
   "id": "eea0cb85-96ac-4952-bfd4-025828911dd6",
   "metadata": {},
   "outputs": [
    {
     "data": {
      "text/plain": [
       "{'firstName': 'ruchi', (3, 5, 6): 6, 'Age': 22}"
      ]
     },
     "execution_count": 38,
     "metadata": {},
     "output_type": "execute_result"
    }
   ],
   "source": [
    "person"
   ]
  },
  {
   "cell_type": "code",
   "execution_count": 39,
   "id": "74af9086-5bce-4484-9d49-afd97367da67",
   "metadata": {},
   "outputs": [
    {
     "data": {
      "text/plain": [
       "('Age', 22)"
      ]
     },
     "execution_count": 39,
     "metadata": {},
     "output_type": "execute_result"
    }
   ],
   "source": [
    "person.popitem()"
   ]
  },
  {
   "cell_type": "code",
   "execution_count": 40,
   "id": "4f2d5957-0681-4fc3-a7f7-865a209f2206",
   "metadata": {},
   "outputs": [
    {
     "data": {
      "text/plain": [
       "{'firstName': 'ruchi', (3, 5, 6): 6}"
      ]
     },
     "execution_count": 40,
     "metadata": {},
     "output_type": "execute_result"
    }
   ],
   "source": [
    "person\n"
   ]
  }
 ],
 "metadata": {
  "kernelspec": {
   "display_name": "Python 3 (ipykernel)",
   "language": "python",
   "name": "python3"
  },
  "language_info": {
   "codemirror_mode": {
    "name": "ipython",
    "version": 3
   },
   "file_extension": ".py",
   "mimetype": "text/x-python",
   "name": "python",
   "nbconvert_exporter": "python",
   "pygments_lexer": "ipython3",
   "version": "3.11.9"
  }
 },
 "nbformat": 4,
 "nbformat_minor": 5
}
