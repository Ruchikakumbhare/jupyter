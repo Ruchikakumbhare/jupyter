{
 "cells": [
  {
   "cell_type": "code",
   "execution_count": null,
   "id": "88f10259-3f82-4ad8-9353-7fe1702c51ce",
   "metadata": {},
   "outputs": [],
   "source": [
    "5. Assignment operators:-\n",
    "//\n",
    "**\n",
    "%\n",
    "Left variable = Right variable"
   ]
  },
  {
   "cell_type": "code",
   "execution_count": 13,
   "id": "91a18f37-ff59-478b-b433-81dcd8ae6370",
   "metadata": {},
   "outputs": [
    {
     "data": {
      "text/plain": [
       "10"
      ]
     },
     "execution_count": 13,
     "metadata": {},
     "output_type": "execute_result"
    }
   ],
   "source": [
    " f = 10\n",
    " f"
   ]
  },
  {
   "cell_type": "code",
   "execution_count": 14,
   "id": "13f1c5d1-8712-4089-ae8c-2d74e618a98b",
   "metadata": {},
   "outputs": [
    {
     "data": {
      "text/plain": [
       "20"
      ]
     },
     "execution_count": 14,
     "metadata": {},
     "output_type": "execute_result"
    }
   ],
   "source": [
    " f + 10"
   ]
  },
  {
   "cell_type": "code",
   "execution_count": 15,
   "id": "752ffaae-5dfd-488f-8af6-7232fd3ecaf2",
   "metadata": {},
   "outputs": [],
   "source": [
    " q = 12"
   ]
  },
  {
   "cell_type": "code",
   "execution_count": 19,
   "id": "6c3af3b0-ad37-44d7-960e-fb93c55d5fc5",
   "metadata": {},
   "outputs": [],
   "source": [
    " q +=1"
   ]
  },
  {
   "cell_type": "code",
   "execution_count": 20,
   "id": "7f3890b2-bc19-4900-ac1a-8dc5ffed0bb4",
   "metadata": {},
   "outputs": [
    {
     "data": {
      "text/plain": [
       "13"
      ]
     },
     "execution_count": 20,
     "metadata": {},
     "output_type": "execute_result"
    }
   ],
   "source": [
    " q"
   ]
  },
  {
   "cell_type": "code",
   "execution_count": 21,
   "id": "b6f5a258-12c7-4f86-9ff0-cdf5e9c24e32",
   "metadata": {},
   "outputs": [
    {
     "data": {
      "text/plain": [
       "18"
      ]
     },
     "execution_count": 21,
     "metadata": {},
     "output_type": "execute_result"
    }
   ],
   "source": [
    " q+=5\n",
    " q"
   ]
  },
  {
   "cell_type": "code",
   "execution_count": null,
   "id": "2399b0fa-f4fe-4c3f-93da-d77e53029ebc",
   "metadata": {},
   "outputs": [],
   "source": [
    "## 5) Assignment operators:\n",
    "\n",
    "        Operator\t    Description\t                                                            \n",
    "    =\t                Assigns values from right side operands to left side operand\t\n",
    "    +=  Add AND\t        It adds right operand to the left operand and assign the result to left operand\t\n",
    "    -=  Subtract AND\tIt subtracts right operand from the left operand and assign the result to left operand\t\n",
    "    *=  Multiply AND\tIt multiplies right operand with the left operand and assign the result to left operand\t\n",
    "    /=  Divide AND\t    It divides left operand with the right operand and assign the result to left operand\t\n",
    "    %=  Modulus AND\t    It takes modulus using two operands and assign the result to left operand\tc %= a is equivalent to \n",
    "    **=  Exponent AND\tPerforms exponential (power) calculation on operators and assign value to the left operand\t\n",
    "    //=  Floor Division\tIt performs floor division on operators and assign value to the left operand"
   ]
  },
  {
   "cell_type": "code",
   "execution_count": 23,
   "id": "f73124d3-8713-4e4b-80ad-b1264f2aae5d",
   "metadata": {},
   "outputs": [],
   "source": [
    " a = 3"
   ]
  },
  {
   "cell_type": "code",
   "execution_count": 24,
   "id": "654295a9-7fec-457e-b64e-1dec97788903",
   "metadata": {},
   "outputs": [
    {
     "data": {
      "text/plain": [
       "3"
      ]
     },
     "execution_count": 24,
     "metadata": {},
     "output_type": "execute_result"
    }
   ],
   "source": [
    " a"
   ]
  },
  {
   "cell_type": "code",
   "execution_count": 25,
   "id": "d0919a07-509e-4d80-936d-2f54e8ff7293",
   "metadata": {},
   "outputs": [
    {
     "data": {
      "text/plain": [
       "5"
      ]
     },
     "execution_count": 25,
     "metadata": {},
     "output_type": "execute_result"
    }
   ],
   "source": [
    " a +=2\n",
    " a"
   ]
  },
  {
   "cell_type": "code",
   "execution_count": 26,
   "id": "679375fb-1572-46be-a7f0-57493fcd3124",
   "metadata": {},
   "outputs": [
    {
     "name": "stdout",
     "output_type": "stream",
     "text": [
      "5\n"
     ]
    }
   ],
   "source": [
    "  print(a)"
   ]
  },
  {
   "cell_type": "code",
   "execution_count": 29,
   "id": "0af7680f-ebb7-4204-b947-b39f13b8b946",
   "metadata": {},
   "outputs": [],
   "source": [
    "a -=1"
   ]
  },
  {
   "cell_type": "code",
   "execution_count": 30,
   "id": "2d2f3b76-79b7-49a5-9d9e-78045e1604ad",
   "metadata": {},
   "outputs": [
    {
     "name": "stdout",
     "output_type": "stream",
     "text": [
      "4\n"
     ]
    }
   ],
   "source": [
    " print(a)"
   ]
  },
  {
   "cell_type": "code",
   "execution_count": 31,
   "id": "5f9b4dbf-ebf6-4659-a63b-e7b8427648ae",
   "metadata": {},
   "outputs": [],
   "source": [
    " a /=2"
   ]
  },
  {
   "cell_type": "code",
   "execution_count": 32,
   "id": "59e17b28-b8e8-44d8-8d5d-4f4ea8d48743",
   "metadata": {},
   "outputs": [
    {
     "data": {
      "text/plain": [
       "2.0"
      ]
     },
     "execution_count": 32,
     "metadata": {},
     "output_type": "execute_result"
    }
   ],
   "source": [
    " a"
   ]
  },
  {
   "cell_type": "code",
   "execution_count": 33,
   "id": "1a6182f9-236e-4d3a-94e6-c38a31f8d517",
   "metadata": {},
   "outputs": [
    {
     "data": {
      "text/plain": [
       "10.0"
      ]
     },
     "execution_count": 33,
     "metadata": {},
     "output_type": "execute_result"
    }
   ],
   "source": [
    " a*=5\n",
    " a"
   ]
  },
  {
   "cell_type": "code",
   "execution_count": 36,
   "id": "8c7efe98-6ff7-4d15-a238-f3c753b0b1ca",
   "metadata": {},
   "outputs": [],
   "source": [
    " a **=2   "
   ]
  },
  {
   "cell_type": "code",
   "execution_count": 35,
   "id": "25b57d82-f375-42cf-ac02-ab2336f9910e",
   "metadata": {},
   "outputs": [
    {
     "data": {
      "text/plain": [
       "100.0"
      ]
     },
     "execution_count": 35,
     "metadata": {},
     "output_type": "execute_result"
    }
   ],
   "source": [
    " a"
   ]
  },
  {
   "cell_type": "code",
   "execution_count": 38,
   "id": "c6a57f57-01ad-4a1d-93f3-389655cb27ec",
   "metadata": {},
   "outputs": [],
   "source": [
    "v = 3"
   ]
  },
  {
   "cell_type": "code",
   "execution_count": 39,
   "id": "1bdc4a15-1717-4b5a-8c07-d3788423e424",
   "metadata": {},
   "outputs": [
    {
     "data": {
      "text/plain": [
       "3"
      ]
     },
     "execution_count": 39,
     "metadata": {},
     "output_type": "execute_result"
    }
   ],
   "source": [
    " v"
   ]
  },
  {
   "cell_type": "code",
   "execution_count": 41,
   "id": "aec05f1b-b22f-4fe9-b3bd-bbc07da207b3",
   "metadata": {},
   "outputs": [
    {
     "data": {
      "text/plain": [
       "81"
      ]
     },
     "execution_count": 41,
     "metadata": {},
     "output_type": "execute_result"
    }
   ],
   "source": [
    " v**=2\n",
    " v"
   ]
  },
  {
   "cell_type": "code",
   "execution_count": 42,
   "id": "fbe19fc7-fac6-452a-a60d-3f1ef0c77ef1",
   "metadata": {},
   "outputs": [
    {
     "data": {
      "text/plain": [
       "9"
      ]
     },
     "execution_count": 42,
     "metadata": {},
     "output_type": "execute_result"
    }
   ],
   "source": [
    "  3**2  #3*3 "
   ]
  },
  {
   "cell_type": "code",
   "execution_count": 43,
   "id": "e394fae6-9cb1-4f7f-bd52-a52a0668481d",
   "metadata": {},
   "outputs": [
    {
     "data": {
      "text/plain": [
       "64"
      ]
     },
     "execution_count": 43,
     "metadata": {},
     "output_type": "execute_result"
    }
   ],
   "source": [
    "  4**3  #4*4*4"
   ]
  },
  {
   "cell_type": "code",
   "execution_count": 45,
   "id": "14ad87be-a831-497f-92ff-bacfbcffa875",
   "metadata": {},
   "outputs": [
    {
     "name": "stdout",
     "output_type": "stream",
     "text": [
      "40.5\n"
     ]
    }
   ],
   "source": [
    "  v/=2\n",
    "  print(v)"
   ]
  },
  {
   "cell_type": "code",
   "execution_count": 46,
   "id": "0c794318-d4a5-45a5-aeba-9778dee63468",
   "metadata": {},
   "outputs": [],
   "source": [
    "v//=2"
   ]
  },
  {
   "cell_type": "code",
   "execution_count": 47,
   "id": "98921242-0d38-4ef6-a9b3-2b88926bbe74",
   "metadata": {},
   "outputs": [
    {
     "data": {
      "text/plain": [
       "20.0"
      ]
     },
     "execution_count": 47,
     "metadata": {},
     "output_type": "execute_result"
    }
   ],
   "source": [
    "v"
   ]
  },
  {
   "cell_type": "code",
   "execution_count": 48,
   "id": "769d31c8-b465-4cf8-a2db-db91b904c116",
   "metadata": {},
   "outputs": [
    {
     "data": {
      "text/plain": [
       "5"
      ]
     },
     "execution_count": 48,
     "metadata": {},
     "output_type": "execute_result"
    }
   ],
   "source": [
    " 10//2"
   ]
  },
  {
   "cell_type": "code",
   "execution_count": 49,
   "id": "0a0c415a-ad6f-4c08-b185-d629e0c5d9d3",
   "metadata": {},
   "outputs": [],
   "source": [
    " v%=2"
   ]
  },
  {
   "cell_type": "code",
   "execution_count": 50,
   "id": "3762c8a5-6646-4b1a-9893-cc1efef562dc",
   "metadata": {},
   "outputs": [
    {
     "data": {
      "text/plain": [
       "0.0"
      ]
     },
     "execution_count": 50,
     "metadata": {},
     "output_type": "execute_result"
    }
   ],
   "source": [
    " v"
   ]
  },
  {
   "cell_type": "code",
   "execution_count": 51,
   "id": "e0a7f53c-13ea-44e5-81aa-ba1e4cad0224",
   "metadata": {},
   "outputs": [
    {
     "data": {
      "text/plain": [
       "10"
      ]
     },
     "execution_count": 51,
     "metadata": {},
     "output_type": "execute_result"
    }
   ],
   "source": [
    "20//2"
   ]
  },
  {
   "cell_type": "code",
   "execution_count": 52,
   "id": "99afaa79-2748-41c8-985c-d3519a65f277",
   "metadata": {},
   "outputs": [
    {
     "data": {
      "text/plain": [
       "3.0"
      ]
     },
     "execution_count": 52,
     "metadata": {},
     "output_type": "execute_result"
    }
   ],
   "source": [
    "3/1"
   ]
  },
  {
   "cell_type": "code",
   "execution_count": 53,
   "id": "2e8557ee-0d73-4afa-ac27-30b5d0a9c5d3",
   "metadata": {},
   "outputs": [
    {
     "data": {
      "text/plain": [
       "15.0"
      ]
     },
     "execution_count": 53,
     "metadata": {},
     "output_type": "execute_result"
    }
   ],
   "source": [
    "30/2"
   ]
  },
  {
   "cell_type": "code",
   "execution_count": null,
   "id": "41eb9bd3-9bc4-4712-9497-b670609b221d",
   "metadata": {},
   "outputs": [],
   "source": []
  }
 ],
 "metadata": {
  "kernelspec": {
   "display_name": "Python 3 (ipykernel)",
   "language": "python",
   "name": "python3"
  },
  "language_info": {
   "codemirror_mode": {
    "name": "ipython",
    "version": 3
   },
   "file_extension": ".py",
   "mimetype": "text/x-python",
   "name": "python",
   "nbconvert_exporter": "python",
   "pygments_lexer": "ipython3",
   "version": "3.11.9"
  }
 },
 "nbformat": 4,
 "nbformat_minor": 5
}
