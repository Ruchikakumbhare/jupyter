{
 "cells": [
  {
   "cell_type": "code",
   "execution_count": 1,
   "id": "a2da902e-5b1b-4cd5-8bc2-4181d955067e",
   "metadata": {},
   "outputs": [],
   "source": [
    "# Create matrix with initial values"
   ]
  },
  {
   "cell_type": "code",
   "execution_count": null,
   "id": "200239d6-3a49-49ce-9ae1-4bb78807f04b",
   "metadata": {},
   "outputs": [],
   "source": [
    "# # Methods\n",
    "# np.array()\n",
    "# np.arange()\n",
    "# np.linspace()\n",
    "\n",
    "# # With initial values\n",
    "# np.eye():Creates an identity matrix\n",
    "# np.zeros:Creates an array filled with zeros\n",
    "# np.ones():Creates an array filled with ones\n",
    "# np.full():Creates an array filled with a specified value\n",
    "# np.empty() : Create with random values"
   ]
  },
  {
   "cell_type": "code",
   "execution_count": null,
   "id": "91fc23b0-2db8-4ab4-b3f0-a1019be7303c",
   "metadata": {},
   "outputs": [],
   "source": []
  },
  {
   "cell_type": "code",
   "execution_count": 7,
   "id": "723db28b-f29c-40c1-a1da-9e184edcf014",
   "metadata": {},
   "outputs": [],
   "source": [
    "import numpy as np\n"
   ]
  },
  {
   "cell_type": "code",
   "execution_count": 9,
   "id": "9a90e448-5f49-41b2-a8bb-4337df367e6c",
   "metadata": {},
   "outputs": [
    {
     "data": {
      "text/plain": [
       "array([[1., 0., 0., 0.],\n",
       "       [0., 1., 0., 0.],\n",
       "       [0., 0., 1., 0.],\n",
       "       [0., 0., 0., 1.]])"
      ]
     },
     "execution_count": 9,
     "metadata": {},
     "output_type": "execute_result"
    }
   ],
   "source": [
    "np.eye(4)  #Creates an identity matrix"
   ]
  },
  {
   "cell_type": "code",
   "execution_count": 11,
   "id": "26f1694a-3b14-496a-b7fe-4410885e4f61",
   "metadata": {},
   "outputs": [
    {
     "data": {
      "text/plain": [
       "array([0., 0., 0., 0.])"
      ]
     },
     "execution_count": 11,
     "metadata": {},
     "output_type": "execute_result"
    }
   ],
   "source": [
    "np.zeros(4)"
   ]
  },
  {
   "cell_type": "code",
   "execution_count": 17,
   "id": "d88a02a1-abb7-45b4-af46-1d2c2ae9c703",
   "metadata": {},
   "outputs": [
    {
     "data": {
      "text/plain": [
       "array([[0., 0., 0.],\n",
       "       [0., 0., 0.],\n",
       "       [0., 0., 0.]])"
      ]
     },
     "execution_count": 17,
     "metadata": {},
     "output_type": "execute_result"
    }
   ],
   "source": [
    "np.zeros((3,3)) "
   ]
  },
  {
   "cell_type": "code",
   "execution_count": 19,
   "id": "07478788-f73e-4f94-a4fc-7e133a6efecf",
   "metadata": {},
   "outputs": [
    {
     "data": {
      "text/plain": [
       "array([[1., 1., 1.],\n",
       "       [1., 1., 1.]])"
      ]
     },
     "execution_count": 19,
     "metadata": {},
     "output_type": "execute_result"
    }
   ],
   "source": [
    "np.ones((2,3))"
   ]
  },
  {
   "cell_type": "code",
   "execution_count": 23,
   "id": "e567058a-1f90-4cec-99c5-c8a902b5f63c",
   "metadata": {},
   "outputs": [
    {
     "data": {
      "text/plain": [
       "array([[5, 5, 5],\n",
       "       [5, 5, 5]])"
      ]
     },
     "execution_count": 23,
     "metadata": {},
     "output_type": "execute_result"
    }
   ],
   "source": [
    "# creates an array filled with a specified value\n",
    "np.full((2,3),5)"
   ]
  },
  {
   "cell_type": "code",
   "execution_count": 25,
   "id": "d7e5d4e9-b207-4c7b-84c0-ec7c197df9cf",
   "metadata": {},
   "outputs": [
    {
     "data": {
      "text/plain": [
       "array([[10, 10, 10],\n",
       "       [10, 10, 10],\n",
       "       [10, 10, 10]])"
      ]
     },
     "execution_count": 25,
     "metadata": {},
     "output_type": "execute_result"
    }
   ],
   "source": [
    "np.full((3,3),10)"
   ]
  },
  {
   "cell_type": "code",
   "execution_count": 29,
   "id": "da56a4b8-f7dd-4ec0-a05c-31764719d8c4",
   "metadata": {},
   "outputs": [
    {
     "data": {
      "text/plain": [
       "array([[0., 0.],\n",
       "       [0., 0.]])"
      ]
     },
     "execution_count": 29,
     "metadata": {},
     "output_type": "execute_result"
    }
   ],
   "source": [
    "# np.empty() : Create with random values\n",
    "np.empty((2,2))"
   ]
  },
  {
   "cell_type": "code",
   "execution_count": 31,
   "id": "5930a4a3-32cd-4d71-8d56-42b89241d9f2",
   "metadata": {},
   "outputs": [
    {
     "data": {
      "text/plain": [
       "array([[6.23042070e-307, 4.67296746e-307, 1.69121096e-306,\n",
       "        1.06811083e-306, 7.56587585e-307],\n",
       "       [1.37961302e-306, 1.05699242e-307, 8.01097889e-307,\n",
       "        1.78020169e-306, 7.56601165e-307],\n",
       "       [1.02359984e-306, 1.42417221e-306, 7.56593017e-307,\n",
       "        1.37961709e-306, 1.37962388e-306],\n",
       "       [1.78018811e-306, 9.34604358e-307, 1.06810268e-306,\n",
       "        8.34443864e-308, 1.42404727e-306]])"
      ]
     },
     "execution_count": 31,
     "metadata": {},
     "output_type": "execute_result"
    }
   ],
   "source": [
    "np.empty((4,5))  #random values created"
   ]
  },
  {
   "cell_type": "code",
   "execution_count": 35,
   "id": "157b899a-268a-4bc9-858a-75c156375686",
   "metadata": {},
   "outputs": [
    {
     "data": {
      "text/plain": [
       "array([ 2,  4,  6,  8, 10, 12, 14, 16, 18])"
      ]
     },
     "execution_count": 35,
     "metadata": {},
     "output_type": "execute_result"
    }
   ],
   "source": [
    "a=np.arange(2,20,2)\n",
    "a"
   ]
  },
  {
   "cell_type": "code",
   "execution_count": 37,
   "id": "69ea9c14-a70e-4ca0-a0aa-ceb54e81e0c3",
   "metadata": {},
   "outputs": [
    {
     "data": {
      "text/plain": [
       "9"
      ]
     },
     "execution_count": 37,
     "metadata": {},
     "output_type": "execute_result"
    }
   ],
   "source": [
    "a.size"
   ]
  },
  {
   "cell_type": "code",
   "execution_count": 39,
   "id": "d7fd48da-54d0-498c-aeea-de7ff05698e4",
   "metadata": {},
   "outputs": [
    {
     "data": {
      "text/plain": [
       "array([[ 2,  4,  6],\n",
       "       [ 8, 10, 12],\n",
       "       [14, 16, 18]])"
      ]
     },
     "execution_count": 39,
     "metadata": {},
     "output_type": "execute_result"
    }
   ],
   "source": [
    "a.reshape(3,3)"
   ]
  },
  {
   "cell_type": "code",
   "execution_count": 5,
   "id": "e8e1b057-646d-4137-ba39-e7853be39333",
   "metadata": {},
   "outputs": [],
   "source": [
    "import numpy as np"
   ]
  },
  {
   "cell_type": "code",
   "execution_count": null,
   "id": "2625d98d-7a03-477e-bd04-bf95cbe8ea47",
   "metadata": {},
   "outputs": [],
   "source": [
    "# Convert multi-dimensional arrays into one-dimensional arrays\n",
    "# M1) ravel :returns a view of the original array. Changes to the new array may affect the original array and vice versa.\n",
    "# M2) flatten :returns a copy of the original array. Changes to the new array do not affect the original array.\n",
    "# M3) reshape"
   ]
  },
  {
   "cell_type": "code",
   "execution_count": 9,
   "id": "c1fd3042-7a89-4270-9c42-84bf188cd16f",
   "metadata": {},
   "outputs": [
    {
     "data": {
      "text/plain": [
       "array([ 2,  4,  6,  8, 10, 12, 14, 16, 18, 20, 22, 24, 26, 28, 30])"
      ]
     },
     "execution_count": 9,
     "metadata": {},
     "output_type": "execute_result"
    }
   ],
   "source": [
    "a =np.arange(2,31,2)\n",
    "a"
   ]
  },
  {
   "cell_type": "code",
   "execution_count": 11,
   "id": "445d3de4-03c8-4cd5-a802-01380123cf40",
   "metadata": {},
   "outputs": [
    {
     "data": {
      "text/plain": [
       "15"
      ]
     },
     "execution_count": 11,
     "metadata": {},
     "output_type": "execute_result"
    }
   ],
   "source": [
    "a.size"
   ]
  },
  {
   "cell_type": "code",
   "execution_count": 15,
   "id": "5ef61dd2-b269-4106-a02a-9dac72cc4d2c",
   "metadata": {},
   "outputs": [
    {
     "data": {
      "text/plain": [
       "array([[ 2,  4,  6,  8, 10],\n",
       "       [12, 14, 16, 18, 20],\n",
       "       [22, 24, 26, 28, 30]])"
      ]
     },
     "execution_count": 15,
     "metadata": {},
     "output_type": "execute_result"
    }
   ],
   "source": [
    "z=np.reshape(a,(3,5))\n",
    "z"
   ]
  },
  {
   "cell_type": "code",
   "execution_count": 17,
   "id": "5ea32b53-9bb7-4889-a2c0-f9300a7038f0",
   "metadata": {},
   "outputs": [],
   "source": [
    "a1=z.flatten()"
   ]
  },
  {
   "cell_type": "code",
   "execution_count": 19,
   "id": "7a362090-a306-40c9-81e4-a7e88cf10e78",
   "metadata": {},
   "outputs": [
    {
     "data": {
      "text/plain": [
       "array([ 2,  4,  6,  8, 10, 12, 14, 16, 18, 20, 22, 24, 26, 28, 30])"
      ]
     },
     "execution_count": 19,
     "metadata": {},
     "output_type": "execute_result"
    }
   ],
   "source": [
    "a1"
   ]
  },
  {
   "cell_type": "code",
   "execution_count": 25,
   "id": "8484ec97-1e48-4fc3-98d1-ec879d482b2a",
   "metadata": {},
   "outputs": [],
   "source": [
    "a1[6] = 60"
   ]
  },
  {
   "cell_type": "code",
   "execution_count": 27,
   "id": "9ee00d03-aefe-416c-a420-f73f5be02e93",
   "metadata": {},
   "outputs": [
    {
     "data": {
      "text/plain": [
       "array([ 2,  4,  6,  8, 10, 12, 60, 16, 18, 20, 22, 24, 26, 28, 30])"
      ]
     },
     "execution_count": 27,
     "metadata": {},
     "output_type": "execute_result"
    }
   ],
   "source": [
    "a1 #copy of z not affected in original array"
   ]
  },
  {
   "cell_type": "code",
   "execution_count": 29,
   "id": "9e4facd1-ba23-48b9-9ef1-5fe5d68e098b",
   "metadata": {},
   "outputs": [
    {
     "data": {
      "text/plain": [
       "array([[ 2,  4,  6,  8, 10],\n",
       "       [12, 14, 16, 18, 20],\n",
       "       [22, 24, 26, 28, 30]])"
      ]
     },
     "execution_count": 29,
     "metadata": {},
     "output_type": "execute_result"
    }
   ],
   "source": [
    "z"
   ]
  },
  {
   "cell_type": "code",
   "execution_count": 31,
   "id": "0b4f6bc8-68cb-4bfc-bda0-c5b583d20b46",
   "metadata": {},
   "outputs": [],
   "source": [
    "a2=z.ravel()"
   ]
  },
  {
   "cell_type": "code",
   "execution_count": 33,
   "id": "cbc8458a-b1eb-437b-a6ac-13d4f0a424de",
   "metadata": {},
   "outputs": [
    {
     "data": {
      "text/plain": [
       "array([ 2,  4,  6,  8, 10, 12, 14, 16, 18, 20, 22, 24, 26, 28, 30])"
      ]
     },
     "execution_count": 33,
     "metadata": {},
     "output_type": "execute_result"
    }
   ],
   "source": [
    "a2"
   ]
  },
  {
   "cell_type": "code",
   "execution_count": 35,
   "id": "677fae1d-4641-4f50-8b18-550a1704aa69",
   "metadata": {},
   "outputs": [],
   "source": [
    "a2[7]= 70"
   ]
  },
  {
   "cell_type": "code",
   "execution_count": 37,
   "id": "722abdb5-bb7c-417d-a5ef-38548c160a7a",
   "metadata": {},
   "outputs": [
    {
     "data": {
      "text/plain": [
       "array([ 2,  4,  6,  8, 10, 12, 14, 70, 18, 20, 22, 24, 26, 28, 30])"
      ]
     },
     "execution_count": 37,
     "metadata": {},
     "output_type": "execute_result"
    }
   ],
   "source": [
    "a2       #it can be change in original array also"
   ]
  },
  {
   "cell_type": "code",
   "execution_count": 39,
   "id": "170b5bf4-638c-46af-b0d7-296381ded57d",
   "metadata": {},
   "outputs": [
    {
     "data": {
      "text/plain": [
       "array([[ 2,  4,  6,  8, 10],\n",
       "       [12, 14, 70, 18, 20],\n",
       "       [22, 24, 26, 28, 30]])"
      ]
     },
     "execution_count": 39,
     "metadata": {},
     "output_type": "execute_result"
    }
   ],
   "source": [
    "z  "
   ]
  },
  {
   "cell_type": "code",
   "execution_count": 41,
   "id": "374b6cbb-50c8-4162-b2eb-c1d1dd6eab9e",
   "metadata": {},
   "outputs": [
    {
     "data": {
      "text/plain": [
       "array([[ 2,  4,  6,  8, 10],\n",
       "       [12, 14, 70, 18, 20],\n",
       "       [22, 24, 26, 28, 30]])"
      ]
     },
     "execution_count": 41,
     "metadata": {},
     "output_type": "execute_result"
    }
   ],
   "source": [
    "z"
   ]
  },
  {
   "cell_type": "code",
   "execution_count": null,
   "id": "0f6953e9-77d7-44bd-9ed1-855984fd3f45",
   "metadata": {},
   "outputs": [],
   "source": [
    "# Mathematical functions"
   ]
  },
  {
   "cell_type": "code",
   "execution_count": 43,
   "id": "260e7aad-b9e9-410b-a8ba-5d276e754302",
   "metadata": {},
   "outputs": [],
   "source": [
    "import numpy as np"
   ]
  },
  {
   "cell_type": "code",
   "execution_count": 47,
   "id": "d6aaf38e-dfc3-47bb-afa7-c06afec4a04a",
   "metadata": {},
   "outputs": [
    {
     "data": {
      "text/plain": [
       "array([ 2,  4,  6,  8, 10, 12, 14, 16, 18, 20, 22, 24, 26, 28, 30])"
      ]
     },
     "execution_count": 47,
     "metadata": {},
     "output_type": "execute_result"
    }
   ],
   "source": [
    "C=np.arange(2,31,2)\n",
    "C"
   ]
  },
  {
   "cell_type": "code",
   "execution_count": 49,
   "id": "66068c6d-5532-42e0-af04-197e0c516401",
   "metadata": {},
   "outputs": [
    {
     "data": {
      "text/plain": [
       "15"
      ]
     },
     "execution_count": 49,
     "metadata": {},
     "output_type": "execute_result"
    }
   ],
   "source": [
    "C.size"
   ]
  },
  {
   "cell_type": "code",
   "execution_count": 53,
   "id": "8e59aae6-ec0b-4c90-ad39-c82d2fc630b6",
   "metadata": {},
   "outputs": [
    {
     "data": {
      "text/plain": [
       "array([[ 2,  4,  6],\n",
       "       [ 8, 10, 12],\n",
       "       [14, 16, 18],\n",
       "       [20, 22, 24],\n",
       "       [26, 28, 30]])"
      ]
     },
     "execution_count": 53,
     "metadata": {},
     "output_type": "execute_result"
    }
   ],
   "source": [
    "c1=np.reshape(C,(5,3))\n",
    "c1"
   ]
  },
  {
   "cell_type": "code",
   "execution_count": 55,
   "id": "ba567898-eb85-4f29-8787-eb792cd779a3",
   "metadata": {},
   "outputs": [
    {
     "data": {
      "text/plain": [
       "array([[ 2,  4,  6],\n",
       "       [ 8, 10, 12],\n",
       "       [14, 16, 18],\n",
       "       [20, 22, 24],\n",
       "       [26, 28, 30]])"
      ]
     },
     "execution_count": 55,
     "metadata": {},
     "output_type": "execute_result"
    }
   ],
   "source": [
    "c1"
   ]
  },
  {
   "cell_type": "code",
   "execution_count": 57,
   "id": "39a20251-e7ba-4d2c-8b39-dc166fecef80",
   "metadata": {},
   "outputs": [
    {
     "data": {
      "text/plain": [
       "240"
      ]
     },
     "execution_count": 57,
     "metadata": {},
     "output_type": "execute_result"
    }
   ],
   "source": [
    "c1.sum()      ##sum over all elements in matrix"
   ]
  },
  {
   "cell_type": "markdown",
   "id": "24d42068-e587-4b72-aa5d-5ba5130e3ac9",
   "metadata": {},
   "source": [
    "c1.sum(axis = 0 )"
   ]
  },
  {
   "cell_type": "code",
   "execution_count": 60,
   "id": "8bf57634-4a99-4732-b502-cd976a04503a",
   "metadata": {},
   "outputs": [
    {
     "data": {
      "text/plain": [
       "array([70, 80, 90])"
      ]
     },
     "execution_count": 60,
     "metadata": {},
     "output_type": "execute_result"
    }
   ],
   "source": [
    "c1.sum(axis = 0 )  #sum of each column    [ #column ] "
   ]
  },
  {
   "cell_type": "code",
   "execution_count": 62,
   "id": "f4fa7d39-ff53-465d-af67-98a2f94d424c",
   "metadata": {},
   "outputs": [
    {
     "data": {
      "text/plain": [
       "70"
      ]
     },
     "execution_count": 62,
     "metadata": {},
     "output_type": "execute_result"
    }
   ],
   "source": [
    "2+8+14+20+26"
   ]
  },
  {
   "cell_type": "code",
   "execution_count": 70,
   "id": "2a68db8c-d782-43c5-b16f-b8b4bf3b347a",
   "metadata": {},
   "outputs": [
    {
     "data": {
      "text/plain": [
       "80"
      ]
     },
     "execution_count": 70,
     "metadata": {},
     "output_type": "execute_result"
    }
   ],
   "source": [
    "4+10+16+22+28"
   ]
  },
  {
   "cell_type": "code",
   "execution_count": 72,
   "id": "6e0d83ce-e2e9-43d1-aaff-b4f9be32c779",
   "metadata": {},
   "outputs": [
    {
     "data": {
      "text/plain": [
       "array([[ 2,  4,  6],\n",
       "       [ 8, 10, 12],\n",
       "       [14, 16, 18],\n",
       "       [20, 22, 24],\n",
       "       [26, 28, 30]])"
      ]
     },
     "execution_count": 72,
     "metadata": {},
     "output_type": "execute_result"
    }
   ],
   "source": [
    "c1"
   ]
  },
  {
   "cell_type": "code",
   "execution_count": 66,
   "id": "0d2a31d8-fb96-4cc5-af40-def0f76e2d60",
   "metadata": {},
   "outputs": [
    {
     "data": {
      "text/plain": [
       "array([12, 30, 48, 66, 84])"
      ]
     },
     "execution_count": 66,
     "metadata": {},
     "output_type": "execute_result"
    }
   ],
   "source": [
    "c1.sum(axis =1)  #sum of each row "
   ]
  },
  {
   "cell_type": "code",
   "execution_count": 68,
   "id": "ca53d9e6-03bd-45e9-a391-4607ddbbf1ff",
   "metadata": {},
   "outputs": [
    {
     "data": {
      "text/plain": [
       "12"
      ]
     },
     "execution_count": 68,
     "metadata": {},
     "output_type": "execute_result"
    }
   ],
   "source": [
    "2+4+6"
   ]
  },
  {
   "cell_type": "code",
   "execution_count": 74,
   "id": "6ed1d102-2676-415a-a562-4d78ec9d76db",
   "metadata": {},
   "outputs": [
    {
     "data": {
      "text/plain": [
       "array([  2,   6,  12,  20,  30,  42,  56,  72,  90, 110, 132, 156, 182,\n",
       "       210, 240])"
      ]
     },
     "execution_count": 74,
     "metadata": {},
     "output_type": "execute_result"
    }
   ],
   "source": [
    "c1.cumsum()  #cumulative sum of all elements"
   ]
  },
  {
   "cell_type": "code",
   "execution_count": 76,
   "id": "c625f4e7-7c67-4832-9133-683472f9b839",
   "metadata": {},
   "outputs": [
    {
     "data": {
      "text/plain": [
       "array([[ 2,  6, 12],\n",
       "       [ 8, 18, 30],\n",
       "       [14, 30, 48],\n",
       "       [20, 42, 66],\n",
       "       [26, 54, 84]])"
      ]
     },
     "execution_count": 76,
     "metadata": {},
     "output_type": "execute_result"
    }
   ],
   "source": [
    "c1.cumsum(axis = 1)#cumulative sum for each row"
   ]
  },
  {
   "cell_type": "code",
   "execution_count": 78,
   "id": "6d4f226b-a3ac-4c42-af5c-0e47396dcd96",
   "metadata": {},
   "outputs": [
    {
     "data": {
      "text/plain": [
       "array([[ 2,  4,  6],\n",
       "       [10, 14, 18],\n",
       "       [24, 30, 36],\n",
       "       [44, 52, 60],\n",
       "       [70, 80, 90]])"
      ]
     },
     "execution_count": 78,
     "metadata": {},
     "output_type": "execute_result"
    }
   ],
   "source": [
    "c1.cumsum(axis = 0)"
   ]
  },
  {
   "cell_type": "code",
   "execution_count": 80,
   "id": "06ef0b05-ac4b-4068-8010-5cabf463fde9",
   "metadata": {},
   "outputs": [
    {
     "data": {
      "text/plain": [
       "array([[ 2,  4,  6],\n",
       "       [ 8, 10, 12],\n",
       "       [14, 16, 18],\n",
       "       [20, 22, 24],\n",
       "       [26, 28, 30]])"
      ]
     },
     "execution_count": 80,
     "metadata": {},
     "output_type": "execute_result"
    }
   ],
   "source": [
    "c1"
   ]
  },
  {
   "cell_type": "code",
   "execution_count": 82,
   "id": "95cf5860-6fe3-44e3-9cfd-6951b0c59b3f",
   "metadata": {},
   "outputs": [
    {
     "data": {
      "text/plain": [
       "30"
      ]
     },
     "execution_count": 82,
     "metadata": {},
     "output_type": "execute_result"
    }
   ],
   "source": [
    "c1.max()"
   ]
  },
  {
   "cell_type": "code",
   "execution_count": 84,
   "id": "4510ea04-618f-4ab5-a4ae-a275b9d97e95",
   "metadata": {},
   "outputs": [
    {
     "data": {
      "text/plain": [
       "2"
      ]
     },
     "execution_count": 84,
     "metadata": {},
     "output_type": "execute_result"
    }
   ],
   "source": [
    "c1.min()"
   ]
  },
  {
   "cell_type": "code",
   "execution_count": 86,
   "id": "262857d1-9cab-41f3-9b01-a4eda5c0cbaf",
   "metadata": {},
   "outputs": [
    {
     "data": {
      "text/plain": [
       "array([26, 28, 30])"
      ]
     },
     "execution_count": 86,
     "metadata": {},
     "output_type": "execute_result"
    }
   ],
   "source": [
    "c1.max(axis = 0 )"
   ]
  },
  {
   "cell_type": "code",
   "execution_count": 88,
   "id": "bb71dad1-14d9-4b82-a9bc-2181728643fa",
   "metadata": {},
   "outputs": [
    {
     "data": {
      "text/plain": [
       "array([ 2,  8, 14, 20, 26])"
      ]
     },
     "execution_count": 88,
     "metadata": {},
     "output_type": "execute_result"
    }
   ],
   "source": [
    "c1.min(axis = 1)"
   ]
  },
  {
   "cell_type": "code",
   "execution_count": 90,
   "id": "9b269f14-e2c5-46b1-ac06-675e455b5c77",
   "metadata": {},
   "outputs": [
    {
     "data": {
      "text/plain": [
       "16.0"
      ]
     },
     "execution_count": 90,
     "metadata": {},
     "output_type": "execute_result"
    }
   ],
   "source": [
    "c1.mean()"
   ]
  },
  {
   "cell_type": "code",
   "execution_count": 94,
   "id": "27986441-7272-4bc7-a1f1-b2a37adc8f8b",
   "metadata": {},
   "outputs": [
    {
     "data": {
      "text/plain": [
       "16.0"
      ]
     },
     "execution_count": 94,
     "metadata": {},
     "output_type": "execute_result"
    }
   ],
   "source": [
    "np.median(c1)"
   ]
  },
  {
   "cell_type": "code",
   "execution_count": 96,
   "id": "9add21f0-2661-4c7f-806b-c17a0c15f1c8",
   "metadata": {},
   "outputs": [
    {
     "data": {
      "text/plain": [
       "8.640987597877148"
      ]
     },
     "execution_count": 96,
     "metadata": {},
     "output_type": "execute_result"
    }
   ],
   "source": [
    "c1.std()"
   ]
  },
  {
   "cell_type": "code",
   "execution_count": 98,
   "id": "4608ca3c-6ff8-49b0-8074-c5c5fa7f4970",
   "metadata": {},
   "outputs": [
    {
     "data": {
      "text/plain": [
       "74.66666666666667"
      ]
     },
     "execution_count": 98,
     "metadata": {},
     "output_type": "execute_result"
    }
   ],
   "source": [
    "c1.var()\n"
   ]
  },
  {
   "cell_type": "code",
   "execution_count": 100,
   "id": "f87ff061-b8be-4a22-ac5a-f615bd9e9ebd",
   "metadata": {},
   "outputs": [
    {
     "data": {
      "text/plain": [
       "4.800000000000001"
      ]
     },
     "execution_count": 100,
     "metadata": {},
     "output_type": "execute_result"
    }
   ],
   "source": [
    "np.percentile(c1,10)"
   ]
  },
  {
   "cell_type": "code",
   "execution_count": null,
   "id": "415fde49-9009-4845-9203-78538fc34417",
   "metadata": {},
   "outputs": [],
   "source": []
  },
  {
   "cell_type": "code",
   "execution_count": 15,
   "id": "c1e7c10e-dec6-4b82-b1ff-b9bcd414791d",
   "metadata": {},
   "outputs": [],
   "source": [
    "import numpy as np"
   ]
  },
  {
   "cell_type": "code",
   "execution_count": 25,
   "id": "252d0c6b-c70d-4f2a-8f23-14cd37a52166",
   "metadata": {},
   "outputs": [
    {
     "data": {
      "text/plain": [
       "array([ 2,  3,  4,  5,  6,  7,  8,  9, 10, 11, 12, 13, 14, 15, 16, 17, 18,\n",
       "       19])"
      ]
     },
     "execution_count": 25,
     "metadata": {},
     "output_type": "execute_result"
    }
   ],
   "source": [
    "x=np.arange(2,20)\n",
    "x"
   ]
  },
  {
   "cell_type": "code",
   "execution_count": 27,
   "id": "de8fb1a1-69aa-4211-bcd5-2ddf33854781",
   "metadata": {},
   "outputs": [
    {
     "data": {
      "text/plain": [
       "18"
      ]
     },
     "execution_count": 27,
     "metadata": {},
     "output_type": "execute_result"
    }
   ],
   "source": [
    "x.size"
   ]
  },
  {
   "cell_type": "code",
   "execution_count": 41,
   "id": "0affdc6d-ed13-43bd-aab2-f7e2bdd17c70",
   "metadata": {},
   "outputs": [
    {
     "data": {
      "text/plain": [
       "array([[ 2,  3,  4,  5,  6,  7],\n",
       "       [ 8,  9, 10, 11, 12, 13],\n",
       "       [14, 15, 16, 17, 18, 19]])"
      ]
     },
     "execution_count": 41,
     "metadata": {},
     "output_type": "execute_result"
    }
   ],
   "source": [
    "z=np.reshape(x,(3,6))\n",
    "z"
   ]
  },
  {
   "cell_type": "code",
   "execution_count": 43,
   "id": "97ab6324-1f26-45cc-8654-f066a3485e3d",
   "metadata": {},
   "outputs": [
    {
     "data": {
      "text/plain": [
       "array([ 2,  3,  4,  5,  6,  7,  8,  9, 10, 11, 12, 13, 14, 15, 16, 17, 18,\n",
       "       19])"
      ]
     },
     "execution_count": 43,
     "metadata": {},
     "output_type": "execute_result"
    }
   ],
   "source": [
    "z.flatten()\n"
   ]
  },
  {
   "cell_type": "code",
   "execution_count": 45,
   "id": "f2f06535-2454-43b0-91b3-26d7ad2a253f",
   "metadata": {},
   "outputs": [],
   "source": [
    "z.sort()"
   ]
  },
  {
   "cell_type": "code",
   "execution_count": 49,
   "id": "c53f6a45-31ed-4427-9758-446da237056b",
   "metadata": {},
   "outputs": [
    {
     "data": {
      "text/plain": [
       "array([1.41421356, 1.73205081, 2.        , 2.23606798, 2.44948974,\n",
       "       2.64575131, 2.82842712, 3.        , 3.16227766, 3.31662479,\n",
       "       3.46410162, 3.60555128, 3.74165739, 3.87298335, 4.        ,\n",
       "       4.12310563, 4.24264069, 4.35889894])"
      ]
     },
     "execution_count": 49,
     "metadata": {},
     "output_type": "execute_result"
    }
   ],
   "source": [
    "np.sqrt(x)"
   ]
  },
  {
   "cell_type": "code",
   "execution_count": 51,
   "id": "8363423e-4b00-48d9-aaf8-175abc232de3",
   "metadata": {},
   "outputs": [
    {
     "data": {
      "text/plain": [
       "5.0"
      ]
     },
     "execution_count": 51,
     "metadata": {},
     "output_type": "execute_result"
    }
   ],
   "source": [
    "np.sqrt(25)"
   ]
  },
  {
   "cell_type": "code",
   "execution_count": 53,
   "id": "2519cf0a-c4f5-46e8-845d-8f66f151fc22",
   "metadata": {},
   "outputs": [
    {
     "data": {
      "text/plain": [
       "148.4131591025766"
      ]
     },
     "execution_count": 53,
     "metadata": {},
     "output_type": "execute_result"
    }
   ],
   "source": [
    "np.exp(5)"
   ]
  },
  {
   "cell_type": "code",
   "execution_count": 55,
   "id": "3481c73d-aead-4de5-bda4-b080d7d54548",
   "metadata": {},
   "outputs": [
    {
     "data": {
      "text/plain": [
       "array([7.38905610e+00, 2.00855369e+01, 5.45981500e+01, 1.48413159e+02,\n",
       "       4.03428793e+02, 1.09663316e+03, 2.98095799e+03, 8.10308393e+03,\n",
       "       2.20264658e+04, 5.98741417e+04, 1.62754791e+05, 4.42413392e+05,\n",
       "       1.20260428e+06, 3.26901737e+06, 8.88611052e+06, 2.41549528e+07,\n",
       "       6.56599691e+07, 1.78482301e+08])"
      ]
     },
     "execution_count": 55,
     "metadata": {},
     "output_type": "execute_result"
    }
   ],
   "source": [
    "np.exp(x)"
   ]
  },
  {
   "cell_type": "code",
   "execution_count": 57,
   "id": "628a06b9-6f93-4da3-97bb-4806d7b96a41",
   "metadata": {},
   "outputs": [
    {
     "data": {
      "text/plain": [
       "array([0.69314718, 1.09861229, 1.38629436, 1.60943791, 1.79175947,\n",
       "       1.94591015, 2.07944154, 2.19722458, 2.30258509, 2.39789527,\n",
       "       2.48490665, 2.56494936, 2.63905733, 2.7080502 , 2.77258872,\n",
       "       2.83321334, 2.89037176, 2.94443898])"
      ]
     },
     "execution_count": 57,
     "metadata": {},
     "output_type": "execute_result"
    }
   ],
   "source": [
    "#natural logarithm\n",
    "np.log(x)"
   ]
  },
  {
   "cell_type": "code",
   "execution_count": 59,
   "id": "a677a44f-017a-445b-886a-bc618f617bad",
   "metadata": {},
   "outputs": [
    {
     "data": {
      "text/plain": [
       "array([ 2,  3,  4,  5,  6,  7,  8,  9, 10, 11, 12, 13, 14, 15, 16, 17, 18,\n",
       "       19])"
      ]
     },
     "execution_count": 59,
     "metadata": {},
     "output_type": "execute_result"
    }
   ],
   "source": [
    "np.abs(x)"
   ]
  },
  {
   "cell_type": "code",
   "execution_count": 61,
   "id": "15721d5e-8673-4033-aa8b-e52b39b709b3",
   "metadata": {},
   "outputs": [
    {
     "data": {
      "text/plain": [
       "array([ 2.,  3.,  4.,  5.,  6.,  7.,  8.,  9., 10., 11., 12., 13., 14.,\n",
       "       15., 16., 17., 18., 19.])"
      ]
     },
     "execution_count": 61,
     "metadata": {},
     "output_type": "execute_result"
    }
   ],
   "source": [
    " #element-wise rounding up\n",
    "np.ceil(x)"
   ]
  },
  {
   "cell_type": "code",
   "execution_count": 63,
   "id": "28cfeb0d-2d76-40f3-b4c9-67c662b92f85",
   "metadata": {},
   "outputs": [
    {
     "data": {
      "text/plain": [
       "array([ 2.,  3.,  4.,  5.,  6.,  7.,  8.,  9., 10., 11., 12., 13., 14.,\n",
       "       15., 16., 17., 18., 19.])"
      ]
     },
     "execution_count": 63,
     "metadata": {},
     "output_type": "execute_result"
    }
   ],
   "source": [
    "np.floor(x)# #element-wise rounding down"
   ]
  },
  {
   "cell_type": "code",
   "execution_count": null,
   "id": "4744b7c1-5a44-496f-a8b2-92231851a757",
   "metadata": {},
   "outputs": [],
   "source": []
  }
 ],
 "metadata": {
  "kernelspec": {
   "display_name": "Python 3 (ipykernel)",
   "language": "python",
   "name": "python3"
  },
  "language_info": {
   "codemirror_mode": {
    "name": "ipython",
    "version": 3
   },
   "file_extension": ".py",
   "mimetype": "text/x-python",
   "name": "python",
   "nbconvert_exporter": "python",
   "pygments_lexer": "ipython3",
   "version": "3.12.4"
  }
 },
 "nbformat": 4,
 "nbformat_minor": 5
}
