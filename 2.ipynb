{
 "cells": [
  {
   "cell_type": "code",
   "execution_count": null,
   "id": "0668f025-bb9b-446d-ba7a-75f478785ebf",
   "metadata": {},
   "outputs": [],
   "source": [
    "# operators\n",
    "# 1) Arithmetic Operators :-\n",
    "\n",
    "    Operator\tOperation\t       Description\t\n",
    "    +\t        Addition\t       Adds values on either side of the operator.\t\n",
    "    -\t        Subtraction\t       Subtracts right hand operand from left hand operand.\t\n",
    "    *\t        Multiplication\t   Multiplies values on either side of the operator\t\n",
    "    /\t        Division\t       Divides left hand operand by right hand operand\t\n",
    "    %\t        Modulus\t           Divides left hand operand by right hand operand and returns remainder\t\n",
    "    **\t        Exponent    \t   Performs exponential (power) calculation on operators\t\n",
    "    //\t        Floor Division\t   The division of operands where the result is the quotient in which\n",
    "                                   the digits after the decimal point are removed. "
   ]
  },
  {
   "cell_type": "code",
   "execution_count": 8,
   "id": "a27dd926-2601-4188-ae3b-eb98531d1b1c",
   "metadata": {},
   "outputs": [
    {
     "data": {
      "text/plain": [
       "3"
      ]
     },
     "execution_count": 8,
     "metadata": {},
     "output_type": "execute_result"
    }
   ],
   "source": [
    "a = 1\n",
    "b = 2\n",
    "c = a + b\n",
    "c"
   ]
  },
  {
   "cell_type": "code",
   "execution_count": 10,
   "id": "c5c33fef-5fea-4f12-988c-adc6c3afbfee",
   "metadata": {},
   "outputs": [
    {
     "data": {
      "text/plain": [
       "39"
      ]
     },
     "execution_count": 10,
     "metadata": {},
     "output_type": "execute_result"
    }
   ],
   "source": [
    "a = 10\n",
    "b = 29\n",
    "c = a + b\n",
    "c "
   ]
  },
  {
   "cell_type": "code",
   "execution_count": 18,
   "id": "b559da10-be06-4ba2-b10f-0c6e4fb6325e",
   "metadata": {},
   "outputs": [
    {
     "data": {
      "text/plain": [
       "3000"
      ]
     },
     "execution_count": 18,
     "metadata": {},
     "output_type": "execute_result"
    }
   ],
   "source": [
    "sal = 50000\n",
    "e1 = 1000\n",
    "e2 = 2000\n",
    "expence = e1 + e2\n",
    "expence\n"
   ]
  },
  {
   "cell_type": "code",
   "execution_count": 20,
   "id": "c3ea273a-3006-4a27-93fe-c38c54f9e846",
   "metadata": {},
   "outputs": [
    {
     "data": {
      "text/plain": [
       "47000"
      ]
     },
     "execution_count": 20,
     "metadata": {},
     "output_type": "execute_result"
    }
   ],
   "source": [
    "bal = sal - expence\n",
    "bal"
   ]
  },
  {
   "cell_type": "code",
   "execution_count": 22,
   "id": "fcf5c2ca-ac16-4578-b4ac-a15c7c5d6937",
   "metadata": {},
   "outputs": [
    {
     "data": {
      "text/plain": [
       "500"
      ]
     },
     "execution_count": 22,
     "metadata": {},
     "output_type": "execute_result"
    }
   ],
   "source": [
    "x = 1000\n",
    "y = 500\n",
    "z = x - y \n",
    "z"
   ]
  },
  {
   "cell_type": "code",
   "execution_count": 24,
   "id": "594e2147-3e25-4bff-a055-d06b585a1b09",
   "metadata": {},
   "outputs": [
    {
     "data": {
      "text/plain": [
       "1500"
      ]
     },
     "execution_count": 24,
     "metadata": {},
     "output_type": "execute_result"
    }
   ],
   "source": [
    "x + y   #add"
   ]
  },
  {
   "cell_type": "code",
   "execution_count": 26,
   "id": "0a2ca39a-8307-4145-8a7c-9b2911ade4ee",
   "metadata": {},
   "outputs": [
    {
     "data": {
      "text/plain": [
       "500"
      ]
     },
     "execution_count": 26,
     "metadata": {},
     "output_type": "execute_result"
    }
   ],
   "source": [
    " x - y #sub"
   ]
  },
  {
   "cell_type": "code",
   "execution_count": 28,
   "id": "378b92e5-587a-4359-bb25-e2bcd60c7116",
   "metadata": {},
   "outputs": [
    {
     "data": {
      "text/plain": [
       "500000"
      ]
     },
     "execution_count": 28,
     "metadata": {},
     "output_type": "execute_result"
    }
   ],
   "source": [
    "x * y #mul"
   ]
  },
  {
   "cell_type": "code",
   "execution_count": 30,
   "id": "9576bda9-5c0b-4e86-875f-cbc3f81bb40c",
   "metadata": {},
   "outputs": [
    {
     "data": {
      "text/plain": [
       "2.0"
      ]
     },
     "execution_count": 30,
     "metadata": {},
     "output_type": "execute_result"
    }
   ],
   "source": [
    "x/y #div"
   ]
  },
  {
   "cell_type": "code",
   "execution_count": 32,
   "id": "03881ae3-9592-4fd6-a881-ee84c87dad08",
   "metadata": {},
   "outputs": [
    {
     "data": {
      "text/plain": [
       "0"
      ]
     },
     "execution_count": 32,
     "metadata": {},
     "output_type": "execute_result"
    }
   ],
   "source": [
    "x%y #mod reminder"
   ]
  },
  {
   "cell_type": "code",
   "execution_count": 34,
   "id": "004b02ff-6266-484a-9c41-75558ee4510a",
   "metadata": {},
   "outputs": [
    {
     "data": {
      "text/plain": [
       "1000000000000000000000000000000000000000000000000000000000000000000000000000000000000000000000000000000000000000000000000000000000000000000000000000000000000000000000000000000000000000000000000000000000000000000000000000000000000000000000000000000000000000000000000000000000000000000000000000000000000000000000000000000000000000000000000000000000000000000000000000000000000000000000000000000000000000000000000000000000000000000000000000000000000000000000000000000000000000000000000000000000000000000000000000000000000000000000000000000000000000000000000000000000000000000000000000000000000000000000000000000000000000000000000000000000000000000000000000000000000000000000000000000000000000000000000000000000000000000000000000000000000000000000000000000000000000000000000000000000000000000000000000000000000000000000000000000000000000000000000000000000000000000000000000000000000000000000000000000000000000000000000000000000000000000000000000000000000000000000000000000000000000000000000000000000000000000000000000000000000000000000000000000000000000000000000000000000000000000000000000000000000000000000000000000000000000000000000000000000000000000000000000000000000000000000000000000000000000000000000000000000000000000000000000000000000000000000000000000000000000000000000000000000000000000000000000000000000000000000000000000000000000000000000000000000000000000000000000000000000000000000000000000000000000000000000000000000000000000000000000000000000000000000000000000000000000000000000000000000000"
      ]
     },
     "execution_count": 34,
     "metadata": {},
     "output_type": "execute_result"
    }
   ],
   "source": [
    "x **y # exponent"
   ]
  },
  {
   "cell_type": "code",
   "execution_count": 42,
   "id": "8fac3ed9-eb71-41c8-ac36-1f0d594796dc",
   "metadata": {},
   "outputs": [
    {
     "name": "stdout",
     "output_type": "stream",
     "text": [
      "9\n"
     ]
    }
   ],
   "source": [
    "print(3**2) # 3*3"
   ]
  },
  {
   "cell_type": "code",
   "execution_count": 44,
   "id": "a39f9f27-b48d-49bf-ab43-8475320ff7eb",
   "metadata": {},
   "outputs": [
    {
     "name": "stdout",
     "output_type": "stream",
     "text": [
      "4\n"
     ]
    }
   ],
   "source": [
    "print(2*2)"
   ]
  },
  {
   "cell_type": "code",
   "execution_count": 46,
   "id": "689a5c7b-8d94-4fc3-be31-fbc9c09e5ee6",
   "metadata": {},
   "outputs": [
    {
     "name": "stdout",
     "output_type": "stream",
     "text": [
      "4\n"
     ]
    }
   ],
   "source": [
    "print(2**2)"
   ]
  },
  {
   "cell_type": "code",
   "execution_count": 48,
   "id": "67f06f13-38fb-46c1-9fb3-5963381774f1",
   "metadata": {},
   "outputs": [
    {
     "name": "stdout",
     "output_type": "stream",
     "text": [
      "25\n"
     ]
    }
   ],
   "source": [
    "print(5**2)"
   ]
  },
  {
   "cell_type": "code",
   "execution_count": 50,
   "id": "90c2ba92-e890-4e38-b741-17af14087e50",
   "metadata": {},
   "outputs": [
    {
     "data": {
      "text/plain": [
       "0"
      ]
     },
     "execution_count": 50,
     "metadata": {},
     "output_type": "execute_result"
    }
   ],
   "source": [
    "10 % 2 "
   ]
  },
  {
   "cell_type": "code",
   "execution_count": 52,
   "id": "e433ce8e-52fa-41dd-a9a7-c0edcdbcfa7f",
   "metadata": {},
   "outputs": [
    {
     "data": {
      "text/plain": [
       "2"
      ]
     },
     "execution_count": 52,
     "metadata": {},
     "output_type": "execute_result"
    }
   ],
   "source": [
    "11%3"
   ]
  },
  {
   "cell_type": "code",
   "execution_count": 54,
   "id": "654a926f-77df-4754-9b7b-e2fc62b12ca4",
   "metadata": {},
   "outputs": [
    {
     "data": {
      "text/plain": [
       "10"
      ]
     },
     "execution_count": 54,
     "metadata": {},
     "output_type": "execute_result"
    }
   ],
   "source": [
    " 20 // 2"
   ]
  },
  {
   "cell_type": "code",
   "execution_count": 56,
   "id": "7885714c-cc8c-40b8-be59-dc5d533668a6",
   "metadata": {},
   "outputs": [
    {
     "data": {
      "text/plain": [
       "216"
      ]
     },
     "execution_count": 56,
     "metadata": {},
     "output_type": "execute_result"
    }
   ],
   "source": [
    "432 //2\n"
   ]
  },
  {
   "cell_type": "code",
   "execution_count": null,
   "id": "4db80f39-b111-4387-be07-91583344e075",
   "metadata": {},
   "outputs": [],
   "source": [
    "# ## 2) Comparison operators:-\n",
    "\n",
    "    Operator\t    Description\t\n",
    "    ==\t        If the values of two operands are equal, then the condition becomes true.\t\n",
    "    !=\t        If values of two operands are not equal, then condition becomes true.\n",
    "    >\t        If the value of left operand is greater than the value of right operand, then condition becomes true.\t\n",
    "    <\t        If the value of left operand is less than the value of right operand, then condition becomes true.\t\n",
    "    >=\t        If the value of left operand is greater than or equal to the value of right operand, then condition becomes\n",
    "                   true.\t\n",
    "    <=\t        If the value of left operand is less than or equal to the value of right operand, then condition becomes true.\n"
   ]
  },
  {
   "cell_type": "code",
   "execution_count": 58,
   "id": "4a40a510-b430-4af5-9d84-32359f3c019c",
   "metadata": {},
   "outputs": [
    {
     "data": {
      "text/plain": [
       "False"
      ]
     },
     "execution_count": 58,
     "metadata": {},
     "output_type": "execute_result"
    }
   ],
   "source": [
    "a = 50\n",
    "b = 20\n",
    "a == b "
   ]
  },
  {
   "cell_type": "code",
   "execution_count": 62,
   "id": "b64b9ba3-4e92-4a40-93d4-d5a615c29fd4",
   "metadata": {},
   "outputs": [
    {
     "data": {
      "text/plain": [
       "True"
      ]
     },
     "execution_count": 62,
     "metadata": {},
     "output_type": "execute_result"
    }
   ],
   "source": [
    "5!= 3"
   ]
  },
  {
   "cell_type": "code",
   "execution_count": 64,
   "id": "c682cbc6-bfc4-4263-a5a2-8b8399d7dfa4",
   "metadata": {},
   "outputs": [
    {
     "data": {
      "text/plain": [
       "True"
      ]
     },
     "execution_count": 64,
     "metadata": {},
     "output_type": "execute_result"
    }
   ],
   "source": [
    "40>2"
   ]
  },
  {
   "cell_type": "code",
   "execution_count": 66,
   "id": "d30ab77b-20fd-4102-bb10-fbb69fe369c1",
   "metadata": {},
   "outputs": [
    {
     "data": {
      "text/plain": [
       "False"
      ]
     },
     "execution_count": 66,
     "metadata": {},
     "output_type": "execute_result"
    }
   ],
   "source": [
    "30<3"
   ]
  },
  {
   "cell_type": "code",
   "execution_count": 68,
   "id": "868e7206-c078-4add-87f5-1aaee4d70933",
   "metadata": {},
   "outputs": [
    {
     "data": {
      "text/plain": [
       "True"
      ]
     },
     "execution_count": 68,
     "metadata": {},
     "output_type": "execute_result"
    }
   ],
   "source": [
    "20>=20"
   ]
  },
  {
   "cell_type": "code",
   "execution_count": 70,
   "id": "939d7ec2-a735-478d-892e-6ec002fe6c7c",
   "metadata": {},
   "outputs": [
    {
     "data": {
      "text/plain": [
       "True"
      ]
     },
     "execution_count": 70,
     "metadata": {},
     "output_type": "execute_result"
    }
   ],
   "source": [
    "35>=25"
   ]
  },
  {
   "cell_type": "code",
   "execution_count": 72,
   "id": "2b44c56b-2b07-4e5d-9bf7-e300f529f909",
   "metadata": {},
   "outputs": [
    {
     "data": {
      "text/plain": [
       "False"
      ]
     },
     "execution_count": 72,
     "metadata": {},
     "output_type": "execute_result"
    }
   ],
   "source": [
    "20<=10"
   ]
  },
  {
   "cell_type": "code",
   "execution_count": 74,
   "id": "36e54446-7629-4813-952b-1ee27bbfae93",
   "metadata": {},
   "outputs": [
    {
     "data": {
      "text/plain": [
       "False"
      ]
     },
     "execution_count": 74,
     "metadata": {},
     "output_type": "execute_result"
    }
   ],
   "source": [
    "45<=20"
   ]
  },
  {
   "cell_type": "code",
   "execution_count": 76,
   "id": "23a0d627-c6d5-412f-ae72-5380a7ccfb07",
   "metadata": {},
   "outputs": [
    {
     "data": {
      "text/plain": [
       "False"
      ]
     },
     "execution_count": 76,
     "metadata": {},
     "output_type": "execute_result"
    }
   ],
   "source": [
    "5>5"
   ]
  },
  {
   "cell_type": "code",
   "execution_count": 78,
   "id": "8e465d50-e116-4960-80be-90c84325f570",
   "metadata": {},
   "outputs": [
    {
     "data": {
      "text/plain": [
       "True"
      ]
     },
     "execution_count": 78,
     "metadata": {},
     "output_type": "execute_result"
    }
   ],
   "source": [
    "5>=5"
   ]
  },
  {
   "cell_type": "code",
   "execution_count": 80,
   "id": "271be4f5-a741-4031-8d4e-94a61ac5b8f1",
   "metadata": {},
   "outputs": [
    {
     "data": {
      "text/plain": [
       "True"
      ]
     },
     "execution_count": 80,
     "metadata": {},
     "output_type": "execute_result"
    }
   ],
   "source": [
    "5==5"
   ]
  },
  {
   "cell_type": "code",
   "execution_count": 84,
   "id": "795f40dc-5751-4d04-86dc-e86d43d2301c",
   "metadata": {},
   "outputs": [
    {
     "data": {
      "text/plain": [
       "True"
      ]
     },
     "execution_count": 84,
     "metadata": {},
     "output_type": "execute_result"
    }
   ],
   "source": [
    "x!=y"
   ]
  },
  {
   "cell_type": "code",
   "execution_count": 88,
   "id": "a6479b12-2c9d-492d-825c-0d21f4981333",
   "metadata": {},
   "outputs": [
    {
     "name": "stdout",
     "output_type": "stream",
     "text": [
      "is x greater than y :  True\n"
     ]
    }
   ],
   "source": [
    "print('is x greater than y : ',x>y)"
   ]
  },
  {
   "cell_type": "code",
   "execution_count": 92,
   "id": "11e77ec6-404a-4fd1-87c9-5fac2c3f8454",
   "metadata": {},
   "outputs": [
    {
     "data": {
      "text/plain": [
       "1000"
      ]
     },
     "execution_count": 92,
     "metadata": {},
     "output_type": "execute_result"
    }
   ],
   "source": [
    "x \n"
   ]
  },
  {
   "cell_type": "code",
   "execution_count": 94,
   "id": "812f4e96-31f9-4971-9b76-b67c44538df1",
   "metadata": {},
   "outputs": [
    {
     "data": {
      "text/plain": [
       "500"
      ]
     },
     "execution_count": 94,
     "metadata": {},
     "output_type": "execute_result"
    }
   ],
   "source": [
    "y"
   ]
  },
  {
   "cell_type": "code",
   "execution_count": 90,
   "id": "4cd0dfe4-94e1-4de8-bdb2-7a65b7849b7f",
   "metadata": {},
   "outputs": [
    {
     "name": "stdout",
     "output_type": "stream",
     "text": [
      "is x is less than y :  False\n"
     ]
    }
   ],
   "source": [
    "print('is x is less than y : ' ,x<y)"
   ]
  },
  {
   "cell_type": "code",
   "execution_count": 96,
   "id": "137f1756-8d96-485a-9c24-ea7112e1cdb9",
   "metadata": {},
   "outputs": [
    {
     "name": "stdout",
     "output_type": "stream",
     "text": [
      "is x is equal to y :  False\n"
     ]
    }
   ],
   "source": [
    "print('is x is equal to y : ' ,x==y)"
   ]
  },
  {
   "cell_type": "code",
   "execution_count": 98,
   "id": "e73d79cd-af88-43a7-916a-5a928c7037eb",
   "metadata": {},
   "outputs": [
    {
     "name": "stdout",
     "output_type": "stream",
     "text": [
      "is x is not equal to y :  True\n"
     ]
    }
   ],
   "source": [
    "print('is x is not equal to y : ' ,x!=y)"
   ]
  },
  {
   "cell_type": "code",
   "execution_count": 100,
   "id": "6c773db1-585b-40fb-9ee0-5f46c7ce4fac",
   "metadata": {},
   "outputs": [
    {
     "name": "stdout",
     "output_type": "stream",
     "text": [
      "is x is less  equal than y :  False\n"
     ]
    }
   ],
   "source": [
    "print('is x is less  equal than y : ' ,x<=y)"
   ]
  },
  {
   "cell_type": "code",
   "execution_count": 102,
   "id": "38c07804-2789-4cf0-ba3a-1acec056f96b",
   "metadata": {},
   "outputs": [
    {
     "name": "stdout",
     "output_type": "stream",
     "text": [
      "is x is greater  equal than y :  True\n"
     ]
    }
   ],
   "source": [
    "print('is x is greater  equal than y : ' ,x>=y)"
   ]
  }
 ],
 "metadata": {
  "kernelspec": {
   "display_name": "Python 3 (ipykernel)",
   "language": "python",
   "name": "python3"
  },
  "language_info": {
   "codemirror_mode": {
    "name": "ipython",
    "version": 3
   },
   "file_extension": ".py",
   "mimetype": "text/x-python",
   "name": "python",
   "nbconvert_exporter": "python",
   "pygments_lexer": "ipython3",
   "version": "3.12.4"
  }
 },
 "nbformat": 4,
 "nbformat_minor": 5
}
