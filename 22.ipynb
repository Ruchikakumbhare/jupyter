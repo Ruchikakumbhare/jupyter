{
 "cells": [
  {
   "cell_type": "code",
   "execution_count": 1,
   "id": "5316eb79-1536-4b85-a6f8-6c3f3a7af4c8",
   "metadata": {},
   "outputs": [
    {
     "name": "stdout",
     "output_type": "stream",
     "text": [
      "12\n"
     ]
    }
   ],
   "source": [
    "a = lambda x , y : x + y\n",
    "print(a(10,2))"
   ]
  },
  {
   "cell_type": "code",
   "execution_count": 4,
   "id": "68f1c5af-c9e1-4313-bb3b-8671d0a516c3",
   "metadata": {},
   "outputs": [
    {
     "name": "stdout",
     "output_type": "stream",
     "text": [
      "Even\n"
     ]
    }
   ],
   "source": [
    "b =lambda x: 'Even' if x%2==0 else 'odd'\n",
    "print(b(10))"
   ]
  },
  {
   "cell_type": "code",
   "execution_count": 5,
   "id": "38dc1bee-91f1-4022-8c61-ca825bfa406b",
   "metadata": {},
   "outputs": [
    {
     "name": "stdout",
     "output_type": "stream",
     "text": [
      "odd\n"
     ]
    }
   ],
   "source": [
    "print(b(11))"
   ]
  },
  {
   "cell_type": "code",
   "execution_count": 12,
   "id": "73515b86-c94f-46ab-8a70-96df042dd98a",
   "metadata": {},
   "outputs": [],
   "source": [
    "a =lambda x: 'Drive' if x>=18 else 'Not Drive'"
   ]
  },
  {
   "cell_type": "code",
   "execution_count": 13,
   "id": "b200dcbb-8965-496f-be3f-fc959be88056",
   "metadata": {},
   "outputs": [
    {
     "name": "stdout",
     "output_type": "stream",
     "text": [
      "Drive\n"
     ]
    }
   ],
   "source": [
    "print(a(20))"
   ]
  },
  {
   "cell_type": "code",
   "execution_count": 14,
   "id": "e7780193-3d37-4a4a-a607-480dbab46526",
   "metadata": {},
   "outputs": [
    {
     "name": "stdout",
     "output_type": "stream",
     "text": [
      "Not Drive\n"
     ]
    }
   ],
   "source": [
    "print(a(10))"
   ]
  },
  {
   "cell_type": "code",
   "execution_count": 15,
   "id": "cc6506fe-07b1-4ae1-b454-456806eafa0e",
   "metadata": {},
   "outputs": [
    {
     "name": "stdout",
     "output_type": "stream",
     "text": [
      "even\n"
     ]
    }
   ],
   "source": [
    "p = lambda x: 'even' if x%2==0 else ' odd'\n",
    "print(p(20))"
   ]
  },
  {
   "cell_type": "code",
   "execution_count": null,
   "id": "661d6b67-7bbd-483c-8dc3-79b4ef79c48c",
   "metadata": {},
   "outputs": [],
   "source": [
    "# Rules of global Keyword\n",
    "The basic rules for global keyword in Python are:\n",
    "\n",
    "When we create a variable inside a function, it is local by default.\n",
    "When we define a variable outside of a function, it is global by default. You don't have to use global keyword.\n",
    "We use global keyword to read and write a global variable inside a function.\n",
    "Use of global keyword outside a function has no effect.\n",
    "\n"
   ]
  },
  {
   "cell_type": "code",
   "execution_count": null,
   "id": "41be26d6-b924-4409-b44a-87928bd76e89",
   "metadata": {},
   "outputs": [],
   "source": [
    "# local scope"
   ]
  },
  {
   "cell_type": "code",
   "execution_count": 16,
   "id": "9dd16dc3-b045-4697-8eb0-f2fd1f9e39a1",
   "metadata": {},
   "outputs": [],
   "source": [
    "def add():\n",
    "    a = 1        #define as local\n",
    "    return(a)"
   ]
  },
  {
   "cell_type": "code",
   "execution_count": 17,
   "id": "8aa2159b-fc61-4da1-987b-243bfdc1dc42",
   "metadata": {},
   "outputs": [
    {
     "data": {
      "text/plain": [
       "1"
      ]
     },
     "execution_count": 17,
     "metadata": {},
     "output_type": "execute_result"
    }
   ],
   "source": [
    "add()"
   ]
  },
  {
   "cell_type": "code",
   "execution_count": 18,
   "id": "16e4f8f8-3941-4b20-b31a-0ecf246b0bfd",
   "metadata": {},
   "outputs": [
    {
     "name": "stdout",
     "output_type": "stream",
     "text": [
      "<function <lambda> at 0x00000274E8B5A5C0>\n"
     ]
    }
   ],
   "source": [
    "print(a)"
   ]
  },
  {
   "cell_type": "code",
   "execution_count": 22,
   "id": "4a2cb958-e8fc-409d-8b06-d82beefc7202",
   "metadata": {},
   "outputs": [],
   "source": [
    "def add():\n",
    "    global a\n",
    "    a = 21                #convert global to local \n",
    "    return(a)"
   ]
  },
  {
   "cell_type": "code",
   "execution_count": 23,
   "id": "527533a7-7ed9-430a-8514-74bf9a28f799",
   "metadata": {},
   "outputs": [
    {
     "data": {
      "text/plain": [
       "21"
      ]
     },
     "execution_count": 23,
     "metadata": {},
     "output_type": "execute_result"
    }
   ],
   "source": [
    "add()"
   ]
  },
  {
   "cell_type": "code",
   "execution_count": 29,
   "id": "80df14e6-a1b1-423f-ba40-a0b85fb9f413",
   "metadata": {},
   "outputs": [],
   "source": [
    "def add():\n",
    "    global a\n",
    "   \n",
    "    a =1\n",
    "    b =2\n",
    "    return(a)"
   ]
  },
  {
   "cell_type": "code",
   "execution_count": 30,
   "id": "0440c5e2-9b94-4b0f-9235-8b711df2555a",
   "metadata": {},
   "outputs": [
    {
     "data": {
      "text/plain": [
       "1"
      ]
     },
     "execution_count": 30,
     "metadata": {},
     "output_type": "execute_result"
    }
   ],
   "source": [
    "add()\n"
   ]
  },
  {
   "cell_type": "code",
   "execution_count": 28,
   "id": "53842174-880c-4c86-8035-52ba4b2a0408",
   "metadata": {},
   "outputs": [
    {
     "data": {
      "text/plain": [
       "1"
      ]
     },
     "execution_count": 28,
     "metadata": {},
     "output_type": "execute_result"
    }
   ],
   "source": [
    "add()"
   ]
  },
  {
   "cell_type": "code",
   "execution_count": null,
   "id": "6cd0727d-23e8-4752-aaa5-1393a9efebf3",
   "metadata": {},
   "outputs": [],
   "source": [
    "# Built-in functions"
   ]
  },
  {
   "cell_type": "code",
   "execution_count": null,
   "id": "f40fe888-ce21-4cf7-8dd2-3095be8778e7",
   "metadata": {},
   "outputs": [],
   "source": [
    "map, filter, and reduce are built-in functions used for processing iterables like lists, tuples, and sets."
   ]
  },
  {
   "cell_type": "code",
   "execution_count": null,
   "id": "4cbe90c3-b663-48a9-b0be-93e743318972",
   "metadata": {},
   "outputs": [],
   "source": [
    "# map\n",
    "# filter\n",
    "# reduce\n",
    "\n",
    "# Syntax\n",
    "# list(function(Function(lambda/self_define),Iterable_object))\n",
    "# tuple\n",
    "# set"
   ]
  },
  {
   "cell_type": "code",
   "execution_count": 31,
   "id": "aa6ef698-4421-47d9-bf4b-8bcdbc534d09",
   "metadata": {},
   "outputs": [
    {
     "data": {
      "text/plain": [
       "[2, 3, 4, 5]"
      ]
     },
     "execution_count": 31,
     "metadata": {},
     "output_type": "execute_result"
    }
   ],
   "source": [
    "[2,3,4,5]"
   ]
  },
  {
   "cell_type": "code",
   "execution_count": null,
   "id": "ad68df6b-1699-4831-a0b7-96b655cddd5c",
   "metadata": {},
   "outputs": [],
   "source": [
    "# map()"
   ]
  },
  {
   "cell_type": "code",
   "execution_count": null,
   "id": "86a4ec33-6f2d-4267-ad40-815ab2a51561",
   "metadata": {},
   "outputs": [],
   "source": [
    " map() function takes two arguments - a function and an iterable.\n",
    "It applies the function to each element of the iterable and returns a new iterable with the results."
   ]
  },
  {
   "cell_type": "code",
   "execution_count": 32,
   "id": "91506e93-6dc4-4aab-b0dc-68ecdeb8f82d",
   "metadata": {},
   "outputs": [
    {
     "data": {
      "text/plain": [
       "[100, 23, 34]"
      ]
     },
     "execution_count": 32,
     "metadata": {},
     "output_type": "execute_result"
    }
   ],
   "source": [
    "li = [99,22,33]\n",
    "list(map(lambda x : x+1 , li))"
   ]
  },
  {
   "cell_type": "code",
   "execution_count": 33,
   "id": "6f18143b-916d-483b-bd6f-cf2a213f549f",
   "metadata": {},
   "outputs": [
    {
     "name": "stdout",
     "output_type": "stream",
     "text": [
      "[100, 23, 34]\n"
     ]
    }
   ],
   "source": [
    "li = [99,22,33]\n",
    "a = list(map(lambda x : x+1 , li))\n",
    "print(a)"
   ]
  },
  {
   "cell_type": "code",
   "execution_count": 34,
   "id": "d34a5b86-026e-4192-8b87-bb025e4cb624",
   "metadata": {},
   "outputs": [
    {
     "data": {
      "text/plain": [
       "(100, 23, 34)"
      ]
     },
     "execution_count": 34,
     "metadata": {},
     "output_type": "execute_result"
    }
   ],
   "source": [
    "tuple(map(lambda x : x+1 , li))"
   ]
  },
  {
   "cell_type": "code",
   "execution_count": 36,
   "id": "a9c5a550-9792-44ea-8e40-3340aae1a28b",
   "metadata": {},
   "outputs": [
    {
     "data": {
      "text/plain": [
       "{23, 34, 100}"
      ]
     },
     "execution_count": 36,
     "metadata": {},
     "output_type": "execute_result"
    }
   ],
   "source": [
    "set(map(lambda x : x+1 , li))"
   ]
  },
  {
   "cell_type": "code",
   "execution_count": 37,
   "id": "5019e702-e432-4723-bf0e-a6291a4e2775",
   "metadata": {},
   "outputs": [
    {
     "name": "stdout",
     "output_type": "stream",
     "text": [
      "100\n",
      "23\n",
      "34\n"
     ]
    }
   ],
   "source": [
    "for i in li:\n",
    "    print(i+1)"
   ]
  },
  {
   "cell_type": "code",
   "execution_count": 38,
   "id": "1cd06a4e-b812-4fbe-8188-73521b790580",
   "metadata": {},
   "outputs": [
    {
     "name": "stdout",
     "output_type": "stream",
     "text": [
      "100,23,34,"
     ]
    }
   ],
   "source": [
    "for i in li:\n",
    "    print(i+1, end = \",\")"
   ]
  },
  {
   "cell_type": "code",
   "execution_count": null,
   "id": "28c4548d-4733-416c-a905-2fc292a4619d",
   "metadata": {},
   "outputs": [],
   "source": [
    "# Input\n",
    "# [42,71,41,12,8,99]\n",
    "# Output\n",
    "# 84,142,82,24,16,198\n"
   ]
  },
  {
   "cell_type": "code",
   "execution_count": 53,
   "id": "b9b92c4d-150c-4281-b054-635b48688c90",
   "metadata": {},
   "outputs": [
    {
     "data": {
      "text/plain": [
       "[84, 142, 82, 24, 16, 198]"
      ]
     },
     "execution_count": 53,
     "metadata": {},
     "output_type": "execute_result"
    }
   ],
   "source": [
    "x1 = [42,71,41,12,8,99]\n",
    "list(map(lambda x: x*2,x1))"
   ]
  },
  {
   "cell_type": "code",
   "execution_count": null,
   "id": "7b4ed68a-cbc9-4c27-ab9a-0e85cad66fd9",
   "metadata": {},
   "outputs": [],
   "source": [
    "[1,2,4,6]\n",
    "[2,3,9,2]"
   ]
  },
  {
   "cell_type": "code",
   "execution_count": 55,
   "id": "1196face-1070-405e-a840-2a2bb639b3d6",
   "metadata": {},
   "outputs": [
    {
     "data": {
      "text/plain": [
       "[3, 5, 13, 8]"
      ]
     },
     "execution_count": 55,
     "metadata": {},
     "output_type": "execute_result"
    }
   ],
   "source": [
    "list(map(lambda x,y:x+y ,[1,2,4,6],[2,3,9,2]))"
   ]
  },
  {
   "cell_type": "code",
   "execution_count": 56,
   "id": "8bf328b8-7f49-47fc-8310-3273fcc257db",
   "metadata": {},
   "outputs": [
    {
     "data": {
      "text/plain": [
       "[3, 5, 13, 8]"
      ]
     },
     "execution_count": 56,
     "metadata": {},
     "output_type": "execute_result"
    }
   ],
   "source": [
    "li1=[1,2,4,6]\n",
    "li2=[2,3,9,2]\n",
    "list(map(lambda x,y:x+y , li1,li2))"
   ]
  },
  {
   "cell_type": "code",
   "execution_count": 57,
   "id": "10dae993-00b5-42d3-a7e2-a15e25b61976",
   "metadata": {},
   "outputs": [
    {
     "name": "stdout",
     "output_type": "stream",
     "text": [
      "[26, 25, 24]\n"
     ]
    }
   ],
   "source": [
    "#Find age if DOB year given\n",
    "year = [1998,1999,2000]\n",
    "ag = []\n",
    "for item in year:\n",
    "    ag.append(2024-item)\n",
    "print(ag)"
   ]
  },
  {
   "cell_type": "code",
   "execution_count": 58,
   "id": "fee22614-25de-47d4-b495-0f646efddc45",
   "metadata": {},
   "outputs": [
    {
     "data": {
      "text/plain": [
       "[26, 25, 24]"
      ]
     },
     "execution_count": 58,
     "metadata": {},
     "output_type": "execute_result"
    }
   ],
   "source": [
    "list(map(lambda x:2024-x ,year))"
   ]
  },
  {
   "cell_type": "code",
   "execution_count": 60,
   "id": "e9743dda-a10a-476d-be2f-779615c2bae0",
   "metadata": {},
   "outputs": [],
   "source": [
    "# H/W\n",
    "listC = [1,2,3,4,5,6,7,8,9,10]\n",
    "#[3,6,9,12,15,18,21,24,27,30]"
   ]
  },
  {
   "cell_type": "code",
   "execution_count": 61,
   "id": "a5b54e0b-28e0-4187-9f93-144d82eccee7",
   "metadata": {},
   "outputs": [
    {
     "data": {
      "text/plain": [
       "[3, 6, 9, 12, 15, 18, 21, 24, 27, 30]"
      ]
     },
     "execution_count": 61,
     "metadata": {},
     "output_type": "execute_result"
    }
   ],
   "source": [
    "list(map(lambda x: x * 3,listC))"
   ]
  },
  {
   "cell_type": "code",
   "execution_count": null,
   "id": "915e1a9b-b224-4b8c-a850-5da4a125bf19",
   "metadata": {},
   "outputs": [],
   "source": []
  }
 ],
 "metadata": {
  "kernelspec": {
   "display_name": "Python 3 (ipykernel)",
   "language": "python",
   "name": "python3"
  },
  "language_info": {
   "codemirror_mode": {
    "name": "ipython",
    "version": 3
   },
   "file_extension": ".py",
   "mimetype": "text/x-python",
   "name": "python",
   "nbconvert_exporter": "python",
   "pygments_lexer": "ipython3",
   "version": "3.11.9"
  }
 },
 "nbformat": 4,
 "nbformat_minor": 5
}
